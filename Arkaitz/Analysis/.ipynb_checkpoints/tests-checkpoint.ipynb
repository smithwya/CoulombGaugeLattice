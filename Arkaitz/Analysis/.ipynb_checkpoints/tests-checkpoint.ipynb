{
 "cells": [
  {
   "cell_type": "code",
   "execution_count": 4,
   "metadata": {},
   "outputs": [
    {
     "name": "stdout",
     "output_type": "stream",
     "text": [
      "zsh:1: command not found: conda\n",
      "iminuit version: 2.25.2\n"
     ]
    }
   ],
   "source": [
    "#------------------------------------------------------------------------------------------------------------------------------------------\n",
    "# basic setup of the notebook\n",
    "#------------------------------------------------------# Install a conda package in the current Jupyter kernel\n",
    "import sys\n",
    "!conda install --yes --prefix {sys.prefix} numpy------------------------------------------------------------------------------------\n",
    "import numpy as np\n",
    "import numba as nb\n",
    "from numba import njit, prange\n",
    "from numba.experimental import jitclass\n",
    "from stats import *\n",
    "import stats\n",
    "\n",
    "import tomllib\n",
    "from pip._vendor import tomli\n",
    "import sys, os\n",
    "from joblib import Parallel, delayed\n",
    "import multiprocess as mp\n",
    "from concurrent.futures import ProcessPoolExecutor\n",
    "import scipy as sp\n",
    "from scipy import *\n",
    "import faulthandler\n",
    "faulthandler.enable()\n",
    "from jpac_colors import *\n",
    "\n",
    "import math\n",
    "import timeit\n",
    "import time\n",
    "\n",
    "# everything in iminuit is done through the Minuit object, so we import it\n",
    "from iminuit import Minuit\n",
    "from iminuit import minimize\n",
    "import time\n",
    "from iminuit.util import describe\n",
    "from typing import Annotated\n",
    "\n",
    "# we also need a cost function to fit and import the LeastSquares function\n",
    "from iminuit.cost import LeastSquares\n",
    "\n",
    "# display iminuit version\n",
    "import iminuit\n",
    "print(\"iminuit version:\", iminuit.__version__)\n",
    "\n",
    "from matplotlib import pyplot as plt\n",
    "\n",
    "from IPython.core.interactiveshell import InteractiveShell\n",
    "InteractiveShell.ast_node_interactivity = \"all\""
   ]
  },
  {
   "cell_type": "code",
   "execution_count": 5,
   "metadata": {},
   "outputs": [],
   "source": [
    "#------------------------------------------------------------------------------------------------------------------------------------------\n",
    "# Importing fixed params for analysis\n",
    "#------------------------------------------------------------------------------------------------------------------------------------------\n",
    "\n",
    "with open('ini_files/S_analysis_L32_pole.toml', \"rb\") as f:\n",
    "    params = tomli.load(f)\n",
    "\n",
    "with open('ini_files/basic_setup_pole.toml', \"rb\") as f2:\n",
    "    params2 = tomli.load(f2)\n",
    "\n",
    "for i in params:\n",
    "     params['{}'.format(i)].update(params2['{}'.format(i)])\n",
    "\n",
    "\n",
    "who            = params['creator']['who']\n",
    "  \n",
    "  \n",
    "path           = params['paths_to_files']['base_path']\n",
    "mainpath       = '{}{}'.format(path,params['paths_to_files']['mainpath'])\n",
    "resultspath    = '{}{}'.format(path,params['paths_to_files']['resultspath'])\n",
    "resultsdir     = '{}{}'.format(path,params['paths_to_files']['resultsdir'])\n",
    "plotsdir       = '{}{}'.format(path,params['paths_to_files']['plotsdir'])\n",
    "Gcplotsdir     = '{}{}'.format(path,params['paths_to_files']['Gcplotsdir'])\n",
    "sizelabel      = params['paths_to_files']['sizelabel']      \n",
    "  \n",
    "  \n",
    "corrtype       = params['correlators']['corrtype']  \n",
    "xi             = params['correlators']['xi']\n",
    "beta           = params['correlators']['beta']\n",
    "betanorm       = params['correlators']['betanorm']\n",
    "Lextent        = params['correlators']['Lextent']\n",
    "Textent        = params['correlators']['Textent']\n",
    "size           = params['correlators']['size']\n",
    "Ncfgs          = params['correlators']['Ncfgs']\n",
    "  \n",
    "  \n",
    "dini_Gc        = params['minimization_parameters']['dini_Gc']\n",
    "dstop_Gc       = params['minimization_parameters']['dstop_Gc']\n",
    "dmindata_Gc    = params['minimization_parameters']['dmindata_Gc']\n",
    "dini_Vr        = params['minimization_parameters']['dini_Vr']\n",
    "dstop_Vr       = params['minimization_parameters']['dstop_Vr']\n",
    "dmindata_Vr    = params['minimization_parameters']['dmindata_Vr']\n",
    "dfin_Gc        = params['minimization_parameters']['dfin_Gc']\n",
    "dfin_Vr        = params['minimization_parameters']['dfin_Vr']\n",
    "reuse          = params['minimization_parameters']['reuse']\n",
    "inv_first      = params['minimization_parameters']['inv_first']\n",
    "mcalls         = params['minimization_parameters']['mcalls']\n",
    "mtol           = params['minimization_parameters']['mtol']\n",
    "inipars_Gc     = params['minimization_parameters']['inipars_GC']\n",
    "variants_Gc    = params['minimization_parameters']['variants_GC']\n",
    "jackkl         = params['minimization_parameters']['jackkl']\n",
    "xiini          = params['minimization_parameters']['xiini']\n",
    "xifin          = params['minimization_parameters']['xifin']   \n",
    "fileini        = params['minimization_parameters']['fileini']                         \n",
    "filefin        = params['minimization_parameters']['filefin']\n",
    "datatype_Gc    = params['minimization_parameters']['datatype_Gc']\n",
    "model_Gc       = params['minimization_parameters']['model_Gc']\n",
    "model_Vr       = params['minimization_parameters']['model_Vr']\n",
    "datatype_Vr    = params['minimization_parameters']['datatype_Vr']\n",
    "inipars_Vr     = params['minimization_parameters']['inipars_Vr']\n",
    "variants_Vr    = params['minimization_parameters']['variants_Vr']\n",
    "multiprocess   = params['minimization_parameters']['multiprocess']\n",
    "cov_freeze     = params['minimization_parameters']['cov_freeze']\n",
    "improve        = params['minimization_parameters']['improve']\n",
    "multistart        = params['minimization_parameters']['multistart']\n",
    "  \n",
    "\n",
    "clean          = params['extra']['clean']\n",
    "cutoff_ma      = params['extra']['cutoff_ma']\n",
    "norm           = params['extra']['norm']\n",
    "no_corrs       = params['extra']['no_corrs']"
   ]
  },
  {
   "cell_type": "code",
   "execution_count": 6,
   "metadata": {},
   "outputs": [
    {
     "name": "stdout",
     "output_type": "stream",
     "text": [
      "681\n",
      "641\n",
      "638\n",
      "1537\n",
      "2000\n",
      "2000\n",
      "2000\n",
      "2000\n",
      "2000\n",
      "2000\n",
      "2000\n",
      "2000\n",
      "2000\n",
      "2000\n",
      "2000\n",
      "2000\n",
      "1031\n",
      "999\n",
      "1057\n",
      "2000\n",
      "2000\n",
      "2000\n"
     ]
    }
   ],
   "source": [
    "#------------------------------------------------------------------------------------------------------------------------------------------\n",
    "#This is the only part that varies between Sebastian's and Wyatt's Lattices, the paths/readings\n",
    "#------------------------------------------------------------------------------------------------------------------------------------------\n",
    "\n",
    "# Create results folders if they do not exist\n",
    "if os.path.exists(resultsdir)==False:\n",
    "    os.mkdir(resultsdir)\n",
    "if os.path.exists(plotsdir)==False:\n",
    "    os.mkdir(plotsdir)\n",
    "if os.path.exists(Gcplotsdir)==False:\n",
    "    os.mkdir(Gcplotsdir)    \n",
    "\n",
    "\n",
    "# Clean results folder?\n",
    "if clean == 1:\n",
    "    os.system('rm -rf {}/*'.format(plotsdir))\n",
    "    os.system('rm -rf {}/*'.format(resultsdir))  \n",
    "    os.system('rm -rf {}/*'.format(Gcplotsdir)) \n",
    "\n",
    "\n",
    "for k in range(len(xi)):\n",
    "    if os.path.exists('{}{}'.format(resultspath,xi[k]))==False:\n",
    "        os.mkdir('{}{}'.format(resultspath,xi[k]))\n",
    "    if os.path.exists('{}/xi={}'.format(Gcplotsdir,xi[k]))==False:\n",
    "        os.mkdir('{}/xi={}'.format(Gcplotsdir,xi[k]))\n",
    "\n",
    "        \n",
    "#------------------------------------------------------------------------------------------------------------------------------------------\n",
    "# Read raw data and prepare accordingly\n",
    "#------------------------------------------------------------------------------------------------------------------------------------------\n",
    "         \n",
    "if (who=='Wyatt'):\n",
    "    # Data used in the analysis\n",
    "    datam=[]\n",
    "    for k in range(len(xi)):\n",
    "        dataint=[]\n",
    "        for j in range(len(beta)):\n",
    "            dataint.append(np.genfromtxt('{}{}/L{}_b{}_xi{}_{}.dat'.format(mainpath,xi[k],int(sizelabel),beta[j],xi[k],corrtype)))\n",
    "        datam.append(dataint)\n",
    "\n",
    "\n",
    "    # Collect completed configurations from raw data    \n",
    "    data=[]\n",
    "    for k in range(len(xi)):\n",
    "        dataint=[]\n",
    "        for j in range(len(datam[k])):\n",
    "            dataint.append(np.array(collect_configs(datam[k][j],Lextent,Textent).trans_W()))\n",
    "    \n",
    "        data.append(dataint)\n",
    "\n",
    "\n",
    "if (who=='Sebastian'):\n",
    "    # Data used in the analysis\n",
    "    datam=[]\n",
    "    for k in range(len(xi)):\n",
    "        dataint=[]\n",
    "        for j in range(len(beta)):\n",
    "            dataint.append(np.genfromtxt('{}{}/L{}_b{}_xi{}_{}.dat'.format(mainpath,xi[k],int(sizelabel),beta[j],xi[k],corrtype)))\n",
    "        datam.append(dataint)\n",
    "\n",
    "\n",
    "    # Collect completed configurations from raw data    \n",
    "    data=[]\n",
    "    for k in range(len(xi)):\n",
    "        dataint=[]\n",
    "        for j in range(len(datam[k])):\n",
    "            dataint.append(np.array(collect_configs(datam[k][j],Lextent,Textent).trans_S()))\n",
    "    \n",
    "        data.append(dataint)\n",
    "\n",
    "      \n",
    "\n",
    "nconfigs=[]\n",
    "for k in range(len(xi)):\n",
    "    nint=[]\n",
    "    for j in range(len(beta)):\n",
    "        nint.append(int(len(data[k][j])/size[k]))\n",
    "        print(int(len(data[k][j])/size[k]))\n",
    "    nconfigs.append(nint)    "
   ]
  },
  {
   "cell_type": "code",
   "execution_count": 9,
   "metadata": {},
   "outputs": [
    {
     "data": {
      "text/html": [
       "<table>\n",
       "    <tr>\n",
       "        <th colspan=\"2\" style=\"text-align:center\" title=\"Minimizer\"> Migrad </th>\n",
       "    </tr>\n",
       "    <tr>\n",
       "        <td style=\"text-align:left\" title=\"Minimum value of function\"> FCN = 12.64 (χ²/ndof = 1.3) </td>\n",
       "        <td style=\"text-align:center\" title=\"Total number of function and (optional) gradient evaluations\"> Nfcn = 1742 </td>\n",
       "    </tr>\n",
       "    <tr>\n",
       "        <td style=\"text-align:left\" title=\"Estimated distance to minimum and goal\"> EDM = 6.68e-14 (Goal: 2e-07) </td>\n",
       "        <td style=\"text-align:center\" title=\"Total run time of algorithms\">  </td>\n",
       "    </tr>\n",
       "    <tr>\n",
       "        <td style=\"text-align:center;background-color:#92CCA6;color:black\"> Valid Minimum </td>\n",
       "        <td style=\"text-align:center;background-color:#92CCA6;color:black\"> Below EDM threshold (goal x 10) </td>\n",
       "    </tr>\n",
       "    <tr>\n",
       "        <td style=\"text-align:center;background-color:#92CCA6;color:black\"> No parameters at limit </td>\n",
       "        <td style=\"text-align:center;background-color:#92CCA6;color:black\"> Below call limit </td>\n",
       "    </tr>\n",
       "    <tr>\n",
       "        <td style=\"text-align:center;background-color:#FFF79A;color:black\"> Hesse ok </td>\n",
       "        <td style=\"text-align:center;background-color:#FFF79A;color:black\"> Covariance FORCED pos. def. </td>\n",
       "    </tr>\n",
       "</table><table>\n",
       "    <tr>\n",
       "        <td></td>\n",
       "        <th title=\"Variable name\"> Name </th>\n",
       "        <th title=\"Value of parameter\"> Value </th>\n",
       "        <th title=\"Hesse error\"> Hesse Error </th>\n",
       "        <th title=\"Minos lower error\"> Minos Error- </th>\n",
       "        <th title=\"Minos upper error\"> Minos Error+ </th>\n",
       "        <th title=\"Lower limit of the parameter\"> Limit- </th>\n",
       "        <th title=\"Upper limit of the parameter\"> Limit+ </th>\n",
       "        <th title=\"Is the parameter fixed in the fit\"> Fixed </th>\n",
       "    </tr>\n",
       "    <tr>\n",
       "        <th> 0 </th>\n",
       "        <td> x0 </td>\n",
       "        <td> 1.8212 </td>\n",
       "        <td> 0.0006 </td>\n",
       "        <td>  </td>\n",
       "        <td>  </td>\n",
       "        <td>  </td>\n",
       "        <td>  </td>\n",
       "        <td>  </td>\n",
       "    </tr>\n",
       "    <tr>\n",
       "        <th> 1 </th>\n",
       "        <td> x1 </td>\n",
       "        <td> 461.23e-3 </td>\n",
       "        <td> 0.10e-3 </td>\n",
       "        <td>  </td>\n",
       "        <td>  </td>\n",
       "        <td>  </td>\n",
       "        <td>  </td>\n",
       "        <td>  </td>\n",
       "    </tr>\n",
       "    <tr>\n",
       "        <th> 2 </th>\n",
       "        <td> x2 </td>\n",
       "        <td> 1.1 </td>\n",
       "        <td> 1.9 </td>\n",
       "        <td>  </td>\n",
       "        <td>  </td>\n",
       "        <td>  </td>\n",
       "        <td>  </td>\n",
       "        <td>  </td>\n",
       "    </tr>\n",
       "    <tr>\n",
       "        <th> 3 </th>\n",
       "        <td> x3 </td>\n",
       "        <td> 2.6 </td>\n",
       "        <td> 0.6 </td>\n",
       "        <td>  </td>\n",
       "        <td>  </td>\n",
       "        <td>  </td>\n",
       "        <td>  </td>\n",
       "        <td>  </td>\n",
       "    </tr>\n",
       "</table><table>\n",
       "    <tr>\n",
       "        <td></td>\n",
       "        <th> x0 </th>\n",
       "        <th> x1 </th>\n",
       "        <th> x2 </th>\n",
       "        <th> x3 </th>\n",
       "    </tr>\n",
       "    <tr>\n",
       "        <th> x0 </th>\n",
       "        <td> 4.04e-07 </td>\n",
       "        <td style=\"background-color:rgb(250,111,111);color:black\"> 58e-9 <strong>(0.928)</strong> </td>\n",
       "        <td style=\"background-color:rgb(250,236,236);color:black\"> 118.1e-6 <strong>(0.096)</strong> </td>\n",
       "        <td style=\"background-color:rgb(250,213,213);color:black\"> 102.2e-6 <strong>(0.248)</strong> </td>\n",
       "    </tr>\n",
       "    <tr>\n",
       "        <th> x1 </th>\n",
       "        <td style=\"background-color:rgb(250,111,111);color:black\"> 58e-9 <strong>(0.928)</strong> </td>\n",
       "        <td> 9.54e-09 </td>\n",
       "        <td style=\"background-color:rgb(250,243,243);color:black\"> 8.884e-6 <strong>(0.047)</strong> </td>\n",
       "        <td style=\"background-color:rgb(250,224,224);color:black\"> 11.147e-6 <strong>(0.176)</strong> </td>\n",
       "    </tr>\n",
       "    <tr>\n",
       "        <th> x2 </th>\n",
       "        <td style=\"background-color:rgb(250,236,236);color:black\"> 118.1e-6 <strong>(0.096)</strong> </td>\n",
       "        <td style=\"background-color:rgb(250,243,243);color:black\"> 8.884e-6 <strong>(0.047)</strong> </td>\n",
       "        <td> 3.78 </td>\n",
       "        <td style=\"background-color:rgb(250,102,102);color:black\"> 1.2 <strong>(0.984)</strong> </td>\n",
       "    </tr>\n",
       "    <tr>\n",
       "        <th> x3 </th>\n",
       "        <td style=\"background-color:rgb(250,213,213);color:black\"> 102.2e-6 <strong>(0.248)</strong> </td>\n",
       "        <td style=\"background-color:rgb(250,224,224);color:black\"> 11.147e-6 <strong>(0.176)</strong> </td>\n",
       "        <td style=\"background-color:rgb(250,102,102);color:black\"> 1.2 <strong>(0.984)</strong> </td>\n",
       "        <td> 0.419 </td>\n",
       "    </tr>\n",
       "</table>"
      ],
      "text/plain": [
       "┌─────────────────────────────────────────────────────────────────────────┐\n",
       "│                                Migrad                                   │\n",
       "├──────────────────────────────────┬──────────────────────────────────────┤\n",
       "│ FCN = 12.64 (χ²/ndof = 1.3)      │             Nfcn = 1742              │\n",
       "│ EDM = 6.68e-14 (Goal: 2e-07)     │                                      │\n",
       "├──────────────────────────────────┼──────────────────────────────────────┤\n",
       "│          Valid Minimum           │   Below EDM threshold (goal x 10)    │\n",
       "├──────────────────────────────────┼──────────────────────────────────────┤\n",
       "│      No parameters at limit      │           Below call limit           │\n",
       "├──────────────────────────────────┼──────────────────────────────────────┤\n",
       "│             Hesse ok             │     Covariance FORCED pos. def.      │\n",
       "└──────────────────────────────────┴──────────────────────────────────────┘\n",
       "┌───┬──────┬───────────┬───────────┬────────────┬────────────┬─────────┬─────────┬───────┐\n",
       "│   │ Name │   Value   │ Hesse Err │ Minos Err- │ Minos Err+ │ Limit-  │ Limit+  │ Fixed │\n",
       "├───┼──────┼───────────┼───────────┼────────────┼────────────┼─────────┼─────────┼───────┤\n",
       "│ 0 │ x0   │  1.8212   │  0.0006   │            │            │         │         │       │\n",
       "│ 1 │ x1   │ 461.23e-3 │  0.10e-3  │            │            │         │         │       │\n",
       "│ 2 │ x2   │    1.1    │    1.9    │            │            │         │         │       │\n",
       "│ 3 │ x3   │    2.6    │    0.6    │            │            │         │         │       │\n",
       "└───┴──────┴───────────┴───────────┴────────────┴────────────┴─────────┴─────────┴───────┘\n",
       "┌────┬─────────────────────────────────────────┐\n",
       "│    │        x0        x1        x2        x3 │\n",
       "├────┼─────────────────────────────────────────┤\n",
       "│ x0 │  4.04e-07     58e-9  118.1e-6  102.2e-6 │\n",
       "│ x1 │     58e-9  9.54e-09  8.884e-6 11.147e-6 │\n",
       "│ x2 │  118.1e-6  8.884e-6      3.78       1.2 │\n",
       "│ x3 │  102.2e-6 11.147e-6       1.2     0.419 │\n",
       "└────┴─────────────────────────────────────────┘"
      ]
     },
     "execution_count": 9,
     "metadata": {},
     "output_type": "execute_result"
    },
    {
     "data": {
      "text/plain": [
       "array([ 1.82123858,  0.46123157, -1.05650297,  2.56216828])"
      ]
     },
     "execution_count": 9,
     "metadata": {},
     "output_type": "execute_result"
    },
    {
     "data": {
      "text/plain": [
       "<ErrorbarContainer object of 3 artists>"
      ]
     },
     "execution_count": 9,
     "metadata": {},
     "output_type": "execute_result"
    },
    {
     "data": {
      "text/plain": [
       "[<matplotlib.lines.Line2D at 0x31a513c20>]"
      ]
     },
     "execution_count": 9,
     "metadata": {},
     "output_type": "execute_result"
    },
    {
     "data": {
      "image/png": "[encoded data removed]",
      "text/plain": [
       "<Figure size 640x480 with 1 Axes>"
      ]
     },
     "metadata": {},
     "output_type": "display_data"
    }
   ],
   "source": [
    "x=0\n",
    "k=0\n",
    "r=0\n",
    "\n",
    "jackkl=20000\n",
    "jump_configs=1\n",
    "\n",
    "mcalls=5000\n",
    "mtol=0.0001\n",
    "\n",
    "totaltraj=int(len(data[x][k])/size[k])\n",
    "Nt=Textent\n",
    "\n",
    "Gc=np.zeros((int(totaltraj/jump_configs),Nt))\n",
    "for i in range(int(totaltraj/jump_configs)):\n",
    "    index=jump_configs*i\n",
    "    Gc[[i]]=data[x][k][range(index*Nt,(index+1)*Nt),[r]]\n",
    "    \n",
    "#logG=np.log(ratio(trim_negative(Gc).trimmed()).val())\n",
    "\n",
    "\n",
    "# Get average over all data, we will then replicate for every Jackknife sample to get errors\n",
    "\n",
    "gdata=jackknife(Gc,jackkl).sample()\n",
    "gdata=jackknife(gdata,jackkl).up()\n",
    "lt=len(Gc[0])\n",
    "dfin=min(lt,100)\n",
    "data_t   = np.linspace(1, lt, lt)\n",
    "data_2t  = np.linspace(1, 2*lt-1, 2*lt-1)\n",
    "data_y   = ensemble_stat(gdata).mean()\n",
    "data_cov = ensemble_stat(gdata).rcov()\n",
    "data_err = np.sqrt(np.diagonal(ensemble_stat(gdata).rcov()))\n",
    "\n",
    "\n",
    "data_covf = np.identity(lt)\n",
    "for i in range(len(np.sqrt(np.diag(data_cov)))):\n",
    "    for j in range(len(np.sqrt(np.diag(data_cov)))):\n",
    "        data_covf[i][j]*=np.sqrt(np.diag(data_cov))[i]*np.sqrt(np.diag(data_cov))[j]\n",
    "\n",
    "tini=3\n",
    "tfin=16\n",
    "\n",
    "funfit='nb_exp_np'\n",
    "inipars=[2.,1.,0.1,1.]\n",
    "#funfit='nb_exp_np'\n",
    "#inipars=[-0.46355412, -2.793052 ]\n",
    "\n",
    "m=RepeatSingleFit(data_t, data_y, data_cov, tini, tfin, inipars, funfit , mcalls, mtol,0,1,0,0,100,1000)\n",
    "\n",
    "m.minimize()\n",
    "\n",
    "np.array(m.minimize().values)\n",
    "\n",
    "plt.errorbar(data_t[tini:tfin], data_y[tini:tfin], data_err[tini:tfin], fmt=\"ok\", label=\"data\")\n",
    "plt.plot(data_t[tini:tfin], eval(funfit)(data_t[tini:tfin], *m.minimize().values), label=\"fit\")"
   ]
  },
  {
   "cell_type": "code",
   "execution_count": 8,
   "metadata": {},
   "outputs": [
    {
     "data": {
      "text/plain": [
       "0.20512932914781243"
      ]
     },
     "execution_count": 8,
     "metadata": {},
     "output_type": "execute_result"
    }
   ],
   "source": [
    "np.log(1.22768383)"
   ]
  },
  {
   "cell_type": "code",
   "execution_count": 78,
   "metadata": {},
   "outputs": [
    {
     "data": {
      "text/plain": [
       "15425.570141626471"
      ]
     },
     "execution_count": 78,
     "metadata": {},
     "output_type": "execute_result"
    }
   ],
   "source": [
    "m.minimize().fval"
   ]
  },
  {
   "cell_type": "code",
   "execution_count": 67,
   "metadata": {},
   "outputs": [
    {
     "data": {
      "text/plain": [
       "0.5334195495187493"
      ]
     },
     "execution_count": 67,
     "metadata": {},
     "output_type": "execute_result"
    }
   ],
   "source": [
    "loglimG(0,*np.array(m.minimize().values)[1:])"
   ]
  },
  {
   "cell_type": "code",
   "execution_count": 63,
   "metadata": {},
   "outputs": [
    {
     "data": {
      "text/plain": [
       "array([[1, 0, 0, 0],\n",
       "       [0, 1, 0, 0],\n",
       "       [0, 0, 1, 0],\n",
       "       [0, 0, 0, 1]])"
      ]
     },
     "execution_count": 63,
     "metadata": {},
     "output_type": "execute_result"
    }
   ],
   "source": [
    "np.diag([1,1,1,1])"
   ]
  },
  {
   "cell_type": "code",
   "execution_count": 64,
   "metadata": {},
   "outputs": [
    {
     "data": {
      "text/plain": [
       "array([0.00115822])"
      ]
     },
     "execution_count": 64,
     "metadata": {},
     "output_type": "execute_result"
    }
   ],
   "source": [
    "prop_err(0,'loglimG',np.array(m.minimize().values)[1:],np.array(m.minimize().errors)[1:],np.array(m.minimize().covariance.correlation())[1:,1:])"
   ]
  },
  {
   "cell_type": "code",
   "execution_count": 57,
   "metadata": {},
   "outputs": [
    {
     "data": {
      "text/plain": [
       "array([-0.22340143, -1.18206226,  0.21786919,  0.22891044,  0.39869383])"
      ]
     },
     "execution_count": 57,
     "metadata": {},
     "output_type": "execute_result"
    }
   ],
   "source": [
    "np.array(m.minimize().values)"
   ]
  },
  {
   "cell_type": "code",
   "execution_count": 58,
   "metadata": {},
   "outputs": [
    {
     "data": {
      "text/plain": [
       "array([0.0034281 , 0.00179726, 0.00012945, 0.00239839, 0.0060915 ])"
      ]
     },
     "execution_count": 58,
     "metadata": {},
     "output_type": "execute_result"
    }
   ],
   "source": [
    "np.array(m.minimize().errors)"
   ]
  },
  {
   "cell_type": "code",
   "execution_count": 61,
   "metadata": {},
   "outputs": [
    {
     "data": {
      "text/plain": [
       "array([[ 1.        , -0.75696842, -0.61443733,  0.910226  ,  0.87041897],\n",
       "       [-0.75696842,  1.        ,  0.90765388, -0.45984514, -0.93971986],\n",
       "       [-0.61443733,  0.90765388,  1.        , -0.29449558, -0.83207189],\n",
       "       [ 0.910226  , -0.45984514, -0.29449558,  1.        ,  0.6638226 ],\n",
       "       [ 0.87041897, -0.93971986, -0.83207189,  0.6638226 ,  1.        ]])"
      ]
     },
     "execution_count": 61,
     "metadata": {},
     "output_type": "execute_result"
    }
   ],
   "source": [
    "np.array(m.minimize().covariance.correlation())"
   ]
  },
  {
   "cell_type": "code",
   "execution_count": 38,
   "metadata": {},
   "outputs": [
    {
     "data": {
      "text/plain": [
       "array([[6.92531460e-08, 3.40813349e-08, 2.01791728e-08, 1.28334079e-08,\n",
       "        8.32049291e-09, 5.22143628e-09, 3.29957638e-09, 2.08845478e-09,\n",
       "        1.28753687e-09, 7.77393149e-10, 4.51350289e-10, 2.41594378e-10],\n",
       "       [3.40813349e-08, 2.73208924e-08, 1.62244190e-08, 1.04119929e-08,\n",
       "        6.83674365e-09, 4.38987140e-09, 2.84635594e-09, 1.75550922e-09,\n",
       "        1.13343356e-09, 6.65674182e-10, 4.13169331e-10, 2.85448059e-10],\n",
       "       [2.01791728e-08, 1.62244190e-08, 1.22368393e-08, 7.81078813e-09,\n",
       "        5.19142643e-09, 3.40480832e-09, 2.22516484e-09, 1.38498395e-09,\n",
       "        9.20402380e-10, 5.28474102e-10, 3.13187374e-10, 2.21886454e-10],\n",
       "       [1.28334079e-08, 1.04119929e-08, 7.81078813e-09, 6.09088451e-09,\n",
       "        4.06850319e-09, 2.71106359e-09, 1.79489120e-09, 1.14949772e-09,\n",
       "        7.59789053e-10, 4.59547635e-10, 2.83737056e-10, 1.76021250e-10],\n",
       "       [8.32049291e-09, 6.83674365e-09, 5.19142643e-09, 4.06850319e-09,\n",
       "        3.25901858e-09, 2.17262416e-09, 1.44910854e-09, 9.47124947e-10,\n",
       "        6.12362643e-10, 3.75287707e-10, 2.31101527e-10, 1.37449809e-10],\n",
       "       [5.22143628e-09, 4.38987140e-09, 3.40480832e-09, 2.71106359e-09,\n",
       "        2.17262416e-09, 1.78432422e-09, 1.20517225e-09, 8.10189454e-10,\n",
       "        5.27166113e-10, 3.32218183e-10, 2.04644398e-10, 1.19735157e-10],\n",
       "       [3.29957638e-09, 2.84635594e-09, 2.22516484e-09, 1.79489120e-09,\n",
       "        1.44910854e-09, 1.20517225e-09, 1.08034125e-09, 7.20298852e-10,\n",
       "        4.80642892e-10, 3.14407662e-10, 2.07100607e-10, 1.23650398e-10],\n",
       "       [2.08845478e-09, 1.75550922e-09, 1.38498395e-09, 1.14949772e-09,\n",
       "        9.47124947e-10, 8.10189454e-10, 7.20298852e-10, 7.02812447e-10,\n",
       "        4.75141594e-10, 3.25522802e-10, 2.17720409e-10, 1.38143167e-10],\n",
       "       [1.28753687e-09, 1.13343356e-09, 9.20402380e-10, 7.59789053e-10,\n",
       "        6.12362643e-10, 5.27166113e-10, 4.80642892e-10, 4.75141594e-10,\n",
       "        5.20114108e-10, 3.56189385e-10, 2.41767341e-10, 1.59531023e-10],\n",
       "       [7.77393149e-10, 6.65674182e-10, 5.28474102e-10, 4.59547635e-10,\n",
       "        3.75287707e-10, 3.32218183e-10, 3.14407662e-10, 3.25522802e-10,\n",
       "        3.56189385e-10, 4.32504883e-10, 2.97283562e-10, 2.04324141e-10],\n",
       "       [4.51350289e-10, 4.13169331e-10, 3.13187374e-10, 2.83737056e-10,\n",
       "        2.31101527e-10, 2.04644398e-10, 2.07100607e-10, 2.17720409e-10,\n",
       "        2.41767341e-10, 2.97283562e-10, 3.92156554e-10, 2.69323768e-10],\n",
       "       [2.41594378e-10, 2.85448059e-10, 2.21886454e-10, 1.76021250e-10,\n",
       "        1.37449809e-10, 1.19735157e-10, 1.23650398e-10, 1.38143167e-10,\n",
       "        1.59531023e-10, 2.04324141e-10, 2.69323768e-10, 3.64706246e-10]])"
      ]
     },
     "execution_count": 38,
     "metadata": {},
     "output_type": "execute_result"
    }
   ],
   "source": [
    "data_cov"
   ]
  },
  {
   "cell_type": "code",
   "execution_count": 8,
   "metadata": {},
   "outputs": [
    {
     "data": {
      "text/plain": [
       "array([1.15679928, 0.72467973, 0.45633848, 0.28764393, 0.18134634,\n",
       "       0.11434185, 0.0720806 , 0.04542216, 0.02864679, 0.01802917,\n",
       "       0.01132369, 0.00712397])"
      ]
     },
     "execution_count": 8,
     "metadata": {},
     "output_type": "execute_result"
    }
   ],
   "source": [
    "data_y"
   ]
  },
  {
   "cell_type": "code",
   "execution_count": 9,
   "metadata": {},
   "outputs": [
    {
     "data": {
      "text/plain": [
       "array([[4.66877105e-06, 4.24429361e-06, 3.53201070e-06, 2.79627451e-06,\n",
       "        2.08698209e-06, 1.51301644e-06, 1.07491230e-06, 7.02172903e-07,\n",
       "        4.95302499e-07, 3.96182908e-07, 2.65266881e-07, 1.77782918e-07],\n",
       "       [4.24429361e-06, 4.90521028e-06, 4.37167290e-06, 3.61174840e-06,\n",
       "        2.77496221e-06, 2.04123480e-06, 1.48985820e-06, 1.00712445e-06,\n",
       "        7.04071848e-07, 5.40347062e-07, 3.68716815e-07, 2.69315103e-07],\n",
       "       [3.53201070e-06, 4.37167290e-06, 4.59138036e-06, 4.01079153e-06,\n",
       "        3.19625427e-06, 2.42959987e-06, 1.80621781e-06, 1.27150135e-06,\n",
       "        8.92156562e-07, 6.52237462e-07, 4.30755744e-07, 3.09676760e-07],\n",
       "       [2.79627451e-06, 3.61174840e-06, 4.01079153e-06, 4.05926634e-06,\n",
       "        3.42050390e-06, 2.68119911e-06, 2.04199807e-06, 1.47720280e-06,\n",
       "        1.05551703e-06, 7.75412443e-07, 5.15332673e-07, 3.62529241e-07],\n",
       "       [2.08698209e-06, 2.77496221e-06, 3.19625427e-06, 3.42050390e-06,\n",
       "        3.42633569e-06, 2.86733061e-06, 2.27328922e-06, 1.70927520e-06,\n",
       "        1.26080322e-06, 9.21047864e-07, 6.45494491e-07, 4.77552148e-07],\n",
       "       [1.51301644e-06, 2.04123480e-06, 2.42959987e-06, 2.68119911e-06,\n",
       "        2.86733061e-06, 2.87970105e-06, 2.41582837e-06, 1.90007402e-06,\n",
       "        1.43355493e-06, 1.04426048e-06, 7.30859433e-07, 5.42423506e-07],\n",
       "       [1.07491230e-06, 1.48985820e-06, 1.80621781e-06, 2.04199807e-06,\n",
       "        2.27328922e-06, 2.41582837e-06, 2.51211726e-06, 2.15916515e-06,\n",
       "        1.72222130e-06, 1.31727440e-06, 9.54106545e-07, 7.00833182e-07],\n",
       "       [7.02172903e-07, 1.00712445e-06, 1.27150135e-06, 1.47720280e-06,\n",
       "        1.70927520e-06, 1.90007402e-06, 2.15916515e-06, 2.38639633e-06,\n",
       "        2.09427183e-06, 1.70061983e-06, 1.30563744e-06, 9.76745488e-07],\n",
       "       [4.95302499e-07, 7.04071848e-07, 8.92156562e-07, 1.05551703e-06,\n",
       "        1.26080322e-06, 1.43355493e-06, 1.72222130e-06, 2.09427183e-06,\n",
       "        2.33283250e-06, 2.04106530e-06, 1.65344240e-06, 1.26774793e-06],\n",
       "       [3.96182908e-07, 5.40347062e-07, 6.52237462e-07, 7.75412443e-07,\n",
       "        9.21047864e-07, 1.04426048e-06, 1.31727440e-06, 1.70061983e-06,\n",
       "        2.04106530e-06, 2.27393309e-06, 1.99596343e-06, 1.59791103e-06],\n",
       "       [2.65266881e-07, 3.68716815e-07, 4.30755744e-07, 5.15332673e-07,\n",
       "        6.45494491e-07, 7.30859433e-07, 9.54106545e-07, 1.30563744e-06,\n",
       "        1.65344240e-06, 1.99596343e-06, 2.23659349e-06, 1.94488791e-06],\n",
       "       [1.77782918e-07, 2.69315103e-07, 3.09676760e-07, 3.62529241e-07,\n",
       "        4.77552148e-07, 5.42423506e-07, 7.00833182e-07, 9.76745488e-07,\n",
       "        1.26774793e-06, 1.59791103e-06, 1.94488791e-06, 2.15794511e-06]])"
      ]
     },
     "execution_count": 9,
     "metadata": {},
     "output_type": "execute_result"
    }
   ],
   "source": [
    "data_cov*totaltraj    #This should match Wyatt's definition"
   ]
  },
  {
   "cell_type": "code",
   "execution_count": 10,
   "metadata": {},
   "outputs": [
    {
     "data": {
      "text/plain": [
       "0.0093645238640209"
      ]
     },
     "execution_count": 10,
     "metadata": {},
     "output_type": "execute_result"
    }
   ],
   "source": [
    "0.09677047**2"
   ]
  },
  {
   "cell_type": "code",
   "execution_count": 11,
   "metadata": {},
   "outputs": [
    {
     "data": {
      "text/plain": [
       "array([0.2678023 , 1.34784229, 0.67903007])"
      ]
     },
     "execution_count": 11,
     "metadata": {},
     "output_type": "execute_result"
    }
   ],
   "source": [
    "np.sqrt(np.array(m.minimize().values))"
   ]
  },
  {
   "cell_type": "code",
   "execution_count": 12,
   "metadata": {},
   "outputs": [
    {
     "data": {
      "text/plain": [
       "array([0.12449169, 0.04825686, 0.01376369])"
      ]
     },
     "execution_count": 12,
     "metadata": {},
     "output_type": "execute_result"
    }
   ],
   "source": [
    "np.sqrt(np.array(m.minimize().errors))"
   ]
  },
  {
   "cell_type": "code",
   "execution_count": 13,
   "metadata": {},
   "outputs": [
    {
     "ename": "IndexError",
     "evalue": "index 4 is out of bounds for axis 0 with size 3",
     "output_type": "error",
     "traceback": [
      "\u001b[0;31m---------------------------------------------------------------------------\u001b[0m",
      "\u001b[0;31mIndexError\u001b[0m                                Traceback (most recent call last)",
      "Cell \u001b[0;32mIn[13], line 1\u001b[0m\n\u001b[0;32m----> 1\u001b[0m np\u001b[38;5;241m.\u001b[39msqrt(np\u001b[38;5;241m.\u001b[39marray(m\u001b[38;5;241m.\u001b[39mminimize()\u001b[38;5;241m.\u001b[39mvalues)[\u001b[38;5;241m2\u001b[39m]\u001b[38;5;241m+\u001b[39m\u001b[43mnp\u001b[49m\u001b[38;5;241;43m.\u001b[39;49m\u001b[43marray\u001b[49m\u001b[43m(\u001b[49m\u001b[43mm\u001b[49m\u001b[38;5;241;43m.\u001b[39;49m\u001b[43mminimize\u001b[49m\u001b[43m(\u001b[49m\u001b[43m)\u001b[49m\u001b[38;5;241;43m.\u001b[39;49m\u001b[43mvalues\u001b[49m\u001b[43m)\u001b[49m\u001b[43m[\u001b[49m\u001b[38;5;241;43m4\u001b[39;49m\u001b[43m]\u001b[49m)\n",
      "\u001b[0;31mIndexError\u001b[0m: index 4 is out of bounds for axis 0 with size 3"
     ]
    }
   ],
   "source": [
    "np.sqrt(np.array(m.minimize().values)[2]+np.array(m.minimize().values)[4])"
   ]
  },
  {
   "cell_type": "code",
   "execution_count": null,
   "metadata": {},
   "outputs": [
    {
     "ename": "NameError",
     "evalue": "name 'test_reuse_pars' is not defined",
     "output_type": "error",
     "traceback": [
      "\u001b[0;31m---------------------------------------------------------------------------\u001b[0m",
      "\u001b[0;31mNameError\u001b[0m                                 Traceback (most recent call last)",
      "Cell \u001b[0;32mIn[14], line 5\u001b[0m\n\u001b[1;32m      3\u001b[0m reuse_1\u001b[38;5;241m=\u001b[39m[\u001b[38;5;241m0.09677047\u001b[39m, \u001b[38;5;241m1.79586532\u001b[39m, \u001b[38;5;241m0.06964409\u001b[39m, \u001b[38;5;241m0.07973598\u001b[39m, \u001b[38;5;241m0.34932267\u001b[39m]\n\u001b[1;32m      4\u001b[0m reuse_2\u001b[38;5;241m=\u001b[39m[\u001b[38;5;241m10.0\u001b[39m,\u001b[38;5;241m2.0\u001b[39m,\u001b[38;5;241m20.1\u001b[39m,\u001b[38;5;241m0.1\u001b[39m,\u001b[38;5;241m0.5\u001b[39m]\n\u001b[0;32m----> 5\u001b[0m \u001b[43mtest_reuse_pars\u001b[49m(data_t, data_y,data_incov, mcalls, mtol,inipars,reuse_1,reuse_2,funfit,\u001b[38;5;241m10\u001b[39m)\u001b[38;5;241m.\u001b[39mselect()\u001b[38;5;241m.\u001b[39mminimize()\u001b[38;5;241m.\u001b[39mvalues\n",
      "\u001b[0;31mNameError\u001b[0m: name 'test_reuse_pars' is not defined"
     ]
    }
   ],
   "source": [
    "data_incov=improved_inverse_covariance(data_cov)\n",
    "inipars=[0.0,2.0,0.1,0.1,10.5]\n",
    "reuse_1=[0.09677047, 1.79586532, 0.06964409, 0.07973598, 0.34932267]\n",
    "reuse_2=[10.0,2.0,20.1,0.1,0.5]\n",
    "test_reuse_pars(data_t, data_y,data_incov, mcalls, mtol,inipars,reuse_1,reuse_2,funfit,10).select().minimize().values"
   ]
  },
  {
   "cell_type": "code",
   "execution_count": null,
   "metadata": {},
   "outputs": [
    {
     "name": "stderr",
     "output_type": "stream",
     "text": [
      "<>:68: SyntaxWarning: invalid escape sequence '\\,'\n",
      "<>:68: SyntaxWarning: invalid escape sequence '\\,'\n",
      "/var/folders/6f/lpqhbvqs49j3w6hj241yz3880000gn/T/ipykernel_27247/296085915.py:68: SyntaxWarning: invalid escape sequence '\\,'\n",
      "  '$L={},\\, \\\\beta={}$'.format(sizelabel,beta[beta_label]/betanorm),\n",
      "No artists with labels found to put in legend.  Note that artists whose label start with an underscore are ignored when legend() is called with no argument.\n"
     ]
    },
    {
     "data": {
      "text/plain": [
       "<matplotlib.legend.Legend at 0x31b407a40>"
      ]
     },
     "execution_count": 17,
     "metadata": {},
     "output_type": "execute_result"
    },
    {
     "data": {
      "text/plain": [
       "[<matplotlib.lines.Line2D at 0x31b41fcb0>]"
      ]
     },
     "execution_count": 17,
     "metadata": {},
     "output_type": "execute_result"
    },
    {
     "data": {
      "text/plain": [
       "<matplotlib.legend.Legend at 0x31b41da00>"
      ]
     },
     "execution_count": 17,
     "metadata": {},
     "output_type": "execute_result"
    },
    {
     "name": "stderr",
     "output_type": "stream",
     "text": [
      "/var/folders/6f/lpqhbvqs49j3w6hj241yz3880000gn/T/ipykernel_27247/296085915.py:68: SyntaxWarning: invalid escape sequence '\\,'\n",
      "  '$L={},\\, \\\\beta={}$'.format(sizelabel,beta[beta_label]/betanorm),\n"
     ]
    },
    {
     "ename": "IndexError",
     "evalue": "list index out of range",
     "output_type": "error",
     "traceback": [
      "\u001b[0;31m---------------------------------------------------------------------------\u001b[0m",
      "\u001b[0;31mIndexError\u001b[0m                                Traceback (most recent call last)",
      "Cell \u001b[0;32mIn[17], line 39\u001b[0m\n\u001b[1;32m     37\u001b[0m jump_configs\u001b[38;5;241m=\u001b[39m\u001b[38;5;241m1\u001b[39m\n\u001b[1;32m     38\u001b[0m \u001b[38;5;66;03m#print(len(data[x][beta_label]))\u001b[39;00m\n\u001b[0;32m---> 39\u001b[0m totaltraj\u001b[38;5;241m=\u001b[39m\u001b[38;5;28mint\u001b[39m(\u001b[38;5;28mlen\u001b[39m(\u001b[43mdata\u001b[49m\u001b[43m[\u001b[49m\u001b[43mx\u001b[49m\u001b[43m]\u001b[49m[beta_label])\u001b[38;5;241m/\u001b[39msize[beta_label])\n\u001b[1;32m     40\u001b[0m Nt\u001b[38;5;241m=\u001b[39mTextent\n\u001b[1;32m     41\u001b[0m Gc\u001b[38;5;241m=\u001b[39mnp\u001b[38;5;241m.\u001b[39mzeros((\u001b[38;5;28mint\u001b[39m(totaltraj\u001b[38;5;241m/\u001b[39mjump_configs),Nt))\n",
      "\u001b[0;31mIndexError\u001b[0m: list index out of range"
     ]
    },
    {
     "data": {
      "image/png": "[encoded data removed]",
      "text/plain": [
       "<Figure size 1600x900 with 1 Axes>"
      ]
     },
     "metadata": {},
     "output_type": "display_data"
    }
   ],
   "source": [
    "# Testing autocorrelations, based on page 94 from Gattringer and Lang's and page 184 of Degrand and Detar\n",
    "\n",
    "def auto_func(t,a,b):\n",
    "    return a*np.exp(-t/b)\n",
    "\n",
    "def autocorr(list,dt):\n",
    "    mean=np.mean(list)\n",
    "    mean1=0\n",
    "    mean2=0\n",
    "    Ncfgs=len(list)\n",
    "    corr1=0\n",
    "    corr2=0\n",
    "    for i in range(Ncfgs-dt):\n",
    "        corr1+=(list[i]*list[i+dt])/(Ncfgs-dt)\n",
    "        corr2+=(list[i]-mean)*(list[i+dt]-mean)/(Ncfgs-dt)\n",
    "        mean1+=list[i]/(Ncfgs-dt)\n",
    "        mean2+=list[i+dt]/(Ncfgs-dt)\n",
    "    \n",
    "    corr1-=mean1*mean2\n",
    "    return corr2\n",
    "\n",
    "xi_range=3\n",
    "r_range=1\n",
    "r_ini=4\n",
    "tval=1\n",
    "t_ini=2\n",
    "ergodic_T=100\n",
    "\n",
    "for beta_label in range(1,2+0*len(beta)):\n",
    "\n",
    "    fig = plt.figure(figsize=(16,9))\n",
    "    plt.legend(fontsize=12,frameon=False,loc=0)\n",
    "\n",
    "    for x in range(xi_range):\n",
    "        corr_ergodic_final=[]\n",
    "\n",
    "        jump_configs=1\n",
    "        #print(len(data[x][beta_label]))\n",
    "        totaltraj=int(len(data[x][beta_label])/size[beta_label])\n",
    "        Nt=Textent\n",
    "        Gc=np.zeros((int(totaltraj/jump_configs),Nt))\n",
    "\n",
    "        for r in range(r_ini,r_ini+r_range):\n",
    "            for i in range(int(totaltraj/jump_configs)):\n",
    "                index=jump_configs*i\n",
    "                Gc[[i]]=data[x][beta_label][range(index*Nt,(index+1)*Nt),[r]]\n",
    "\n",
    "            data_ergodic   = np.linspace(0, ergodic_T, ergodic_T+1)\n",
    "            corr_ergodic=[]\n",
    "            for i in data_ergodic:\n",
    "                inter=0\n",
    "                for k in range(t_ini,t_ini+tval):\n",
    "                     inter+=autocorr(Gc[:,k],int(i))/autocorr(Gc[:,k],0)/tval\n",
    "\n",
    "                corr_ergodic.append(inter)\n",
    "\n",
    "            corr_ergodic_final.append(corr_ergodic)\n",
    "\n",
    "        final_autocor=np.mean(corr_ergodic_final,axis=0)\n",
    "        fit_autocor=sp.optimize.curve_fit(auto_func,data_ergodic,final_autocor)\n",
    "        time_autoco=fit_autocor[0][1]\n",
    "\n",
    "        plt.plot(data_ergodic, final_autocor, label='$\\\\xi={},\\\\tau={:10.2f}$'.format(x+1,time_autoco),color=jpac_color_around[x])\n",
    "        plt.legend(fontsize=12,frameon=False,loc=1)\n",
    "        #plt.plot(data_ergodic, auto_func(data_ergodic,fit_autocor[0][0],fit_autocor[0][1]), label=\"fit\",color=\"blue\")\n",
    "\n",
    "    plt.figtext(0.4, 0.8, \n",
    "                '$L={},\\, \\\\beta={}$'.format(sizelabel,beta[beta_label]/betanorm), \n",
    "                horizontalalignment =\"center\",  \n",
    "                verticalalignment =\"center\",  \n",
    "                wrap = True, fontsize = 20,  \n",
    "                color =\"black\")\n",
    "    plt.show()"
   ]
  },
  {
   "cell_type": "code",
   "execution_count": null,
   "metadata": {},
   "outputs": [
    {
     "data": {
      "text/plain": [
       "2000"
      ]
     },
     "execution_count": 22,
     "metadata": {},
     "output_type": "execute_result"
    }
   ],
   "source": [
    "len(Gc_avg)"
   ]
  },
  {
   "cell_type": "code",
   "execution_count": null,
   "metadata": {},
   "outputs": [
    {
     "data": {
      "text/plain": [
       "array([1.44630619, 1.44415073, 1.44728775, ..., 1.44528689, 1.44435816,\n",
       "       1.44796951])"
      ]
     },
     "execution_count": 34,
     "metadata": {},
     "output_type": "execute_result"
    }
   ],
   "source": [
    "Gc_avg"
   ]
  },
  {
   "cell_type": "code",
   "execution_count": null,
   "metadata": {},
   "outputs": [
    {
     "name": "stderr",
     "output_type": "stream",
     "text": [
      "<>:47: SyntaxWarning: invalid escape sequence '\\,'\n",
      "<>:47: SyntaxWarning: invalid escape sequence '\\,'\n",
      "/var/folders/6f/lpqhbvqs49j3w6hj241yz3880000gn/T/ipykernel_4682/3789041539.py:47: SyntaxWarning: invalid escape sequence '\\,'\n",
      "  '$L={},\\, \\\\beta={}$'.format(sizelabel,beta[beta_label]/betanorm),\n",
      "No artists with labels found to put in legend.  Note that artists whose label start with an underscore are ignored when legend() is called with no argument.\n"
     ]
    },
    {
     "data": {
      "text/plain": [
       "<matplotlib.legend.Legend at 0x31d0a4e60>"
      ]
     },
     "execution_count": 48,
     "metadata": {},
     "output_type": "execute_result"
    },
    {
     "data": {
      "text/plain": [
       "[<matplotlib.lines.Line2D at 0x31df1a780>]"
      ]
     },
     "execution_count": 48,
     "metadata": {},
     "output_type": "execute_result"
    },
    {
     "data": {
      "text/plain": [
       "<matplotlib.legend.Legend at 0x31d05bec0>"
      ]
     },
     "execution_count": 48,
     "metadata": {},
     "output_type": "execute_result"
    },
    {
     "data": {
      "text/plain": [
       "[<matplotlib.lines.Line2D at 0x320b744d0>]"
      ]
     },
     "execution_count": 48,
     "metadata": {},
     "output_type": "execute_result"
    },
    {
     "data": {
      "text/plain": [
       "<matplotlib.legend.Legend at 0x31c9432c0>"
      ]
     },
     "execution_count": 48,
     "metadata": {},
     "output_type": "execute_result"
    },
    {
     "data": {
      "text/plain": [
       "Text(0.4, 0.8, '$L=32,\\\\, \\\\beta=2.3$')"
      ]
     },
     "execution_count": 48,
     "metadata": {},
     "output_type": "execute_result"
    },
    {
     "data": {
      "image/png": "[encoded data removed]",
      "text/plain": [
       "<Figure size 1600x900 with 1 Axes>"
      ]
     },
     "metadata": {},
     "output_type": "display_data"
    }
   ],
   "source": [
    "xi_range=2\n",
    "r_range=1\n",
    "r_ini=15\n",
    "tval=1\n",
    "t_ini=1\n",
    "ergodic_T=100\n",
    "\n",
    "for beta_label in range(1,2+0*len(beta)):\n",
    "\n",
    "    fig = plt.figure(figsize=(16,9))\n",
    "    plt.legend(fontsize=12,frameon=False,loc=0)\n",
    "\n",
    "    for x in range(xi_range):\n",
    "        jump_configs=1\n",
    "        #print(len(data[x][beta_label]))\n",
    "        totaltraj=int(len(data[x][beta_label])/size[beta_label])\n",
    "        Nt=Textent\n",
    "        Gc=np.zeros((totaltraj,Nt))\n",
    "        Gc_avg=np.zeros(totaltraj)\n",
    "\n",
    "        for i in range(totaltraj):\n",
    "            for r in range(r_ini,r_ini+r_range):\n",
    "                index=jump_configs*i\n",
    "                Gc[[i]]+=data[x][beta_label][range(index*Nt,(index+1)*Nt),[r]]/r_range\n",
    "\n",
    "            for k in range(t_ini,t_ini+tval):\n",
    "                Gc_avg[[i]]+=Gc[i,k]/tval\n",
    "                \n",
    "\n",
    "        data_ergodic   = np.linspace(0, ergodic_T, ergodic_T+1)\n",
    "        corr_ergodic=[]\n",
    "        corr_ergodic_final=[]\n",
    "        for i in data_ergodic:\n",
    "            inter=autocorr(Gc_avg,int(i))/autocorr(Gc_avg,0)\n",
    "            corr_ergodic.append(inter)\n",
    "        corr_ergodic_final.append(corr_ergodic)\n",
    "\n",
    "        final_autocor=np.mean(corr_ergodic_final,axis=0)\n",
    "        fit_autocor=sp.optimize.curve_fit(auto_func,data_ergodic,final_autocor)\n",
    "        time_autoco=fit_autocor[0][1]\n",
    "\n",
    "        plt.plot(data_ergodic, final_autocor, label='$\\\\xi={},\\\\tau={:10.2f},Ncfgs={}$'.format(x+1,time_autoco,totaltraj),color=jpac_color_around[x])\n",
    "        plt.legend(fontsize=12,frameon=False,loc=1)\n",
    "        #plt.plot(data_ergodic, auto_func(data_ergodic,fit_autocor[0][0],fit_autocor[0][1]), label=\"fit\",color=\"blue\")\n",
    "\n",
    "    plt.figtext(0.4, 0.8, \n",
    "                '$L={},\\, \\\\beta={}$'.format(sizelabel,beta[beta_label]/betanorm), \n",
    "                horizontalalignment =\"center\",  \n",
    "                verticalalignment =\"center\",  \n",
    "                wrap = True, fontsize = 20,  \n",
    "                color =\"black\")\n",
    "    plt.show()"
   ]
  },
  {
   "cell_type": "code",
   "execution_count": null,
   "metadata": {},
   "outputs": [
    {
     "data": {
      "text/plain": [
       "array([0.857633, 1.07704 , 1.17367 , ..., 1.38824 , 1.39994 , 1.37701 ])"
      ]
     },
     "execution_count": 5,
     "metadata": {},
     "output_type": "execute_result"
    }
   ],
   "source": [
    "len_s=20\n",
    "repeat=100\n",
    "data_to_repeat=np.genfromtxt('../tests/Arkaitz-2.75.dat')\n",
    "data_test=np.zeros(repeat*len_s)\n",
    "\n",
    "for k in range(repeat):\n",
    "    for i in range(len_s):\n",
    "        data_test[[i+k*len_s]]=data_to_repeat[i+k][1]\n",
    "\n",
    "data_test   "
   ]
  },
  {
   "cell_type": "code",
   "execution_count": null,
   "metadata": {},
   "outputs": [
    {
     "name": "stderr",
     "output_type": "stream",
     "text": [
      "No artists with labels found to put in legend.  Note that artists whose label start with an underscore are ignored when legend() is called with no argument.\n"
     ]
    },
    {
     "data": {
      "text/plain": [
       "<matplotlib.legend.Legend at 0x320475eb0>"
      ]
     },
     "execution_count": 10,
     "metadata": {},
     "output_type": "execute_result"
    },
    {
     "data": {
      "text/plain": [
       "<matplotlib.collections.PathCollection at 0x320467e00>"
      ]
     },
     "execution_count": 10,
     "metadata": {},
     "output_type": "execute_result"
    },
    {
     "data": {
      "text/plain": [
       "<matplotlib.legend.Legend at 0x320474c80>"
      ]
     },
     "execution_count": 10,
     "metadata": {},
     "output_type": "execute_result"
    },
    {
     "data": {
      "image/png": "[encoded data removed]",
      "text/plain": [
       "<Figure size 1600x900 with 1 Axes>"
      ]
     },
     "metadata": {},
     "output_type": "display_data"
    }
   ],
   "source": [
    "#data_test=np.genfromtxt('../tests/Arkaitz-2.75.dat')[:20\n",
    "\n",
    "fig = plt.figure(figsize=(16,9))\n",
    "plt.legend(fontsize=12,frameon=False,loc=0)\n",
    "\n",
    "ergodic_T=80\n",
    "data_ergodic   = np.linspace(0, ergodic_T, ergodic_T+1)\n",
    "corr_ergodic=[]\n",
    "corr_ergodic_final=[]\n",
    "for i in data_ergodic:\n",
    "    inter=autocorr(data_test[:],int(i))/autocorr(data_test[:],0)\n",
    "    corr_ergodic.append(inter)\n",
    "\n",
    "corr_ergodic_final.append(corr_ergodic)\n",
    "\n",
    "final_autocor=corr_ergodic_final[0]\n",
    "fit_autocor=sp.optimize.curve_fit(auto_func,data_ergodic,final_autocor)\n",
    "time_autoco=fit_autocor[0][1]\n",
    "plt.scatter(data_ergodic, final_autocor, label='$\\\\beta=2.75,\\\\tau={:10.2f}$'.format(time_autoco),color=jpac_color_around[x])\n",
    "plt.legend(fontsize=12,frameon=False,loc=1)\n",
    "\n",
    "plt.show()"
   ]
  },
  {
   "cell_type": "code",
   "execution_count": null,
   "metadata": {},
   "outputs": [
    {
     "data": {
      "text/plain": [
       "array([1.59177145, 1.36163587, 1.17450724, 1.01651223, 0.88124034,\n",
       "       0.76466769, 0.66387109, 0.57653885, 0.5007913 , 0.43505181])"
      ]
     },
     "execution_count": 6,
     "metadata": {},
     "output_type": "execute_result"
    },
    {
     "data": {
      "text/plain": [
       "array([1.59177145, 1.36163587, 1.17450724, 1.01651223, 0.88124034,\n",
       "       0.76466769, 0.66387109, 0.57653885, 0.5007913 , 0.43505181])"
      ]
     },
     "execution_count": 6,
     "metadata": {},
     "output_type": "execute_result"
    },
    {
     "data": {
      "text/plain": [
       "array([[1.59109252, 1.35848927, 1.17119048, ..., 0.57188237, 0.49546477,\n",
       "        0.42932224],\n",
       "       [1.5939167 , 1.36467535, 1.17743217, ..., 0.58166574, 0.50700307,\n",
       "        0.44132673],\n",
       "       [1.5894024 , 1.36225494, 1.17636624, ..., 0.58226711, 0.50711986,\n",
       "        0.44203414],\n",
       "       ...,\n",
       "       [1.58812302, 1.3586298 , 1.16974103, ..., 0.57192906, 0.4962146 ,\n",
       "        0.43089082],\n",
       "       [1.58879087, 1.35942533, 1.17232424, ..., 0.57593703, 0.50050923,\n",
       "        0.43533392],\n",
       "       [1.58761334, 1.36014669, 1.17331455, ..., 0.57726789, 0.50154314,\n",
       "        0.43466461]])"
      ]
     },
     "execution_count": 6,
     "metadata": {},
     "output_type": "execute_result"
    },
    {
     "data": {
      "text/plain": [
       "array([8.69152436e-09, 7.23222053e-09, 6.72359117e-09, 6.28334876e-09,\n",
       "       5.92260573e-09, 5.53540262e-09, 5.19114240e-09, 4.86059820e-09,\n",
       "       4.52677682e-09, 4.17266577e-09])"
      ]
     },
     "execution_count": 6,
     "metadata": {},
     "output_type": "execute_result"
    },
    {
     "data": {
      "text/plain": [
       "array([8.69152436e-09, 7.23222053e-09, 6.72359117e-09, 6.28334876e-09,\n",
       "       5.92260573e-09, 5.53540262e-09, 5.19114240e-09, 4.86059820e-09,\n",
       "       4.52677682e-09, 4.17266577e-09])"
      ]
     },
     "execution_count": 6,
     "metadata": {},
     "output_type": "execute_result"
    },
    {
     "data": {
      "text/plain": [
       "array([8.69152436e-09, 7.23222053e-09, 6.72359117e-09, 6.28334876e-09,\n",
       "       5.92260573e-09, 5.53540262e-09, 5.19114240e-09, 4.86059820e-09,\n",
       "       4.52677682e-09, 4.17266577e-09])"
      ]
     },
     "execution_count": 6,
     "metadata": {},
     "output_type": "execute_result"
    }
   ],
   "source": [
    "# Checking if Jackknife is correct, we will test central values and errors\n",
    "\n",
    "x=0\n",
    "k=0\n",
    "r=0\n",
    "\n",
    "totaltraj=int(len(data[x][k])/size[k])\n",
    "Nt=Textent\n",
    "\n",
    "Gc=np.zeros((totaltraj,Nt))\n",
    "for i in range(totaltraj):\n",
    "    Gc[[i]]=data[x][k][range(i*Nt,(i+1)*Nt),[r]]\n",
    "    \n",
    "data_y   = ensemble_stat(Gc).mean()\n",
    "\n",
    "data_y\n",
    "\n",
    "np.mean(jackknife(Gc).sample(),axis=0) \n",
    "jackknife(jackknife(Gc).sample()).up() \n",
    "\n",
    "# These two are identical to one another\n",
    "ensemble_stat(Gc).rcov()[0]\n",
    "jackknife(Gc).fcov()[0]\n",
    "jackknife(jackknife(Gc).sample()).upcov()[0]"
   ]
  },
  {
   "cell_type": "code",
   "execution_count": null,
   "metadata": {},
   "outputs": [
    {
     "name": "stdout",
     "output_type": "stream",
     "text": [
      "1.9017642429885249\n"
     ]
    },
    {
     "data": {
      "text/plain": [
       "array([1.08826939e-06, 1.82033806e+00, 4.61277042e-01, 7.61606954e-02,\n",
       "       1.66162678e+00])"
      ]
     },
     "execution_count": 6,
     "metadata": {},
     "output_type": "execute_result"
    },
    {
     "name": "stdout",
     "output_type": "stream",
     "text": [
      "[2.00554868e-01 4.93242405e-04 8.75685908e-05 2.38486824e-03\n",
      " 5.31035917e-02]\n"
     ]
    },
    {
     "data": {
      "text/plain": [
       "True"
      ]
     },
     "execution_count": 6,
     "metadata": {},
     "output_type": "execute_result"
    },
    {
     "data": {
      "text/plain": [
       "<ErrorbarContainer object of 3 artists>"
      ]
     },
     "execution_count": 6,
     "metadata": {},
     "output_type": "execute_result"
    },
    {
     "data": {
      "text/plain": [
       "[<matplotlib.lines.Line2D at 0x321a6e570>]"
      ]
     },
     "execution_count": 6,
     "metadata": {},
     "output_type": "execute_result"
    },
    {
     "data": {
      "image/png": "[encoded data removed]",
      "text/plain": [
       "<Figure size 640x480 with 1 Axes>"
      ]
     },
     "metadata": {},
     "output_type": "display_data"
    }
   ],
   "source": [
    "x=0\n",
    "k=0\n",
    "r=0\n",
    "\n",
    "jackkl=20000\n",
    "jump_configs=1\n",
    "\n",
    "mcalls=5000\n",
    "mtol=0.00001\n",
    "\n",
    "totaltraj=int(len(data[x][k])/size[k])\n",
    "Nt=Textent\n",
    "\n",
    "Gc=np.zeros((int(totaltraj/jump_configs),Nt))\n",
    "for i in range(int(totaltraj/jump_configs)):\n",
    "    index=jump_configs*i\n",
    "    Gc[[i]]=data[x][k][range(index*Nt,(index+1)*Nt),[r]]\n",
    "    \n",
    "#logG=np.log(ratio(trim_negative(Gc).trimmed()).val())\n",
    "\n",
    "\n",
    "# Get average over all data, we will then replicate for every Jackknife sample to get errors\n",
    "\n",
    "gdata=jackknife(Gc,jackkl).sample()\n",
    "gdata=jackknife(gdata,jackkl).up()\n",
    "lt=len(Gc[0])\n",
    "dfin=min(lt,100)\n",
    "data_t   = np.linspace(1, lt, lt)\n",
    "data_2t  = np.linspace(1, 2*lt-1, 2*lt-1)\n",
    "data_y   = ensemble_stat(gdata).mean()\n",
    "data_cov = ensemble_stat(gdata).rcov()\n",
    "data_err = np.sqrt(np.diagonal(ensemble_stat(gdata).rcov()))\n",
    "\n",
    "\n",
    "data_covf = np.identity(lt)\n",
    "for i in range(len(np.sqrt(np.diag(data_cov)))):\n",
    "    for j in range(len(np.sqrt(np.diag(data_cov)))):\n",
    "        data_covf[i][j]*=np.sqrt(np.diag(data_cov))[i]*np.sqrt(np.diag(data_cov))[j]\n",
    "\n",
    "\n",
    "#funfit='nb_exp_line_np_pole'\n",
    "#inipars=[0.1,1.,0.1,0.01]\n",
    "#funfit='nb_exp_np_pole'\n",
    "funfit='nb_exp_np_pole'\n",
    "inipars=[0.0,2.0,1.0,0.1,1.0]\n",
    "m=RepeatSingleFit(data_t, data_y, data_cov, 1, 12, inipars, funfit , mcalls, mtol,0,1,0)\n",
    "\n",
    "print(m.minimize().fval/m.minimize().ndof)\n",
    "np.array(m.minimize().values)\n",
    "print(np.array(m.minimize().errors))\n",
    "ma=MA_fit(m.minimize())\n",
    "\n",
    "m.minimize().valid\n",
    "\n",
    "rin=0\n",
    "rfin=12\n",
    "plt.errorbar(data_t[rin:rfin], data_y[rin:rfin], data_err[rin:rfin], fmt=\"ok\", label=\"data\")\n",
    "plt.plot(data_t[rin:rfin], eval(funfit)(data_t[rin:rfin], *m.minimize().values), label=\"fit\")"
   ]
  },
  {
   "cell_type": "code",
   "execution_count": null,
   "metadata": {},
   "outputs": [
    {
     "data": {
      "text/plain": [
       "59"
      ]
     },
     "execution_count": 18,
     "metadata": {},
     "output_type": "execute_result"
    },
    {
     "data": {
      "text/plain": [
       "23"
      ]
     },
     "execution_count": 18,
     "metadata": {},
     "output_type": "execute_result"
    },
    {
     "data": {
      "text/plain": [
       "29"
      ]
     },
     "execution_count": 18,
     "metadata": {},
     "output_type": "execute_result"
    },
    {
     "data": {
      "text/plain": [
       "37"
      ]
     },
     "execution_count": 18,
     "metadata": {},
     "output_type": "execute_result"
    },
    {
     "data": {
      "text/plain": [
       "40"
      ]
     },
     "execution_count": 18,
     "metadata": {},
     "output_type": "execute_result"
    },
    {
     "data": {
      "text/plain": [
       "304.58312212215196"
      ]
     },
     "execution_count": 18,
     "metadata": {},
     "output_type": "execute_result"
    },
    {
     "data": {
      "text/plain": [
       "32.40342993079692"
      ]
     },
     "execution_count": 18,
     "metadata": {},
     "output_type": "execute_result"
    },
    {
     "data": {
      "text/plain": [
       "159.99270938344824"
      ]
     },
     "execution_count": 18,
     "metadata": {},
     "output_type": "execute_result"
    },
    {
     "data": {
      "text/plain": [
       "20.784892946170856"
      ]
     },
     "execution_count": 18,
     "metadata": {},
     "output_type": "execute_result"
    },
    {
     "data": {
      "text/plain": [
       "195.913591200846"
      ]
     },
     "execution_count": 18,
     "metadata": {},
     "output_type": "execute_result"
    },
    {
     "data": {
      "text/plain": [
       "array([2.3125488768731543e-02, 2.4162362129783929e-01,\n",
       "       3.0801565486050304e-02, 3.4543926182822348e+05,\n",
       "       2.5072455124332191e+05])"
      ]
     },
     "execution_count": 18,
     "metadata": {},
     "output_type": "execute_result"
    },
    {
     "data": {
      "text/plain": [
       "array([1.9054838086583994e-02, 1.0551455150692291e-02,\n",
       "       6.6349278850268102e-04, 1.7676164287125801e-01,\n",
       "       8.6352536546430141e+00])"
      ]
     },
     "execution_count": 18,
     "metadata": {},
     "output_type": "execute_result"
    },
    {
     "data": {
      "text/plain": [
       "array([3.3631178962588396e-02, 1.8622976339320540e-02,\n",
       "       1.1710439342234203e-03, 7.9700906393839821e-01,\n",
       "       1.1278803472870996e+01])"
      ]
     },
     "execution_count": 18,
     "metadata": {},
     "output_type": "execute_result"
    },
    {
     "data": {
      "text/plain": [
       "array([1.5291684077340830e-02, 8.4676638617200411e-03,\n",
       "       5.3246026105165762e-04, 1.8133938430480823e-02,\n",
       "       4.0661507307597162e+00])"
      ]
     },
     "execution_count": 18,
     "metadata": {},
     "output_type": "execute_result"
    },
    {
     "data": {
      "text/plain": [
       "array([3.3643104013651469e-02, 1.8629583440544429e-02,\n",
       "       1.1714587127530669e-03, 3.3228498687792907e-01,\n",
       "       1.5226753649245802e+01])"
      ]
     },
     "execution_count": 18,
     "metadata": {},
     "output_type": "execute_result"
    }
   ],
   "source": [
    "# Testing minimizer's precision/accuracy\n",
    "factor=10\n",
    "ntrials=100\n",
    "mcalls=5000\n",
    "mtol=0.0001\n",
    "hack=0\n",
    "\n",
    "\n",
    "data_incov=improved_inverse_covariance(data_cov)\n",
    "def least_squares_scipy(par):  # we must accept a variable number of model parameters\n",
    "    ym = exp_np(data_t, *par)\n",
    "    return np.dot(np.dot((data_y - ym), data_incov),(data_y - ym))\n",
    "\n",
    "count1=0\n",
    "count2=0\n",
    "count3=0\n",
    "count4=0\n",
    "count5=0\n",
    "\n",
    "m1list=[]\n",
    "m1chilist=[]\n",
    "m2list=[]\n",
    "m2chilist=[]\n",
    "m3list=[]\n",
    "m3chilist=[]\n",
    "m4list=[]\n",
    "m4chilist=[]\n",
    "m5list=[]\n",
    "m5chilist=[]\n",
    "m6list=[]\n",
    "\n",
    "\n",
    "for i in range(ntrials):\n",
    "    inipars=np.array([0.0756601070458546,1.8388443700832076,0.2397704868012228,0.081132649591307,0.3404256622175537])\n",
    "    einipars=factor*inipars\n",
    "    s = np.random.normal(0, 1, len(inipars))\n",
    "    inipars=inipars+s*einipars\n",
    "    least_squares_np = EvenBetterLeastSquares(eval('nb_exp_np_pole'), data_t, data_y, data_incov)\n",
    "    m=Minuit(least_squares_np,*inipars)   # pass starting values as a sequence\n",
    "    m.strategy=1\n",
    "    m.tol=mtol\n",
    "    result1=m.migrad(mcalls)\n",
    "    m2=Minuit(least_squares_np,*inipars)   # pass starting values as a sequence\n",
    "    m2.strategy=2\n",
    "    m2.tol=mtol\n",
    "    result2=m2.scipy('COBYLA',mcalls).simplex(mcalls).scipy('CG',mcalls).migrad(mcalls).migrad(mcalls).migrad(mcalls)\n",
    "    m3=Minuit(least_squares_np,*inipars)   # pass starting values as a sequence\n",
    "    m3.strategy=2\n",
    "    m3.tol=mtol\n",
    "    result3=m3.scipy('CG',mcalls).scipy('L-BFGS-B',mcalls).migrad(mcalls).migrad(mcalls)\n",
    "    m4=Minuit(least_squares_np,*inipars)   # pass starting values as a sequence\n",
    "    m4.strategy=2\n",
    "    m4.tol=mtol\n",
    "    result4=m4.simplex(mcalls).simplex(mcalls).scipy('CG',mcalls).scipy('L-BFGS-B',mcalls).migrad(mcalls).migrad(mcalls).migrad(mcalls)\n",
    "\n",
    "\n",
    "    np.set_printoptions(precision=16)\n",
    "    \n",
    "\n",
    "    if result1.valid:\n",
    "        count1+=1\n",
    "    if result1.valid or hack==1:\n",
    "        m1list.append(np.abs(np.array(result1.values)))\n",
    "        m1chilist.append(result1.fval/result1.ndof)\n",
    "\n",
    "    if result2.valid:\n",
    "        count2+=1\n",
    "    if result2.valid or hack==1:\n",
    "        m2list.append(np.abs(np.array(result2.values)))\n",
    "        m2chilist.append(result2.fval/result2.ndof)\n",
    "\n",
    "    if result3.valid:\n",
    "        count3+=1\n",
    "    if result3.valid or hack==1:\n",
    "        m3list.append(np.abs(np.array(result3.values)))\n",
    "        m3chilist.append(result3.fval/result3.ndof)\n",
    "\n",
    "    if result4.valid:\n",
    "        count4+=1\n",
    "    if result4.valid or hack==1:\n",
    "        m4list.append(np.abs(np.array(result4.values)))\n",
    "        m4chilist.append(result4.fval/result4.ndof)\n",
    "\n",
    "\n",
    "    bounds=[]\n",
    "    for i in inipars:   \n",
    "        bounds.append((0,factor*abs(i)))\n",
    "\n",
    "    #res1=sp.optimize.basinhopping(least_squares_scipy,inipars,niter=10)\n",
    "    #m5list.append(np.abs(res1.x))\n",
    "    #m5chilist.append(res1.fun/result4.ndof)\n",
    "    #inipars5=np.array(res1.x)\n",
    "    m5=Minuit(least_squares_np,*inipars)\n",
    "    m5.tol=mtol\n",
    "    m5.strategy=2\n",
    "    res1=m5.scipy('Nelder-Mead',mcalls).scipy('CG',mcalls).scipy('Nelder-Mead',mcalls).scipy('L-BFGS-B',mcalls).migrad(mcalls).migrad(mcalls).migrad(mcalls)\n",
    "\n",
    "    if res1.valid:\n",
    "        count5+=1\n",
    "    if res1.valid or hack==1:\n",
    "        m5list.append(np.abs(np.array(res1.values)))\n",
    "        m5chilist.append(res1.fval/res1.ndof)\n",
    "\n",
    "\n",
    "m1list=np.array(m1list)\n",
    "m1chilist=np.array(m1chilist)\n",
    "m2list=np.array(m2list)\n",
    "m2chilist=np.array(m2chilist)\n",
    "m3list=np.array(m3list)\n",
    "m3chilist=np.array(m3chilist)\n",
    "m4list=np.array(m4list)\n",
    "m4chilist=np.array(m4chilist)\n",
    "m5list=np.array(m5list)\n",
    "m5chilist=np.array(m5chilist)\n",
    "\n",
    "\n",
    "#np.mean(m1list,axis=0)\n",
    "#np.mean(m2list,axis=0)\n",
    "#np.mean(m3list,axis=0)\n",
    "#np.mean(m4list,axis=0)\n",
    "#np.mean(m5list,axis=0)\n",
    "\n",
    "count1\n",
    "count2\n",
    "count3\n",
    "count4\n",
    "count5\n",
    "\n",
    "np.mean(m1chilist,axis=0)\n",
    "np.mean(m2chilist,axis=0)\n",
    "np.mean(m3chilist,axis=0)\n",
    "np.mean(m4chilist,axis=0)\n",
    "np.mean(m5chilist,axis=0)\n",
    "\n",
    "np.sqrt(np.var(m1list,axis=0))\n",
    "np.sqrt(np.var(m2list,axis=0))\n",
    "np.sqrt(np.var(m3list,axis=0))\n",
    "np.sqrt(np.var(m4list,axis=0))\n",
    "np.sqrt(np.var(m5list,axis=0))"
   ]
  },
  {
   "cell_type": "code",
   "execution_count": null,
   "metadata": {},
   "outputs": [
    {
     "data": {
      "text/plain": [
       "908"
      ]
     },
     "execution_count": 79,
     "metadata": {},
     "output_type": "execute_result"
    },
    {
     "data": {
      "text/plain": [
       "993"
      ]
     },
     "execution_count": 79,
     "metadata": {},
     "output_type": "execute_result"
    },
    {
     "data": {
      "text/plain": [
       "1.4391334819219852"
      ]
     },
     "execution_count": 79,
     "metadata": {},
     "output_type": "execute_result"
    },
    {
     "data": {
      "text/plain": [
       "0.6701401042317042"
      ]
     },
     "execution_count": 79,
     "metadata": {},
     "output_type": "execute_result"
    }
   ],
   "source": [
    "# Multi-start procedure for \"global minimization\"\n",
    "# This works by providing the maximum amount of points you want to start sampling with. It produces a \n",
    "\n",
    "x=0\n",
    "k=10\n",
    "r=11\n",
    "\n",
    "jackkl=20000\n",
    "jump_configs=1\n",
    "\n",
    "mcalls=5000\n",
    "mtol=0.0001\n",
    "factor=1\n",
    "nsamples=1000\n",
    "strategy=2\n",
    "\n",
    "totaltraj=int(len(data[x][k])/size[k])\n",
    "Nt=Textent\n",
    "\n",
    "Gc=np.zeros((int(totaltraj/jump_configs),Nt))\n",
    "for i in range(int(totaltraj/jump_configs)):\n",
    "    index=jump_configs*i\n",
    "    Gc[[i]]=data[x][k][range(index*Nt,(index+1)*Nt),[r]]\n",
    "    \n",
    "#logG=np.log(ratio(trim_negative(Gc).trimmed()).val())\n",
    "\n",
    "\n",
    "# Get average over all data, we will then replicate for every Jackknife sample to get errors\n",
    "\n",
    "gdata=jackknife(Gc,jackkl).sample()\n",
    "gdata=jackknife(gdata,jackkl).up()\n",
    "lt=len(Gc[0])\n",
    "dfin=min(lt,100)\n",
    "data_t   = np.linspace(1, lt, lt)\n",
    "data_2t  = np.linspace(1, 2*lt-1, 2*lt-1)\n",
    "data_y   = ensemble_stat(gdata).mean()\n",
    "data_cov = ensemble_stat(gdata).rcov()\n",
    "data_err = np.sqrt(np.diagonal(ensemble_stat(gdata).rcov()))\n",
    "data_incov=improved_inverse_covariance(data_cov)\n",
    "\n",
    "data_covf = np.identity(lt)\n",
    "for i in range(len(np.sqrt(np.diag(data_cov)))):\n",
    "    for j in range(len(np.sqrt(np.diag(data_cov)))):\n",
    "        data_covf[i][j]*=np.sqrt(np.diag(data_cov))[i]*np.sqrt(np.diag(data_cov))[j]\n",
    "\n",
    "\n",
    "\n",
    "pars_best=[-0.0756601021475849,1.838844370954277,0.2397704868229662,0.0811326516777515,0.3404256638585156]\n",
    "fit_best=1.6972963589305958\n",
    "\n",
    "inipars=np.array([0.0,2.0,1.0,0.1,1.0])\n",
    "einipars=inipars.copy()\n",
    "for j in range(len(einipars)):\n",
    "    einipars[j]=max(0.01,einipars[j])\n",
    "einipars*=factor\n",
    "\n",
    "least_squares_np = EvenBetterLeastSquares(eval('nb_exp_np_pole'), data_t, data_y, data_incov)\n",
    "\n",
    "inipars_list=[]\n",
    "for i in range(nsamples):\n",
    "    s = np.random.normal(0, 1, len(inipars))\n",
    "    inipars_list.append(inipars+s*einipars)\n",
    "\n",
    "fit_results=[]\n",
    "minimized=0\n",
    "par_results=[]\n",
    "for i in range(len(inipars_list)):\n",
    "    m=Minuit(least_squares_np,*inipars_list[i])\n",
    "    m.tol=mtol\n",
    "    m.strategy=strategy\n",
    "    result_fit=m.simplex(mcalls).scipy('L-BFGS-B',mcalls).migrad(mcalls).migrad(mcalls)\n",
    "    #result_fit=m.simplex(mcalls).scipy('CG',mcalls).simplex(mcalls).scipy('L-BFGS-B',mcalls).migrad(mcalls).migrad(mcalls)\n",
    "    if (result_fit.valid):\n",
    "        minimized+=1\n",
    "        par_results.append(np.array(result_fit.values))\n",
    "\n",
    "    fit_results.append(result_fit.fval/result_fit.ndof)\n",
    "\n",
    "correct=0\n",
    "for i in range(nsamples):\n",
    "    if (np.abs(fit_results[i]-1)<100):\n",
    "        correct+=1\n",
    "\n",
    "minimized\n",
    "correct\n",
    "\n",
    "np.mean(np.sqrt(np.var(par_results,axis=0)))   # Mean of variation on parameter results over fits\n",
    "\n",
    "np.min(fit_results)"
   ]
  },
  {
   "cell_type": "code",
   "execution_count": null,
   "metadata": {},
   "outputs": [
    {
     "data": {
      "text/plain": [
       "[2]"
      ]
     },
     "execution_count": 175,
     "metadata": {},
     "output_type": "execute_result"
    }
   ],
   "source": [
    "a=[1,2,3]\n",
    "\n",
    "a[1:2]"
   ]
  },
  {
   "cell_type": "code",
   "execution_count": null,
   "metadata": {},
   "outputs": [],
   "source": [
    "nsamples=100\n",
    "factor=1"
   ]
  },
  {
   "cell_type": "code",
   "execution_count": null,
   "metadata": {},
   "outputs": [
    {
     "data": {
      "text/plain": [
       "array([ 0.1, 20. ,  5. ,  1. , 10. ])"
      ]
     },
     "execution_count": 42,
     "metadata": {},
     "output_type": "execute_result"
    }
   ],
   "source": [
    "einipars"
   ]
  },
  {
   "cell_type": "code",
   "execution_count": null,
   "metadata": {},
   "outputs": [],
   "source": [
    "multiprocess=10\n",
    "filefin=0\n",
    "#------------------------------------------------------------------------------------------------------------------------------------------\n",
    "# Select data files to be fitted\n",
    "#------------------------------------------------------------------------------------------------------------------------------------------\n",
    "\n",
    "datarun=[]\n",
    "dataint  = data[xiini:xifin+1]\n",
    "for i in range(len(dataint)):\n",
    "    datarun.append(dataint[i][fileini:filefin+1])\n",
    "\n",
    "sizerun  = size[fileini:filefin+1]\n",
    "betarun  = beta[fileini:filefin+1]\n",
    "\n",
    "\n",
    "#------------------------------------------------------------------------------------------------------------------------------------------\n",
    "#Prepare options for fitting\n",
    "#------------------------------------------------------------------------------------------------------------------------------------------\n",
    "if (dini_Gc==0):\n",
    "    diini  = 0\n",
    "    distop = 0\n",
    "else:\n",
    "    diini   = dini_Gc\n",
    "    distop = dini_Gc+dstop_Gc"
   ]
  },
  {
   "cell_type": "code",
   "execution_count": null,
   "metadata": {},
   "outputs": [],
   "source": [
    "x=0\n",
    "k=0\n",
    "r=0\n",
    "\n",
    "\n",
    "totaltraj=int(len(data[x][k])/size[k])\n",
    "Nt=Textent\n",
    "\n",
    "Gc=np.zeros((totaltraj,Nt))\n",
    "for i in range(totaltraj):\n",
    "    Gc[[i]]=data[x][k][range(i*Nt,(i+1)*Nt),[r]]\n",
    "    \n",
    "logG=np.log(ratio(trim_negative(Gc).trimmed()).val())\n",
    "\n",
    "\n",
    "# Get average over all data, we will then replicate for every Jackknife sample to get errors\n",
    "jackkl=2000\n",
    "\n",
    "#datatype_Gc='exp'\n",
    "\n",
    "\n",
    "if (datatype_Gc==\"dlog\"):\n",
    "    gdata=np.log(ratio(trim_negative(jackknife(Gc,jackkl).sample()).trimmed()).val())\n",
    "elif (datatype_Gc==\"log\" or datatype_Gc==\"log_pole\"):\n",
    "    gdata=np.log(trim_negative(jackknife(Gc,jackkl).sample()).trimmed())\n",
    "    #gdata=np.log(trim_negative(Gc).trimmed())\n",
    "elif (datatype_Gc==\"exp\" or datatype_Gc==\"exp_WL\" or datatype_Gc==\"exp_line\"):\n",
    "    gdata=jackknife(Gc,jackkl).sample()\n",
    "\n",
    "gdata=jackknife(gdata,jackkl).up()\n",
    "\n",
    "\n",
    "lt=len(gdata[0])\n",
    "dfin=min(lt,100)\n",
    "data_t   = np.linspace(1, lt, lt)\n",
    "data_y   = jackknife(gdata,jackkl).sample()\n",
    "data_cov = jackknife(gdata,jackkl).scov()\n",
    "\n",
    "\n",
    "model_Gc='nb_exp_np'\n",
    "inipars_Gc  = [[2.0,2.]]                                                                                             # Input pars to fit with\n",
    "variants_Gc = ['single']  \n",
    "#dmindata_Gc=5\n",
    "\n",
    "m=Modelsmin(data_t, data_y, data_cov, dini_Gc, dstop_Gc, dmindata_Gc, dfin_Gc, inipars_Gc, model_Gc, variants_Gc, datatype_Gc, mcalls, mtol, 1, 1, 10,0,improve,1)\n",
    "mf=m.jackk_minimize()\n",
    "AIC_list=Jackknife_AIClist(mf)\n"
   ]
  },
  {
   "cell_type": "code",
   "execution_count": null,
   "metadata": {},
   "outputs": [
    {
     "data": {
      "text/plain": [
       "([0.46702297658511405], [0.00011611111125330624], array([[1.]]))"
      ]
     },
     "execution_count": 12,
     "metadata": {},
     "output_type": "execute_result"
    }
   ],
   "source": [
    "AIC_list.avgval(0.2)"
   ]
  },
  {
   "cell_type": "code",
   "execution_count": null,
   "metadata": {},
   "outputs": [
    {
     "ename": "IndexError",
     "evalue": "index 2 is out of bounds for axis 1 with size 2",
     "output_type": "error",
     "traceback": [
      "\u001b[0;31m---------------------------------------------------------------------------\u001b[0m",
      "\u001b[0;31mIndexError\u001b[0m                                Traceback (most recent call last)",
      "Cell \u001b[0;32mIn[11], line 1\u001b[0m\n\u001b[0;32m----> 1\u001b[0m \u001b[43mAIC_list\u001b[49m\u001b[38;5;241;43m.\u001b[39;49m\u001b[43mavgsample\u001b[49m\u001b[43m(\u001b[49m\u001b[38;5;241;43m0.05\u001b[39;49m\u001b[43m,\u001b[49m\u001b[38;5;241;43m2\u001b[39;49m\u001b[43m)\u001b[49m\n",
      "File \u001b[0;32m~/Documents/GitHub/Coulomb_Lattice_analysis/Analysis/stats.py:1751\u001b[0m, in \u001b[0;36mJackknife_AIClist.avgsample\u001b[0;34m(self, cutoff, pos)\u001b[0m\n\u001b[1;32m   1749\u001b[0m eval0  \u001b[38;5;241m=\u001b[39m \u001b[38;5;241m0\u001b[39m\n\u001b[1;32m   1750\u001b[0m sample \u001b[38;5;241m=\u001b[39m \u001b[38;5;241m0\u001b[39m\n\u001b[0;32m-> 1751\u001b[0m Nj     \u001b[38;5;241m=\u001b[39m \u001b[38;5;28mlen\u001b[39m(\u001b[38;5;28;43mself\u001b[39;49m\u001b[38;5;241;43m.\u001b[39;49m\u001b[43maic_final\u001b[49m\u001b[43m[\u001b[49m\u001b[38;5;241;43m0\u001b[39;49m\u001b[43m,\u001b[49m\u001b[38;5;241;43m4\u001b[39;49m\u001b[43m]\u001b[49m\u001b[43m[\u001b[49m\u001b[43m:\u001b[49m\u001b[43m,\u001b[49m\u001b[43mpos\u001b[49m\u001b[43m]\u001b[49m)\n\u001b[1;32m   1752\u001b[0m norm   \u001b[38;5;241m=\u001b[39m \u001b[38;5;241m0\u001b[39m\n\u001b[1;32m   1753\u001b[0m totalw \u001b[38;5;241m=\u001b[39m \u001b[38;5;241m0\u001b[39m\n",
      "\u001b[0;31mIndexError\u001b[0m: index 2 is out of bounds for axis 1 with size 2"
     ]
    }
   ],
   "source": [
    "AIC_list.avgsample(0.05,2)"
   ]
  },
  {
   "cell_type": "code",
   "execution_count": null,
   "metadata": {},
   "outputs": [
    {
     "data": {
      "text/plain": [
       "array([['double', 1, 16, 1.0, array([[0.90044271, 0.87499689],\n",
       "                                     [0.95290737, 0.87459056],\n",
       "                                     [0.93335635, 0.87357261],\n",
       "                                     ...,\n",
       "                                     [0.93437606, 0.87354579],\n",
       "                                     [0.90272408, 0.87294468],\n",
       "                                     [0.93107115, 0.87352565]]), 641,\n",
       "        array([0.22939065, 0.45124669, 0.82207527, 0.92938347, 0.07644755]),\n",
       "        array([0.24096219, 1.36833721, 0.86910206, 0.1       , 1.        ])],\n",
       "       ['double', 1, 12, 0.7613096911109599,\n",
       "        array([[0.38705824, 0.874247  ],\n",
       "               [0.40251373, 0.87335393],\n",
       "               [0.4031491 , 0.87269885],\n",
       "               ...,\n",
       "               [0.40117985, 0.8726627 ],\n",
       "               [0.33735961, 0.87223527],\n",
       "               [0.41996178, 0.87209129]]), 641,\n",
       "        array([0.23129541, 0.03881321, 0.70486319, 1.33958667, 0.17258139]),\n",
       "        array([0.24136818, 1.3679392 , 0.86904228, 0.1       , 1.        ])],\n",
       "       ['double', 1, 15, 0.36630775369909263,\n",
       "        array([[0.9953082 , 0.87494581],\n",
       "               [1.05294762, 0.87402214],\n",
       "               [1.02799436, 0.87390379],\n",
       "               ...,\n",
       "               [1.02705112, 0.87387109],\n",
       "               [0.9916677 , 0.87285866],\n",
       "               [1.0214815 , 0.872869  ]]), 641,\n",
       "        array([0.22879174, 0.73015692, 0.83794159, 0.65117367, 0.07620151]),\n",
       "        array([0.24093276, 1.36836396, 0.86911578, 0.1       , 1.        ])],\n",
       "       ['single', 1, 16, 0.30624666229431313,\n",
       "        array([[1.26316308, 0.86909054],\n",
       "               [1.3244147 , 0.86912523],\n",
       "               [1.28630381, 0.86910396],\n",
       "               ...,\n",
       "               [1.2787395 , 0.86911352],\n",
       "               [1.25211688, 0.86912078],\n",
       "               [1.27379693, 0.8691027 ]]), 641,\n",
       "        array([0.24096219, 1.36833721, 0.86910206]),\n",
       "        array([0.3, 2. , 2. ])],\n",
       "       ['double', 1, 14, 0.2116745400960312,\n",
       "        array([[0.99974329, 0.87526323],\n",
       "               [1.05123341, 0.87481693],\n",
       "               [1.037679  , 0.87373633],\n",
       "               ...,\n",
       "               [1.06211548, 0.87370148],\n",
       "               [1.00062406, 0.87371609],\n",
       "               [1.03387021, 0.87368771]]), 641,\n",
       "        array([0.22904333, 0.54463185, 0.82814758, 0.83638018, 0.07521558]),\n",
       "        array([0.24091735, 1.36837823, 0.86911958, 0.1       , 1.        ])],\n",
       "       ['single', 1, 12, 0.13607081511628974,\n",
       "        array([[1.14089418, 0.86902913],\n",
       "               [1.17787708, 0.86906312],\n",
       "               [1.15021512, 0.86904518],\n",
       "               ...,\n",
       "               [1.13580087, 0.86905043],\n",
       "               [1.08855254, 0.86906203],\n",
       "               [1.15231989, 0.86904519]]), 641,\n",
       "        array([0.24136818, 1.3679392 , 0.86904228]),\n",
       "        array([0.3, 2. , 2. ])],\n",
       "       ['single', 1, 15, 0.11272246360662379,\n",
       "        array([[1.37210122, 0.86910213],\n",
       "               [1.43775677, 0.86913964],\n",
       "               [1.39366987, 0.86911762],\n",
       "               ...,\n",
       "               [1.38381637, 0.86912546],\n",
       "               [1.35481554, 0.86913522],\n",
       "               [1.37773806, 0.86911762]]), 641,\n",
       "        array([0.24093276, 1.36836396, 0.86911578]),\n",
       "        array([0.3, 2. , 2. ])],\n",
       "       ['single', 1, 14, 0.06145932878678471,\n",
       "        array([[1.42100259, 0.86910672],\n",
       "               [1.48243881, 0.86914294],\n",
       "               [1.44550188, 0.86912136],\n",
       "               ...,\n",
       "               [1.45424219, 0.86912917],\n",
       "               [1.40488622, 0.86913953],\n",
       "               [1.42960412, 0.86912132]]), 641,\n",
       "        array([0.24091735, 1.36837823, 0.86911958]),\n",
       "        array([0.3, 2. , 2. ])],\n",
       "       ['double', 1, 13, 0.04461500897958301,\n",
       "        array([[1.29865029, 0.87109111],\n",
       "               [1.33564479, 0.87118749],\n",
       "               [1.33251088, 0.87117569],\n",
       "               ...,\n",
       "               [1.3599891 , 0.87114653],\n",
       "               [1.23781047, 0.87115205],\n",
       "               [1.31329637, 0.87113842]]), 641,\n",
       "        array([2.35128154e-01, 1.37276942e-03, 4.02217154e-01, 3.39992157e+00,\n",
       "               4.69106703e-01])                                               ,\n",
       "        array([0.2408716 , 1.36844007, 0.8691354 , 0.1       , 1.        ])],\n",
       "       ['single', 1, 13, 0.011238810060864534,\n",
       "        array([[1.69680413, 0.86912246],\n",
       "               [1.76648119, 0.86915803],\n",
       "               [1.74705749, 0.86913944],\n",
       "               ...,\n",
       "               [1.75669775, 0.86914696],\n",
       "               [1.67323748, 0.86915406],\n",
       "               [1.73036222, 0.86913947]]), 641,\n",
       "        array([0.2408716 , 1.36844007, 0.8691354 ]),\n",
       "        array([0.3, 2. , 2. ])]], dtype=object)"
      ]
     },
     "execution_count": 57,
     "metadata": {},
     "output_type": "execute_result"
    }
   ],
   "source": [
    "AIC_list.ordered()"
   ]
  },
  {
   "cell_type": "code",
   "execution_count": null,
   "metadata": {},
   "outputs": [
    {
     "ename": "TypeError",
     "evalue": "plotGc.__init__() missing 4 required positional arguments: 'path', 'norm', 'cutoff', and 'improve'",
     "output_type": "error",
     "traceback": [
      "\u001b[0;31m---------------------------------------------------------------------------\u001b[0m",
      "\u001b[0;31mTypeError\u001b[0m                                 Traceback (most recent call last)",
      "Cell \u001b[0;32mIn[9], line 3\u001b[0m\n\u001b[1;32m      1\u001b[0m path\u001b[38;5;241m=\u001b[39m\u001b[38;5;124m'\u001b[39m\u001b[38;5;124m./\u001b[39m\u001b[38;5;124m'\u001b[39m\n\u001b[1;32m      2\u001b[0m list_data_tpa\u001b[38;5;241m=\u001b[39m[];list_data_effm_f\u001b[38;5;241m=\u001b[39m[];list_data_effm_err_f\u001b[38;5;241m=\u001b[39m[];list_data_tp\u001b[38;5;241m=\u001b[39m[];list_data_effmp\u001b[38;5;241m=\u001b[39m[];list_data_effm_errp\u001b[38;5;241m=\u001b[39m[];list_data_tf\u001b[38;5;241m=\u001b[39m[];list_fitall\u001b[38;5;241m=\u001b[39m[];list_efitall\u001b[38;5;241m=\u001b[39m[];list_data_tpf\u001b[38;5;241m=\u001b[39m[];list_fit\u001b[38;5;241m=\u001b[39m[];list_efit\u001b[38;5;241m=\u001b[39m[]\n\u001b[0;32m----> 3\u001b[0m data_tpa, data_effm_f, data_effm_err_f, data_tp, data_effmp, data_effm_errp, data_tf, fitall, efitall, data_tpf, fit, efit\u001b[38;5;241m=\u001b[39m\u001b[43mplotGc\u001b[49m\u001b[43m(\u001b[49m\u001b[43mdata_t\u001b[49m\u001b[43m,\u001b[49m\u001b[43m \u001b[49m\u001b[43mdata_y\u001b[49m\u001b[43m,\u001b[49m\u001b[43m \u001b[49m\u001b[43mdata_cov\u001b[49m\u001b[43m,\u001b[49m\u001b[43m \u001b[49m\u001b[43mAIC_list\u001b[49m\u001b[43m,\u001b[49m\u001b[43m \u001b[49m\u001b[43mdatatype_Gc\u001b[49m\u001b[43m,\u001b[49m\u001b[43m \u001b[49m\u001b[43mmodel_Gc\u001b[49m\u001b[43m,\u001b[49m\u001b[43m \u001b[49m\u001b[43mmcalls\u001b[49m\u001b[43m,\u001b[49m\u001b[43m \u001b[49m\u001b[43mmtol\u001b[49m\u001b[43m,\u001b[49m\u001b[43m \u001b[49m\u001b[43mreuse\u001b[49m\u001b[43m,\u001b[49m\u001b[43m \u001b[49m\u001b[43minv_first\u001b[49m\u001b[43m,\u001b[49m\u001b[43m \u001b[49m\u001b[43mxi\u001b[49m\u001b[43m[\u001b[49m\u001b[38;5;241;43m0\u001b[39;49m\u001b[43m]\u001b[49m\u001b[43m,\u001b[49m\u001b[43m \u001b[49m\u001b[43mpath\u001b[49m\u001b[43m,\u001b[49m\u001b[38;5;241;43m0\u001b[39;49m\u001b[43m,\u001b[49m\u001b[38;5;241;43m0.05\u001b[39;49m\u001b[43m)\u001b[49m\u001b[38;5;241m.\u001b[39mprepare()  \n\u001b[1;32m      4\u001b[0m list_data_tpa\u001b[38;5;241m.\u001b[39mappend(data_tpa);list_data_effm_f\u001b[38;5;241m.\u001b[39mappend(data_effm_f);list_data_effm_err_f\u001b[38;5;241m.\u001b[39mappend(data_effm_err_f);list_data_tp\u001b[38;5;241m.\u001b[39mappend(data_tp);list_data_effmp\u001b[38;5;241m.\u001b[39mappend(data_effmp);list_data_effm_errp\u001b[38;5;241m.\u001b[39mappend(data_effm_errp);list_data_tf\u001b[38;5;241m.\u001b[39mappend(data_tf);list_fitall\u001b[38;5;241m.\u001b[39mappend(fitall);list_efitall\u001b[38;5;241m.\u001b[39mappend(efitall);list_data_tpf\u001b[38;5;241m.\u001b[39mappend(data_tpf);list_fit\u001b[38;5;241m.\u001b[39mappend(fit);list_efit\u001b[38;5;241m.\u001b[39mappend(efit)\n\u001b[1;32m      7\u001b[0m fig \u001b[38;5;241m=\u001b[39m plt\u001b[38;5;241m.\u001b[39mfigure(figsize\u001b[38;5;241m=\u001b[39m(\u001b[38;5;241m16\u001b[39m,\u001b[38;5;241m9\u001b[39m))\n",
      "\u001b[0;31mTypeError\u001b[0m: plotGc.__init__() missing 4 required positional arguments: 'path', 'norm', 'cutoff', and 'improve'"
     ]
    }
   ],
   "source": [
    "path='./'\n",
    "list_data_tpa=[];list_data_effm_f=[];list_data_effm_err_f=[];list_data_tp=[];list_data_effmp=[];list_data_effm_errp=[];list_data_tf=[];list_fitall=[];list_efitall=[];list_data_tpf=[];list_fit=[];list_efit=[]\n",
    "data_tpa, data_effm_f, data_effm_err_f, data_tp, data_effmp, data_effm_errp, data_tf, fitall, efitall, data_tpf, fit, efit=plotGc(data_t, data_y, data_cov, AIC_list, datatype_Gc, model_Gc, mcalls, mtol, reuse, inv_first, xi[0], path,0,0.05).prepare()  \n",
    "list_data_tpa.append(data_tpa);list_data_effm_f.append(data_effm_f);list_data_effm_err_f.append(data_effm_err_f);list_data_tp.append(data_tp);list_data_effmp.append(data_effmp);list_data_effm_errp.append(data_effm_errp);list_data_tf.append(data_tf);list_fitall.append(fitall);list_efitall.append(efitall);list_data_tpf.append(data_tpf);list_fit.append(fit);list_efit.append(efit)\n",
    "\n",
    "\n",
    "fig = plt.figure(figsize=(16,9))\n",
    "plt.fill_between(data_tf, fitall+efitall, fitall-efitall,color=jpac_blue,alpha=0.1)\n",
    "plt.fill_between(data_tpf, fit+efit, fit-efit,color=jpac_blue,alpha=0.7)\n",
    "if (len(data_tp)>=1):\n",
    "    plt.errorbar(data_tpa, data_effm_f, data_effm_err_f, fmt=\"ok\", alpha=0.3)\n",
    "    plt.errorbar(data_tp, data_effmp, data_effm_errp, fmt=\"ok\")\n",
    "plt.xlabel(\"$t/a_t$\",fontsize=24)\n",
    "plt.yticks(fontsize=18)\n",
    "plt.xticks(fontsize=18)\n",
    "plt.legend(fontsize=16,frameon=False)\n",
    "plt.show(fig)\n",
    "plt.close(fig)"
   ]
  },
  {
   "cell_type": "code",
   "execution_count": null,
   "metadata": {},
   "outputs": [],
   "source": [
    "def compact_eff_m(list_data_tpa, list_data_effm_f, list_data_effm_err_f, list_data_tp, list_data_effmp, list_data_effm_errp, list_data_tf, list_fitall, list_efitall, list_data_tpf, list_fit, list_efit, path, beta, y_lim):   \n",
    "    fig = plt.figure(figsize=(16,9))\n",
    "    for i in range(len(list_data_tpa)):\n",
    "        alphamult=1\n",
    "        data_tf=list_data_tf[i];data_tpf=list_data_tpf[i];fitall=list_fitall[i];efitall=list_efitall[i];fit=list_fit[i];efit=list_efit[i];data_tpa=list_data_tpa[i];\n",
    "        data_tp=list_data_tp[i];data_effm_f=list_data_effm_f[i];data_effmp=list_data_effmp[i];data_effm_err_f=list_data_effm_err_f[i];data_effm_errp=list_data_effm_errp[i]\n",
    "        if (fitall[-1]>y_lim):\n",
    "            alphamult=0\n",
    "        plt.fill_between(data_tf, fitall+efitall, fitall-efitall,color=jpac_color_around[i],alpha=alphamult*0.1)\n",
    "        plt.fill_between(data_tpf, fit+efit, fit-efit,color=jpac_color_around[i],alpha=alphamult*0.7)\n",
    "        if (len(data_tp)>=1):\n",
    "            plt.errorbar(data_tpa, data_effm_f, data_effm_err_f,color=jpac_color_around[i], fmt=\"ok\", alpha=alphamult*0.3)\n",
    "            plt.errorbar(data_tp, data_effmp, data_effm_errp,color=jpac_color_around[i], fmt=\"ok\",alpha=alphamult*1)\n",
    "    plt.xlabel(\"$t/a_t$\",fontsize=24)\n",
    "    plt.ylabel(\"$\\\\beta={}$\".format(beta),fontsize=24, rotation=0, loc='top')\n",
    "    plt.yticks(fontsize=18)\n",
    "    plt.ylim(None,y_lim)\n",
    "    plt.xticks(fontsize=18)\n",
    "    plt.legend(fontsize=16,frameon=False)\n",
    "    #plt.show()\n",
    "    plt.savefig('{}_compact.pdf'.format(path), format=\"pdf\", bbox_inches='tight', pad_inches=0.2)\n",
    "    plt.close(fig)  "
   ]
  },
  {
   "cell_type": "code",
   "execution_count": null,
   "metadata": {},
   "outputs": [
    {
     "name": "stderr",
     "output_type": "stream",
     "text": [
      "/var/folders/6f/lpqhbvqs49j3w6hj241yz3880000gn/T/ipykernel_85424/3905544700.py:12: UserWarning: color is redundantly defined by the 'color' keyword argument and the fmt string \"ok\" (-> color='k'). The keyword argument will take precedence.\n",
      "  plt.errorbar(data_tpa, data_effm_f, data_effm_err_f,color=jpac_color_around[i], fmt=\"ok\", alpha=alphamult*0.3)\n",
      "/var/folders/6f/lpqhbvqs49j3w6hj241yz3880000gn/T/ipykernel_85424/3905544700.py:13: UserWarning: color is redundantly defined by the 'color' keyword argument and the fmt string \"ok\" (-> color='k'). The keyword argument will take precedence.\n",
      "  plt.errorbar(data_tp, data_effmp, data_effm_errp,color=jpac_color_around[i], fmt=\"ok\",alpha=alphamult*1)\n",
      "No artists with labels found to put in legend.  Note that artists whose label start with an underscore are ignored when legend() is called with no argument.\n"
     ]
    },
    {
     "data": {
      "image/png": "[encoded data removed]",
      "text/plain": [
       "<Figure size 1600x900 with 1 Axes>"
      ]
     },
     "metadata": {},
     "output_type": "display_data"
    }
   ],
   "source": [
    "compact_eff_m(list_data_tpa,list_data_effm_f,list_data_effm_err_f,list_data_tp,list_data_effmp,list_data_effm_errp,list_data_tf,list_fitall,list_efitall,list_data_tpf,list_fit,list_efit,'/',2.25,1.)  \n"
   ]
  },
  {
   "cell_type": "code",
   "execution_count": null,
   "metadata": {},
   "outputs": [
    {
     "ename": "KeyboardInterrupt",
     "evalue": "",
     "output_type": "error",
     "traceback": [
      "\u001b[0;31m---------------------------------------------------------------------------\u001b[0m",
      "\u001b[0;31mKeyboardInterrupt\u001b[0m                         Traceback (most recent call last)",
      "Cell \u001b[0;32mIn[10], line 5\u001b[0m\n\u001b[1;32m      3\u001b[0m path\u001b[38;5;241m=\u001b[39m\u001b[38;5;124m'\u001b[39m\u001b[38;5;132;01m{}\u001b[39;00m\u001b[38;5;124m/xi=\u001b[39m\u001b[38;5;132;01m{}\u001b[39;00m\u001b[38;5;124m'\u001b[39m\u001b[38;5;241m.\u001b[39mformat(Gcplotsdir,xi[k])\n\u001b[1;32m      4\u001b[0m result\u001b[38;5;241m=\u001b[39mfitter(datarun[k], sizerun, dini_Gc, dstop_Gc, dmindata_Gc, dfin_Gc, datatype_Gc, model_Gc, inipars_Gc, variants_Gc, mcalls, mtol, reuse, inv_first, multiprocess, cutoff_ma, xi[k], betarun, path, norm)\n\u001b[0;32m----> 5\u001b[0m Vrlistavg, Vrlistsel, worstsel, listfinal , datayf\u001b[38;5;241m=\u001b[39m\u001b[43mresult\u001b[49m\u001b[38;5;241;43m.\u001b[39;49m\u001b[43mjackk_fit\u001b[49m\u001b[43m(\u001b[49m\u001b[43mjackkl\u001b[49m\u001b[43m)\u001b[49m\n\u001b[1;32m      7\u001b[0m AIC_list_final\u001b[38;5;241m.\u001b[39mappend(listfinal)\n\u001b[1;32m      8\u001b[0m \u001b[38;5;66;03m#Store the V(R) data Jackknife results\u001b[39;00m\n",
      "File \u001b[0;32m~/Documents/GitHub/Coulomb_Lattice_analysis/Analysis/stats.py:1041\u001b[0m, in \u001b[0;36mfitter.jackk_fit\u001b[0;34m(self, jackkflag)\u001b[0m\n\u001b[1;32m   1039\u001b[0m varp              \u001b[38;5;241m=\u001b[39m \u001b[38;5;28mself\u001b[39m\u001b[38;5;241m.\u001b[39mvariants[\u001b[38;5;241m0\u001b[39m:lt\u001b[38;5;241m-\u001b[39m\u001b[38;5;241m1\u001b[39m]\n\u001b[1;32m   1040\u001b[0m m                 \u001b[38;5;241m=\u001b[39m Modelsmin( data_t, data_y, data_cov, \u001b[38;5;28mself\u001b[39m\u001b[38;5;241m.\u001b[39mdini, \u001b[38;5;28mself\u001b[39m\u001b[38;5;241m.\u001b[39mdstop, dmindata, dfin, inipp, \u001b[38;5;28mself\u001b[39m\u001b[38;5;241m.\u001b[39mmodel, varp, \u001b[38;5;28mself\u001b[39m\u001b[38;5;241m.\u001b[39mdatatype, \u001b[38;5;28mself\u001b[39m\u001b[38;5;241m.\u001b[39mcalln, \u001b[38;5;28mself\u001b[39m\u001b[38;5;241m.\u001b[39mtol, \u001b[38;5;28mself\u001b[39m\u001b[38;5;241m.\u001b[39mreuse, \u001b[38;5;28mself\u001b[39m\u001b[38;5;241m.\u001b[39minv_first,\u001b[38;5;28mself\u001b[39m\u001b[38;5;241m.\u001b[39mmultiprocess)\n\u001b[0;32m-> 1041\u001b[0m mf                \u001b[38;5;241m=\u001b[39m \u001b[43mm\u001b[49m\u001b[38;5;241;43m.\u001b[39;49m\u001b[43mjackk_minimize\u001b[49m\u001b[43m(\u001b[49m\u001b[43m)\u001b[49m\n\u001b[1;32m   1042\u001b[0m AIC_list          \u001b[38;5;241m=\u001b[39m Jackknife_AIClist(mf)\n\u001b[1;32m   1043\u001b[0m path\u001b[38;5;241m=\u001b[39m\u001b[38;5;124m'\u001b[39m\u001b[38;5;132;01m{}\u001b[39;00m\u001b[38;5;124m/\u001b[39m\u001b[38;5;132;01m{}\u001b[39;00m\u001b[38;5;124m_\u001b[39m\u001b[38;5;132;01m{}\u001b[39;00m\u001b[38;5;124m_\u001b[39m\u001b[38;5;132;01m{}\u001b[39;00m\u001b[38;5;124m_VR_ti\u001b[39m\u001b[38;5;132;01m{}\u001b[39;00m\u001b[38;5;124m_\u001b[39m\u001b[38;5;132;01m{}\u001b[39;00m\u001b[38;5;124m_tfin\u001b[39m\u001b[38;5;132;01m{}\u001b[39;00m\u001b[38;5;124m_tmin\u001b[39m\u001b[38;5;132;01m{}\u001b[39;00m\u001b[38;5;124m_beta=\u001b[39m\u001b[38;5;132;01m{}\u001b[39;00m\u001b[38;5;124m_R=\u001b[39m\u001b[38;5;132;01m{}\u001b[39;00m\u001b[38;5;124m'\u001b[39m\u001b[38;5;241m.\u001b[39mformat(\u001b[38;5;28mself\u001b[39m\u001b[38;5;241m.\u001b[39mpath,\u001b[38;5;28mlen\u001b[39m(varp),\u001b[38;5;28mself\u001b[39m\u001b[38;5;241m.\u001b[39mmodel,\u001b[38;5;28mself\u001b[39m\u001b[38;5;241m.\u001b[39mdatatype,\u001b[38;5;28mself\u001b[39m\u001b[38;5;241m.\u001b[39mdini,\u001b[38;5;28mself\u001b[39m\u001b[38;5;241m.\u001b[39mdstop, dfin, dmindata,\u001b[38;5;28mself\u001b[39m\u001b[38;5;241m.\u001b[39mbeta[k],r\u001b[38;5;241m+\u001b[39m\u001b[38;5;241m1\u001b[39m)\n",
      "File \u001b[0;32m~/Documents/GitHub/Coulomb_Lattice_analysis/Analysis/stats.py:800\u001b[0m, in \u001b[0;36mModelsmin.jackk_minimize\u001b[0;34m(self)\u001b[0m\n\u001b[1;32m    798\u001b[0m     inipp\u001b[38;5;241m=\u001b[39mnp\u001b[38;5;241m.\u001b[39mappend(finp,np\u001b[38;5;241m.\u001b[39marray(\u001b[38;5;28mself\u001b[39m\u001b[38;5;241m.\u001b[39minipars[k][\u001b[38;5;28mlen\u001b[39m(finp):]))\n\u001b[1;32m    799\u001b[0m     m\u001b[38;5;241m=\u001b[39mMinuit_fit(data_tt, np\u001b[38;5;241m.\u001b[39mmean(data_yt,axis\u001b[38;5;241m=\u001b[39m\u001b[38;5;241m0\u001b[39m), np\u001b[38;5;241m.\u001b[39mmean(data_incovt,axis\u001b[38;5;241m=\u001b[39m\u001b[38;5;241m0\u001b[39m), \u001b[38;5;28mself\u001b[39m\u001b[38;5;241m.\u001b[39mcalln, \u001b[38;5;28mself\u001b[39m\u001b[38;5;241m.\u001b[39mtol, inipp, \u001b[38;5;28mself\u001b[39m\u001b[38;5;241m.\u001b[39mmodel,\u001b[38;5;241m1\u001b[39m)\n\u001b[0;32m--> 800\u001b[0m     finp\u001b[38;5;241m=\u001b[39mnp\u001b[38;5;241m.\u001b[39marray(\u001b[43mm\u001b[49m\u001b[38;5;241;43m.\u001b[39;49m\u001b[43mminimize\u001b[49m\u001b[43m(\u001b[49m\u001b[43m)\u001b[49m\u001b[38;5;241m.\u001b[39mvalues)\n\u001b[1;32m    801\u001b[0m     inip\u001b[38;5;241m=\u001b[39mnp\u001b[38;5;241m.\u001b[39mappend(finp,np\u001b[38;5;241m.\u001b[39marray(\u001b[38;5;28mself\u001b[39m\u001b[38;5;241m.\u001b[39minipars[k][\u001b[38;5;28mlen\u001b[39m(finp):]))\n\u001b[1;32m    802\u001b[0m \u001b[38;5;28;01melse\u001b[39;00m:\n",
      "File \u001b[0;32m~/Documents/GitHub/Coulomb_Lattice_analysis/Analysis/stats.py:547\u001b[0m, in \u001b[0;36mMinuit_fit.minimize\u001b[0;34m(self)\u001b[0m\n\u001b[1;32m    544\u001b[0m inifun\u001b[38;5;241m=\u001b[39m\u001b[38;5;28meval\u001b[39m(\u001b[38;5;28mself\u001b[39m\u001b[38;5;241m.\u001b[39mini_fun)\n\u001b[1;32m    546\u001b[0m least_squares_np \u001b[38;5;241m=\u001b[39m EvenBetterLeastSquares(inifun, \u001b[38;5;28mself\u001b[39m\u001b[38;5;241m.\u001b[39mdata_t, \u001b[38;5;28mself\u001b[39m\u001b[38;5;241m.\u001b[39mdata_y, \u001b[38;5;28mself\u001b[39m\u001b[38;5;241m.\u001b[39mdata_incov)\n\u001b[0;32m--> 547\u001b[0m m\u001b[38;5;241m=\u001b[39m\u001b[43mMinuit\u001b[49m\u001b[43m(\u001b[49m\u001b[43mleast_squares_np\u001b[49m\u001b[43m,\u001b[49m\u001b[38;5;241;43m*\u001b[39;49m\u001b[38;5;28;43mself\u001b[39;49m\u001b[38;5;241;43m.\u001b[39;49m\u001b[43mini\u001b[49m\u001b[43m)\u001b[49m   \u001b[38;5;66;03m# pass starting values as a sequence\u001b[39;00m\n\u001b[1;32m    549\u001b[0m \u001b[38;5;28;01mif\u001b[39;00m (\u001b[38;5;28mself\u001b[39m\u001b[38;5;241m.\u001b[39mcalln \u001b[38;5;241m<\u001b[39m \u001b[38;5;241m300\u001b[39m):      \u001b[38;5;66;03m# Make sure there is a decent amount of calls to Minuit, per subroutine\u001b[39;00m\n\u001b[1;32m    550\u001b[0m     ncall\u001b[38;5;241m=\u001b[39m\u001b[38;5;241m300\u001b[39m\n",
      "File \u001b[0;32m/opt/homebrew/lib/python3.11/site-packages/iminuit/minuit.py:618\u001b[0m, in \u001b[0;36mMinuit.__init__\u001b[0;34m(***failed resolving arguments***)\u001b[0m\n\u001b[1;32m    615\u001b[0m     start \u001b[38;5;241m=\u001b[39m np\u001b[38;5;241m.\u001b[39marray(args)\n\u001b[1;32m    616\u001b[0m \u001b[38;5;28;01mdel\u001b[39;00m args\n\u001b[0;32m--> 618\u001b[0m annotated \u001b[38;5;241m=\u001b[39m \u001b[43mmutil\u001b[49m\u001b[38;5;241;43m.\u001b[39;49m\u001b[43mdescribe\u001b[49m\u001b[43m(\u001b[49m\u001b[43mfcn\u001b[49m\u001b[43m,\u001b[49m\u001b[43m \u001b[49m\u001b[43mannotations\u001b[49m\u001b[38;5;241;43m=\u001b[39;49m\u001b[38;5;28;43;01mTrue\u001b[39;49;00m\u001b[43m)\u001b[49m\n\u001b[1;32m    619\u001b[0m \u001b[38;5;28;01mif\u001b[39;00m name \u001b[38;5;129;01mis\u001b[39;00m \u001b[38;5;28;01mNone\u001b[39;00m:\n\u001b[1;32m    620\u001b[0m     name \u001b[38;5;241m=\u001b[39m \u001b[38;5;28mlist\u001b[39m(annotated)\n",
      "File \u001b[0;32m/opt/homebrew/lib/python3.11/site-packages/iminuit/util.py:1229\u001b[0m, in \u001b[0;36mdescribe\u001b[0;34m(callable, annotations)\u001b[0m\n\u001b[1;32m   1223\u001b[0m \u001b[38;5;28;01mif\u001b[39;00m _address_of_cfunc(\u001b[38;5;28mcallable\u001b[39m) \u001b[38;5;241m!=\u001b[39m \u001b[38;5;241m0\u001b[39m:\n\u001b[1;32m   1224\u001b[0m     \u001b[38;5;28;01mreturn\u001b[39;00m {} \u001b[38;5;28;01mif\u001b[39;00m annotations \u001b[38;5;28;01melse\u001b[39;00m []\n\u001b[1;32m   1226\u001b[0m args \u001b[38;5;241m=\u001b[39m (\n\u001b[1;32m   1227\u001b[0m     \u001b[38;5;28mgetattr\u001b[39m(\u001b[38;5;28mcallable\u001b[39m, \u001b[38;5;124m\"\u001b[39m\u001b[38;5;124m_parameters\u001b[39m\u001b[38;5;124m\"\u001b[39m, {})\n\u001b[1;32m   1228\u001b[0m     \u001b[38;5;129;01mor\u001b[39;00m _arguments_from_func_code(\u001b[38;5;28mcallable\u001b[39m)\n\u001b[0;32m-> 1229\u001b[0m     \u001b[38;5;129;01mor\u001b[39;00m \u001b[43m_parameters_from_inspect\u001b[49m\u001b[43m(\u001b[49m\u001b[38;5;28;43mcallable\u001b[39;49m\u001b[43m)\u001b[49m\n\u001b[1;32m   1230\u001b[0m     \u001b[38;5;129;01mor\u001b[39;00m _arguments_from_docstring(\u001b[38;5;28mcallable\u001b[39m)\n\u001b[1;32m   1231\u001b[0m )\n\u001b[1;32m   1233\u001b[0m \u001b[38;5;28;01mif\u001b[39;00m annotations:\n\u001b[1;32m   1234\u001b[0m     \u001b[38;5;28;01mreturn\u001b[39;00m args\n",
      "File \u001b[0;32m/opt/homebrew/lib/python3.11/site-packages/iminuit/util.py:1300\u001b[0m, in \u001b[0;36m_parameters_from_inspect\u001b[0;34m(callable)\u001b[0m\n\u001b[1;32m   1298\u001b[0m \u001b[38;5;28;01mdef\u001b[39;00m \u001b[38;5;21m_parameters_from_inspect\u001b[39m(\u001b[38;5;28mcallable\u001b[39m):\n\u001b[1;32m   1299\u001b[0m     \u001b[38;5;28;01mtry\u001b[39;00m:\n\u001b[0;32m-> 1300\u001b[0m         signature \u001b[38;5;241m=\u001b[39m \u001b[43minspect\u001b[49m\u001b[38;5;241;43m.\u001b[39;49m\u001b[43msignature\u001b[49m\u001b[43m(\u001b[49m\u001b[38;5;28;43mcallable\u001b[39;49m\u001b[43m)\u001b[49m\n\u001b[1;32m   1301\u001b[0m     \u001b[38;5;28;01mexcept\u001b[39;00m \u001b[38;5;167;01mValueError\u001b[39;00m:  \u001b[38;5;66;03m# raised when used on built-in function\u001b[39;00m\n\u001b[1;32m   1302\u001b[0m         \u001b[38;5;28;01mreturn\u001b[39;00m {}\n",
      "File \u001b[0;32m/opt/homebrew/Cellar/python@3.11/3.11.7_1/Frameworks/Python.framework/Versions/3.11/lib/python3.11/inspect.py:3280\u001b[0m, in \u001b[0;36msignature\u001b[0;34m(obj, follow_wrapped, globals, locals, eval_str)\u001b[0m\n\u001b[1;32m   3278\u001b[0m \u001b[38;5;28;01mdef\u001b[39;00m \u001b[38;5;21msignature\u001b[39m(obj, \u001b[38;5;241m*\u001b[39m, follow_wrapped\u001b[38;5;241m=\u001b[39m\u001b[38;5;28;01mTrue\u001b[39;00m, \u001b[38;5;28mglobals\u001b[39m\u001b[38;5;241m=\u001b[39m\u001b[38;5;28;01mNone\u001b[39;00m, \u001b[38;5;28mlocals\u001b[39m\u001b[38;5;241m=\u001b[39m\u001b[38;5;28;01mNone\u001b[39;00m, eval_str\u001b[38;5;241m=\u001b[39m\u001b[38;5;28;01mFalse\u001b[39;00m):\n\u001b[1;32m   3279\u001b[0m \u001b[38;5;250m    \u001b[39m\u001b[38;5;124;03m\"\"\"Get a signature object for the passed callable.\"\"\"\u001b[39;00m\n\u001b[0;32m-> 3280\u001b[0m     \u001b[38;5;28;01mreturn\u001b[39;00m \u001b[43mSignature\u001b[49m\u001b[38;5;241;43m.\u001b[39;49m\u001b[43mfrom_callable\u001b[49m\u001b[43m(\u001b[49m\u001b[43mobj\u001b[49m\u001b[43m,\u001b[49m\u001b[43m \u001b[49m\u001b[43mfollow_wrapped\u001b[49m\u001b[38;5;241;43m=\u001b[39;49m\u001b[43mfollow_wrapped\u001b[49m\u001b[43m,\u001b[49m\n\u001b[1;32m   3281\u001b[0m \u001b[43m                                   \u001b[49m\u001b[38;5;28;43mglobals\u001b[39;49m\u001b[38;5;241;43m=\u001b[39;49m\u001b[38;5;28;43mglobals\u001b[39;49m\u001b[43m,\u001b[49m\u001b[43m \u001b[49m\u001b[38;5;28;43mlocals\u001b[39;49m\u001b[38;5;241;43m=\u001b[39;49m\u001b[38;5;28;43mlocals\u001b[39;49m\u001b[43m,\u001b[49m\u001b[43m \u001b[49m\u001b[43meval_str\u001b[49m\u001b[38;5;241;43m=\u001b[39;49m\u001b[43meval_str\u001b[49m\u001b[43m)\u001b[49m\n",
      "File \u001b[0;32m/opt/homebrew/Cellar/python@3.11/3.11.7_1/Frameworks/Python.framework/Versions/3.11/lib/python3.11/inspect.py:3028\u001b[0m, in \u001b[0;36mSignature.from_callable\u001b[0;34m(cls, obj, follow_wrapped, globals, locals, eval_str)\u001b[0m\n\u001b[1;32m   3024\u001b[0m \u001b[38;5;129m@classmethod\u001b[39m\n\u001b[1;32m   3025\u001b[0m \u001b[38;5;28;01mdef\u001b[39;00m \u001b[38;5;21mfrom_callable\u001b[39m(\u001b[38;5;28mcls\u001b[39m, obj, \u001b[38;5;241m*\u001b[39m,\n\u001b[1;32m   3026\u001b[0m                   follow_wrapped\u001b[38;5;241m=\u001b[39m\u001b[38;5;28;01mTrue\u001b[39;00m, \u001b[38;5;28mglobals\u001b[39m\u001b[38;5;241m=\u001b[39m\u001b[38;5;28;01mNone\u001b[39;00m, \u001b[38;5;28mlocals\u001b[39m\u001b[38;5;241m=\u001b[39m\u001b[38;5;28;01mNone\u001b[39;00m, eval_str\u001b[38;5;241m=\u001b[39m\u001b[38;5;28;01mFalse\u001b[39;00m):\n\u001b[1;32m   3027\u001b[0m \u001b[38;5;250m    \u001b[39m\u001b[38;5;124;03m\"\"\"Constructs Signature for the given callable object.\"\"\"\u001b[39;00m\n\u001b[0;32m-> 3028\u001b[0m     \u001b[38;5;28;01mreturn\u001b[39;00m \u001b[43m_signature_from_callable\u001b[49m\u001b[43m(\u001b[49m\u001b[43mobj\u001b[49m\u001b[43m,\u001b[49m\u001b[43m \u001b[49m\u001b[43msigcls\u001b[49m\u001b[38;5;241;43m=\u001b[39;49m\u001b[38;5;28;43mcls\u001b[39;49m\u001b[43m,\u001b[49m\n\u001b[1;32m   3029\u001b[0m \u001b[43m                                    \u001b[49m\u001b[43mfollow_wrapper_chains\u001b[49m\u001b[38;5;241;43m=\u001b[39;49m\u001b[43mfollow_wrapped\u001b[49m\u001b[43m,\u001b[49m\n\u001b[1;32m   3030\u001b[0m \u001b[43m                                    \u001b[49m\u001b[38;5;28;43mglobals\u001b[39;49m\u001b[38;5;241;43m=\u001b[39;49m\u001b[38;5;28;43mglobals\u001b[39;49m\u001b[43m,\u001b[49m\u001b[43m \u001b[49m\u001b[38;5;28;43mlocals\u001b[39;49m\u001b[38;5;241;43m=\u001b[39;49m\u001b[38;5;28;43mlocals\u001b[39;49m\u001b[43m,\u001b[49m\u001b[43m \u001b[49m\u001b[43meval_str\u001b[49m\u001b[38;5;241;43m=\u001b[39;49m\u001b[43meval_str\u001b[49m\u001b[43m)\u001b[49m\n",
      "File \u001b[0;32m/opt/homebrew/Cellar/python@3.11/3.11.7_1/Frameworks/Python.framework/Versions/3.11/lib/python3.11/inspect.py:2601\u001b[0m, in \u001b[0;36m_signature_from_callable\u001b[0;34m(obj, follow_wrapper_chains, skip_bound_arg, globals, locals, eval_str, sigcls)\u001b[0m\n\u001b[1;32m   2599\u001b[0m \u001b[38;5;28;01mif\u001b[39;00m call \u001b[38;5;129;01mis\u001b[39;00m \u001b[38;5;129;01mnot\u001b[39;00m \u001b[38;5;28;01mNone\u001b[39;00m:\n\u001b[1;32m   2600\u001b[0m     \u001b[38;5;28;01mtry\u001b[39;00m:\n\u001b[0;32m-> 2601\u001b[0m         sig \u001b[38;5;241m=\u001b[39m \u001b[43m_get_signature_of\u001b[49m\u001b[43m(\u001b[49m\u001b[43mcall\u001b[49m\u001b[43m)\u001b[49m\n\u001b[1;32m   2602\u001b[0m     \u001b[38;5;28;01mexcept\u001b[39;00m \u001b[38;5;167;01mValueError\u001b[39;00m \u001b[38;5;28;01mas\u001b[39;00m ex:\n\u001b[1;32m   2603\u001b[0m         msg \u001b[38;5;241m=\u001b[39m \u001b[38;5;124m'\u001b[39m\u001b[38;5;124mno signature found for \u001b[39m\u001b[38;5;132;01m{!r}\u001b[39;00m\u001b[38;5;124m'\u001b[39m\u001b[38;5;241m.\u001b[39mformat(obj)\n",
      "File \u001b[0;32m/opt/homebrew/Cellar/python@3.11/3.11.7_1/Frameworks/Python.framework/Versions/3.11/lib/python3.11/inspect.py:2516\u001b[0m, in \u001b[0;36m_signature_from_callable\u001b[0;34m(obj, follow_wrapper_chains, skip_bound_arg, globals, locals, eval_str, sigcls)\u001b[0m\n\u001b[1;32m   2511\u001b[0m             \u001b[38;5;28;01mreturn\u001b[39;00m sig\u001b[38;5;241m.\u001b[39mreplace(parameters\u001b[38;5;241m=\u001b[39mnew_params)\n\u001b[1;32m   2513\u001b[0m \u001b[38;5;28;01mif\u001b[39;00m isfunction(obj) \u001b[38;5;129;01mor\u001b[39;00m _signature_is_functionlike(obj):\n\u001b[1;32m   2514\u001b[0m     \u001b[38;5;66;03m# If it's a pure Python function, or an object that is duck type\u001b[39;00m\n\u001b[1;32m   2515\u001b[0m     \u001b[38;5;66;03m# of a Python function (Cython functions, for instance), then:\u001b[39;00m\n\u001b[0;32m-> 2516\u001b[0m     \u001b[38;5;28;01mreturn\u001b[39;00m \u001b[43m_signature_from_function\u001b[49m\u001b[43m(\u001b[49m\u001b[43msigcls\u001b[49m\u001b[43m,\u001b[49m\u001b[43m \u001b[49m\u001b[43mobj\u001b[49m\u001b[43m,\u001b[49m\n\u001b[1;32m   2517\u001b[0m \u001b[43m                                    \u001b[49m\u001b[43mskip_bound_arg\u001b[49m\u001b[38;5;241;43m=\u001b[39;49m\u001b[43mskip_bound_arg\u001b[49m\u001b[43m,\u001b[49m\n\u001b[1;32m   2518\u001b[0m \u001b[43m                                    \u001b[49m\u001b[38;5;28;43mglobals\u001b[39;49m\u001b[38;5;241;43m=\u001b[39;49m\u001b[38;5;28;43mglobals\u001b[39;49m\u001b[43m,\u001b[49m\u001b[43m \u001b[49m\u001b[38;5;28;43mlocals\u001b[39;49m\u001b[38;5;241;43m=\u001b[39;49m\u001b[38;5;28;43mlocals\u001b[39;49m\u001b[43m,\u001b[49m\u001b[43m \u001b[49m\u001b[43meval_str\u001b[49m\u001b[38;5;241;43m=\u001b[39;49m\u001b[43meval_str\u001b[49m\u001b[43m)\u001b[49m\n\u001b[1;32m   2520\u001b[0m \u001b[38;5;28;01mif\u001b[39;00m _signature_is_builtin(obj):\n\u001b[1;32m   2521\u001b[0m     \u001b[38;5;28;01mreturn\u001b[39;00m _signature_from_builtin(sigcls, obj,\n\u001b[1;32m   2522\u001b[0m                                    skip_bound_arg\u001b[38;5;241m=\u001b[39mskip_bound_arg)\n",
      "File \u001b[0;32m/opt/homebrew/Cellar/python@3.11/3.11.7_1/Frameworks/Python.framework/Versions/3.11/lib/python3.11/inspect.py:2377\u001b[0m, in \u001b[0;36m_signature_from_function\u001b[0;34m(cls, func, skip_bound_arg, globals, locals, eval_str)\u001b[0m\n\u001b[1;32m   2375\u001b[0m \u001b[38;5;28;01mfor\u001b[39;00m name \u001b[38;5;129;01min\u001b[39;00m positional[:non_default_count]:\n\u001b[1;32m   2376\u001b[0m     kind \u001b[38;5;241m=\u001b[39m _POSITIONAL_ONLY \u001b[38;5;28;01mif\u001b[39;00m posonly_left \u001b[38;5;28;01melse\u001b[39;00m _POSITIONAL_OR_KEYWORD\n\u001b[0;32m-> 2377\u001b[0m     annotation \u001b[38;5;241m=\u001b[39m annotations\u001b[38;5;241m.\u001b[39mget(name, _empty)\n\u001b[1;32m   2378\u001b[0m     parameters\u001b[38;5;241m.\u001b[39mappend(Parameter(name, annotation\u001b[38;5;241m=\u001b[39mannotation,\n\u001b[1;32m   2379\u001b[0m                                 kind\u001b[38;5;241m=\u001b[39mkind))\n\u001b[1;32m   2380\u001b[0m     \u001b[38;5;28;01mif\u001b[39;00m posonly_left:\n",
      "\u001b[0;31mKeyboardInterrupt\u001b[0m: "
     ]
    }
   ],
   "source": [
    "AIC_list_final=[]\n",
    "for k in range(len(datarun)):\n",
    "    path='{}/xi={}'.format(Gcplotsdir,xi[k])\n",
    "    result=fitter(datarun[k], sizerun, dini_Gc, dstop_Gc, dmindata_Gc, dfin_Gc, datatype_Gc, model_Gc, inipars_Gc, variants_Gc, mcalls, mtol, reuse, inv_first, multiprocess, cutoff_ma, xi[k], betarun, path, norm)\n",
    "    Vrlistavg, Vrlistsel, worstsel, listfinal , datayf=result.jackk_fit(jackkl)\n",
    "    \n",
    "    AIC_list_final.append(listfinal)\n",
    "    #Store the V(R) data Jackknife results\n",
    "    Vrf=[]\n",
    "    for i in range(len(datarun[k])):\n",
    "        Vrf.append(jackknife(Vrlistavg[i]).up())\n",
    "        np.savetxt('{}{}/{}_{}_{}_VR_ti{}_{}_tfin{}_tmin{}_cut{}_beta={}.dat'.format(resultspath,xi[k],len(variants_Gc),model_Gc,datatype_Gc,diini,distop,dfin_Gc,dmindata_Gc,cutoff_ma,betarun[i]), jackknife(Vrlistavg[i]).up())\n",
    "        np.savetxt('{}{}/{}_{}_{}_worstsel_ti{}_{}_tfin{}_tmin{}_cut{}_beta={}.dat'.format(resultspath,xi[k],len(variants_Gc),model_Gc,datatype_Gc,diini,distop,dfin_Gc,dmindata_Gc,cutoff_ma,betarun[i]), [worstsel[i]])"
   ]
  },
  {
   "cell_type": "code",
   "execution_count": null,
   "metadata": {},
   "outputs": [
    {
     "data": {
      "text/plain": [
       "390"
      ]
     },
     "execution_count": 21,
     "metadata": {},
     "output_type": "execute_result"
    }
   ],
   "source": [
    "Vrlistavg[0]"
   ]
  },
  {
   "cell_type": "code",
   "execution_count": null,
   "metadata": {},
   "outputs": [
    {
     "data": {
      "text/plain": [
       "array([ 1.73627544e-05,  1.47821601e-05,  2.14282328e-05,  1.27224965e-05,\n",
       "       -1.16650762e-06,  2.83472708e-06,  4.95481669e-05,  1.78086539e-05,\n",
       "        2.95540189e-06, -1.10540051e-06, -1.51464609e-06, -2.17605761e-06])"
      ]
     },
     "execution_count": 28,
     "metadata": {},
     "output_type": "execute_result"
    }
   ],
   "source": [
    "data_cov[5][0]"
   ]
  },
  {
   "cell_type": "code",
   "execution_count": null,
   "metadata": {},
   "outputs": [
    {
     "data": {
      "text/plain": [
       "array([ 1.73614961e-05,  1.47454032e-05,  2.15176205e-05,  1.28085506e-05,\n",
       "       -1.23050425e-06,  2.93905736e-06,  4.96501323e-05,  1.82315080e-05,\n",
       "        3.28429434e-06, -1.15971090e-06, -1.52389336e-06, -2.21076442e-06])"
      ]
     },
     "execution_count": 25,
     "metadata": {},
     "output_type": "execute_result"
    }
   ],
   "source": [
    "data_cov_rescaled[0]"
   ]
  },
  {
   "cell_type": "code",
   "execution_count": null,
   "metadata": {},
   "outputs": [
    {
     "data": {
      "text/plain": [
       "0.0009395923883057308"
      ]
     },
     "execution_count": 41,
     "metadata": {},
     "output_type": "execute_result"
    }
   ],
   "source": [
    "diagn=6\n",
    "jackknife(Vdat,jackkl).scov()[0][diagn][diagn]"
   ]
  },
  {
   "cell_type": "code",
   "execution_count": null,
   "metadata": {},
   "outputs": [
    {
     "data": {
      "text/plain": [
       "0.01615547635703422"
      ]
     },
     "execution_count": 42,
     "metadata": {},
     "output_type": "execute_result"
    }
   ],
   "source": [
    "jackknife(jackknife(Vdat_rescaled,jackkl).sample()).upcov()[diagn][diagn]"
   ]
  },
  {
   "cell_type": "code",
   "execution_count": null,
   "metadata": {},
   "outputs": [
    {
     "name": "stdout",
     "output_type": "stream",
     "text": [
      "xi=1, beta=225\n"
     ]
    }
   ],
   "source": [
    "multistart = 10\n",
    "improve    = 0\n",
    "\n",
    "datarun=[]\n",
    "dataint  = data[xiini:xifin+1]\n",
    "xirun    = xi[xiini:xifin+1]\n",
    "for i in range(len(dataint)):\n",
    "    datarun.append(dataint[i][fileini:filefin+1])\n",
    "\n",
    "sizerun  = size[fileini:filefin+1]\n",
    "betarun  = beta[fileini:filefin+1]\n",
    "\n",
    "VRchisq2dof = []\n",
    "worstsel=[]\n",
    "\n",
    "for k in range(len(datarun)):\n",
    "    for i in range(len(datarun[0])): \n",
    "        print (\"xi={}, beta={}\".format(xirun[k],betarun[i]))\n",
    "        worstsel.append(np.loadtxt('{}{}/{}_{}_{}_worstsel_ti{}_{}_tfin{}_tmin{}_cut{}_beta={}_{}.dat'.format(resultspath,xirun[k],len(variants_Gc),model_Gc,datatype_Gc,diini,distop,dfin_Gc,dmindata_Gc,cutoff_ma,betarun[i],corrtype)))\n",
    "        Vdat=np.loadtxt('{}{}/{}_{}_{}_VR_ti{}_{}_tfin{}_tmin{}_cut{}_beta={}_{}.dat'.format(resultspath,xirun[k],len(variants_Gc),model_Gc,datatype_Gc,diini,distop,dfin_Gc,dmindata_Gc,cutoff_ma,betarun[i],corrtype))\n",
    "        Vdat_rescaled=np.loadtxt('{}{}/{}_{}_{}_VR_rescaled_ti{}_{}_tfin{}_tmin{}_cut{}_beta={}_{}.dat'.format(resultspath,xirun[k],len(variants_Gc),model_Gc,datatype_Gc,diini,distop,dfin_Gc,dmindata_Gc,cutoff_ma,betarun[i],corrtype))\n",
    "        jackkl=len(Vdat)\n",
    "        lt=len(Vdat[i])\n",
    "\n",
    "        data_t     = np.linspace(1, lt, lt)\n",
    "        data_y     = jackknife(Vdat,jackkl).sample()\n",
    "        data_cov   = jackknife(Vdat,jackkl).scov()\n",
    "        data_cov_rescaled = jackknife(jackknife(Vdat_rescaled,jackkl).sample()).upcov()\n",
    "\n",
    "        m=Modelsmin( data_t, data_y, data_cov, dini_Vr, dstop_Vr, dmindata_Vr, dfin_Vr, inipars_Vr, model_Vr, variants_Vr, datatype_Vr, mcalls, mtol, reuse, inv_first, multiprocess, cov_freeze, improve, multistart, data_cov_rescaled)\n",
    "        mf=m.jackk_minimize()\n",
    "        AIC_list=Jackknife_AIClist(mf)\n",
    "        VRchisq2dof.append(ensemble_stat(AIC_list.ordered()[0,4][:,0]).mean())\n",
    "        dummy, sigma_rescaled=AIC_list.avgsample(cutoff_ma,3)\n",
    "        #np.savetxt('{}{}/{}_{}_{}_fits_VR_rmin{}_{}_rfin{}_beta={}_{}.dat'.format(resultspath,xirun[k],len(variants_Gc),model_Gc,datatype_Gc,dini_Vr,dstop_Vr,dfin_Vr,betarun[i],corrtype),np.append(AIC_list.ordered()[0,1:3],[AIC_list.selval()[0:2],AIC_list.avgval(cutoff_ma)[0:2]]))\n",
    "        #np.savetxt('{}{}/{}_{}_{}_sigma_rmin{}_{}_rfin{}_beta={}_{}.dat'.format(resultspath,xirun[k],len(variants_Gc),model_Gc,datatype_Gc,dini_Vr,dstop_Vr,dfin_Vr,betarun[i],corrtype),[AIC_list.avgval(cutoff_ma)[0][2],AIC_list.avgval(cutoff_ma)[1][2]])\n",
    "        #np.savetxt('{}{}/{}_{}_{}_sigma_rmin{}_{}_rfin{}_beta={}_jackknife_{}.dat'.format(resultspath,xirun[k],len(variants_Gc),model_Gc,datatype_Gc,dini_Vr,dstop_Vr,dfin_Vr,betarun[i],corrtype),jackknife(sigma_rescaled).up())\n",
    "\n",
    "        #dataV=np.array([AIC_list.selval()[2],AIC_list.avgval(cutoff_ma)[2]])\n",
    "        #with open('{}{}/{}_{}_{}_corrs_VR_rmin{}_{}_rfin{}_beta={}_{}.dat'.format(resultspath,xirun[k],len(variants_Gc),model_Gc,datatype_Gc,dini_Vr,dstop_Vr,dfin_Vr,betarun[i],corrtype), 'w') as outfile:\n",
    "        #    outfile.write('# Model selection/average corrs:\\n')\n",
    "        #    for data_slice in dataV:\n",
    "        #        np.savetxt(outfile, data_slice)\n",
    "\n",
    "\n",
    "#with open('{}/{}_{}_{}_labels_rmin{}_{}_rfin{}_{}.dat'.format(resultsdir,len(variants_Gc),model_Gc,datatype_Gc,dini_Vr,dstop_Vr,dfin_Vr,corrtype), 'w') as outfile:\n",
    "#    for k in range(len(datarun)):\n",
    "#        for i in range(len(datarun[0])):\n",
    "#            outfile.write(\"$\\\\beta$={} $\\\\chi^2/$dof={:.1f}, {:.1f}\\n\".format(betarun[i]/betanorm,worstsel[i+k*len(datarun[0])],VRchisq2dof[i+k*len(datarun[0])]))"
   ]
  },
  {
   "cell_type": "code",
   "execution_count": null,
   "metadata": {},
   "outputs": [
    {
     "data": {
      "text/plain": [
       "array([['VR_a', 1, 10, 1.0,\n",
       "        array([[0.25670639, 0.13700075, 0.47575101, 0.1881373 ],\n",
       "               [0.26293518, 0.13612558, 0.47515751, 0.18823066],\n",
       "               [0.27076774, 0.13635908, 0.47506754, 0.18829673],\n",
       "               ...,\n",
       "               [0.26105151, 0.13600034, 0.47515808, 0.18821835],\n",
       "               [0.27500043, 0.13609538, 0.47521539, 0.1882123 ],\n",
       "               [0.26635118, 0.13650287, 0.4752473 , 0.18825545]]), 2000,\n",
       "        array([-0.13627746, -0.47528653,  0.18821117]),\n",
       "        array([-0.13627746, -0.47528653,  0.18821117])],\n",
       "       ['VR_a', 1, 9, 0.4727392866809261,\n",
       "        array([[0.22017804, 0.13633493, 0.47516605, 0.18825911],\n",
       "               [0.22401646, 0.13544553, 0.47456004, 0.18835507],\n",
       "               [0.22276718, 0.13563761, 0.47443367, 0.18842872],\n",
       "               ...,\n",
       "               [0.21972546, 0.13531174, 0.4745531 , 0.18834432],\n",
       "               [0.22465724, 0.13536219, 0.47457123, 0.18834643],\n",
       "               [0.2281482 , 0.13582342, 0.47465035, 0.18837976]]), 2000,\n",
       "        array([-0.1355939 , -0.47468598,  0.18833622]),\n",
       "        array([-0.1355939 , -0.47468598,  0.18833622])],\n",
       "       ['VR_a', 2, 10, 0.4538115793107191,\n",
       "        array([[0.22704805, 0.36868168, 0.58710051, 0.17676258],\n",
       "               [0.23556224, 0.36580338, 0.58554427, 0.17695428],\n",
       "               [0.24850515, 0.35981524, 0.58246408, 0.17732581],\n",
       "               ...,\n",
       "               [0.23678689, 0.36009003, 0.58285911, 0.17721632],\n",
       "               [0.25064496, 0.36414377, 0.58481903, 0.17701592],\n",
       "               [0.24055204, 0.36455469, 0.58485259, 0.1770589 ]]), 2000,\n",
       "        array([-0.36397911, -0.58472352,  0.17703181]),\n",
       "        array([-0.36397911, -0.58472352,  0.17703181])],\n",
       "       ['VR_a', 3, 10, 0.23182694484216226,\n",
       "        array([[0.14425237, 1.24593443, 1.00670475, 0.13436383],\n",
       "               [0.14854598, 1.26309304, 1.01473249, 0.13358712],\n",
       "               [0.16334172, 1.25956252, 1.01282782, 0.13383987],\n",
       "               ...,\n",
       "               [0.15253599, 1.24890911, 1.00799571, 0.13425856],\n",
       "               [0.16433618, 1.26912398, 1.01768576, 0.13327707],\n",
       "               [0.1491223 , 1.27976599, 1.02261302, 0.13282557]]), 2000,\n",
       "        array([1.25183651, 1.00940014, 0.13412053]),\n",
       "        array([1.25183651, 1.00940014, 0.13412053])],\n",
       "       ['VR_a', 2, 9, 0.21373171228184845,\n",
       "        array([[0.17876872, 0.36603966, 0.58556782, 0.17698071],\n",
       "               [0.18489019, 0.36310424, 0.58397844, 0.17717713],\n",
       "               [0.18800525, 0.35694985, 0.58080181, 0.17756239],\n",
       "               ...,\n",
       "               [0.18382949, 0.35735619, 0.58127315, 0.17744204],\n",
       "               [0.18697298, 0.36123195, 0.58312982, 0.17725633],\n",
       "               [0.19104166, 0.36185781, 0.58328807, 0.17728157]]), 2000,\n",
       "        array([-0.36126577, -0.58314946,  0.17725584]),\n",
       "        array([-0.36126577, -0.58314946,  0.17725584])],\n",
       "       ['VR_a', 1, 8, 0.20594604000480016,\n",
       "        array([[0.19761727, 0.13757153, 0.47680564, 0.18784981],\n",
       "               [0.19776035, 0.13672289, 0.47625368, 0.18793228],\n",
       "               [0.19889706, 0.13689105, 0.4760956 , 0.18801384],\n",
       "               ...,\n",
       "               [0.1981387 , 0.13653841, 0.47617953, 0.18793831],\n",
       "               [0.19631038, 0.13665934, 0.47629111, 0.18791709],\n",
       "               [0.19738153, 0.13714787, 0.47640644, 0.18794137]]), 2000,\n",
       "        array([-0.13684004, -0.47633822,  0.18792376]),\n",
       "        array([-0.13684004, -0.47633822,  0.18792376])],\n",
       "       ['VR_a', 3, 9, 0.10846193932836798,\n",
       "        array([[0.06639415, 1.23461416, 1.00102479, 0.13500016],\n",
       "               [0.06678509, 1.25152818, 1.0089298 , 0.1342372 ],\n",
       "               [0.06997455, 1.24727583, 1.00666295, 0.13453053],\n",
       "               ...,\n",
       "               [0.06862089, 1.23719198, 1.00211661, 0.1349172 ],\n",
       "               [0.06679608, 1.25663653, 1.01142016, 0.13397901],\n",
       "               [0.06777372, 1.26821419, 1.01681688, 0.13347492]]), 2000,\n",
       "        array([1.24020828, 1.00356565, 0.13477417]),\n",
       "        array([1.24020828, 1.00356565, 0.13477417])],\n",
       "       ['VR_a', 2, 8, 0.08781700188003251,\n",
       "        array([[0.16975936, 0.33619042, 0.572076  , 0.17816134],\n",
       "               [0.17256435, 0.33193707, 0.56989092, 0.17840989],\n",
       "               [0.17836283, 0.32629382, 0.56694532, 0.17877493],\n",
       "               ...,\n",
       "               [0.17622036, 0.3275445 , 0.5677983 , 0.17862119],\n",
       "               [0.17263332, 0.32939732, 0.56874061, 0.17851549],\n",
       "               [0.17449399, 0.32919355, 0.56852386, 0.17857354]]), 2000,\n",
       "        array([-0.33098464, -0.56946242,  0.17845355]),\n",
       "        array([-0.33098464, -0.56946242,  0.17845355])],\n",
       "       ['VR_a', 1, 7, 0.08763183812178464,\n",
       "        array([[0.17653468, 0.13788503, 0.4773206 , 0.18771315],\n",
       "               [0.17500741, 0.13704017, 0.47677483, 0.18779397],\n",
       "               [0.17148408, 0.13721901, 0.4766343 , 0.18787088],\n",
       "               ...,\n",
       "               [0.17284712, 0.13686142, 0.4767101 , 0.18779751],\n",
       "               [0.17647528, 0.13696932, 0.47680028, 0.18778197],\n",
       "               [0.17001848, 0.13747493, 0.47694364, 0.18779881]]), 2000,\n",
       "        array([-0.13715857, -0.47686143,  0.18778492]),\n",
       "        array([-0.13715857, -0.47686143,  0.18778492])],\n",
       "       ['VR_a', 1, 6, 0.044044749123837976,\n",
       "        array([[0.02476665, 0.06776042, 0.38399336, 0.21102656],\n",
       "               [0.0240829 , 0.06714109, 0.38374776, 0.2110324 ],\n",
       "               [0.02213642, 0.06778097, 0.3842208 , 0.21095604],\n",
       "               ...,\n",
       "               [0.02354089, 0.06735399, 0.38420426, 0.21090573],\n",
       "               [0.02483091, 0.0668686 , 0.38350484, 0.21108743],\n",
       "               [0.02095176, 0.06816637, 0.38470248, 0.21084092]]), 2000,\n",
       "        array([0.06746341, 0.38410574, 0.21095555]),\n",
       "        array([0.06746341, 0.38410574, 0.21095555])],\n",
       "       ['VR_a', 3, 8, 0.03991987874217605,\n",
       "        array([[0.0881856 , 1.26462268, 1.01530972, 0.1335727 ],\n",
       "               [0.08891176, 1.2704411 , 1.0179329 , 0.13333754],\n",
       "               [0.09296728, 1.27693739, 1.02078272, 0.13311958],\n",
       "               ...,\n",
       "               [0.0909418 , 1.27545674, 1.02033177, 0.13309701],\n",
       "               [0.08901382, 1.26786776, 1.01676656, 0.13344476],\n",
       "               [0.09036107, 1.27142473, 1.01834519, 0.1333222 ]]), 2000,\n",
       "        array([1.26917446, 1.0173544 , 0.1333963 ]),\n",
       "        array([1.26917446, 1.0173544 , 0.1333963 ])],\n",
       "       ['VR_a', 2, 7, 0.03653385290047201,\n",
       "        array([[0.14749629, 0.32195096, 0.56558095, 0.17874438],\n",
       "               [0.14888223, 0.31748662, 0.56329962, 0.17900156],\n",
       "               [0.15006365, 0.31127189, 0.56009335, 0.17939   ],\n",
       "               ...,\n",
       "               [0.15018747, 0.31277986, 0.56106369, 0.17922572],\n",
       "               [0.15281511, 0.31529276, 0.56230709, 0.179093  ],\n",
       "               [0.14564587, 0.31423514, 0.56170087, 0.17918601]]), 2000,\n",
       "        array([-0.31646443, -0.56283931,  0.17904808]),\n",
       "        array([-0.31646443, -0.56283931,  0.17904808])],\n",
       "       ['VR_a', 1, 11, 6.45989487399725e-05,\n",
       "        array([[2.90682379, 0.07543371, 0.3984241 , 0.207149  ],\n",
       "               [2.8691551 , 0.07505543, 0.39845467, 0.20708892],\n",
       "               [2.8829421 , 0.07520876, 0.398264  , 0.20717975],\n",
       "               ...,\n",
       "               [2.89196128, 0.07464789, 0.39810068, 0.20716378],\n",
       "               [2.90807753, 0.0746979 , 0.39810144, 0.20717164],\n",
       "               [2.86895552, 0.07546961, 0.3985908 , 0.20710232]]), 2000,\n",
       "        array([-0.07494474,  0.39825391,  0.20715051]),\n",
       "        array([-0.07494474,  0.39825391,  0.20715051])],\n",
       "       ['VR_a', 2, 11, 5.33697626485615e-05,\n",
       "        array([[3.08918155e+00, 1.59683409e-10, 3.65359007e-01, 2.09787196e-01],\n",
       "               [3.04920802e+00, 1.77560510e-11, 3.65552094e-01, 2.09714982e-01],\n",
       "               [3.06296575e+00, 1.74416559e-09, 3.65298878e-01, 2.09809625e-01],\n",
       "               ...,\n",
       "               [3.07399849e+00, 2.74175357e-10, 3.65393458e-01, 2.09770041e-01],\n",
       "               [3.09280928e+00, 5.67636893e-11, 3.65369266e-01, 2.09780653e-01],\n",
       "               [3.04769427e+00, 2.36662877e-10, 3.65501134e-01, 2.09744708e-01]]),\n",
       "        2000, array([-1.27956316e-09, -3.65408736e-01,  2.09769754e-01]),\n",
       "        array([-1.27956316e-09, -3.65408736e-01,  2.09769754e-01])],\n",
       "       ['VR_a', 3, 11, 2.167962239798668e-05,\n",
       "        array([[3.56880096e+00, 9.79387747e-10, 3.65687070e-01, 2.09678477e-01],\n",
       "               [3.52382569e+00, 2.16326855e-10, 3.65872350e-01, 2.09608856e-01],\n",
       "               [3.54240671e+00, 2.76378006e-11, 3.65606816e-01, 2.09707575e-01],\n",
       "               ...,\n",
       "               [3.55489173e+00, 1.40396012e-09, 3.65703354e-01, 2.09667344e-01],\n",
       "               [3.57592799e+00, 2.84675928e-10, 3.65683845e-01, 2.09676404e-01],\n",
       "               [3.52326210e+00, 7.57584961e-10, 3.65815589e-01, 2.09640498e-01]]),\n",
       "        2000, array([5.52582781e-12, 3.65726356e-01, 2.09664496e-01]),\n",
       "        array([5.52582781e-12, 3.65726356e-01, 2.09664496e-01])],\n",
       "       ['VR_a', 3, 12, 0.0,\n",
       "        array([[2.54016904e+02, 3.38350647e+00, 1.84360329e+00, 9.33982261e-02],\n",
       "               [2.53740752e+02, 3.39464670e+00, 1.84884018e+00, 9.28828604e-02],\n",
       "               [2.53522474e+02, 3.39051781e+00, 1.84673404e+00, 9.31360564e-02],\n",
       "               ...,\n",
       "               [2.53505598e+02, 3.38385596e+00, 1.84382633e+00, 9.33567461e-02],\n",
       "               [2.53762794e+02, 3.38683544e+00, 1.84512784e+00, 9.32567689e-02],\n",
       "               [2.53734225e+02, 3.39747505e+00, 1.85006063e+00, 9.28031440e-02]]),\n",
       "        2000, array([-3.38785544,  1.84562206,  0.09320772]),\n",
       "        array([-3.38785544,  1.84562206,  0.09320772])],\n",
       "       ['VR_a', 2, 12, 0.0,\n",
       "        array([[2.28316950e+02, 1.80627928e+00, 1.13387524e+00, 1.54676897e-01],\n",
       "               [2.28129701e+02, 1.81034903e+00, 1.13593052e+00, 1.54436235e-01],\n",
       "               [2.27945278e+02, 1.80536790e+00, 1.13344089e+00, 1.54722543e-01],\n",
       "               ...,\n",
       "               [2.27902730e+02, 1.80231225e+00, 1.13215591e+00, 1.54803123e-01],\n",
       "               [2.28130941e+02, 1.80488046e+00, 1.13327236e+00, 1.54719125e-01],\n",
       "               [2.28144633e+02, 1.81050175e+00, 1.13594698e+00, 1.54460473e-01]]),\n",
       "        2000, array([-1.80617959, -1.13389219,  0.15465923]),\n",
       "        array([-1.80617959, -1.13389219,  0.15465923])],\n",
       "       ['VR_a', 1, 12, 0.0,\n",
       "        array([[2.09106308e+02, 3.53314923e-02, 3.32457442e-01, 2.24977418e-01],\n",
       "               [2.08970767e+02, 3.49631184e-02, 3.32504312e-01, 2.24912934e-01],\n",
       "               [2.08770948e+02, 3.51370484e-02, 3.32347531e-01, 2.24994604e-01],\n",
       "               ...,\n",
       "               [2.08715754e+02, 3.45823236e-02, 3.32194314e-01, 2.24975906e-01],\n",
       "               [2.08936241e+02, 3.46123071e-02, 3.32162125e-01, 2.24992667e-01],\n",
       "               [2.08982225e+02, 3.53761755e-02, 3.32638587e-01, 2.24926837e-01]]),\n",
       "        2000, array([-0.03485172,  0.33230239,  0.22497484]),\n",
       "        array([-0.03485172,  0.33230239,  0.22497484])]], dtype=object)"
      ]
     },
     "execution_count": 6,
     "metadata": {},
     "output_type": "execute_result"
    }
   ],
   "source": [
    "AIC_list.ordered()"
   ]
  },
  {
   "cell_type": "code",
   "execution_count": null,
   "metadata": {},
   "outputs": [
    {
     "data": {
      "text/plain": [
       "0.020589472111383282"
      ]
     },
     "execution_count": 17,
     "metadata": {},
     "output_type": "execute_result"
    }
   ],
   "source": [
    "np.sqrt(ensemble_stat(jackknife(AIC_list.avgsample(cutoff_ma,3)[1]).up()).rcov())"
   ]
  },
  {
   "cell_type": "code",
   "execution_count": null,
   "metadata": {},
   "outputs": [
    {
     "data": {
      "text/plain": [
       "array([ 0.69453757,  0.47952761, -0.39848142, ..., -0.16793956,\n",
       "        0.58751753,  0.620108  ])"
      ]
     },
     "execution_count": 19,
     "metadata": {},
     "output_type": "execute_result"
    }
   ],
   "source": [
    "jackknife(sigma_rescaled).up()"
   ]
  },
  {
   "cell_type": "code",
   "execution_count": null,
   "metadata": {},
   "outputs": [],
   "source": [
    "#Mambo jambo test, lets just take the log ratio from the data and use it as the correct V(R) predictor\n",
    "\n",
    "datarun=[]\n",
    "dataint  = data[xiini:xifin+1]\n",
    "for i in range(len(dataint)):\n",
    "    datarun.append(dataint[i][fileini:filefin+1])\n",
    "\n",
    "sizerun  = size[fileini:filefin+1]\n",
    "betarun  = beta[fileini:filefin+1]\n",
    "\n",
    "if (dini_Gc==0):\n",
    "    diini  = 0\n",
    "    distop = 0\n",
    "else:\n",
    "    diini   = dini_Gc\n",
    "    distop = dini_Gc+dstop_Gc\n",
    "\n",
    "for k in range(len(datarun)):\n",
    "    for j in range(len(datarun[k])):\n",
    "        totaltraj=int(len(data[k][j])/size[j])\n",
    "        Nt=len(data[k][j][0])-1\n",
    "\n",
    "        Gc=np.zeros((totaltraj,Nt))\n",
    "        Vrlistavg=[]\n",
    "        for r in range(Nt):\n",
    "            for i in range(totaltraj):\n",
    "                Gc[[i]]=data[k][j][range(i*Nt,(i+1)*Nt),[r+1]]\n",
    "\n",
    "            data_y   = jackknife(Gc).sample()\n",
    "            Vrlistavg.append(jackknife(np.log(2/data_y[:,0])).up())\n",
    "\n",
    "        np.savetxt('{}{}/VR_ti{}_tistop{}_tmin{}_beta={}.dat'.format(resultspath,xi[k],diini,distop,dmindata_Gc,betarun[j]), np.transpose(Vrlistavg))\n",
    "        np.savetxt('{}{}/worstsel_ti{}_tistop{}_tmin{}_beta={}.dat'.format(resultspath,xi[k],diini,distop,dmindata_Gc,betarun[j]), [0])\n",
    "           "
   ]
  },
  {
   "cell_type": "code",
   "execution_count": null,
   "metadata": {},
   "outputs": [
    {
     "ename": "TypeError",
     "evalue": "Modelsmin.__init__() missing 1 required positional argument: 'multiprocess'",
     "output_type": "error",
     "traceback": [
      "\u001b[0;31m---------------------------------------------------------------------------\u001b[0m",
      "\u001b[0;31mTypeError\u001b[0m                                 Traceback (most recent call last)",
      "Cell \u001b[0;32mIn[11], line 15\u001b[0m\n\u001b[1;32m     12\u001b[0m data_y     \u001b[38;5;241m=\u001b[39m jackknife(Vdat,jackkl)\u001b[38;5;241m.\u001b[39msample()\n\u001b[1;32m     13\u001b[0m data_cov   \u001b[38;5;241m=\u001b[39m jackknife(Vdat,jackkl)\u001b[38;5;241m.\u001b[39mscov()\n\u001b[0;32m---> 15\u001b[0m m\u001b[38;5;241m=\u001b[39m\u001b[43mModelsmin\u001b[49m\u001b[43m(\u001b[49m\u001b[43m \u001b[49m\u001b[43mdata_t\u001b[49m\u001b[43m,\u001b[49m\u001b[43m \u001b[49m\u001b[43mdata_y\u001b[49m\u001b[43m,\u001b[49m\u001b[43m \u001b[49m\u001b[43mdata_cov\u001b[49m\u001b[43m,\u001b[49m\u001b[43m \u001b[49m\u001b[43mdini_Vr\u001b[49m\u001b[43m,\u001b[49m\u001b[43m \u001b[49m\u001b[43mdstop_Vr\u001b[49m\u001b[43m,\u001b[49m\u001b[43m \u001b[49m\u001b[43mdmindata_Vr\u001b[49m\u001b[43m,\u001b[49m\u001b[43m \u001b[49m\u001b[43mdfin\u001b[49m\u001b[43m,\u001b[49m\u001b[43m \u001b[49m\u001b[43minipars_Vr\u001b[49m\u001b[43m,\u001b[49m\u001b[43m \u001b[49m\u001b[43mmodel_Vr\u001b[49m\u001b[43m,\u001b[49m\u001b[43m \u001b[49m\u001b[43mvariants_Vr\u001b[49m\u001b[43m,\u001b[49m\u001b[43m \u001b[49m\u001b[43mdatatype_Vr\u001b[49m\u001b[43m,\u001b[49m\u001b[43m \u001b[49m\u001b[43mmcalls\u001b[49m\u001b[43m,\u001b[49m\u001b[43m \u001b[49m\u001b[43mmtol\u001b[49m\u001b[43m,\u001b[49m\u001b[43m \u001b[49m\u001b[43mreuse\u001b[49m\u001b[43m,\u001b[49m\u001b[43m \u001b[49m\u001b[43minv_first\u001b[49m\u001b[43m)\u001b[49m\n\u001b[1;32m     16\u001b[0m mf\u001b[38;5;241m=\u001b[39mm\u001b[38;5;241m.\u001b[39mjackk_minimize()\n\u001b[1;32m     17\u001b[0m AIC_list\u001b[38;5;241m=\u001b[39mJackknife_AIClist(mf)\n",
      "\u001b[0;31mTypeError\u001b[0m: Modelsmin.__init__() missing 1 required positional argument: 'multiprocess'"
     ]
    }
   ],
   "source": [
    "VRchisq2dof = []\n",
    "worstsel=[]\n",
    "\n",
    "for k in range(len(datarun)):\n",
    "    for i in range(len(datarun[0])): \n",
    "        worstsel.append(np.loadtxt('{}{}/worstsel_ti{}_tistop{}_tmin{}_beta={}.dat'.format(resultspath,xi[k],diini,distop,dmindata_Gc,betarun[i])))\n",
    "        Vdat=np.loadtxt('{}{}/VR_ti{}_tistop{}_tmin{}_beta={}.dat'.format(resultspath,xi[k],diini,distop,dmindata_Gc,betarun[i]))\n",
    "        jackkl=len(Vdat)\n",
    "        lt=len(Vdat[i])\n",
    "\n",
    "        data_t     = np.linspace(1, lt, lt)\n",
    "        data_y     = jackknife(Vdat,jackkl).sample()\n",
    "        data_cov   = jackknife(Vdat,jackkl).scov()\n",
    "\n",
    "        m=Modelsmin( data_t, data_y, data_cov, dini_Vr, dstop_Vr, dmindata_Vr, dfin, inipars_Vr, model_Vr, variants_Vr, datatype_Vr, mcalls, mtol, reuse, inv_first)\n",
    "        mf=m.jackk_minimize()\n",
    "        AIC_list=Jackknife_AIClist(mf)\n",
    "        VRchisq2dof.append(ensemble_stat(AIC_list.ordered()[0,4][:,0]).mean())\n",
    "        np.savetxt('{}{}/fits_VR_beta={}.dat'.format(resultspath,xi[k],betarun[i]),np.append(AIC_list.ordered()[0,1:3],[AIC_list.selval()[0:2],AIC_list.avgval()[0:2]]))\n",
    "        np.savetxt('{}{}/sigma_beta={}.dat'.format(resultspath,xi[k],betarun[i]),[AIC_list.avgval()[0][2],AIC_list.avgval()[1][2]])\n",
    "        dataV=np.array([AIC_list.selval()[2],AIC_list.avgval()[2]])\n",
    "        with open('{}{}/corrs_VR_beta={}.dat'.format(resultspath,xi[k],betarun[i]), 'w') as outfile:\n",
    "            outfile.write('# Model selection/average corrs:\\n')\n",
    "            for data_slice in dataV:\n",
    "                np.savetxt(outfile, data_slice)\n",
    "\n",
    "\n",
    "with open('{}/labels.dat'.format(resultsdir), 'w') as outfile:\n",
    "    for k in range(len(datarun)):\n",
    "        for i in range(len(datarun[0])):\n",
    "            outfile.write(\"$\\\\beta$={} $\\\\chi^2/$dof={:.1f}, {:.1f}\\n\".format(betarun[i],worstsel[i],VRchisq2dof[i]))"
   ]
  },
  {
   "cell_type": "code",
   "execution_count": null,
   "metadata": {},
   "outputs": [],
   "source": [
    "lt=len(logG[0])\n",
    "dfin=lt\n",
    "data_t   = np.linspace(1, lt, lt)\n",
    "data_y   = ensemble_stat(Gc).mean()\n",
    "data_cov = ensemble_stat(Gc).rcov()\n",
    "\n",
    "\n",
    "datatype=\"exp_WL\"\n",
    "model='exp_np'\n",
    "# Trim to use models that have less params than data points used in the fit\n",
    "inipars_GC=[[0.4,1.]]#,[1.0,0.3,1.0,0.2]]\n",
    "variants_GC=['single']#,'double']\n",
    "\n",
    "m=Modelsmin(data_t, data_y, data_cov, dini, dstop, dmindata, dfin, inipars_GC, model, variants_GC, datatype, mcalls, mtol, 1, 1)\n",
    "mf=m.minimize()\n",
    "AIC_list=AIClist(mf[1])"
   ]
  },
  {
   "cell_type": "code",
   "execution_count": null,
   "metadata": {},
   "outputs": [
    {
     "ename": "NameError",
     "evalue": "name 'Gc' is not defined",
     "output_type": "error",
     "traceback": [
      "\u001b[0;31m---------------------------------------------------------------------------\u001b[0m",
      "\u001b[0;31mNameError\u001b[0m                                 Traceback (most recent call last)",
      "Cell \u001b[0;32mIn[7], line 1\u001b[0m\n\u001b[0;32m----> 1\u001b[0m lt\u001b[38;5;241m=\u001b[39m\u001b[38;5;28mlen\u001b[39m(\u001b[43mGc\u001b[49m[\u001b[38;5;241m0\u001b[39m])\n\u001b[1;32m      2\u001b[0m data_t   \u001b[38;5;241m=\u001b[39m np\u001b[38;5;241m.\u001b[39mlinspace(\u001b[38;5;241m1\u001b[39m, lt, lt)\n\u001b[1;32m      3\u001b[0m data_y   \u001b[38;5;241m=\u001b[39m ensemble_stat(Gc)\u001b[38;5;241m.\u001b[39mmean()\n",
      "\u001b[0;31mNameError\u001b[0m: name 'Gc' is not defined"
     ]
    }
   ],
   "source": [
    "lt=len(Gc[0])\n",
    "data_t   = np.linspace(1, lt, lt)\n",
    "data_y   = ensemble_stat(Gc).mean()\n",
    "data_cov = ensemble_stat(Gc).rcov()\n",
    "data_err = np.sqrt(np.diagonal(ensemble_stat(Gc).rcov()))\n",
    "\n",
    "mcalls=5000\n",
    "mtol=0.001\n",
    "\n",
    "m=RepeatSingleFit(data_t, data_y, data_cov, 4, 16, [-1.93328781, -0.35270411,  0.1       ,  0.1       ], 'nb_exp_np', mcalls, mtol,1)\n",
    "\n",
    "m.minimize()\n",
    "ma=MA_fit(m.minimize())\n",
    "\n",
    "np.log(2/data_y[0])\n",
    "\n",
    "loglimG_geom(0,*ma.pars())\n",
    "prop_err(0.,'loglimG_geom',ma.pars(),ma.errs(),ma.corrs())[0]\n",
    "\n",
    "plt.errorbar(data_t, data_y, data_err, fmt=\"ok\", label=\"data\")\n",
    "plt.plot(data_t, exp_np_geom(data_t, *m.minimize().values), label=\"fit\")"
   ]
  },
  {
   "cell_type": "code",
   "execution_count": null,
   "metadata": {},
   "outputs": [
    {
     "data": {
      "text/html": [
       "<table>\n",
       "    <tr>\n",
       "        <th colspan=\"2\" style=\"text-align:center\" title=\"Minimizer\"> Migrad </th>\n",
       "    </tr>\n",
       "    <tr>\n",
       "        <td style=\"text-align:left\" title=\"Minimum value of function\"> FCN = 13.35 (χ²/ndof = 1.7) </td>\n",
       "        <td style=\"text-align:center\" title=\"Total number of function and (optional) gradient evaluations\"> Nfcn = 837 </td>\n",
       "    </tr>\n",
       "    <tr>\n",
       "        <td style=\"text-align:left\" title=\"Estimated distance to minimum and goal\"> EDM = 1.31e-16 (Goal: 2e-06) </td>\n",
       "        <td style=\"text-align:center\" title=\"Total run time of algorithms\">  </td>\n",
       "    </tr>\n",
       "    <tr>\n",
       "        <td style=\"text-align:center;background-color:#92CCA6;color:black\"> Valid Minimum </td>\n",
       "        <td style=\"text-align:center;background-color:#92CCA6;color:black\"> Below EDM threshold (goal x 10) </td>\n",
       "    </tr>\n",
       "    <tr>\n",
       "        <td style=\"text-align:center;background-color:#92CCA6;color:black\"> No parameters at limit </td>\n",
       "        <td style=\"text-align:center;background-color:#92CCA6;color:black\"> Below call limit </td>\n",
       "    </tr>\n",
       "    <tr>\n",
       "        <td style=\"text-align:center;background-color:#92CCA6;color:black\"> Hesse ok </td>\n",
       "        <td style=\"text-align:center;background-color:#92CCA6;color:black\"> Covariance accurate </td>\n",
       "    </tr>\n",
       "</table><table>\n",
       "    <tr>\n",
       "        <td></td>\n",
       "        <th title=\"Variable name\"> Name </th>\n",
       "        <th title=\"Value of parameter\"> Value </th>\n",
       "        <th title=\"Hesse error\"> Hesse Error </th>\n",
       "        <th title=\"Minos lower error\"> Minos Error- </th>\n",
       "        <th title=\"Minos upper error\"> Minos Error+ </th>\n",
       "        <th title=\"Lower limit of the parameter\"> Limit- </th>\n",
       "        <th title=\"Upper limit of the parameter\"> Limit+ </th>\n",
       "        <th title=\"Is the parameter fixed in the fit\"> Fixed </th>\n",
       "    </tr>\n",
       "    <tr>\n",
       "        <th> 0 </th>\n",
       "        <td> x0 </td>\n",
       "        <td> 1.9127 </td>\n",
       "        <td> 0.0033 </td>\n",
       "        <td>  </td>\n",
       "        <td>  </td>\n",
       "        <td>  </td>\n",
       "        <td>  </td>\n",
       "        <td>  </td>\n",
       "    </tr>\n",
       "    <tr>\n",
       "        <th> 1 </th>\n",
       "        <td> x1 </td>\n",
       "        <td> -75.22e-3 </td>\n",
       "        <td> 0.15e-3 </td>\n",
       "        <td>  </td>\n",
       "        <td>  </td>\n",
       "        <td>  </td>\n",
       "        <td>  </td>\n",
       "        <td>  </td>\n",
       "    </tr>\n",
       "    <tr>\n",
       "        <th> 2 </th>\n",
       "        <td> x2 </td>\n",
       "        <td> 0.0582 </td>\n",
       "        <td> 0.0025 </td>\n",
       "        <td>  </td>\n",
       "        <td>  </td>\n",
       "        <td>  </td>\n",
       "        <td>  </td>\n",
       "        <td>  </td>\n",
       "    </tr>\n",
       "    <tr>\n",
       "        <th> 3 </th>\n",
       "        <td> x3 </td>\n",
       "        <td> 0.268 </td>\n",
       "        <td> 0.012 </td>\n",
       "        <td>  </td>\n",
       "        <td>  </td>\n",
       "        <td>  </td>\n",
       "        <td>  </td>\n",
       "        <td>  </td>\n",
       "    </tr>\n",
       "</table><table>\n",
       "    <tr>\n",
       "        <td></td>\n",
       "        <th> x0 </th>\n",
       "        <th> x1 </th>\n",
       "        <th> x2 </th>\n",
       "        <th> x3 </th>\n",
       "    </tr>\n",
       "    <tr>\n",
       "        <th> x0 </th>\n",
       "        <td> 1.11e-05 </td>\n",
       "        <td style=\"background-color:rgb(242,242,250);color:black\"> -0.031e-6 <strong>(-0.062)</strong> </td>\n",
       "        <td style=\"background-color:rgb(128,128,250);color:black\"> -8e-6 <strong>(-0.938)</strong> </td>\n",
       "        <td style=\"background-color:rgb(250,150,150);color:black\"> 0.026e-3 <strong>(0.666)</strong> </td>\n",
       "    </tr>\n",
       "    <tr>\n",
       "        <th> x1 </th>\n",
       "        <td style=\"background-color:rgb(242,242,250);color:black\"> -0.031e-6 <strong>(-0.062)</strong> </td>\n",
       "        <td> 2.23e-08 </td>\n",
       "        <td style=\"background-color:rgb(250,201,201);color:black\"> 0.124e-6 <strong>(0.328)</strong> </td>\n",
       "        <td style=\"background-color:rgb(185,185,250);color:black\"> -0.875e-6 <strong>(-0.498)</strong> </td>\n",
       "    </tr>\n",
       "    <tr>\n",
       "        <th> x2 </th>\n",
       "        <td style=\"background-color:rgb(128,128,250);color:black\"> -8e-6 <strong>(-0.938)</strong> </td>\n",
       "        <td style=\"background-color:rgb(250,201,201);color:black\"> 0.124e-6 <strong>(0.328)</strong> </td>\n",
       "        <td> 6.45e-06 </td>\n",
       "        <td style=\"background-color:rgb(151,151,250);color:black\"> -23e-6 <strong>(-0.765)</strong> </td>\n",
       "    </tr>\n",
       "    <tr>\n",
       "        <th> x3 </th>\n",
       "        <td style=\"background-color:rgb(250,150,150);color:black\"> 0.026e-3 <strong>(0.666)</strong> </td>\n",
       "        <td style=\"background-color:rgb(185,185,250);color:black\"> -0.875e-6 <strong>(-0.498)</strong> </td>\n",
       "        <td style=\"background-color:rgb(151,151,250);color:black\"> -23e-6 <strong>(-0.765)</strong> </td>\n",
       "        <td> 0.000139 </td>\n",
       "    </tr>\n",
       "</table>"
      ],
      "text/plain": [
       "┌─────────────────────────────────────────────────────────────────────────┐\n",
       "│                                Migrad                                   │\n",
       "├──────────────────────────────────┬──────────────────────────────────────┤\n",
       "│ FCN = 13.35 (χ²/ndof = 1.7)      │              Nfcn = 837              │\n",
       "│ EDM = 1.31e-16 (Goal: 2e-06)     │                                      │\n",
       "├──────────────────────────────────┼──────────────────────────────────────┤\n",
       "│          Valid Minimum           │   Below EDM threshold (goal x 10)    │\n",
       "├──────────────────────────────────┼──────────────────────────────────────┤\n",
       "│      No parameters at limit      │           Below call limit           │\n",
       "├──────────────────────────────────┼──────────────────────────────────────┤\n",
       "│             Hesse ok             │         Covariance accurate          │\n",
       "└──────────────────────────────────┴──────────────────────────────────────┘\n",
       "┌───┬──────┬───────────┬───────────┬────────────┬────────────┬─────────┬─────────┬───────┐\n",
       "│   │ Name │   Value   │ Hesse Err │ Minos Err- │ Minos Err+ │ Limit-  │ Limit+  │ Fixed │\n",
       "├───┼──────┼───────────┼───────────┼────────────┼────────────┼─────────┼─────────┼───────┤\n",
       "│ 0 │ x0   │  1.9127   │  0.0033   │            │            │         │         │       │\n",
       "│ 1 │ x1   │ -75.22e-3 │  0.15e-3  │            │            │         │         │       │\n",
       "│ 2 │ x2   │  0.0582   │  0.0025   │            │            │         │         │       │\n",
       "│ 3 │ x3   │   0.268   │   0.012   │            │            │         │         │       │\n",
       "└───┴──────┴───────────┴───────────┴────────────┴────────────┴─────────┴─────────┴───────┘\n",
       "┌────┬─────────────────────────────────────────┐\n",
       "│    │        x0        x1        x2        x3 │\n",
       "├────┼─────────────────────────────────────────┤\n",
       "│ x0 │  1.11e-05 -0.031e-6     -8e-6  0.026e-3 │\n",
       "│ x1 │ -0.031e-6  2.23e-08  0.124e-6 -0.875e-6 │\n",
       "│ x2 │     -8e-6  0.124e-6  6.45e-06    -23e-6 │\n",
       "│ x3 │  0.026e-3 -0.875e-6    -23e-6  0.000139 │\n",
       "└────┴─────────────────────────────────────────┘"
      ]
     },
     "execution_count": 92,
     "metadata": {},
     "output_type": "execute_result"
    },
    {
     "data": {
      "text/plain": [
       "0.0974749988132817"
      ]
     },
     "execution_count": 92,
     "metadata": {},
     "output_type": "execute_result"
    },
    {
     "data": {
      "text/plain": [
       "0.0831370202222792"
      ]
     },
     "execution_count": 92,
     "metadata": {},
     "output_type": "execute_result"
    },
    {
     "data": {
      "text/plain": [
       "0.0003138273523832061"
      ]
     },
     "execution_count": 92,
     "metadata": {},
     "output_type": "execute_result"
    },
    {
     "data": {
      "text/plain": [
       "<ErrorbarContainer object of 3 artists>"
      ]
     },
     "execution_count": 92,
     "metadata": {},
     "output_type": "execute_result"
    },
    {
     "data": {
      "text/plain": [
       "[<matplotlib.lines.Line2D at 0x29567b390>]"
      ]
     },
     "execution_count": 92,
     "metadata": {},
     "output_type": "execute_result"
    },
    {
     "data": {
      "image/png": "[encoded data removed]",
      "text/plain": [
       "<Figure size 640x480 with 1 Axes>"
      ]
     },
     "metadata": {},
     "output_type": "display_data"
    }
   ],
   "source": [
    "lt=len(Gc[0])\n",
    "data_t   = np.linspace(1, lt, lt)\n",
    "data_y   = ensemble_stat(Gc).mean()\n",
    "data_cov = ensemble_stat(Gc).rcov()\n",
    "data_err = np.sqrt(np.diagonal(ensemble_stat(Gc).rcov()))\n",
    "\n",
    "mcalls=5000\n",
    "mtol=0.001\n",
    "\n",
    "m=RepeatSingleFit(data_t, data_y, data_cov, 1, 12, [1.,0.5,0.3,.2], 'exp_np', mcalls, mtol,1)\n",
    "\n",
    "m.minimize()\n",
    "ma=MA_fit(m.minimize())\n",
    "\n",
    "np.log(2/data_y[0])\n",
    "\n",
    "loglimG(0,*ma.pars())\n",
    "prop_err(0.,'loglimG',ma.pars(),ma.errs(),ma.corrs())[0]\n",
    "\n",
    "plt.errorbar(data_t, data_y, data_err, fmt=\"ok\", label=\"data\")\n",
    "plt.plot(data_t, exp_np(data_t, *m.minimize().values), label=\"fit\")"
   ]
  },
  {
   "cell_type": "code",
   "execution_count": null,
   "metadata": {},
   "outputs": [
    {
     "data": {
      "text/html": [
       "<table>\n",
       "    <tr>\n",
       "        <th colspan=\"2\" style=\"text-align:center\" title=\"Minimizer\"> Migrad </th>\n",
       "    </tr>\n",
       "    <tr>\n",
       "        <td style=\"text-align:left\" title=\"Minimum value of function\"> FCN = 11.39 (χ²/ndof = 1.9) </td>\n",
       "        <td style=\"text-align:center\" title=\"Total number of function and (optional) gradient evaluations\"> Nfcn = 5593 </td>\n",
       "    </tr>\n",
       "    <tr>\n",
       "        <td style=\"text-align:left\" title=\"Estimated distance to minimum and goal\"> EDM = 7.41e-08 (Goal: 2e-06) </td>\n",
       "        <td style=\"text-align:center\" title=\"Total run time of algorithms\">  </td>\n",
       "    </tr>\n",
       "    <tr>\n",
       "        <td style=\"text-align:center;background-color:#92CCA6;color:black\"> Valid Minimum </td>\n",
       "        <td style=\"text-align:center;background-color:#92CCA6;color:black\"> Below EDM threshold (goal x 10) </td>\n",
       "    </tr>\n",
       "    <tr>\n",
       "        <td style=\"text-align:center;background-color:#92CCA6;color:black\"> No parameters at limit </td>\n",
       "        <td style=\"text-align:center;background-color:#92CCA6;color:black\"> Below call limit </td>\n",
       "    </tr>\n",
       "    <tr>\n",
       "        <td style=\"text-align:center;background-color:#FFF79A;color:black\"> Hesse ok </td>\n",
       "        <td style=\"text-align:center;background-color:#FFF79A;color:black\"> Covariance FORCED pos. def. </td>\n",
       "    </tr>\n",
       "</table><table>\n",
       "    <tr>\n",
       "        <td></td>\n",
       "        <th title=\"Variable name\"> Name </th>\n",
       "        <th title=\"Value of parameter\"> Value </th>\n",
       "        <th title=\"Hesse error\"> Hesse Error </th>\n",
       "        <th title=\"Minos lower error\"> Minos Error- </th>\n",
       "        <th title=\"Minos upper error\"> Minos Error+ </th>\n",
       "        <th title=\"Lower limit of the parameter\"> Limit- </th>\n",
       "        <th title=\"Upper limit of the parameter\"> Limit+ </th>\n",
       "        <th title=\"Is the parameter fixed in the fit\"> Fixed </th>\n",
       "    </tr>\n",
       "    <tr>\n",
       "        <th> 0 </th>\n",
       "        <td> x0 </td>\n",
       "        <td> 1.584 </td>\n",
       "        <td> 0.008 </td>\n",
       "        <td>  </td>\n",
       "        <td>  </td>\n",
       "        <td>  </td>\n",
       "        <td>  </td>\n",
       "        <td>  </td>\n",
       "    </tr>\n",
       "    <tr>\n",
       "        <th> 1 </th>\n",
       "        <td> x1 </td>\n",
       "        <td> 71.5e-3 </td>\n",
       "        <td> 0.4e-3 </td>\n",
       "        <td>  </td>\n",
       "        <td>  </td>\n",
       "        <td>  </td>\n",
       "        <td>  </td>\n",
       "        <td>  </td>\n",
       "    </tr>\n",
       "    <tr>\n",
       "        <th> 2 </th>\n",
       "        <td> x2 </td>\n",
       "        <td> 0.349 </td>\n",
       "        <td> 0.008 </td>\n",
       "        <td>  </td>\n",
       "        <td>  </td>\n",
       "        <td>  </td>\n",
       "        <td>  </td>\n",
       "        <td>  </td>\n",
       "    </tr>\n",
       "    <tr>\n",
       "        <th> 3 </th>\n",
       "        <td> x3 </td>\n",
       "        <td> -0.029 </td>\n",
       "        <td> 0.004 </td>\n",
       "        <td>  </td>\n",
       "        <td>  </td>\n",
       "        <td>  </td>\n",
       "        <td>  </td>\n",
       "        <td>  </td>\n",
       "    </tr>\n",
       "    <tr>\n",
       "        <th> 4 </th>\n",
       "        <td> x4 </td>\n",
       "        <td> -0.039 </td>\n",
       "        <td> 0.005 </td>\n",
       "        <td>  </td>\n",
       "        <td>  </td>\n",
       "        <td>  </td>\n",
       "        <td>  </td>\n",
       "        <td>  </td>\n",
       "    </tr>\n",
       "    <tr>\n",
       "        <th> 5 </th>\n",
       "        <td> x5 </td>\n",
       "        <td> 0.323 </td>\n",
       "        <td> 0.029 </td>\n",
       "        <td>  </td>\n",
       "        <td>  </td>\n",
       "        <td>  </td>\n",
       "        <td>  </td>\n",
       "        <td>  </td>\n",
       "    </tr>\n",
       "</table><table>\n",
       "    <tr>\n",
       "        <td></td>\n",
       "        <th> x0 </th>\n",
       "        <th> x1 </th>\n",
       "        <th> x2 </th>\n",
       "        <th> x3 </th>\n",
       "        <th> x4 </th>\n",
       "        <th> x5 </th>\n",
       "    </tr>\n",
       "    <tr>\n",
       "        <th> x0 </th>\n",
       "        <td> 6.67e-05 </td>\n",
       "        <td style=\"background-color:rgb(229,229,250);color:black\"> -0.57e-6 <strong>(-0.160)</strong> </td>\n",
       "        <td style=\"background-color:rgb(146,146,250);color:black\"> -0.05e-3 <strong>(-0.799)</strong> </td>\n",
       "        <td style=\"background-color:rgb(204,204,250);color:black\"> -0.013e-3 <strong>(-0.354)</strong> </td>\n",
       "        <td style=\"background-color:rgb(250,200,200);color:black\"> 0.013e-3 <strong>(0.334)</strong> </td>\n",
       "        <td style=\"background-color:rgb(250,207,207);color:black\"> 0.07e-3 <strong>(0.286)</strong> </td>\n",
       "    </tr>\n",
       "    <tr>\n",
       "        <th> x1 </th>\n",
       "        <td style=\"background-color:rgb(229,229,250);color:black\"> -0.57e-6 <strong>(-0.160)</strong> </td>\n",
       "        <td> 1.94e-07 </td>\n",
       "        <td style=\"background-color:rgb(201,201,250);color:black\"> -1.33e-6 <strong>(-0.378)</strong> </td>\n",
       "        <td style=\"background-color:rgb(250,111,111);color:black\"> 1.83e-6 <strong>(0.928)</strong> </td>\n",
       "        <td style=\"background-color:rgb(137,137,250);color:black\"> -1.81e-6 <strong>(-0.867)</strong> </td>\n",
       "        <td style=\"background-color:rgb(156,156,250);color:black\"> -9.26e-6 <strong>(-0.722)</strong> </td>\n",
       "    </tr>\n",
       "    <tr>\n",
       "        <th> x2 </th>\n",
       "        <td style=\"background-color:rgb(146,146,250);color:black\"> -0.05e-3 <strong>(-0.799)</strong> </td>\n",
       "        <td style=\"background-color:rgb(201,201,250);color:black\"> -1.33e-6 <strong>(-0.378)</strong> </td>\n",
       "        <td> 6.41e-05 </td>\n",
       "        <td style=\"background-color:rgb(226,226,250);color:black\"> -0.007e-3 <strong>(-0.184)</strong> </td>\n",
       "        <td style=\"background-color:rgb(250,208,208);color:black\"> 0.011e-3 <strong>(0.280)</strong> </td>\n",
       "        <td style=\"background-color:rgb(250,210,210);color:black\"> 0.06e-3 <strong>(0.268)</strong> </td>\n",
       "    </tr>\n",
       "    <tr>\n",
       "        <th> x3 </th>\n",
       "        <td style=\"background-color:rgb(204,204,250);color:black\"> -0.013e-3 <strong>(-0.354)</strong> </td>\n",
       "        <td style=\"background-color:rgb(250,111,111);color:black\"> 1.83e-6 <strong>(0.928)</strong> </td>\n",
       "        <td style=\"background-color:rgb(226,226,250);color:black\"> -0.007e-3 <strong>(-0.184)</strong> </td>\n",
       "        <td> 2e-05 </td>\n",
       "        <td style=\"background-color:rgb(130,130,250);color:black\"> -0.020e-3 <strong>(-0.924)</strong> </td>\n",
       "        <td style=\"background-color:rgb(144,144,250);color:black\"> -0.106e-3 <strong>(-0.814)</strong> </td>\n",
       "    </tr>\n",
       "    <tr>\n",
       "        <th> x4 </th>\n",
       "        <td style=\"background-color:rgb(250,200,200);color:black\"> 0.013e-3 <strong>(0.334)</strong> </td>\n",
       "        <td style=\"background-color:rgb(137,137,250);color:black\"> -1.81e-6 <strong>(-0.867)</strong> </td>\n",
       "        <td style=\"background-color:rgb(250,208,208);color:black\"> 0.011e-3 <strong>(0.280)</strong> </td>\n",
       "        <td style=\"background-color:rgb(130,130,250);color:black\"> -0.020e-3 <strong>(-0.924)</strong> </td>\n",
       "        <td> 2.25e-05 </td>\n",
       "        <td style=\"background-color:rgb(250,115,115);color:black\"> 0.124e-3 <strong>(0.899)</strong> </td>\n",
       "    </tr>\n",
       "    <tr>\n",
       "        <th> x5 </th>\n",
       "        <td style=\"background-color:rgb(250,207,207);color:black\"> 0.07e-3 <strong>(0.286)</strong> </td>\n",
       "        <td style=\"background-color:rgb(156,156,250);color:black\"> -9.26e-6 <strong>(-0.722)</strong> </td>\n",
       "        <td style=\"background-color:rgb(250,210,210);color:black\"> 0.06e-3 <strong>(0.268)</strong> </td>\n",
       "        <td style=\"background-color:rgb(144,144,250);color:black\"> -0.106e-3 <strong>(-0.814)</strong> </td>\n",
       "        <td style=\"background-color:rgb(250,115,115);color:black\"> 0.124e-3 <strong>(0.899)</strong> </td>\n",
       "        <td> 0.000847 </td>\n",
       "    </tr>\n",
       "</table>"
      ],
      "text/plain": [
       "┌─────────────────────────────────────────────────────────────────────────┐\n",
       "│                                Migrad                                   │\n",
       "├──────────────────────────────────┬──────────────────────────────────────┤\n",
       "│ FCN = 11.39 (χ²/ndof = 1.9)      │             Nfcn = 5593              │\n",
       "│ EDM = 7.41e-08 (Goal: 2e-06)     │                                      │\n",
       "├──────────────────────────────────┼──────────────────────────────────────┤\n",
       "│          Valid Minimum           │   Below EDM threshold (goal x 10)    │\n",
       "├──────────────────────────────────┼──────────────────────────────────────┤\n",
       "│      No parameters at limit      │           Below call limit           │\n",
       "├──────────────────────────────────┼──────────────────────────────────────┤\n",
       "│             Hesse ok             │     Covariance FORCED pos. def.      │\n",
       "└──────────────────────────────────┴──────────────────────────────────────┘\n",
       "┌───┬──────┬───────────┬───────────┬────────────┬────────────┬─────────┬─────────┬───────┐\n",
       "│   │ Name │   Value   │ Hesse Err │ Minos Err- │ Minos Err+ │ Limit-  │ Limit+  │ Fixed │\n",
       "├───┼──────┼───────────┼───────────┼────────────┼────────────┼─────────┼─────────┼───────┤\n",
       "│ 0 │ x0   │   1.584   │   0.008   │            │            │         │         │       │\n",
       "│ 1 │ x1   │  71.5e-3  │  0.4e-3   │            │            │         │         │       │\n",
       "│ 2 │ x2   │   0.349   │   0.008   │            │            │         │         │       │\n",
       "│ 3 │ x3   │  -0.029   │   0.004   │            │            │         │         │       │\n",
       "│ 4 │ x4   │  -0.039   │   0.005   │            │            │         │         │       │\n",
       "│ 5 │ x5   │   0.323   │   0.029   │            │            │         │         │       │\n",
       "└───┴──────┴───────────┴───────────┴────────────┴────────────┴─────────┴─────────┴───────┘\n",
       "┌────┬─────────────────────────────────────────────────────────────┐\n",
       "│    │        x0        x1        x2        x3        x4        x5 │\n",
       "├────┼─────────────────────────────────────────────────────────────┤\n",
       "│ x0 │  6.67e-05  -0.57e-6  -0.05e-3 -0.013e-3  0.013e-3   0.07e-3 │\n",
       "│ x1 │  -0.57e-6  1.94e-07  -1.33e-6   1.83e-6  -1.81e-6  -9.26e-6 │\n",
       "│ x2 │  -0.05e-3  -1.33e-6  6.41e-05 -0.007e-3  0.011e-3   0.06e-3 │\n",
       "│ x3 │ -0.013e-3   1.83e-6 -0.007e-3     2e-05 -0.020e-3 -0.106e-3 │\n",
       "│ x4 │  0.013e-3  -1.81e-6  0.011e-3 -0.020e-3  2.25e-05  0.124e-3 │\n",
       "│ x5 │   0.07e-3  -9.26e-6   0.06e-3 -0.106e-3  0.124e-3  0.000847 │\n",
       "└────┴─────────────────────────────────────────────────────────────┘"
      ]
     },
     "execution_count": 95,
     "metadata": {},
     "output_type": "execute_result"
    },
    {
     "data": {
      "text/plain": [
       "0.0974749988132817"
      ]
     },
     "execution_count": 95,
     "metadata": {},
     "output_type": "execute_result"
    },
    {
     "data": {
      "text/plain": [
       "0.08355017564748435"
      ]
     },
     "execution_count": 95,
     "metadata": {},
     "output_type": "execute_result"
    },
    {
     "data": {
      "text/plain": [
       "0.00038071338156460063"
      ]
     },
     "execution_count": 95,
     "metadata": {},
     "output_type": "execute_result"
    },
    {
     "data": {
      "text/plain": [
       "<ErrorbarContainer object of 3 artists>"
      ]
     },
     "execution_count": 95,
     "metadata": {},
     "output_type": "execute_result"
    },
    {
     "data": {
      "text/plain": [
       "[<matplotlib.lines.Line2D at 0x29456d750>]"
      ]
     },
     "execution_count": 95,
     "metadata": {},
     "output_type": "execute_result"
    },
    {
     "data": {
      "image/png": "[encoded data removed]",
      "text/plain": [
       "<Figure size 640x480 with 1 Axes>"
      ]
     },
     "metadata": {},
     "output_type": "display_data"
    }
   ],
   "source": [
    "lt=len(Gc[0])\n",
    "data_t   = np.linspace(1, lt, lt)\n",
    "data_y   = ensemble_stat(Gc).mean()\n",
    "data_cov = ensemble_stat(Gc).rcov()\n",
    "data_err = np.sqrt(np.diagonal(ensemble_stat(Gc).rcov()))\n",
    "\n",
    "mcalls=5000\n",
    "mtol=0.001\n",
    "\n",
    "m=RepeatSingleFit(data_t, data_y, data_cov, 1, 12, [2.,0.5,0.2,.2,0.5,0.1], 'exp_np', mcalls, mtol,1)\n",
    "\n",
    "m.minimize()\n",
    "ma=MA_fit(m.minimize())\n",
    "\n",
    "np.log(2/data_y[0])\n",
    "\n",
    "loglimG(0,*ma.pars())\n",
    "prop_err(0.,'loglimG',ma.pars(),ma.errs(),ma.corrs())[0]\n",
    "\n",
    "plt.errorbar(data_t, data_y, data_err, fmt=\"ok\", label=\"data\")\n",
    "plt.plot(data_t, exp_np(data_t, *m.minimize().values), label=\"fit\")"
   ]
  },
  {
   "cell_type": "code",
   "execution_count": null,
   "metadata": {},
   "outputs": [
    {
     "data": {
      "text/html": [
       "<table>\n",
       "    <tr>\n",
       "        <th colspan=\"2\" style=\"text-align:center\" title=\"Minimizer\"> Migrad </th>\n",
       "    </tr>\n",
       "    <tr>\n",
       "        <td style=\"text-align:left\" title=\"Minimum value of function\"> FCN = 12.98 (χ²/ndof = 1.9) </td>\n",
       "        <td style=\"text-align:center\" title=\"Total number of function and (optional) gradient evaluations\"> Nfcn = 1451 </td>\n",
       "    </tr>\n",
       "    <tr>\n",
       "        <td style=\"text-align:left\" title=\"Estimated distance to minimum and goal\"> EDM = 9.37e-13 (Goal: 2e-06) </td>\n",
       "        <td style=\"text-align:center\" title=\"Total run time of algorithms\">  </td>\n",
       "    </tr>\n",
       "    <tr>\n",
       "        <td style=\"text-align:center;background-color:#92CCA6;color:black\"> Valid Minimum </td>\n",
       "        <td style=\"text-align:center;background-color:#92CCA6;color:black\"> Below EDM threshold (goal x 10) </td>\n",
       "    </tr>\n",
       "    <tr>\n",
       "        <td style=\"text-align:center;background-color:#92CCA6;color:black\"> No parameters at limit </td>\n",
       "        <td style=\"text-align:center;background-color:#92CCA6;color:black\"> Below call limit </td>\n",
       "    </tr>\n",
       "    <tr>\n",
       "        <td style=\"text-align:center;background-color:#92CCA6;color:black\"> Hesse ok </td>\n",
       "        <td style=\"text-align:center;background-color:#92CCA6;color:black\"> Covariance accurate </td>\n",
       "    </tr>\n",
       "</table><table>\n",
       "    <tr>\n",
       "        <td></td>\n",
       "        <th title=\"Variable name\"> Name </th>\n",
       "        <th title=\"Value of parameter\"> Value </th>\n",
       "        <th title=\"Hesse error\"> Hesse Error </th>\n",
       "        <th title=\"Minos lower error\"> Minos Error- </th>\n",
       "        <th title=\"Minos upper error\"> Minos Error+ </th>\n",
       "        <th title=\"Lower limit of the parameter\"> Limit- </th>\n",
       "        <th title=\"Upper limit of the parameter\"> Limit+ </th>\n",
       "        <th title=\"Is the parameter fixed in the fit\"> Fixed </th>\n",
       "    </tr>\n",
       "    <tr>\n",
       "        <th> 0 </th>\n",
       "        <td> x0 </td>\n",
       "        <td> 75.18e-3 </td>\n",
       "        <td> 0.17e-3 </td>\n",
       "        <td>  </td>\n",
       "        <td>  </td>\n",
       "        <td>  </td>\n",
       "        <td>  </td>\n",
       "        <td>  </td>\n",
       "    </tr>\n",
       "    <tr>\n",
       "        <th> 1 </th>\n",
       "        <td> x1 </td>\n",
       "        <td> 0.0588 </td>\n",
       "        <td> 0.0028 </td>\n",
       "        <td>  </td>\n",
       "        <td>  </td>\n",
       "        <td>  </td>\n",
       "        <td>  </td>\n",
       "        <td>  </td>\n",
       "    </tr>\n",
       "    <tr>\n",
       "        <th> 2 </th>\n",
       "        <td> x2 </td>\n",
       "        <td> 0.259 </td>\n",
       "        <td> 0.018 </td>\n",
       "        <td>  </td>\n",
       "        <td>  </td>\n",
       "        <td>  </td>\n",
       "        <td>  </td>\n",
       "        <td>  </td>\n",
       "    </tr>\n",
       "    <tr>\n",
       "        <th> 3 </th>\n",
       "        <td> x3 </td>\n",
       "        <td> -0.0297 </td>\n",
       "        <td> 0.0016 </td>\n",
       "        <td>  </td>\n",
       "        <td>  </td>\n",
       "        <td>  </td>\n",
       "        <td>  </td>\n",
       "        <td>  </td>\n",
       "    </tr>\n",
       "    <tr>\n",
       "        <th> 4 </th>\n",
       "        <td> x4 </td>\n",
       "        <td> 4.4 </td>\n",
       "        <td> 1.6 </td>\n",
       "        <td>  </td>\n",
       "        <td>  </td>\n",
       "        <td>  </td>\n",
       "        <td>  </td>\n",
       "        <td>  </td>\n",
       "    </tr>\n",
       "</table><table>\n",
       "    <tr>\n",
       "        <td></td>\n",
       "        <th> x0 </th>\n",
       "        <th> x1 </th>\n",
       "        <th> x2 </th>\n",
       "        <th> x3 </th>\n",
       "        <th> x4 </th>\n",
       "    </tr>\n",
       "    <tr>\n",
       "        <th> x0 </th>\n",
       "        <td> 2.81e-08 </td>\n",
       "        <td style=\"background-color:rgb(191,191,250);color:black\"> -0.217e-6 <strong>(-0.455)</strong> </td>\n",
       "        <td style=\"background-color:rgb(250,155,155);color:black\"> 1.951e-6 <strong>(0.630)</strong> </td>\n",
       "        <td style=\"background-color:rgb(238,238,250);color:black\"> -0.024e-6 <strong>(-0.090)</strong> </td>\n",
       "        <td style=\"background-color:rgb(250,184,184);color:black\"> 117.801e-6 <strong>(0.437)</strong> </td>\n",
       "    </tr>\n",
       "    <tr>\n",
       "        <th> x1 </th>\n",
       "        <td style=\"background-color:rgb(191,191,250);color:black\"> -0.217e-6 <strong>(-0.455)</strong> </td>\n",
       "        <td> 8.09e-06 </td>\n",
       "        <td style=\"background-color:rgb(155,155,250);color:black\"> -38e-6 <strong>(-0.733)</strong> </td>\n",
       "        <td style=\"background-color:rgb(180,180,250);color:black\"> -2.5e-6 <strong>(-0.542)</strong> </td>\n",
       "        <td style=\"background-color:rgb(207,207,250);color:black\"> -1.520e-3 <strong>(-0.332)</strong> </td>\n",
       "    </tr>\n",
       "    <tr>\n",
       "        <th> x2 </th>\n",
       "        <td style=\"background-color:rgb(250,155,155);color:black\"> 1.951e-6 <strong>(0.630)</strong> </td>\n",
       "        <td style=\"background-color:rgb(155,155,250);color:black\"> -38e-6 <strong>(-0.733)</strong> </td>\n",
       "        <td> 0.000341 </td>\n",
       "        <td style=\"background-color:rgb(250,166,166);color:black\"> 16.6e-6 <strong>(0.561)</strong> </td>\n",
       "        <td style=\"background-color:rgb(250,136,136);color:black\"> 22.62e-3 <strong>(0.762)</strong> </td>\n",
       "    </tr>\n",
       "    <tr>\n",
       "        <th> x3 </th>\n",
       "        <td style=\"background-color:rgb(238,238,250);color:black\"> -0.024e-6 <strong>(-0.090)</strong> </td>\n",
       "        <td style=\"background-color:rgb(180,180,250);color:black\"> -2.5e-6 <strong>(-0.542)</strong> </td>\n",
       "        <td style=\"background-color:rgb(250,166,166);color:black\"> 16.6e-6 <strong>(0.561)</strong> </td>\n",
       "        <td> 2.58e-06 </td>\n",
       "        <td style=\"background-color:rgb(250,164,164);color:black\"> 1.4742e-3 <strong>(0.571)</strong> </td>\n",
       "    </tr>\n",
       "    <tr>\n",
       "        <th> x4 </th>\n",
       "        <td style=\"background-color:rgb(250,184,184);color:black\"> 117.801e-6 <strong>(0.437)</strong> </td>\n",
       "        <td style=\"background-color:rgb(207,207,250);color:black\"> -1.520e-3 <strong>(-0.332)</strong> </td>\n",
       "        <td style=\"background-color:rgb(250,136,136);color:black\"> 22.62e-3 <strong>(0.762)</strong> </td>\n",
       "        <td style=\"background-color:rgb(250,164,164);color:black\"> 1.4742e-3 <strong>(0.571)</strong> </td>\n",
       "        <td> 2.59 </td>\n",
       "    </tr>\n",
       "</table>"
      ],
      "text/plain": [
       "┌─────────────────────────────────────────────────────────────────────────┐\n",
       "│                                Migrad                                   │\n",
       "├──────────────────────────────────┬──────────────────────────────────────┤\n",
       "│ FCN = 12.98 (χ²/ndof = 1.9)      │             Nfcn = 1451              │\n",
       "│ EDM = 9.37e-13 (Goal: 2e-06)     │                                      │\n",
       "├──────────────────────────────────┼──────────────────────────────────────┤\n",
       "│          Valid Minimum           │   Below EDM threshold (goal x 10)    │\n",
       "├──────────────────────────────────┼──────────────────────────────────────┤\n",
       "│      No parameters at limit      │           Below call limit           │\n",
       "├──────────────────────────────────┼──────────────────────────────────────┤\n",
       "│             Hesse ok             │         Covariance accurate          │\n",
       "└──────────────────────────────────┴──────────────────────────────────────┘\n",
       "┌───┬──────┬───────────┬───────────┬────────────┬────────────┬─────────┬─────────┬───────┐\n",
       "│   │ Name │   Value   │ Hesse Err │ Minos Err- │ Minos Err+ │ Limit-  │ Limit+  │ Fixed │\n",
       "├───┼──────┼───────────┼───────────┼────────────┼────────────┼─────────┼─────────┼───────┤\n",
       "│ 0 │ x0   │ 75.18e-3  │  0.17e-3  │            │            │         │         │       │\n",
       "│ 1 │ x1   │  0.0588   │  0.0028   │            │            │         │         │       │\n",
       "│ 2 │ x2   │   0.259   │   0.018   │            │            │         │         │       │\n",
       "│ 3 │ x3   │  -0.0297  │  0.0016   │            │            │         │         │       │\n",
       "│ 4 │ x4   │    4.4    │    1.6    │            │            │         │         │       │\n",
       "└───┴──────┴───────────┴───────────┴────────────┴────────────┴─────────┴─────────┴───────┘\n",
       "┌────┬────────────────────────────────────────────────────────┐\n",
       "│    │         x0         x1         x2         x3         x4 │\n",
       "├────┼────────────────────────────────────────────────────────┤\n",
       "│ x0 │   2.81e-08  -0.217e-6   1.951e-6  -0.024e-6 117.801e-6 │\n",
       "│ x1 │  -0.217e-6   8.09e-06     -38e-6    -2.5e-6  -1.520e-3 │\n",
       "│ x2 │   1.951e-6     -38e-6   0.000341    16.6e-6   22.62e-3 │\n",
       "│ x3 │  -0.024e-6    -2.5e-6    16.6e-6   2.58e-06  1.4742e-3 │\n",
       "│ x4 │ 117.801e-6  -1.520e-3   22.62e-3  1.4742e-3       2.59 │\n",
       "└────┴────────────────────────────────────────────────────────┘"
      ]
     },
     "execution_count": 96,
     "metadata": {},
     "output_type": "execute_result"
    },
    {
     "data": {
      "text/plain": [
       "0.0974749988132817"
      ]
     },
     "execution_count": 96,
     "metadata": {},
     "output_type": "execute_result"
    },
    {
     "data": {
      "text/plain": [
       "0.15235587875034318"
      ]
     },
     "execution_count": 96,
     "metadata": {},
     "output_type": "execute_result"
    },
    {
     "data": {
      "text/plain": [
       "0.02249682352370491"
      ]
     },
     "execution_count": 96,
     "metadata": {},
     "output_type": "execute_result"
    },
    {
     "data": {
      "text/plain": [
       "<ErrorbarContainer object of 3 artists>"
      ]
     },
     "execution_count": 96,
     "metadata": {},
     "output_type": "execute_result"
    },
    {
     "data": {
      "text/plain": [
       "[<matplotlib.lines.Line2D at 0x2944fcfd0>]"
      ]
     },
     "execution_count": 96,
     "metadata": {},
     "output_type": "execute_result"
    },
    {
     "data": {
      "image/png": "[encoded data removed]",
      "text/plain": [
       "<Figure size 640x480 with 1 Axes>"
      ]
     },
     "metadata": {},
     "output_type": "display_data"
    }
   ],
   "source": [
    "lt=len(Gc[0])\n",
    "data_t   = np.linspace(1, lt, lt)\n",
    "data_y   = ensemble_stat(Gc).mean()\n",
    "data_cov = ensemble_stat(Gc).rcov()\n",
    "data_err = np.sqrt(np.diagonal(ensemble_stat(Gc).rcov()))\n",
    "\n",
    "mcalls=5000\n",
    "mtol=0.001\n",
    "\n",
    "m=RepeatSingleFit(data_t, data_y, data_cov, 1, 12, [0.125,0.04,.51,0.04,2.56], 'exp_np_norm', mcalls, mtol,1)\n",
    "\n",
    "m.minimize()\n",
    "ma=MA_fit(m.minimize())\n",
    "\n",
    "np.log(2/data_y[0])\n",
    "\n",
    "loglimG_norm(0,*ma.pars())\n",
    "prop_err(0.,'loglimG_norm',ma.pars(),ma.errs(),ma.corrs())[0]\n",
    "\n",
    "plt.errorbar(data_t, data_y, data_err, fmt=\"ok\", label=\"data\")\n",
    "plt.plot(data_t, exp_np_norm(data_t, *m.minimize().values), label=\"fit\")"
   ]
  },
  {
   "cell_type": "code",
   "execution_count": null,
   "metadata": {},
   "outputs": [
    {
     "data": {
      "text/html": [
       "<table>\n",
       "    <tr>\n",
       "        <th colspan=\"2\" style=\"text-align:center\" title=\"Minimizer\"> Migrad </th>\n",
       "    </tr>\n",
       "    <tr>\n",
       "        <td style=\"text-align:left\" title=\"Minimum value of function\"> FCN = 510.8 (χ²/ndof = 73.0) </td>\n",
       "        <td style=\"text-align:center\" title=\"Total number of function and (optional) gradient evaluations\"> Nfcn = 878 </td>\n",
       "    </tr>\n",
       "    <tr>\n",
       "        <td style=\"text-align:left\" title=\"Estimated distance to minimum and goal\"> EDM = 1.38e-08 (Goal: 2e-06) </td>\n",
       "        <td style=\"text-align:center\" title=\"Total run time of algorithms\">  </td>\n",
       "    </tr>\n",
       "    <tr>\n",
       "        <td style=\"text-align:center;background-color:#92CCA6;color:black\"> Valid Minimum </td>\n",
       "        <td style=\"text-align:center;background-color:#92CCA6;color:black\"> Below EDM threshold (goal x 10) </td>\n",
       "    </tr>\n",
       "    <tr>\n",
       "        <td style=\"text-align:center;background-color:#92CCA6;color:black\"> No parameters at limit </td>\n",
       "        <td style=\"text-align:center;background-color:#92CCA6;color:black\"> Below call limit </td>\n",
       "    </tr>\n",
       "    <tr>\n",
       "        <td style=\"text-align:center;background-color:#92CCA6;color:black\"> Hesse ok </td>\n",
       "        <td style=\"text-align:center;background-color:#92CCA6;color:black\"> Covariance accurate </td>\n",
       "    </tr>\n",
       "</table><table>\n",
       "    <tr>\n",
       "        <td></td>\n",
       "        <th title=\"Variable name\"> Name </th>\n",
       "        <th title=\"Value of parameter\"> Value </th>\n",
       "        <th title=\"Hesse error\"> Hesse Error </th>\n",
       "        <th title=\"Minos lower error\"> Minos Error- </th>\n",
       "        <th title=\"Minos upper error\"> Minos Error+ </th>\n",
       "        <th title=\"Lower limit of the parameter\"> Limit- </th>\n",
       "        <th title=\"Upper limit of the parameter\"> Limit+ </th>\n",
       "        <th title=\"Is the parameter fixed in the fit\"> Fixed </th>\n",
       "    </tr>\n",
       "    <tr>\n",
       "        <th> 0 </th>\n",
       "        <td> x0 </td>\n",
       "        <td> 73.70e-3 </td>\n",
       "        <td> 0.11e-3 </td>\n",
       "        <td>  </td>\n",
       "        <td>  </td>\n",
       "        <td>  </td>\n",
       "        <td>  </td>\n",
       "        <td>  </td>\n",
       "    </tr>\n",
       "    <tr>\n",
       "        <th> 1 </th>\n",
       "        <td> x1 </td>\n",
       "        <td> 0.0335 </td>\n",
       "        <td> 0.0015 </td>\n",
       "        <td>  </td>\n",
       "        <td>  </td>\n",
       "        <td>  </td>\n",
       "        <td>  </td>\n",
       "        <td>  </td>\n",
       "    </tr>\n",
       "    <tr>\n",
       "        <th> 2 </th>\n",
       "        <td> x2 </td>\n",
       "        <td> 0.383 </td>\n",
       "        <td> 0.022 </td>\n",
       "        <td>  </td>\n",
       "        <td>  </td>\n",
       "        <td>  </td>\n",
       "        <td>  </td>\n",
       "        <td>  </td>\n",
       "    </tr>\n",
       "    <tr>\n",
       "        <th> 3 </th>\n",
       "        <td> x3 </td>\n",
       "        <td> 0.00 </td>\n",
       "        <td> 0.05 </td>\n",
       "        <td>  </td>\n",
       "        <td>  </td>\n",
       "        <td>  </td>\n",
       "        <td>  </td>\n",
       "        <td>  </td>\n",
       "    </tr>\n",
       "    <tr>\n",
       "        <th> 4 </th>\n",
       "        <td> x4 </td>\n",
       "        <td> 8.7 </td>\n",
       "        <td> 2.0 </td>\n",
       "        <td>  </td>\n",
       "        <td>  </td>\n",
       "        <td>  </td>\n",
       "        <td>  </td>\n",
       "        <td>  </td>\n",
       "    </tr>\n",
       "</table><table>\n",
       "    <tr>\n",
       "        <td></td>\n",
       "        <th> x0 </th>\n",
       "        <th> x1 </th>\n",
       "        <th> x2 </th>\n",
       "        <th> x3 </th>\n",
       "        <th> x4 </th>\n",
       "    </tr>\n",
       "    <tr>\n",
       "        <th> x0 </th>\n",
       "        <td> 1.26e-08 </td>\n",
       "        <td style=\"background-color:rgb(185,185,250);color:black\"> -0.083e-6 <strong>(-0.503)</strong> </td>\n",
       "        <td style=\"background-color:rgb(250,150,150);color:black\"> 1.673e-6 <strong>(0.668)</strong> </td>\n",
       "        <td style=\"background-color:rgb(247,247,250);color:black\"> -0.112e-6 <strong>(-0.021)</strong> </td>\n",
       "        <td style=\"background-color:rgb(250,250,250);color:black\"> 0.105e-6 </td>\n",
       "    </tr>\n",
       "    <tr>\n",
       "        <th> x1 </th>\n",
       "        <td style=\"background-color:rgb(185,185,250);color:black\"> -0.083e-6 <strong>(-0.503)</strong> </td>\n",
       "        <td> 2.2e-06 </td>\n",
       "        <td style=\"background-color:rgb(171,171,250);color:black\"> -20.1e-6 <strong>(-0.607)</strong> </td>\n",
       "        <td style=\"background-color:rgb(250,249,249);color:black\"> 0.4e-6 <strong>(0.005)</strong> </td>\n",
       "        <td style=\"background-color:rgb(250,250,250);color:black\"> -0.4e-6 </td>\n",
       "    </tr>\n",
       "    <tr>\n",
       "        <th> x2 </th>\n",
       "        <td style=\"background-color:rgb(250,150,150);color:black\"> 1.673e-6 <strong>(0.668)</strong> </td>\n",
       "        <td style=\"background-color:rgb(171,171,250);color:black\"> -20.1e-6 <strong>(-0.607)</strong> </td>\n",
       "        <td> 0.0005 </td>\n",
       "        <td style=\"background-color:rgb(246,246,250);color:black\"> -0 <strong>(-0.028)</strong> </td>\n",
       "        <td style=\"background-color:rgb(250,250,250);color:black\"> 0 </td>\n",
       "    </tr>\n",
       "    <tr>\n",
       "        <th> x3 </th>\n",
       "        <td style=\"background-color:rgb(247,247,250);color:black\"> -0.112e-6 <strong>(-0.021)</strong> </td>\n",
       "        <td style=\"background-color:rgb(250,249,249);color:black\"> 0.4e-6 <strong>(0.005)</strong> </td>\n",
       "        <td style=\"background-color:rgb(246,246,250);color:black\"> -0 <strong>(-0.028)</strong> </td>\n",
       "        <td> 0.00235 </td>\n",
       "        <td style=\"background-color:rgb(250,250,250);color:black\"> 0.0000 </td>\n",
       "    </tr>\n",
       "    <tr>\n",
       "        <th> x4 </th>\n",
       "        <td style=\"background-color:rgb(250,250,250);color:black\"> 0.105e-6 </td>\n",
       "        <td style=\"background-color:rgb(250,250,250);color:black\"> -0.4e-6 </td>\n",
       "        <td style=\"background-color:rgb(250,250,250);color:black\"> 0 </td>\n",
       "        <td style=\"background-color:rgb(250,250,250);color:black\"> 0.0000 </td>\n",
       "        <td> 4 </td>\n",
       "    </tr>\n",
       "</table>"
      ],
      "text/plain": [
       "┌─────────────────────────────────────────────────────────────────────────┐\n",
       "│                                Migrad                                   │\n",
       "├──────────────────────────────────┬──────────────────────────────────────┤\n",
       "│ FCN = 510.8 (χ²/ndof = 73.0)     │              Nfcn = 878              │\n",
       "│ EDM = 1.38e-08 (Goal: 2e-06)     │                                      │\n",
       "├──────────────────────────────────┼──────────────────────────────────────┤\n",
       "│          Valid Minimum           │   Below EDM threshold (goal x 10)    │\n",
       "├──────────────────────────────────┼──────────────────────────────────────┤\n",
       "│      No parameters at limit      │           Below call limit           │\n",
       "├──────────────────────────────────┼──────────────────────────────────────┤\n",
       "│             Hesse ok             │         Covariance accurate          │\n",
       "└──────────────────────────────────┴──────────────────────────────────────┘\n",
       "┌───┬──────┬───────────┬───────────┬────────────┬────────────┬─────────┬─────────┬───────┐\n",
       "│   │ Name │   Value   │ Hesse Err │ Minos Err- │ Minos Err+ │ Limit-  │ Limit+  │ Fixed │\n",
       "├───┼──────┼───────────┼───────────┼────────────┼────────────┼─────────┼─────────┼───────┤\n",
       "│ 0 │ x0   │ 73.70e-3  │  0.11e-3  │            │            │         │         │       │\n",
       "│ 1 │ x1   │  0.0335   │  0.0015   │            │            │         │         │       │\n",
       "│ 2 │ x2   │   0.383   │   0.022   │            │            │         │         │       │\n",
       "│ 3 │ x3   │   0.00    │   0.05    │            │            │         │         │       │\n",
       "│ 4 │ x4   │    8.7    │    2.0    │            │            │         │         │       │\n",
       "└───┴──────┴───────────┴───────────┴────────────┴────────────┴─────────┴─────────┴───────┘\n",
       "┌────┬───────────────────────────────────────────────────┐\n",
       "│    │        x0        x1        x2        x3        x4 │\n",
       "├────┼───────────────────────────────────────────────────┤\n",
       "│ x0 │  1.26e-08 -0.083e-6  1.673e-6 -0.112e-6  0.105e-6 │\n",
       "│ x1 │ -0.083e-6   2.2e-06  -20.1e-6    0.4e-6   -0.4e-6 │\n",
       "│ x2 │  1.673e-6  -20.1e-6    0.0005        -0         0 │\n",
       "│ x3 │ -0.112e-6    0.4e-6        -0   0.00235    0.0000 │\n",
       "│ x4 │  0.105e-6   -0.4e-6         0    0.0000         4 │\n",
       "└────┴───────────────────────────────────────────────────┘"
      ]
     },
     "execution_count": 101,
     "metadata": {},
     "output_type": "execute_result"
    },
    {
     "data": {
      "text/plain": [
       "0.0974749988132817"
      ]
     },
     "execution_count": 101,
     "metadata": {},
     "output_type": "execute_result"
    },
    {
     "data": {
      "text/plain": [
       "0.08010775914962798"
      ]
     },
     "execution_count": 101,
     "metadata": {},
     "output_type": "execute_result"
    },
    {
     "data": {
      "text/plain": [
       "0.0019761504919516724"
      ]
     },
     "execution_count": 101,
     "metadata": {},
     "output_type": "execute_result"
    },
    {
     "data": {
      "text/plain": [
       "<ErrorbarContainer object of 3 artists>"
      ]
     },
     "execution_count": 101,
     "metadata": {},
     "output_type": "execute_result"
    },
    {
     "data": {
      "text/plain": [
       "[<matplotlib.lines.Line2D at 0x295f4dd90>]"
      ]
     },
     "execution_count": 101,
     "metadata": {},
     "output_type": "execute_result"
    },
    {
     "data": {
      "image/png": "[encoded data removed]",
      "text/plain": [
       "<Figure size 640x480 with 1 Axes>"
      ]
     },
     "metadata": {},
     "output_type": "display_data"
    }
   ],
   "source": [
    "lt=len(Gc[0])\n",
    "data_t   = np.linspace(1, lt, lt)\n",
    "data_y   = ensemble_stat(Gc).mean()\n",
    "data_cov = ensemble_stat(Gc).rcov()\n",
    "data_err = np.sqrt(np.diagonal(ensemble_stat(Gc).rcov()))\n",
    "\n",
    "mcalls=5000\n",
    "mtol=0.001\n",
    "\n",
    "m=RepeatSingleFit(data_t, data_y, data_cov, 1, 12, [0.1,0.1,1.,.1,2.], 'exp_np_norm_geom', mcalls, mtol,1)\n",
    "\n",
    "m.minimize()\n",
    "ma=MA_fit(m.minimize())\n",
    "\n",
    "np.log(2/data_y[0])\n",
    "\n",
    "loglimG_norm_geom(0,*ma.pars())\n",
    "prop_err(0.,'loglimG_geom',ma.pars(),ma.errs(),ma.corrs())[0]\n",
    "\n",
    "plt.errorbar(data_t, data_y, data_err, fmt=\"ok\", label=\"data\")\n",
    "plt.plot(data_t, exp_np_norm_geom(data_t, *m.minimize().values), label=\"fit\")"
   ]
  },
  {
   "cell_type": "code",
   "execution_count": null,
   "metadata": {},
   "outputs": [
    {
     "data": {
      "text/html": [
       "<table>\n",
       "    <tr>\n",
       "        <th colspan=\"2\" style=\"text-align:center\" title=\"Minimizer\"> Migrad </th>\n",
       "    </tr>\n",
       "    <tr>\n",
       "        <td style=\"text-align:left\" title=\"Minimum value of function\"> FCN = 11.06 (χ²/ndof = 1.8) </td>\n",
       "        <td style=\"text-align:center\" title=\"Total number of function and (optional) gradient evaluations\"> Nfcn = 2075 </td>\n",
       "    </tr>\n",
       "    <tr>\n",
       "        <td style=\"text-align:left\" title=\"Estimated distance to minimum and goal\"> EDM = 1.85e-17 (Goal: 2e-06) </td>\n",
       "        <td style=\"text-align:center\" title=\"Total run time of algorithms\">  </td>\n",
       "    </tr>\n",
       "    <tr>\n",
       "        <td style=\"text-align:center;background-color:#92CCA6;color:black\"> Valid Minimum </td>\n",
       "        <td style=\"text-align:center;background-color:#92CCA6;color:black\"> Below EDM threshold (goal x 10) </td>\n",
       "    </tr>\n",
       "    <tr>\n",
       "        <td style=\"text-align:center;background-color:#92CCA6;color:black\"> No parameters at limit </td>\n",
       "        <td style=\"text-align:center;background-color:#92CCA6;color:black\"> Below call limit </td>\n",
       "    </tr>\n",
       "    <tr>\n",
       "        <td style=\"text-align:center;background-color:#92CCA6;color:black\"> Hesse ok </td>\n",
       "        <td style=\"text-align:center;background-color:#92CCA6;color:black\"> Covariance accurate </td>\n",
       "    </tr>\n",
       "</table><table>\n",
       "    <tr>\n",
       "        <td></td>\n",
       "        <th title=\"Variable name\"> Name </th>\n",
       "        <th title=\"Value of parameter\"> Value </th>\n",
       "        <th title=\"Hesse error\"> Hesse Error </th>\n",
       "        <th title=\"Minos lower error\"> Minos Error- </th>\n",
       "        <th title=\"Minos upper error\"> Minos Error+ </th>\n",
       "        <th title=\"Lower limit of the parameter\"> Limit- </th>\n",
       "        <th title=\"Upper limit of the parameter\"> Limit+ </th>\n",
       "        <th title=\"Is the parameter fixed in the fit\"> Fixed </th>\n",
       "    </tr>\n",
       "    <tr>\n",
       "        <th> 0 </th>\n",
       "        <td> x0 </td>\n",
       "        <td> 82.42e-3 </td>\n",
       "        <td> 0.35e-3 </td>\n",
       "        <td>  </td>\n",
       "        <td>  </td>\n",
       "        <td>  </td>\n",
       "        <td>  </td>\n",
       "        <td>  </td>\n",
       "    </tr>\n",
       "    <tr>\n",
       "        <th> 1 </th>\n",
       "        <td> x1 </td>\n",
       "        <td> -1.93e-3 </td>\n",
       "        <td> 0.26e-3 </td>\n",
       "        <td>  </td>\n",
       "        <td>  </td>\n",
       "        <td>  </td>\n",
       "        <td>  </td>\n",
       "        <td>  </td>\n",
       "    </tr>\n",
       "    <tr>\n",
       "        <th> 2 </th>\n",
       "        <td> x2 </td>\n",
       "        <td> 0.25e-3 </td>\n",
       "        <td> 0.08e-3 </td>\n",
       "        <td>  </td>\n",
       "        <td>  </td>\n",
       "        <td>  </td>\n",
       "        <td>  </td>\n",
       "        <td>  </td>\n",
       "    </tr>\n",
       "    <tr>\n",
       "        <th> 3 </th>\n",
       "        <td> x3 </td>\n",
       "        <td> 16e-6 </td>\n",
       "        <td> 9e-6 </td>\n",
       "        <td>  </td>\n",
       "        <td>  </td>\n",
       "        <td>  </td>\n",
       "        <td>  </td>\n",
       "        <td>  </td>\n",
       "    </tr>\n",
       "    <tr>\n",
       "        <th> 4 </th>\n",
       "        <td> x4 </td>\n",
       "        <td> 0.4e-6 </td>\n",
       "        <td> 0.4e-6 </td>\n",
       "        <td>  </td>\n",
       "        <td>  </td>\n",
       "        <td>  </td>\n",
       "        <td>  </td>\n",
       "        <td>  </td>\n",
       "    </tr>\n",
       "</table><table>\n",
       "    <tr>\n",
       "        <td></td>\n",
       "        <th> x0 </th>\n",
       "        <th> x1 </th>\n",
       "        <th> x2 </th>\n",
       "        <th> x3 </th>\n",
       "        <th> x4 </th>\n",
       "    </tr>\n",
       "    <tr>\n",
       "        <th> x0 </th>\n",
       "        <td> 1.23e-07 </td>\n",
       "        <td style=\"background-color:rgb(148,148,250);color:black\"> -0.07e-6 <strong>(-0.788)</strong> </td>\n",
       "        <td style=\"background-color:rgb(250,144,144);color:black\"> 19e-9 <strong>(0.704)</strong> </td>\n",
       "        <td style=\"background-color:rgb(250,151,151);color:black\"> 2.08e-9 <strong>(0.658)</strong> </td>\n",
       "        <td style=\"background-color:rgb(250,157,157);color:black\"> 78.17e-12 <strong>(0.623)</strong> </td>\n",
       "    </tr>\n",
       "    <tr>\n",
       "        <th> x1 </th>\n",
       "        <td style=\"background-color:rgb(148,148,250);color:black\"> -0.07e-6 <strong>(-0.788)</strong> </td>\n",
       "        <td> 6.68e-08 </td>\n",
       "        <td style=\"background-color:rgb(122,122,250);color:black\"> -20e-9 <strong>(-0.983)</strong> </td>\n",
       "        <td style=\"background-color:rgb(126,126,250);color:black\"> -2.22e-9 <strong>(-0.956)</strong> </td>\n",
       "        <td style=\"background-color:rgb(130,130,250);color:black\"> -85.66e-12 <strong>(-0.926)</strong> </td>\n",
       "    </tr>\n",
       "    <tr>\n",
       "        <th> x2 </th>\n",
       "        <td style=\"background-color:rgb(250,144,144);color:black\"> 19e-9 <strong>(0.704)</strong> </td>\n",
       "        <td style=\"background-color:rgb(122,122,250);color:black\"> -20e-9 <strong>(-0.983)</strong> </td>\n",
       "        <td> 5.96e-09 </td>\n",
       "        <td style=\"background-color:rgb(250,101,101);color:black\"> 0.69e-9 <strong>(0.992)</strong> </td>\n",
       "        <td style=\"background-color:rgb(250,104,104);color:black\"> 26.95e-12 <strong>(0.975)</strong> </td>\n",
       "    </tr>\n",
       "    <tr>\n",
       "        <th> x3 </th>\n",
       "        <td style=\"background-color:rgb(250,151,151);color:black\"> 2.08e-9 <strong>(0.658)</strong> </td>\n",
       "        <td style=\"background-color:rgb(126,126,250);color:black\"> -2.22e-9 <strong>(-0.956)</strong> </td>\n",
       "        <td style=\"background-color:rgb(250,101,101);color:black\"> 0.69e-9 <strong>(0.992)</strong> </td>\n",
       "        <td> 8.11e-11 </td>\n",
       "        <td style=\"background-color:rgb(250,101,101);color:black\"> 3.21e-12 <strong>(0.995)</strong> </td>\n",
       "    </tr>\n",
       "    <tr>\n",
       "        <th> x4 </th>\n",
       "        <td style=\"background-color:rgb(250,157,157);color:black\"> 78.17e-12 <strong>(0.623)</strong> </td>\n",
       "        <td style=\"background-color:rgb(130,130,250);color:black\"> -85.66e-12 <strong>(-0.926)</strong> </td>\n",
       "        <td style=\"background-color:rgb(250,104,104);color:black\"> 26.95e-12 <strong>(0.975)</strong> </td>\n",
       "        <td style=\"background-color:rgb(250,101,101);color:black\"> 3.21e-12 <strong>(0.995)</strong> </td>\n",
       "        <td> 1.28e-13 </td>\n",
       "    </tr>\n",
       "</table>"
      ],
      "text/plain": [
       "┌─────────────────────────────────────────────────────────────────────────┐\n",
       "│                                Migrad                                   │\n",
       "├──────────────────────────────────┬──────────────────────────────────────┤\n",
       "│ FCN = 11.06 (χ²/ndof = 1.8)      │             Nfcn = 2075              │\n",
       "│ EDM = 1.85e-17 (Goal: 2e-06)     │                                      │\n",
       "├──────────────────────────────────┼──────────────────────────────────────┤\n",
       "│          Valid Minimum           │   Below EDM threshold (goal x 10)    │\n",
       "├──────────────────────────────────┼──────────────────────────────────────┤\n",
       "│      No parameters at limit      │           Below call limit           │\n",
       "├──────────────────────────────────┼──────────────────────────────────────┤\n",
       "│             Hesse ok             │         Covariance accurate          │\n",
       "└──────────────────────────────────┴──────────────────────────────────────┘\n",
       "┌───┬──────┬───────────┬───────────┬────────────┬────────────┬─────────┬─────────┬───────┐\n",
       "│   │ Name │   Value   │ Hesse Err │ Minos Err- │ Minos Err+ │ Limit-  │ Limit+  │ Fixed │\n",
       "├───┼──────┼───────────┼───────────┼────────────┼────────────┼─────────┼─────────┼───────┤\n",
       "│ 0 │ x0   │ 82.42e-3  │  0.35e-3  │            │            │         │         │       │\n",
       "│ 1 │ x1   │ -1.93e-3  │  0.26e-3  │            │            │         │         │       │\n",
       "│ 2 │ x2   │  0.25e-3  │  0.08e-3  │            │            │         │         │       │\n",
       "│ 3 │ x3   │   16e-6   │   9e-6    │            │            │         │         │       │\n",
       "│ 4 │ x4   │  0.4e-6   │  0.4e-6   │            │            │         │         │       │\n",
       "└───┴──────┴───────────┴───────────┴────────────┴────────────┴─────────┴─────────┴───────┘\n",
       "┌────┬────────────────────────────────────────────────────────┐\n",
       "│    │         x0         x1         x2         x3         x4 │\n",
       "├────┼────────────────────────────────────────────────────────┤\n",
       "│ x0 │   1.23e-07   -0.07e-6      19e-9    2.08e-9  78.17e-12 │\n",
       "│ x1 │   -0.07e-6   6.68e-08     -20e-9   -2.22e-9 -85.66e-12 │\n",
       "│ x2 │      19e-9     -20e-9   5.96e-09    0.69e-9  26.95e-12 │\n",
       "│ x3 │    2.08e-9   -2.22e-9    0.69e-9   8.11e-11   3.21e-12 │\n",
       "│ x4 │  78.17e-12 -85.66e-12  26.95e-12   3.21e-12   1.28e-13 │\n",
       "└────┴────────────────────────────────────────────────────────┘"
      ]
     },
     "execution_count": 102,
     "metadata": {},
     "output_type": "execute_result"
    },
    {
     "data": {
      "text/plain": [
       "0.0808390840592204"
      ]
     },
     "execution_count": 102,
     "metadata": {},
     "output_type": "execute_result"
    },
    {
     "data": {
      "text/plain": [
       "0.08242084351170165"
      ]
     },
     "execution_count": 102,
     "metadata": {},
     "output_type": "execute_result"
    },
    {
     "data": {
      "text/plain": [
       "0.0003505363288525132"
      ]
     },
     "execution_count": 102,
     "metadata": {},
     "output_type": "execute_result"
    },
    {
     "data": {
      "text/plain": [
       "<ErrorbarContainer object of 3 artists>"
      ]
     },
     "execution_count": 102,
     "metadata": {},
     "output_type": "execute_result"
    },
    {
     "data": {
      "text/plain": [
       "[<matplotlib.lines.Line2D at 0x292740250>]"
      ]
     },
     "execution_count": 102,
     "metadata": {},
     "output_type": "execute_result"
    },
    {
     "data": {
      "image/png": "[encoded data removed]",
      "text/plain": [
       "<Figure size 640x480 with 1 Axes>"
      ]
     },
     "metadata": {},
     "output_type": "display_data"
    }
   ],
   "source": [
    "logG=np.log(jackknife(Gc).sample())\n",
    "dlogG=np.log(ratio(trim_negative(Gc).trimmed()).val())\n",
    "\n",
    "lt=len(dlogG[0])\n",
    "data_t   = np.linspace(1, lt, lt)\n",
    "data_y   = ensemble_stat(dlogG).mean()\n",
    "data_cov = ensemble_stat(dlogG).rcov()\n",
    "data_err = np.sqrt(np.diagonal(ensemble_stat(dlogG).rcov()))\n",
    "\n",
    "m=RepeatSingleFit(data_t, data_y, data_cov, 1, 12, [1.,1.,1.,1.,1.], 'line_np', mcalls, mtol, 1)\n",
    "\n",
    "m.minimize()\n",
    "ma=MA_fit(m.minimize())\n",
    "data_y[0]\n",
    "line_np(0,*ma.pars())\n",
    "prop_err(0.,'line_np',ma.pars(),ma.errs(),ma.corrs())[0]\n",
    "\n",
    "plt.errorbar(data_t, data_y, data_err, fmt=\"ok\", label=\"data\")\n",
    "plt.plot(data_t, line_np(data_t, *m.minimize().values), label=\"fit\")"
   ]
  },
  {
   "cell_type": "code",
   "execution_count": null,
   "metadata": {},
   "outputs": [
    {
     "data": {
      "text/html": [
       "<table>\n",
       "    <tr>\n",
       "        <th colspan=\"2\" style=\"text-align:center\" title=\"Minimizer\"> Migrad </th>\n",
       "    </tr>\n",
       "    <tr>\n",
       "        <td style=\"text-align:left\" title=\"Minimum value of function\"> FCN = 10.26 (χ²/ndof = 2.1) </td>\n",
       "        <td style=\"text-align:center\" title=\"Total number of function and (optional) gradient evaluations\"> Nfcn = 1124 </td>\n",
       "    </tr>\n",
       "    <tr>\n",
       "        <td style=\"text-align:left\" title=\"Estimated distance to minimum and goal\"> EDM = 6.24e-18 (Goal: 2e-06) </td>\n",
       "        <td style=\"text-align:center\" title=\"Total run time of algorithms\">  </td>\n",
       "    </tr>\n",
       "    <tr>\n",
       "        <td style=\"text-align:center;background-color:#92CCA6;color:black\"> Valid Minimum </td>\n",
       "        <td style=\"text-align:center;background-color:#92CCA6;color:black\"> Below EDM threshold (goal x 10) </td>\n",
       "    </tr>\n",
       "    <tr>\n",
       "        <td style=\"text-align:center;background-color:#92CCA6;color:black\"> No parameters at limit </td>\n",
       "        <td style=\"text-align:center;background-color:#92CCA6;color:black\"> Below call limit </td>\n",
       "    </tr>\n",
       "    <tr>\n",
       "        <td style=\"text-align:center;background-color:#92CCA6;color:black\"> Hesse ok </td>\n",
       "        <td style=\"text-align:center;background-color:#92CCA6;color:black\"> Covariance accurate </td>\n",
       "    </tr>\n",
       "</table><table>\n",
       "    <tr>\n",
       "        <td></td>\n",
       "        <th title=\"Variable name\"> Name </th>\n",
       "        <th title=\"Value of parameter\"> Value </th>\n",
       "        <th title=\"Hesse error\"> Hesse Error </th>\n",
       "        <th title=\"Minos lower error\"> Minos Error- </th>\n",
       "        <th title=\"Minos upper error\"> Minos Error+ </th>\n",
       "        <th title=\"Lower limit of the parameter\"> Limit- </th>\n",
       "        <th title=\"Upper limit of the parameter\"> Limit+ </th>\n",
       "        <th title=\"Is the parameter fixed in the fit\"> Fixed </th>\n",
       "    </tr>\n",
       "    <tr>\n",
       "        <th> 0 </th>\n",
       "        <td> x0 </td>\n",
       "        <td> -677.98e-3 </td>\n",
       "        <td> 0.32e-3 </td>\n",
       "        <td>  </td>\n",
       "        <td>  </td>\n",
       "        <td>  </td>\n",
       "        <td>  </td>\n",
       "        <td>  </td>\n",
       "    </tr>\n",
       "    <tr>\n",
       "        <th> 1 </th>\n",
       "        <td> x1 </td>\n",
       "        <td> 83.36e-3 </td>\n",
       "        <td> 0.27e-3 </td>\n",
       "        <td>  </td>\n",
       "        <td>  </td>\n",
       "        <td>  </td>\n",
       "        <td>  </td>\n",
       "        <td>  </td>\n",
       "    </tr>\n",
       "    <tr>\n",
       "        <th> 2 </th>\n",
       "        <td> x2 </td>\n",
       "        <td> -0.98e-3 </td>\n",
       "        <td> 0.09e-3 </td>\n",
       "        <td>  </td>\n",
       "        <td>  </td>\n",
       "        <td>  </td>\n",
       "        <td>  </td>\n",
       "        <td>  </td>\n",
       "    </tr>\n",
       "    <tr>\n",
       "        <th> 3 </th>\n",
       "        <td> x3 </td>\n",
       "        <td> -0.065e-3 </td>\n",
       "        <td> 0.012e-3 </td>\n",
       "        <td>  </td>\n",
       "        <td>  </td>\n",
       "        <td>  </td>\n",
       "        <td>  </td>\n",
       "        <td>  </td>\n",
       "    </tr>\n",
       "    <tr>\n",
       "        <th> 4 </th>\n",
       "        <td> x4 </td>\n",
       "        <td> 1.8e-6 </td>\n",
       "        <td> 0.5e-6 </td>\n",
       "        <td>  </td>\n",
       "        <td>  </td>\n",
       "        <td>  </td>\n",
       "        <td>  </td>\n",
       "        <td>  </td>\n",
       "    </tr>\n",
       "</table><table>\n",
       "    <tr>\n",
       "        <td></td>\n",
       "        <th> x0 </th>\n",
       "        <th> x1 </th>\n",
       "        <th> x2 </th>\n",
       "        <th> x3 </th>\n",
       "        <th> x4 </th>\n",
       "    </tr>\n",
       "    <tr>\n",
       "        <th> x0 </th>\n",
       "        <td> 1.02e-07 </td>\n",
       "        <td style=\"background-color:rgb(169,169,250);color:black\"> -0.05e-6 <strong>(-0.625)</strong> </td>\n",
       "        <td style=\"background-color:rgb(250,169,169);color:black\"> 16e-9 <strong>(0.541)</strong> </td>\n",
       "        <td style=\"background-color:rgb(250,173,173);color:black\"> 1.96e-9 <strong>(0.515)</strong> </td>\n",
       "        <td style=\"background-color:rgb(186,186,250);color:black\"> -82.61e-12 <strong>(-0.496)</strong> </td>\n",
       "    </tr>\n",
       "    <tr>\n",
       "        <th> x1 </th>\n",
       "        <td style=\"background-color:rgb(169,169,250);color:black\"> -0.05e-6 <strong>(-0.625)</strong> </td>\n",
       "        <td> 7.35e-08 </td>\n",
       "        <td style=\"background-color:rgb(125,125,250);color:black\"> -24e-9 <strong>(-0.960)</strong> </td>\n",
       "        <td style=\"background-color:rgb(132,132,250);color:black\"> -2.93e-9 <strong>(-0.906)</strong> </td>\n",
       "        <td style=\"background-color:rgb(250,120,120);color:black\"> 122.17e-12 <strong>(0.864)</strong> </td>\n",
       "    </tr>\n",
       "    <tr>\n",
       "        <th> x2 </th>\n",
       "        <td style=\"background-color:rgb(250,169,169);color:black\"> 16e-9 <strong>(0.541)</strong> </td>\n",
       "        <td style=\"background-color:rgb(125,125,250);color:black\"> -24e-9 <strong>(-0.960)</strong> </td>\n",
       "        <td> 8.42e-09 </td>\n",
       "        <td style=\"background-color:rgb(250,102,102);color:black\"> 1.08e-9 <strong>(0.986)</strong> </td>\n",
       "        <td style=\"background-color:rgb(125,125,250);color:black\"> -46.06e-12 <strong>(-0.962)</strong> </td>\n",
       "    </tr>\n",
       "    <tr>\n",
       "        <th> x3 </th>\n",
       "        <td style=\"background-color:rgb(250,173,173);color:black\"> 1.96e-9 <strong>(0.515)</strong> </td>\n",
       "        <td style=\"background-color:rgb(132,132,250);color:black\"> -2.93e-9 <strong>(-0.906)</strong> </td>\n",
       "        <td style=\"background-color:rgb(250,102,102);color:black\"> 1.08e-9 <strong>(0.986)</strong> </td>\n",
       "        <td> 1.43e-10 </td>\n",
       "        <td style=\"background-color:rgb(121,121,250);color:black\"> -6.19e-12 <strong>(-0.994)</strong> </td>\n",
       "    </tr>\n",
       "    <tr>\n",
       "        <th> x4 </th>\n",
       "        <td style=\"background-color:rgb(186,186,250);color:black\"> -82.61e-12 <strong>(-0.496)</strong> </td>\n",
       "        <td style=\"background-color:rgb(250,120,120);color:black\"> 122.17e-12 <strong>(0.864)</strong> </td>\n",
       "        <td style=\"background-color:rgb(125,125,250);color:black\"> -46.06e-12 <strong>(-0.962)</strong> </td>\n",
       "        <td style=\"background-color:rgb(121,121,250);color:black\"> -6.19e-12 <strong>(-0.994)</strong> </td>\n",
       "        <td> 2.72e-13 </td>\n",
       "    </tr>\n",
       "</table>"
      ],
      "text/plain": [
       "┌─────────────────────────────────────────────────────────────────────────┐\n",
       "│                                Migrad                                   │\n",
       "├──────────────────────────────────┬──────────────────────────────────────┤\n",
       "│ FCN = 10.26 (χ²/ndof = 2.1)      │             Nfcn = 1124              │\n",
       "│ EDM = 6.24e-18 (Goal: 2e-06)     │                                      │\n",
       "├──────────────────────────────────┼──────────────────────────────────────┤\n",
       "│          Valid Minimum           │   Below EDM threshold (goal x 10)    │\n",
       "├──────────────────────────────────┼──────────────────────────────────────┤\n",
       "│      No parameters at limit      │           Below call limit           │\n",
       "├──────────────────────────────────┼──────────────────────────────────────┤\n",
       "│             Hesse ok             │         Covariance accurate          │\n",
       "└──────────────────────────────────┴──────────────────────────────────────┘\n",
       "┌───┬──────┬───────────┬───────────┬────────────┬────────────┬─────────┬─────────┬───────┐\n",
       "│   │ Name │   Value   │ Hesse Err │ Minos Err- │ Minos Err+ │ Limit-  │ Limit+  │ Fixed │\n",
       "├───┼──────┼───────────┼───────────┼────────────┼────────────┼─────────┼─────────┼───────┤\n",
       "│ 0 │ x0   │-677.98e-3 │  0.32e-3  │            │            │         │         │       │\n",
       "│ 1 │ x1   │ 83.36e-3  │  0.27e-3  │            │            │         │         │       │\n",
       "│ 2 │ x2   │ -0.98e-3  │  0.09e-3  │            │            │         │         │       │\n",
       "│ 3 │ x3   │ -0.065e-3 │ 0.012e-3  │            │            │         │         │       │\n",
       "│ 4 │ x4   │  1.8e-6   │  0.5e-6   │            │            │         │         │       │\n",
       "└───┴──────┴───────────┴───────────┴────────────┴────────────┴─────────┴─────────┴───────┘\n",
       "┌────┬────────────────────────────────────────────────────────┐\n",
       "│    │         x0         x1         x2         x3         x4 │\n",
       "├────┼────────────────────────────────────────────────────────┤\n",
       "│ x0 │   1.02e-07   -0.05e-6      16e-9    1.96e-9 -82.61e-12 │\n",
       "│ x1 │   -0.05e-6   7.35e-08     -24e-9   -2.93e-9 122.17e-12 │\n",
       "│ x2 │      16e-9     -24e-9   8.42e-09    1.08e-9 -46.06e-12 │\n",
       "│ x3 │    1.96e-9   -2.93e-9    1.08e-9   1.43e-10  -6.19e-12 │\n",
       "│ x4 │ -82.61e-12 122.17e-12 -46.06e-12  -6.19e-12   2.72e-13 │\n",
       "└────┴────────────────────────────────────────────────────────┘"
      ]
     },
     "execution_count": 108,
     "metadata": {},
     "output_type": "execute_result"
    },
    {
     "data": {
      "text/plain": [
       "0.09766707791964047"
      ]
     },
     "execution_count": 108,
     "metadata": {},
     "output_type": "execute_result"
    },
    {
     "data": {
      "text/plain": [
       "0.08335515790658388"
      ]
     },
     "execution_count": 108,
     "metadata": {},
     "output_type": "execute_result"
    },
    {
     "data": {
      "text/plain": [
       "<ErrorbarContainer object of 3 artists>"
      ]
     },
     "execution_count": 108,
     "metadata": {},
     "output_type": "execute_result"
    },
    {
     "data": {
      "text/plain": [
       "[<matplotlib.lines.Line2D at 0x17ecf8f10>]"
      ]
     },
     "execution_count": 108,
     "metadata": {},
     "output_type": "execute_result"
    },
    {
     "data": {
      "image/png": "[encoded data removed]",
      "text/plain": [
       "<Figure size 640x480 with 1 Axes>"
      ]
     },
     "metadata": {},
     "output_type": "display_data"
    }
   ],
   "source": [
    "logG=np.log(trim_negative(Gc).trimmed())\n",
    "\n",
    "lt=len(logG[0])\n",
    "data_t   = np.linspace(1, lt, lt)\n",
    "data_y   = ensemble_stat(logG).mean()\n",
    "data_cov = ensemble_stat(logG).rcov()\n",
    "data_err = np.sqrt(np.diagonal(ensemble_stat(logG).rcov()))\n",
    "\n",
    "m=RepeatSingleFit(data_t, data_y, data_cov, 1, 10, [0.,0.1,0.1,0.1,0.1], 'line_np', mcalls, mtol, 1)\n",
    "\n",
    "m.minimize()\n",
    "ma=MA_fit(m.minimize())\n",
    "np.log(2)-data_y[0]\n",
    "limG(0,*ma.pars())\n",
    "#prop_err(0.,'limG_norm',ma.pars(),ma.errs(),ma.corrs())[0]\n",
    "\n",
    "plt.errorbar(data_t, data_y, data_err, fmt=\"ok\", label=\"data\")\n",
    "plt.plot(data_t, line_np(data_t, *m.minimize().values), label=\"fit\")"
   ]
  },
  {
   "cell_type": "code",
   "execution_count": null,
   "metadata": {},
   "outputs": [
    {
     "data": {
      "text/html": [
       "<table>\n",
       "    <tr>\n",
       "        <th colspan=\"2\" style=\"text-align:center\" title=\"Minimizer\"> Migrad </th>\n",
       "    </tr>\n",
       "    <tr>\n",
       "        <td style=\"text-align:left\" title=\"Minimum value of function\"> FCN = 2265 (χ²/ndof = 453.0) </td>\n",
       "        <td style=\"text-align:center\" title=\"Total number of function and (optional) gradient evaluations\"> Nfcn = 1166 </td>\n",
       "    </tr>\n",
       "    <tr>\n",
       "        <td style=\"text-align:left\" title=\"Estimated distance to minimum and goal\"> EDM = 3.06e-08 (Goal: 2e-06) </td>\n",
       "        <td style=\"text-align:center\" title=\"Total run time of algorithms\">  </td>\n",
       "    </tr>\n",
       "    <tr>\n",
       "        <td style=\"text-align:center;background-color:#c15ef7;color:black\"> INVALID Minimum </td>\n",
       "        <td style=\"text-align:center;background-color:#92CCA6;color:black\"> Below EDM threshold (goal x 10) </td>\n",
       "    </tr>\n",
       "    <tr>\n",
       "        <td style=\"text-align:center;background-color:#92CCA6;color:black\"> No parameters at limit </td>\n",
       "        <td style=\"text-align:center;background-color:#92CCA6;color:black\"> Below call limit </td>\n",
       "    </tr>\n",
       "    <tr>\n",
       "        <td style=\"text-align:center;background-color:#c15ef7;color:black\"> Hesse FAILED </td>\n",
       "        <td style=\"text-align:center;background-color:#c15ef7;color:black\"> Covariance NOT pos. def. </td>\n",
       "    </tr>\n",
       "</table><table>\n",
       "    <tr>\n",
       "        <td></td>\n",
       "        <th title=\"Variable name\"> Name </th>\n",
       "        <th title=\"Value of parameter\"> Value </th>\n",
       "        <th title=\"Hesse error\"> Hesse Error </th>\n",
       "        <th title=\"Minos lower error\"> Minos Error- </th>\n",
       "        <th title=\"Minos upper error\"> Minos Error+ </th>\n",
       "        <th title=\"Lower limit of the parameter\"> Limit- </th>\n",
       "        <th title=\"Upper limit of the parameter\"> Limit+ </th>\n",
       "        <th title=\"Is the parameter fixed in the fit\"> Fixed </th>\n",
       "    </tr>\n",
       "    <tr>\n",
       "        <th> 0 </th>\n",
       "        <td> x0 </td>\n",
       "        <td> 3.3862e-1 </td>\n",
       "        <td> 0.0000e-1 </td>\n",
       "        <td>  </td>\n",
       "        <td>  </td>\n",
       "        <td>  </td>\n",
       "        <td>  </td>\n",
       "        <td>  </td>\n",
       "    </tr>\n",
       "    <tr>\n",
       "        <th> 1 </th>\n",
       "        <td> x1 </td>\n",
       "        <td> 9.1416e-2 </td>\n",
       "        <td> 0.0000e-2 </td>\n",
       "        <td>  </td>\n",
       "        <td>  </td>\n",
       "        <td>  </td>\n",
       "        <td>  </td>\n",
       "        <td>  </td>\n",
       "    </tr>\n",
       "    <tr>\n",
       "        <th> 2 </th>\n",
       "        <td> x2 </td>\n",
       "        <td> 3.342e-3 </td>\n",
       "        <td> 0.000e-3 </td>\n",
       "        <td>  </td>\n",
       "        <td>  </td>\n",
       "        <td>  </td>\n",
       "        <td>  </td>\n",
       "        <td>  </td>\n",
       "    </tr>\n",
       "    <tr>\n",
       "        <th> 3 </th>\n",
       "        <td> x3 </td>\n",
       "        <td> 3.581e-4 </td>\n",
       "        <td> 0.000e-4 </td>\n",
       "        <td>  </td>\n",
       "        <td>  </td>\n",
       "        <td>  </td>\n",
       "        <td>  </td>\n",
       "        <td>  </td>\n",
       "    </tr>\n",
       "    <tr>\n",
       "        <th> 4 </th>\n",
       "        <td> x4 </td>\n",
       "        <td> 1.4135e-5 </td>\n",
       "        <td> 0.0000e-5 </td>\n",
       "        <td>  </td>\n",
       "        <td>  </td>\n",
       "        <td>  </td>\n",
       "        <td>  </td>\n",
       "        <td>  </td>\n",
       "    </tr>\n",
       "</table>"
      ],
      "text/plain": [
       "┌─────────────────────────────────────────────────────────────────────────┐\n",
       "│                                Migrad                                   │\n",
       "├──────────────────────────────────┬──────────────────────────────────────┤\n",
       "│ FCN = 2265 (χ²/ndof = 453.0)     │             Nfcn = 1166              │\n",
       "│ EDM = 3.06e-08 (Goal: 2e-06)     │                                      │\n",
       "├──────────────────────────────────┼──────────────────────────────────────┤\n",
       "│         INVALID Minimum          │   Below EDM threshold (goal x 10)    │\n",
       "├──────────────────────────────────┼──────────────────────────────────────┤\n",
       "│      No parameters at limit      │           Below call limit           │\n",
       "├──────────────────────────────────┼──────────────────────────────────────┤\n",
       "│           Hesse FAILED           │       Covariance NOT pos. def.       │\n",
       "└──────────────────────────────────┴──────────────────────────────────────┘\n",
       "┌───┬──────┬───────────┬───────────┬────────────┬────────────┬─────────┬─────────┬───────┐\n",
       "│   │ Name │   Value   │ Hesse Err │ Minos Err- │ Minos Err+ │ Limit-  │ Limit+  │ Fixed │\n",
       "├───┼──────┼───────────┼───────────┼────────────┼────────────┼─────────┼─────────┼───────┤\n",
       "│ 0 │ x0   │ 3.3862e-1 │ 0.0000e-1 │            │            │         │         │       │\n",
       "│ 1 │ x1   │ 9.1416e-2 │ 0.0000e-2 │            │            │         │         │       │\n",
       "│ 2 │ x2   │ 3.342e-3  │ 0.000e-3  │            │            │         │         │       │\n",
       "│ 3 │ x3   │ 3.581e-4  │ 0.000e-4  │            │            │         │         │       │\n",
       "│ 4 │ x4   │ 1.4135e-5 │ 0.0000e-5 │            │            │         │         │       │\n",
       "└───┴──────┴───────────┴───────────┴────────────┴────────────┴─────────┴─────────┴───────┘"
      ]
     },
     "execution_count": 111,
     "metadata": {},
     "output_type": "execute_result"
    },
    {
     "data": {
      "text/plain": [
       "0.09766707791964047"
      ]
     },
     "execution_count": 111,
     "metadata": {},
     "output_type": "execute_result"
    },
    {
     "data": {
      "text/plain": [
       "0.0914163886819308"
      ]
     },
     "execution_count": 111,
     "metadata": {},
     "output_type": "execute_result"
    },
    {
     "data": {
      "text/plain": [
       "<ErrorbarContainer object of 3 artists>"
      ]
     },
     "execution_count": 111,
     "metadata": {},
     "output_type": "execute_result"
    },
    {
     "data": {
      "text/plain": [
       "[<matplotlib.lines.Line2D at 0x2949bd990>]"
      ]
     },
     "execution_count": 111,
     "metadata": {},
     "output_type": "execute_result"
    },
    {
     "data": {
      "image/png": "[encoded data removed]",
      "text/plain": [
       "<Figure size 640x480 with 1 Axes>"
      ]
     },
     "metadata": {},
     "output_type": "display_data"
    }
   ],
   "source": [
    "logG=np.log(trim_negative(Gc).trimmed())\n",
    "\n",
    "lt=len(logG[0])\n",
    "data_t   = np.linspace(1, lt, lt)\n",
    "data_y   = ensemble_stat(logG).mean()\n",
    "data_cov = ensemble_stat(logG).rcov()\n",
    "data_err = np.sqrt(np.diagonal(ensemble_stat(logG).rcov()))\n",
    "\n",
    "m=RepeatSingleFit(data_t, data_y, data_cov, 1, 10, [0.1,0.1,0.1,0.1,0.1], 'line_np_norm', mcalls, mtol, 1)\n",
    "\n",
    "m.minimize()\n",
    "ma=MA_fit(m.minimize())\n",
    "np.log(2)-data_y[0]\n",
    "limG_norm(0,*ma.pars())\n",
    "#prop_err(0.,'limG_norm',ma.pars(),ma.errs(),ma.corrs())[0]\n",
    "\n",
    "plt.errorbar(data_t, data_y, data_err, fmt=\"ok\", label=\"data\")\n",
    "plt.plot(data_t, line_np_norm(data_t, *m.minimize().values), label=\"fit\")"
   ]
  },
  {
   "cell_type": "code",
   "execution_count": null,
   "metadata": {},
   "outputs": [
    {
     "data": {
      "text/html": [
       "<table>\n",
       "    <tr>\n",
       "        <th colspan=\"2\" style=\"text-align:center\" title=\"Minimizer\"> Migrad </th>\n",
       "    </tr>\n",
       "    <tr>\n",
       "        <td style=\"text-align:left\" title=\"Minimum value of function\"> FCN = 12.02 (χ²/ndof = 1.5) </td>\n",
       "        <td style=\"text-align:center\" title=\"Total number of function and (optional) gradient evaluations\"> Nfcn = 19691 </td>\n",
       "    </tr>\n",
       "    <tr>\n",
       "        <td style=\"text-align:left\" title=\"Estimated distance to minimum and goal\"> EDM = 2.91e-13 (Goal: 2e-06) </td>\n",
       "        <td style=\"text-align:center\" title=\"Total run time of algorithms\">  </td>\n",
       "    </tr>\n",
       "    <tr>\n",
       "        <td style=\"text-align:center;background-color:#92CCA6;color:black\"> Valid Minimum </td>\n",
       "        <td style=\"text-align:center;background-color:#92CCA6;color:black\"> Below EDM threshold (goal x 10) </td>\n",
       "    </tr>\n",
       "    <tr>\n",
       "        <td style=\"text-align:center;background-color:#92CCA6;color:black\"> No parameters at limit </td>\n",
       "        <td style=\"text-align:center;background-color:#92CCA6;color:black\"> Below call limit </td>\n",
       "    </tr>\n",
       "    <tr>\n",
       "        <td style=\"text-align:center;background-color:#92CCA6;color:black\"> Hesse ok </td>\n",
       "        <td style=\"text-align:center;background-color:#92CCA6;color:black\"> Covariance accurate </td>\n",
       "    </tr>\n",
       "</table><table>\n",
       "    <tr>\n",
       "        <td></td>\n",
       "        <th title=\"Variable name\"> Name </th>\n",
       "        <th title=\"Value of parameter\"> Value </th>\n",
       "        <th title=\"Hesse error\"> Hesse Error </th>\n",
       "        <th title=\"Minos lower error\"> Minos Error- </th>\n",
       "        <th title=\"Minos upper error\"> Minos Error+ </th>\n",
       "        <th title=\"Lower limit of the parameter\"> Limit- </th>\n",
       "        <th title=\"Upper limit of the parameter\"> Limit+ </th>\n",
       "        <th title=\"Is the parameter fixed in the fit\"> Fixed </th>\n",
       "    </tr>\n",
       "    <tr>\n",
       "        <th> 0 </th>\n",
       "        <td> x0 </td>\n",
       "        <td> -0.37 </td>\n",
       "        <td> 0.05 </td>\n",
       "        <td>  </td>\n",
       "        <td>  </td>\n",
       "        <td>  </td>\n",
       "        <td>  </td>\n",
       "        <td>  </td>\n",
       "    </tr>\n",
       "    <tr>\n",
       "        <th> 1 </th>\n",
       "        <td> x1 </td>\n",
       "        <td> 6.2 </td>\n",
       "        <td> 0.5 </td>\n",
       "        <td>  </td>\n",
       "        <td>  </td>\n",
       "        <td>  </td>\n",
       "        <td>  </td>\n",
       "        <td>  </td>\n",
       "    </tr>\n",
       "    <tr>\n",
       "        <th> 2 </th>\n",
       "        <td> x2 </td>\n",
       "        <td> 0.620 </td>\n",
       "        <td> 0.004 </td>\n",
       "        <td>  </td>\n",
       "        <td>  </td>\n",
       "        <td>  </td>\n",
       "        <td>  </td>\n",
       "        <td>  </td>\n",
       "    </tr>\n",
       "    <tr>\n",
       "        <th> 3 </th>\n",
       "        <td> x3 </td>\n",
       "        <td> -74.51e-3 </td>\n",
       "        <td> 0.18e-3 </td>\n",
       "        <td>  </td>\n",
       "        <td>  </td>\n",
       "        <td>  </td>\n",
       "        <td>  </td>\n",
       "        <td>  </td>\n",
       "    </tr>\n",
       "</table><table>\n",
       "    <tr>\n",
       "        <td></td>\n",
       "        <th> x0 </th>\n",
       "        <th> x1 </th>\n",
       "        <th> x2 </th>\n",
       "        <th> x3 </th>\n",
       "    </tr>\n",
       "    <tr>\n",
       "        <th> x0 </th>\n",
       "        <td> 0.00259 </td>\n",
       "        <td style=\"background-color:rgb(123,123,250);color:black\"> -0.0233 <strong>(-0.977)</strong> </td>\n",
       "        <td style=\"background-color:rgb(250,107,107);color:black\"> 0.209e-3 <strong>(0.952)</strong> </td>\n",
       "        <td style=\"background-color:rgb(162,162,250);color:black\"> -6.234e-6 <strong>(-0.673)</strong> </td>\n",
       "    </tr>\n",
       "    <tr>\n",
       "        <th> x1 </th>\n",
       "        <td style=\"background-color:rgb(123,123,250);color:black\"> -0.0233 <strong>(-0.977)</strong> </td>\n",
       "        <td> 0.22 </td>\n",
       "        <td style=\"background-color:rgb(137,137,250);color:black\"> -1.761e-3 <strong>(-0.872)</strong> </td>\n",
       "        <td style=\"background-color:rgb(250,148,148);color:black\"> 57.765e-6 <strong>(0.678)</strong> </td>\n",
       "    </tr>\n",
       "    <tr>\n",
       "        <th> x2 </th>\n",
       "        <td style=\"background-color:rgb(250,107,107);color:black\"> 0.209e-3 <strong>(0.952)</strong> </td>\n",
       "        <td style=\"background-color:rgb(137,137,250);color:black\"> -1.761e-3 <strong>(-0.872)</strong> </td>\n",
       "        <td> 1.86e-05 </td>\n",
       "        <td style=\"background-color:rgb(180,180,250);color:black\"> -0.425e-6 <strong>(-0.542)</strong> </td>\n",
       "    </tr>\n",
       "    <tr>\n",
       "        <th> x3 </th>\n",
       "        <td style=\"background-color:rgb(162,162,250);color:black\"> -6.234e-6 <strong>(-0.673)</strong> </td>\n",
       "        <td style=\"background-color:rgb(250,148,148);color:black\"> 57.765e-6 <strong>(0.678)</strong> </td>\n",
       "        <td style=\"background-color:rgb(180,180,250);color:black\"> -0.425e-6 <strong>(-0.542)</strong> </td>\n",
       "        <td> 3.31e-08 </td>\n",
       "    </tr>\n",
       "</table>"
      ],
      "text/plain": [
       "┌─────────────────────────────────────────────────────────────────────────┐\n",
       "│                                Migrad                                   │\n",
       "├──────────────────────────────────┬──────────────────────────────────────┤\n",
       "│ FCN = 12.02 (χ²/ndof = 1.5)      │             Nfcn = 19691             │\n",
       "│ EDM = 2.91e-13 (Goal: 2e-06)     │                                      │\n",
       "├──────────────────────────────────┼──────────────────────────────────────┤\n",
       "│          Valid Minimum           │   Below EDM threshold (goal x 10)    │\n",
       "├──────────────────────────────────┼──────────────────────────────────────┤\n",
       "│      No parameters at limit      │           Below call limit           │\n",
       "├──────────────────────────────────┼──────────────────────────────────────┤\n",
       "│             Hesse ok             │         Covariance accurate          │\n",
       "└──────────────────────────────────┴──────────────────────────────────────┘\n",
       "┌───┬──────┬───────────┬───────────┬────────────┬────────────┬─────────┬─────────┬───────┐\n",
       "│   │ Name │   Value   │ Hesse Err │ Minos Err- │ Minos Err+ │ Limit-  │ Limit+  │ Fixed │\n",
       "├───┼──────┼───────────┼───────────┼────────────┼────────────┼─────────┼─────────┼───────┤\n",
       "│ 0 │ x0   │   -0.37   │   0.05    │            │            │         │         │       │\n",
       "│ 1 │ x1   │    6.2    │    0.5    │            │            │         │         │       │\n",
       "│ 2 │ x2   │   0.620   │   0.004   │            │            │         │         │       │\n",
       "│ 3 │ x3   │ -74.51e-3 │  0.18e-3  │            │            │         │         │       │\n",
       "└───┴──────┴───────────┴───────────┴────────────┴────────────┴─────────┴─────────┴───────┘\n",
       "┌────┬─────────────────────────────────────────┐\n",
       "│    │        x0        x1        x2        x3 │\n",
       "├────┼─────────────────────────────────────────┤\n",
       "│ x0 │   0.00259   -0.0233  0.209e-3 -6.234e-6 │\n",
       "│ x1 │   -0.0233      0.22 -1.761e-3 57.765e-6 │\n",
       "│ x2 │  0.209e-3 -1.761e-3  1.86e-05 -0.425e-6 │\n",
       "│ x3 │ -6.234e-6 57.765e-6 -0.425e-6  3.31e-08 │\n",
       "└────┴─────────────────────────────────────────┘"
      ]
     },
     "execution_count": 113,
     "metadata": {},
     "output_type": "execute_result"
    },
    {
     "data": {
      "text/plain": [
       "0.0841008143250832"
      ]
     },
     "execution_count": 113,
     "metadata": {},
     "output_type": "execute_result"
    },
    {
     "data": {
      "text/plain": [
       "0.0004104970104198512"
      ]
     },
     "execution_count": 113,
     "metadata": {},
     "output_type": "execute_result"
    },
    {
     "data": {
      "text/plain": [
       "<ErrorbarContainer object of 3 artists>"
      ]
     },
     "execution_count": 113,
     "metadata": {},
     "output_type": "execute_result"
    },
    {
     "data": {
      "text/plain": [
       "[<matplotlib.lines.Line2D at 0x17ec87290>]"
      ]
     },
     "execution_count": 113,
     "metadata": {},
     "output_type": "execute_result"
    },
    {
     "data": {
      "image/png": "[encoded data removed]",
      "text/plain": [
       "<Figure size 640x480 with 1 Axes>"
      ]
     },
     "metadata": {},
     "output_type": "display_data"
    }
   ],
   "source": [
    "logG=np.log(Gc)\n",
    "\n",
    "lt=len(logG[0])\n",
    "data_t   = np.linspace(1, lt, lt)\n",
    "data_y   = ensemble_stat(logG).mean()\n",
    "data_cov = ensemble_stat(logG).rcov()\n",
    "data_err = np.sqrt(np.diagonal(ensemble_stat(logG).rcov()))\n",
    "\n",
    "m=RepeatSingleFit(data_t, data_y, data_cov, 1, 12, [1.,1.,1.,-1.], 'line_np_pole', mcalls, mtol, 1)\n",
    "\n",
    "m.minimize()\n",
    "ma=MA_fit(m.minimize())\n",
    "limGp(0,*ma.pars())\n",
    "prop_err(0.,'limGp',ma.pars(),ma.errs(),ma.corrs())[0]\n",
    "\n",
    "plt.errorbar(data_t, data_y, data_err, fmt=\"ok\", label=\"data\")\n",
    "plt.plot(data_t, line_np_pole(data_t, *m.minimize().values), label=\"fit\")"
   ]
  },
  {
   "cell_type": "code",
   "execution_count": null,
   "metadata": {},
   "outputs": [
    {
     "ename": "KeyboardInterrupt",
     "evalue": "",
     "output_type": "error",
     "traceback": [
      "\u001b[0;31m---------------------------------------------------------------------------\u001b[0m",
      "\u001b[0;31mKeyboardInterrupt\u001b[0m                         Traceback (most recent call last)",
      "Cell \u001b[0;32mIn[16], line 18\u001b[0m\n\u001b[1;32m     15\u001b[0m jackkl\u001b[38;5;241m=\u001b[39m\u001b[38;5;241m200\u001b[39m\n\u001b[1;32m     17\u001b[0m result\u001b[38;5;241m=\u001b[39mfitter(datarun[\u001b[38;5;241m0\u001b[39m], size, dini, dstop, dmindata, dfin, datatype_Gc, model_Gc, inipars_Gc, variants_Gc, mcalls, mtol, \u001b[38;5;241m1\u001b[39m, \u001b[38;5;241m1\u001b[39m)\n\u001b[0;32m---> 18\u001b[0m Vrlistavg, Vrlistsel, worstsel, listfinal \u001b[38;5;241m=\u001b[39m\u001b[43mresult\u001b[49m\u001b[38;5;241;43m.\u001b[39;49m\u001b[43mjackk_fit\u001b[49m\u001b[43m(\u001b[49m\u001b[43mjackkl\u001b[49m\u001b[43m)\u001b[49m\n",
      "File \u001b[0;32m~/Documents/GitHub/Coulomb_Lattice_analysis/Analysis/stats.py:785\u001b[0m, in \u001b[0;36mfitter.jackk_fit\u001b[0;34m(self, jackkflag)\u001b[0m\n\u001b[1;32m    783\u001b[0m varp              \u001b[38;5;241m=\u001b[39m \u001b[38;5;28mself\u001b[39m\u001b[38;5;241m.\u001b[39mvariants[\u001b[38;5;241m0\u001b[39m:lt\u001b[38;5;241m-\u001b[39m\u001b[38;5;241m1\u001b[39m]\n\u001b[1;32m    784\u001b[0m m                 \u001b[38;5;241m=\u001b[39m Modelsmin( data_t, data_y, data_cov, \u001b[38;5;28mself\u001b[39m\u001b[38;5;241m.\u001b[39mdini, \u001b[38;5;28mself\u001b[39m\u001b[38;5;241m.\u001b[39mdstop, \u001b[38;5;28mself\u001b[39m\u001b[38;5;241m.\u001b[39mdmindata, dfin, inipp, \u001b[38;5;28mself\u001b[39m\u001b[38;5;241m.\u001b[39mmodel, varp, \u001b[38;5;28mself\u001b[39m\u001b[38;5;241m.\u001b[39mdatatype, \u001b[38;5;28mself\u001b[39m\u001b[38;5;241m.\u001b[39mcalln, \u001b[38;5;28mself\u001b[39m\u001b[38;5;241m.\u001b[39mtol, \u001b[38;5;28mself\u001b[39m\u001b[38;5;241m.\u001b[39mreuse, \u001b[38;5;28mself\u001b[39m\u001b[38;5;241m.\u001b[39minv_first)\n\u001b[0;32m--> 785\u001b[0m mf                \u001b[38;5;241m=\u001b[39m \u001b[43mm\u001b[49m\u001b[38;5;241;43m.\u001b[39;49m\u001b[43mjackk_minimize\u001b[49m\u001b[43m(\u001b[49m\u001b[43m)\u001b[49m\n\u001b[1;32m    786\u001b[0m AIC_list          \u001b[38;5;241m=\u001b[39m Jackknife_AIClist(mf)\n\u001b[1;32m    787\u001b[0m meanchisq2[[r\u001b[38;5;241m-\u001b[39m\u001b[38;5;241m1\u001b[39m]] \u001b[38;5;241m=\u001b[39m AIC_list\u001b[38;5;241m.\u001b[39mchisq2dof()\n",
      "File \u001b[0;32m~/Documents/GitHub/Coulomb_Lattice_analysis/Analysis/stats.py:567\u001b[0m, in \u001b[0;36mModelsmin.jackk_minimize\u001b[0;34m(self)\u001b[0m\n\u001b[1;32m    563\u001b[0m                         finp\u001b[38;5;241m=\u001b[39mnp\u001b[38;5;241m.\u001b[39marray(m\u001b[38;5;241m.\u001b[39mminimize()\u001b[38;5;241m.\u001b[39mvalues)   \u001b[38;5;66;03m# Now reuse the best params for next model fit\u001b[39;00m\n\u001b[1;32m    565\u001b[0m                     maavg\u001b[38;5;241m+\u001b[39m\u001b[38;5;241m=\u001b[39mma\u001b[38;5;241m.\u001b[39mAICp()\u001b[38;5;241m/\u001b[39m\u001b[38;5;28mlen\u001b[39m(data_yt)\n\u001b[0;32m--> 567\u001b[0m                     statsfit\u001b[38;5;241m.\u001b[39mappend(stats_of_fits(\u001b[38;5;28mself\u001b[39m\u001b[38;5;241m.\u001b[39mdatatype,\u001b[43mm\u001b[49m\u001b[38;5;241;43m.\u001b[39;49m\u001b[43mminimize\u001b[49m\u001b[43m(\u001b[49m\u001b[43m)\u001b[49m,ma,\u001b[38;5;28mself\u001b[39m\u001b[38;5;241m.\u001b[39mmodel,\u001b[38;5;28mlen\u001b[39m(\u001b[38;5;28mself\u001b[39m\u001b[38;5;241m.\u001b[39minipars[\u001b[38;5;241m-\u001b[39m\u001b[38;5;241m1\u001b[39m]))\u001b[38;5;241m.\u001b[39mjackk_stats())\n\u001b[1;32m    569\u001b[0m                 listfits\u001b[38;5;241m.\u001b[39mappend([\u001b[38;5;28mself\u001b[39m\u001b[38;5;241m.\u001b[39mvariants[k],i,i\u001b[38;5;241m+\u001b[39mj\u001b[38;5;241m-\u001b[39m\u001b[38;5;241m1\u001b[39m,maavg,np\u001b[38;5;241m.\u001b[39marray(statsfit),\u001b[38;5;28mlen\u001b[39m(data_yt),np\u001b[38;5;241m.\u001b[39marray(m\u001b[38;5;241m.\u001b[39mminimize()\u001b[38;5;241m.\u001b[39mvalues)])   \n\u001b[1;32m    570\u001b[0m listfits\u001b[38;5;241m=\u001b[39mnp\u001b[38;5;241m.\u001b[39marray(listfits, dtype\u001b[38;5;241m=\u001b[39m\u001b[38;5;28mobject\u001b[39m)\n",
      "File \u001b[0;32m~/Documents/GitHub/Coulomb_Lattice_analysis/Analysis/stats.py:402\u001b[0m, in \u001b[0;36mMinuit_fit.minimize\u001b[0;34m(self)\u001b[0m\n\u001b[1;32m    400\u001b[0m m\u001b[38;5;241m.\u001b[39msimplex(ncall)\n\u001b[1;32m    401\u001b[0m m\u001b[38;5;241m.\u001b[39merrors\u001b[38;5;241m=\u001b[39m\u001b[38;5;28mlist\u001b[39m(\u001b[38;5;241m0.1\u001b[39m\u001b[38;5;241m*\u001b[39mnp\u001b[38;5;241m.\u001b[39mabs(\u001b[38;5;28mself\u001b[39m\u001b[38;5;241m.\u001b[39mini)\u001b[38;5;241m+\u001b[39m\u001b[38;5;241m0.001\u001b[39m)\n\u001b[0;32m--> 402\u001b[0m \u001b[43mm\u001b[49m\u001b[38;5;241;43m.\u001b[39;49m\u001b[43mscipy\u001b[49m\u001b[43m(\u001b[49m\u001b[38;5;124;43m'\u001b[39;49m\u001b[38;5;124;43mCG\u001b[39;49m\u001b[38;5;124;43m'\u001b[39;49m\u001b[43m,\u001b[49m\u001b[43mncall\u001b[49m\u001b[43m)\u001b[49m\n\u001b[1;32m    403\u001b[0m m\u001b[38;5;241m.\u001b[39merrors\u001b[38;5;241m=\u001b[39m\u001b[38;5;28mlist\u001b[39m(\u001b[38;5;241m0.1\u001b[39m\u001b[38;5;241m*\u001b[39mnp\u001b[38;5;241m.\u001b[39mabs(\u001b[38;5;28mself\u001b[39m\u001b[38;5;241m.\u001b[39mini)\u001b[38;5;241m+\u001b[39m\u001b[38;5;241m0.001\u001b[39m)\n\u001b[1;32m    404\u001b[0m rfit\u001b[38;5;241m=\u001b[39mm\u001b[38;5;241m.\u001b[39mmigrad(ncall)                    \n",
      "File \u001b[0;32m/opt/homebrew/lib/python3.11/site-packages/iminuit/minuit.py:1207\u001b[0m, in \u001b[0;36mMinuit.scipy\u001b[0;34m(self, method, ncall, hess, hessp, constraints)\u001b[0m\n\u001b[1;32m   1205\u001b[0m t \u001b[38;5;241m=\u001b[39m mutil\u001b[38;5;241m.\u001b[39m_Timer(\u001b[38;5;28mself\u001b[39m\u001b[38;5;241m.\u001b[39m_fmin)\n\u001b[1;32m   1206\u001b[0m \u001b[38;5;28;01mwith\u001b[39;00m t:\n\u001b[0;32m-> 1207\u001b[0m     r \u001b[38;5;241m=\u001b[39m \u001b[43mminimize\u001b[49m\u001b[43m(\u001b[49m\n\u001b[1;32m   1208\u001b[0m \u001b[43m        \u001b[49m\u001b[43mfcn\u001b[49m\u001b[43m,\u001b[49m\n\u001b[1;32m   1209\u001b[0m \u001b[43m        \u001b[49m\u001b[43mstart\u001b[49m\u001b[43m,\u001b[49m\n\u001b[1;32m   1210\u001b[0m \u001b[43m        \u001b[49m\u001b[43mmethod\u001b[49m\u001b[38;5;241;43m=\u001b[39;49m\u001b[43mmethod\u001b[49m\u001b[43m,\u001b[49m\n\u001b[1;32m   1211\u001b[0m \u001b[43m        \u001b[49m\u001b[43mbounds\u001b[49m\u001b[38;5;241;43m=\u001b[39;49m\u001b[43mBounds\u001b[49m\u001b[43m(\u001b[49m\u001b[43mlower_bound\u001b[49m\u001b[43m,\u001b[49m\u001b[43m \u001b[49m\u001b[43mupper_bound\u001b[49m\u001b[43m,\u001b[49m\u001b[43m \u001b[49m\u001b[43mkeep_feasible\u001b[49m\u001b[38;5;241;43m=\u001b[39;49m\u001b[38;5;28;43;01mTrue\u001b[39;49;00m\u001b[43m)\u001b[49m\n\u001b[1;32m   1212\u001b[0m \u001b[43m        \u001b[49m\u001b[38;5;28;43;01mif\u001b[39;49;00m\u001b[43m \u001b[49m\u001b[43mhas_limits\u001b[49m\n\u001b[1;32m   1213\u001b[0m \u001b[43m        \u001b[49m\u001b[38;5;28;43;01melse\u001b[39;49;00m\u001b[43m \u001b[49m\u001b[38;5;28;43;01mNone\u001b[39;49;00m\u001b[43m,\u001b[49m\n\u001b[1;32m   1214\u001b[0m \u001b[43m        \u001b[49m\u001b[43mjac\u001b[49m\u001b[38;5;241;43m=\u001b[39;49m\u001b[43mgrad\u001b[49m\u001b[43m,\u001b[49m\n\u001b[1;32m   1215\u001b[0m \u001b[43m        \u001b[49m\u001b[43mhess\u001b[49m\u001b[38;5;241;43m=\u001b[39;49m\u001b[43mhess\u001b[49m\u001b[43m,\u001b[49m\n\u001b[1;32m   1216\u001b[0m \u001b[43m        \u001b[49m\u001b[43mhessp\u001b[49m\u001b[38;5;241;43m=\u001b[39;49m\u001b[43mhessp\u001b[49m\u001b[43m,\u001b[49m\n\u001b[1;32m   1217\u001b[0m \u001b[43m        \u001b[49m\u001b[43mconstraints\u001b[49m\u001b[38;5;241;43m=\u001b[39;49m\u001b[43mconstraints\u001b[49m\u001b[43m,\u001b[49m\n\u001b[1;32m   1218\u001b[0m \u001b[43m        \u001b[49m\u001b[43moptions\u001b[49m\u001b[38;5;241;43m=\u001b[39;49m\u001b[43moptions\u001b[49m\u001b[43m,\u001b[49m\n\u001b[1;32m   1219\u001b[0m \u001b[43m    \u001b[49m\u001b[43m)\u001b[49m\n\u001b[1;32m   1220\u001b[0m \u001b[38;5;28;01mif\u001b[39;00m \u001b[38;5;28mself\u001b[39m\u001b[38;5;241m.\u001b[39mprint_level \u001b[38;5;241m>\u001b[39m \u001b[38;5;241m0\u001b[39m:\n\u001b[1;32m   1221\u001b[0m     \u001b[38;5;28mprint\u001b[39m(r)\n",
      "File \u001b[0;32m/opt/homebrew/lib/python3.11/site-packages/scipy/optimize/_minimize.py:578\u001b[0m, in \u001b[0;36mminimize\u001b[0;34m(fun, x0, args, method, jac, hess, hessp, bounds, constraints, tol, callback, options)\u001b[0m\n\u001b[1;32m    573\u001b[0m     warn(\u001b[38;5;124m'\u001b[39m\u001b[38;5;124mMethod \u001b[39m\u001b[38;5;132;01m%s\u001b[39;00m\u001b[38;5;124m does not use Hessian-vector product \u001b[39m\u001b[38;5;124m'\u001b[39m\n\u001b[1;32m    574\u001b[0m          \u001b[38;5;124m'\u001b[39m\u001b[38;5;124minformation (hessp).\u001b[39m\u001b[38;5;124m'\u001b[39m \u001b[38;5;241m%\u001b[39m method,\n\u001b[1;32m    575\u001b[0m          \u001b[38;5;167;01mRuntimeWarning\u001b[39;00m, stacklevel\u001b[38;5;241m=\u001b[39m\u001b[38;5;241m2\u001b[39m)\n\u001b[1;32m    576\u001b[0m \u001b[38;5;66;03m# - constraints or bounds\u001b[39;00m\n\u001b[1;32m    577\u001b[0m \u001b[38;5;28;01mif\u001b[39;00m (meth \u001b[38;5;129;01mnot\u001b[39;00m \u001b[38;5;129;01min\u001b[39;00m (\u001b[38;5;124m'\u001b[39m\u001b[38;5;124mcobyla\u001b[39m\u001b[38;5;124m'\u001b[39m, \u001b[38;5;124m'\u001b[39m\u001b[38;5;124mslsqp\u001b[39m\u001b[38;5;124m'\u001b[39m, \u001b[38;5;124m'\u001b[39m\u001b[38;5;124mtrust-constr\u001b[39m\u001b[38;5;124m'\u001b[39m, \u001b[38;5;124m'\u001b[39m\u001b[38;5;124m_custom\u001b[39m\u001b[38;5;124m'\u001b[39m) \u001b[38;5;129;01mand\u001b[39;00m\n\u001b[0;32m--> 578\u001b[0m         \u001b[43mnp\u001b[49m\u001b[38;5;241;43m.\u001b[39;49m\u001b[43many\u001b[49m\u001b[43m(\u001b[49m\u001b[43mconstraints\u001b[49m\u001b[43m)\u001b[49m):\n\u001b[1;32m    579\u001b[0m     warn(\u001b[38;5;124m'\u001b[39m\u001b[38;5;124mMethod \u001b[39m\u001b[38;5;132;01m%s\u001b[39;00m\u001b[38;5;124m cannot handle constraints.\u001b[39m\u001b[38;5;124m'\u001b[39m \u001b[38;5;241m%\u001b[39m method,\n\u001b[1;32m    580\u001b[0m          \u001b[38;5;167;01mRuntimeWarning\u001b[39;00m, stacklevel\u001b[38;5;241m=\u001b[39m\u001b[38;5;241m2\u001b[39m)\n\u001b[1;32m    581\u001b[0m \u001b[38;5;28;01mif\u001b[39;00m meth \u001b[38;5;129;01mnot\u001b[39;00m \u001b[38;5;129;01min\u001b[39;00m (\u001b[38;5;124m'\u001b[39m\u001b[38;5;124mnelder-mead\u001b[39m\u001b[38;5;124m'\u001b[39m, \u001b[38;5;124m'\u001b[39m\u001b[38;5;124mpowell\u001b[39m\u001b[38;5;124m'\u001b[39m, \u001b[38;5;124m'\u001b[39m\u001b[38;5;124ml-bfgs-b\u001b[39m\u001b[38;5;124m'\u001b[39m, \u001b[38;5;124m'\u001b[39m\u001b[38;5;124mcobyla\u001b[39m\u001b[38;5;124m'\u001b[39m, \u001b[38;5;124m'\u001b[39m\u001b[38;5;124mslsqp\u001b[39m\u001b[38;5;124m'\u001b[39m,\n\u001b[1;32m    582\u001b[0m                 \u001b[38;5;124m'\u001b[39m\u001b[38;5;124mtnc\u001b[39m\u001b[38;5;124m'\u001b[39m, \u001b[38;5;124m'\u001b[39m\u001b[38;5;124mtrust-constr\u001b[39m\u001b[38;5;124m'\u001b[39m, \u001b[38;5;124m'\u001b[39m\u001b[38;5;124m_custom\u001b[39m\u001b[38;5;124m'\u001b[39m) \u001b[38;5;129;01mand\u001b[39;00m bounds \u001b[38;5;129;01mis\u001b[39;00m \u001b[38;5;129;01mnot\u001b[39;00m \u001b[38;5;28;01mNone\u001b[39;00m:\n",
      "File \u001b[0;32m/opt/homebrew/lib/python3.11/site-packages/numpy/core/fromnumeric.py:2412\u001b[0m, in \u001b[0;36many\u001b[0;34m(a, axis, out, keepdims, where)\u001b[0m\n\u001b[1;32m   2322\u001b[0m \u001b[38;5;129m@array_function_dispatch\u001b[39m(_any_dispatcher)\n\u001b[1;32m   2323\u001b[0m \u001b[38;5;28;01mdef\u001b[39;00m \u001b[38;5;21many\u001b[39m(a, axis\u001b[38;5;241m=\u001b[39m\u001b[38;5;28;01mNone\u001b[39;00m, out\u001b[38;5;241m=\u001b[39m\u001b[38;5;28;01mNone\u001b[39;00m, keepdims\u001b[38;5;241m=\u001b[39mnp\u001b[38;5;241m.\u001b[39m_NoValue, \u001b[38;5;241m*\u001b[39m, where\u001b[38;5;241m=\u001b[39mnp\u001b[38;5;241m.\u001b[39m_NoValue):\n\u001b[1;32m   2324\u001b[0m \u001b[38;5;250m    \u001b[39m\u001b[38;5;124;03m\"\"\"\u001b[39;00m\n\u001b[1;32m   2325\u001b[0m \u001b[38;5;124;03m    Test whether any array element along a given axis evaluates to True.\u001b[39;00m\n\u001b[1;32m   2326\u001b[0m \n\u001b[0;32m   (...)\u001b[0m\n\u001b[1;32m   2410\u001b[0m \n\u001b[1;32m   2411\u001b[0m \u001b[38;5;124;03m    \"\"\"\u001b[39;00m\n\u001b[0;32m-> 2412\u001b[0m     \u001b[38;5;28;01mreturn\u001b[39;00m \u001b[43m_wrapreduction\u001b[49m\u001b[43m(\u001b[49m\u001b[43ma\u001b[49m\u001b[43m,\u001b[49m\u001b[43m \u001b[49m\u001b[43mnp\u001b[49m\u001b[38;5;241;43m.\u001b[39;49m\u001b[43mlogical_or\u001b[49m\u001b[43m,\u001b[49m\u001b[43m \u001b[49m\u001b[38;5;124;43m'\u001b[39;49m\u001b[38;5;124;43many\u001b[39;49m\u001b[38;5;124;43m'\u001b[39;49m\u001b[43m,\u001b[49m\u001b[43m \u001b[49m\u001b[43maxis\u001b[49m\u001b[43m,\u001b[49m\u001b[43m \u001b[49m\u001b[38;5;28;43;01mNone\u001b[39;49;00m\u001b[43m,\u001b[49m\u001b[43m \u001b[49m\u001b[43mout\u001b[49m\u001b[43m,\u001b[49m\n\u001b[1;32m   2413\u001b[0m \u001b[43m                          \u001b[49m\u001b[43mkeepdims\u001b[49m\u001b[38;5;241;43m=\u001b[39;49m\u001b[43mkeepdims\u001b[49m\u001b[43m,\u001b[49m\u001b[43m \u001b[49m\u001b[43mwhere\u001b[49m\u001b[38;5;241;43m=\u001b[39;49m\u001b[43mwhere\u001b[49m\u001b[43m)\u001b[49m\n",
      "File \u001b[0;32m/opt/homebrew/lib/python3.11/site-packages/numpy/core/fromnumeric.py:88\u001b[0m, in \u001b[0;36m_wrapreduction\u001b[0;34m(obj, ufunc, method, axis, dtype, out, **kwargs)\u001b[0m\n\u001b[1;32m     85\u001b[0m         \u001b[38;5;28;01melse\u001b[39;00m:\n\u001b[1;32m     86\u001b[0m             \u001b[38;5;28;01mreturn\u001b[39;00m reduction(axis\u001b[38;5;241m=\u001b[39maxis, out\u001b[38;5;241m=\u001b[39mout, \u001b[38;5;241m*\u001b[39m\u001b[38;5;241m*\u001b[39mpasskwargs)\n\u001b[0;32m---> 88\u001b[0m \u001b[38;5;28;01mreturn\u001b[39;00m \u001b[43mufunc\u001b[49m\u001b[38;5;241;43m.\u001b[39;49m\u001b[43mreduce\u001b[49m\u001b[43m(\u001b[49m\u001b[43mobj\u001b[49m\u001b[43m,\u001b[49m\u001b[43m \u001b[49m\u001b[43maxis\u001b[49m\u001b[43m,\u001b[49m\u001b[43m \u001b[49m\u001b[43mdtype\u001b[49m\u001b[43m,\u001b[49m\u001b[43m \u001b[49m\u001b[43mout\u001b[49m\u001b[43m,\u001b[49m\u001b[43m \u001b[49m\u001b[38;5;241;43m*\u001b[39;49m\u001b[38;5;241;43m*\u001b[39;49m\u001b[43mpasskwargs\u001b[49m\u001b[43m)\u001b[49m\n",
      "\u001b[0;31mKeyboardInterrupt\u001b[0m: "
     ]
    }
   ],
   "source": [
    "datarun=[]\n",
    "dataint  = data[xiini:xifin+1]\n",
    "for i in range(len(dataint)):\n",
    "    datarun.append(dataint[i][fileini:filefin+1])\n",
    "\n",
    "sizerun  = size[fileini:filefin+1]\n",
    "betarun  = beta[fileini:filefin+1]\n",
    "\n",
    "datatype=\"exp_WL\"\n",
    "dfin=100\n",
    "model='exp_np'\n",
    "reuse=1\n",
    "inipars_GC=[[1.0,0.3]]#,[1.0,0.3,1.0,0.2]]\n",
    "variants_GC=['single']#,'double']\n",
    "jackkl=200\n",
    "\n",
    "result=fitter(datarun[0], size, dini, dstop, dmindata, dfin, datatype_Gc, model_Gc, inipars_Gc, variants_Gc, mcalls, mtol, 1, 1)\n",
    "Vrlistavg, Vrlistsel, worstsel, listfinal =result.jackk_fit(jackkl)"
   ]
  },
  {
   "cell_type": "code",
   "execution_count": null,
   "metadata": {},
   "outputs": [],
   "source": [
    "# Jackknife exercise test\n",
    "xi=0\n",
    "k=0\n",
    "r=0\n",
    "\n",
    "totaltraj=int(len(data[xi][k])/size[k])\n",
    "Nt=len(data[xi][k][0])-1\n",
    "\n",
    "Gc=np.zeros((totaltraj,Nt))\n",
    "for i in range(totaltraj):\n",
    "    Gc[[i]]=data[xi][k][range(i*Nt,(i+1)*Nt),[r+1]]\n",
    "\n",
    "\n",
    "jackkl=500\n",
    "lt=len(logG[0])\n",
    "dfin=lt\n",
    "data_t   = np.linspace(1, lt, lt)\n",
    "data_y   = jackknife(Gc,jackkl).sample()\n",
    "data_cov = jackknife(Gc,jackkl).scov()\n",
    "\n",
    "\n",
    "datatype=\"exp_WL\"\n",
    "model='exp_np'\n",
    "# Trim to use models that have less params than data points used in the fit\n",
    "inipars_GC=[[1.0,0.4]]#,[1.0,0.3,1.0,0.2]]\n",
    "variants_GC=['single']#,'double']\n",
    "\n",
    "m=Modelsmin(data_t, data_y, data_cov, dini, dstop, dmindata, dfin, inipars_GC, model, variants_GC, datatype, mcalls, mtol, 1, 1)\n",
    "mf=m.jackk_minimize()\n",
    "AIC_list=Jackknife_AIClist(mf)"
   ]
  },
  {
   "cell_type": "code",
   "execution_count": null,
   "metadata": {},
   "outputs": [
    {
     "name": "stderr",
     "output_type": "stream",
     "text": [
      "/var/folders/6f/lpqhbvqs49j3w6hj241yz3880000gn/T/ipykernel_5345/3983356639.py:12: UserWarning: marker is redundantly defined by the 'marker' keyword argument and the fmt string \"ok\" (-> marker='o'). The keyword argument will take precedence.\n",
      "  plt.errorbar(data_R, data_V, data_V_err, fmt=\"ok\", label=labels[k], color=a[k], marker=\"s\")\n",
      "/var/folders/6f/lpqhbvqs49j3w6hj241yz3880000gn/T/ipykernel_5345/3983356639.py:12: UserWarning: color is redundantly defined by the 'color' keyword argument and the fmt string \"ok\" (-> color='k'). The keyword argument will take precedence.\n",
      "  plt.errorbar(data_R, data_V, data_V_err, fmt=\"ok\", label=labels[k], color=a[k], marker=\"s\")\n",
      "/var/folders/6f/lpqhbvqs49j3w6hj241yz3880000gn/T/ipykernel_5345/3983356639.py:14: UserWarning: FigureCanvasAgg is non-interactive, and thus cannot be shown\n",
      "  plotsR.show(1)\n"
     ]
    },
    {
     "data": {
      "image/png": "[encoded data removed]",
      "text/plain": [
       "<Figure size 640x480 with 1 Axes>"
      ]
     },
     "metadata": {},
     "output_type": "display_data"
    }
   ],
   "source": [
    "data_R     = []\n",
    "data_V     = []\n",
    "data_V_err = []\n",
    "a=[\"black\",\"crimson\",\"royalblue\",\"seagreen\"]\n",
    "labels=[\"b=2.375\",\"b=2.5\",\"b=2.59\",\"b=2.66\"]\n",
    "plotsR=plt.figure()\n",
    "for k in range(len(valfk)):\n",
    "    Nt=len(valfk[k])\n",
    "    data_R=np.linspace(1, Nt, Nt)\n",
    "    data_V=valfk[k]\n",
    "    data_V_err=evalfk[k]\n",
    "    plt.errorbar(data_R, data_V, data_V_err, fmt=\"ok\", label=labels[k], color=a[k], marker=\"s\")\n",
    "\n",
    "plotsR.show(1)\n",
    "#data_R=[element for sublist in data_R for element in sublist]\n",
    "#data_V=[element for sublist in data_V for element in sublist]\n",
    "#data_V_err=[element for sublist in data_V_err for element in sublist]"
   ]
  },
  {
   "cell_type": "code",
   "execution_count": null,
   "metadata": {},
   "outputs": [
    {
     "data": {
      "image/png": "[encoded data removed]",
      "text/plain": [
       "<Figure size 640x480 with 1 Axes>"
      ]
     },
     "metadata": {},
     "output_type": "display_data"
    }
   ],
   "source": [
    "totaltraj=int(len(data[2])/size[2])\n",
    "Nt=len(data[2][0])-1\n",
    "\n",
    "Gc=np.zeros((totaltraj,Nt))\n",
    "for i in range(totaltraj):\n",
    "    Gc[[i]]=data[2][range(i*Nt,(i+1)*Nt),[1]]\n",
    "    \n",
    "logG=np.log(trim_negative(Gc).trimmed())    \n",
    "\n",
    "lt=len(logG[0])\n",
    "dfin=lt\n",
    "data_t   = np.linspace(1, lt, lt)\n",
    "data_y   = ensemble_stat(logG).mean()\n",
    "data_cov = ensemble_stat(logG).cov()\n",
    "data_err = np.sqrt(np.diagonal(ensemble_stat(logG).cov()))\n",
    "\n",
    "plt.errorbar(data_t, data_y, data_err, fmt=\"ok\", label=\"data\")\n",
    "plt.show()"
   ]
  },
  {
   "cell_type": "code",
   "execution_count": null,
   "metadata": {},
   "outputs": [],
   "source": [
    "datatype=\"log\"\n",
    "dfin=20\n",
    "model=line_np\n",
    "reuse=1\n",
    "\n",
    "result=fitter(data, size, dini, dstop, dfin, datatype, model, inipars2, variants2, mcalls, mtol, reuse)\n",
    "\n",
    "valtrials, valfk2, evalfk2=result.fit()\n"
   ]
  },
  {
   "cell_type": "code",
   "execution_count": null,
   "metadata": {},
   "outputs": [
    {
     "name": "stderr",
     "output_type": "stream",
     "text": [
      "/var/folders/6f/lpqhbvqs49j3w6hj241yz3880000gn/T/ipykernel_5345/2017424256.py:14: UserWarning: color is redundantly defined by the 'color' keyword argument and the fmt string \"ok\" (-> color='k'). The keyword argument will take precedence.\n",
      "  plt.errorbar(data_R2, data_V2, data_V2_err, fmt=\"ok\", color=a[k])\n"
     ]
    }
   ],
   "source": [
    "data_R2     = []\n",
    "data_V2     = []\n",
    "data_V2_err = []\n",
    "a=[\"black\",\"crimson\",\"royalblue\",\"seagreen\"]\n",
    "\n",
    "plotsR=plt.figure(plotsR)\n",
    "for k in range(len(valfk2)):\n",
    "    Nt=len(valfk2[k])\n",
    "    data_R2=np.linspace(1, Nt, Nt)-0.3\n",
    "    data_V2=valfk2[k]\n",
    "    data_V2_err=evalfk2[k]\n",
    "#    for i in range(Nt):\n",
    "#        print(data_R2[i]+0.3,\" \",data_V2[i],\" \",data_V2_err[i])\n",
    "    plt.errorbar(data_R2, data_V2, data_V2_err, fmt=\"ok\", color=a[k])\n",
    "\n",
    "#data_R2=[element for sublist in data_R2 for element in sublist]\n",
    "#data_V2=[element for sublist in data_V2 for element in sublist]\n",
    "#data_V2_err=[element for sublist in data_V2_err for element in sublist]"
   ]
  },
  {
   "cell_type": "code",
   "execution_count": null,
   "metadata": {},
   "outputs": [
    {
     "data": {
      "image/png": "[encoded data removed]",
      "text/plain": [
       "<Figure size 640x480 with 1 Axes>"
      ]
     },
     "metadata": {},
     "output_type": "display_data"
    },
    {
     "data": {
      "text/plain": [
       "<Figure size 640x480 with 0 Axes>"
      ]
     },
     "metadata": {},
     "output_type": "display_data"
    }
   ],
   "source": [
    "plt.legend(frameon=False)\n",
    "plt.show()\n",
    "plt.clf()"
   ]
  },
  {
   "cell_type": "code",
   "execution_count": null,
   "metadata": {},
   "outputs": [
    {
     "name": "stdout",
     "output_type": "stream",
     "text": [
      "[48, 35] [0.30237096 0.03610684]\n"
     ]
    }
   ],
   "source": [
    "m=Modelsmin( data_t, data_y, data_cov, dini, dstop, dfin, iniparsexp, model, variantsexp, datatype, mcalls, mtol, 1)\n",
    "mf=m.minimize()\n",
    "AIC_list=AIClist(mf[1])\n",
    "\n",
    "print(mf[0],np.array(AIC_list.avgval0()))"
   ]
  },
  {
   "cell_type": "code",
   "execution_count": null,
   "metadata": {},
   "outputs": [
    {
     "name": "stderr",
     "output_type": "stream",
     "text": [
      "/var/folders/6f/lpqhbvqs49j3w6hj241yz3880000gn/T/ipykernel_5345/3997696687.py:14: UserWarning: marker is redundantly defined by the 'marker' keyword argument and the fmt string \"ok\" (-> marker='o'). The keyword argument will take precedence.\n",
      "  plt.errorbar(data_R3, data_V3, data_V3_err, fmt=\"ok\", color=a[k], marker=\"^\")\n",
      "/var/folders/6f/lpqhbvqs49j3w6hj241yz3880000gn/T/ipykernel_5345/3997696687.py:14: UserWarning: color is redundantly defined by the 'color' keyword argument and the fmt string \"ok\" (-> color='k'). The keyword argument will take precedence.\n",
      "  plt.errorbar(data_R3, data_V3, data_V3_err, fmt=\"ok\", color=a[k], marker=\"^\")\n"
     ]
    }
   ],
   "source": [
    "data_R3     = []\n",
    "data_V3     = []\n",
    "data_V3_err = []\n",
    "a=[\"black\",\"crimson\",\"royalblue\",\"seagreen\"]\n",
    "\n",
    "plotsR=plt.figure(plotsR)\n",
    "for k in range(len(valfk3)):\n",
    "    Nt=len(valfk3[k])\n",
    "    data_R3=np.linspace(1, Nt, Nt)+0.3\n",
    "    data_V3=valfk3[k]\n",
    "    data_V3_err=evalfk3[k]\n",
    "#    for i in range(Nt):\n",
    "#        print(data_R2[i]+0.3,\" \",data_V2[i],\" \",data_V2_err[i])\n",
    "    plt.errorbar(data_R3, data_V3, data_V3_err, fmt=\"ok\", color=a[k], marker=\"^\")\n",
    "\n",
    "#data_R2=[element for sublist in data_R2 for element in sublist]\n",
    "#data_V2=[element for sublist in data_V2 for element in sublist]\n",
    "#data_V2_err=[element for sublist in data_V2_err for element in sublist]"
   ]
  },
  {
   "cell_type": "code",
   "execution_count": null,
   "metadata": {},
   "outputs": [
    {
     "data": {
      "image/png": "[encoded data removed]",
      "text/plain": [
       "<Figure size 640x480 with 1 Axes>"
      ]
     },
     "metadata": {},
     "output_type": "display_data"
    },
    {
     "data": {
      "text/plain": [
       "<Figure size 640x480 with 0 Axes>"
      ]
     },
     "metadata": {},
     "output_type": "display_data"
    }
   ],
   "source": [
    "plt.legend(frameon=False)\n",
    "plt.show()\n",
    "plt.clf()"
   ]
  },
  {
   "cell_type": "code",
   "execution_count": null,
   "metadata": {},
   "outputs": [
    {
     "data": {
      "text/plain": [
       "array([1392., 1285.])"
      ]
     },
     "execution_count": 220,
     "metadata": {},
     "output_type": "execute_result"
    }
   ],
   "source": [
    "datatype=\"exp\"\n",
    "dfin=20\n",
    "model=exp_np\n",
    "reuse=0\n",
    "iniparsexptest=iniparsexp[0:2]\n",
    "variantsexptest=variantsexp[0:2]\n",
    "\n",
    "result=fitter(data, size, dini, dstop, dfin, datatype, model, iniparsexptest, variantsexptest, mcalls, mtol, reuse)\n",
    "\n",
    "valtrials, valfk4, evalfk4=result.fit()\n",
    "\n",
    "valtrials"
   ]
  },
  {
   "cell_type": "code",
   "execution_count": null,
   "metadata": {},
   "outputs": [
    {
     "name": "stderr",
     "output_type": "stream",
     "text": [
      "/var/folders/6f/lpqhbvqs49j3w6hj241yz3880000gn/T/ipykernel_5345/1153860896.py:14: UserWarning: marker is redundantly defined by the 'marker' keyword argument and the fmt string \"ok\" (-> marker='o'). The keyword argument will take precedence.\n",
      "  plt.errorbar(data_R4, data_V4, data_V4_err, fmt=\"ok\", color=a[k], marker=\"v\")\n",
      "/var/folders/6f/lpqhbvqs49j3w6hj241yz3880000gn/T/ipykernel_5345/1153860896.py:14: UserWarning: color is redundantly defined by the 'color' keyword argument and the fmt string \"ok\" (-> color='k'). The keyword argument will take precedence.\n",
      "  plt.errorbar(data_R4, data_V4, data_V4_err, fmt=\"ok\", color=a[k], marker=\"v\")\n"
     ]
    }
   ],
   "source": [
    "data_R4     = []\n",
    "data_V4     = []\n",
    "data_V4_err = []\n",
    "a=[\"black\",\"crimson\",\"royalblue\",\"seagreen\"]\n",
    "\n",
    "plotsR=plt.figure(plotsR)\n",
    "for k in range(len(valfk4)):\n",
    "    Nt=len(valfk4[k])\n",
    "    data_R4=np.linspace(1, Nt, Nt)+0.3\n",
    "    data_V4=valfk4[k]\n",
    "    data_V4_err=evalfk4[k]\n",
    "#    for i in range(Nt):\n",
    "#        print(data_R2[i]+0.3,\" \",data_V2[i],\" \",data_V2_err[i])\n",
    "    plt.errorbar(data_R4, data_V4, data_V4_err, fmt=\"ok\", color=a[k], marker=\"v\")\n",
    "\n",
    "#data_R2=[element for sublist in data_R2 for element in sublist]\n",
    "#data_V2=[element for sublist in data_V2 for element in sublist]\n",
    "#data_V2_err=[element for sublist in data_V2_err for element in sublist]"
   ]
  },
  {
   "cell_type": "code",
   "execution_count": null,
   "metadata": {},
   "outputs": [
    {
     "data": {
      "image/png": "[encoded data removed]",
      "text/plain": [
       "<Figure size 640x480 with 1 Axes>"
      ]
     },
     "metadata": {},
     "output_type": "display_data"
    },
    {
     "data": {
      "text/plain": [
       "<Figure size 640x480 with 0 Axes>"
      ]
     },
     "metadata": {},
     "output_type": "display_data"
    }
   ],
   "source": [
    "plt.legend(frameon=False)\n",
    "plt.show()\n",
    "plt.clf()"
   ]
  },
  {
   "cell_type": "code",
   "execution_count": null,
   "metadata": {},
   "outputs": [
    {
     "name": "stdout",
     "output_type": "stream",
     "text": [
      "┌─────────────────────────────────────────────────────────────────────────┐\n",
      "│                                Migrad                                   │\n",
      "├──────────────────────────────────┬──────────────────────────────────────┤\n",
      "│ FCN = 5.472e-07 (χ²/ndof = 0.0)  │              Nfcn = 130              │\n",
      "│ EDM = 3.75e-06 (Goal: 0.0002)    │                                      │\n",
      "├──────────────────────────────────┼──────────────────────────────────────┤\n",
      "│          Valid Minimum           │   Below EDM threshold (goal x 10)    │\n",
      "├──────────────────────────────────┼──────────────────────────────────────┤\n",
      "│     SOME parameters at limit     │           Below call limit           │\n",
      "├──────────────────────────────────┼──────────────────────────────────────┤\n",
      "│             Hesse ok             │     Covariance FORCED pos. def.      │\n",
      "└──────────────────────────────────┴──────────────────────────────────────┘\n",
      "┌───┬──────┬───────────┬───────────┬────────────┬────────────┬─────────┬─────────┬───────┐\n",
      "│   │ Name │   Value   │ Hesse Err │ Minos Err- │ Minos Err+ │ Limit-  │ Limit+  │ Fixed │\n",
      "├───┼──────┼───────────┼───────────┼────────────┼────────────┼─────────┼─────────┼───────┤\n",
      "│ 0 │ x0   │     0     │   0.9e3   │            │            │    0    │  1000   │       │\n",
      "│ 1 │ x1   │    0e3    │    1e3    │            │            │    0    │  1000   │       │\n",
      "│ 2 │ x2   │     0     │   0.5e3   │            │            │    0    │  1000   │       │\n",
      "│ 3 │ x3   │     0     │   0.8e3   │            │            │    0    │  1000   │       │\n",
      "│ 4 │ x4   │     0     │   0.9e3   │            │            │    0    │  1000   │       │\n",
      "│ 5 │ x5   │     0     │   0.5e3   │            │            │    0    │  1000   │       │\n",
      "└───┴──────┴───────────┴───────────┴────────────┴────────────┴─────────┴─────────┴───────┘\n",
      "┌────┬───────────────────────────────────────────────────────┐\n",
      "│    │       x0       x1       x2       x3       x4       x5 │\n",
      "├────┼───────────────────────────────────────────────────────┤\n",
      "│ x0 │ 1.16e+06  0.013e6   12.2e6   -0.9e6  -56.0e6   -3.3e6 │\n",
      "│ x1 │  0.013e6 2.33e+04  0.232e6 -0.030e6 -0.529e6 -0.032e6 │\n",
      "│ x2 │   12.2e6  0.232e6 2.81e+08  -21.6e6  -1.14e9 -0.068e9 │\n",
      "│ x3 │   -0.9e6 -0.030e6  -21.6e6 2.26e+06   92.9e6    5.5e6 │\n",
      "│ x4 │  -56.0e6 -0.529e6  -1.14e9   92.9e6  4.8e+09  0.287e9 │\n",
      "│ x5 │   -3.3e6 -0.032e6 -0.068e9    5.5e6  0.287e9 1.92e+07 │\n",
      "└────┴───────────────────────────────────────────────────────┘\n"
     ]
    }
   ],
   "source": [
    "# Repeat the exercise for exponential fits\n",
    "k=3\n",
    "r=1\n",
    "totaltraj=int(len(data[k])/size[k])\n",
    "Nt=len(data[k][0])-1\n",
    "\n",
    "Gc=np.zeros((totaltraj,Nt))\n",
    "for i in range(totaltraj):\n",
    "    Gc[[i]]=data[k][range(i*Nt,(i+1)*Nt),[r]]\n",
    "    \n",
    "lt=len(Gc[0])\n",
    "dini=0\n",
    "dfin=lt\n",
    "data_t   = np.linspace(1, lt, lt)[dini:dfin]\n",
    "data_y   = ensemble_stat(Gc).mean()[dini:dfin]\n",
    "data_cov = ensemble_stat(Gc).cov()[dini:dfin,dini:dfin]\n",
    "data_err = np.sqrt(np.diagonal(ensemble_stat(Gc).cov()))[dini:dfin]\n",
    "\n",
    "model=exp_np\n",
    "datatype=\"exp\"\n",
    "\n",
    "m=Minuit_fit( data_t, data_y, data_cov, mcalls, mtol, iniparsexp[2], model,1)\n",
    "\n",
    "ma=MA_fit(m.minimize())\n",
    "print(m.minimize())\n",
    "\n",
    "#plotsE=plt.figure(2)\n",
    "#plt.errorbar(data_t, data_y, data_err, fmt=\"ok\", label=\"data\")\n",
    "#plt.plot(data_t, exp_np(data_t, *m.minimize().values), label=\"fit\")\n",
    "#plt.show(2)"
   ]
  },
  {
   "cell_type": "code",
   "execution_count": null,
   "metadata": {},
   "outputs": [],
   "source": [
    "# Lets repeat a single fit to test it\n",
    "k=0\n",
    "r=1\n",
    "totaltraj=int(len(data[k])/size[k])\n",
    "\n",
    "Nt=len(data[k][0])-1\n",
    "\n",
    "Gc=np.zeros((totaltraj,Nt))\n",
    "for i in range(totaltraj):\n",
    "    Gc[[i]]=data[k][range(i*Nt,(i+1)*Nt),[r]]\n",
    "\n",
    "gdata    = np.log(trim_negative(jackknife(Gc,jackkl).sample()).trimmed())\n",
    "           \n",
    "gdata=jackknife(gdata,jackkl).up()\n",
    "\n",
    "lt=len(gdata[0])\n",
    "dfin=lt\n",
    "data_t   = np.linspace(1, lt, lt)\n",
    "data_y   = ensemble_stat(gdata).mean()\n",
    "data_cov = ensemble_stat(gdata).rcov()\n",
    "data_err = np.sqrt(np.diagonal(ensemble_stat(gdata).rcov()))\n",
    "\n",
    "m=RepeatSingleFit(data_t, data_y, data_cov, 2, 8, [0.5,1.,0.,0.], line_np, mcalls, mtol)\n",
    "\n",
    "m.minimize()\n",
    "m.minimize().fval/m.minimize().ndof\n",
    "\n",
    "plt.errorbar(data_t, data_y, data_err, fmt=\"ok\", label=\"data\")\n",
    "plt.plot(data_t, line_np(data_t, *m.minimize().values), label=\"fit\")"
   ]
  }
 ],
 "metadata": {
  "kernelspec": {
   "display_name": "REU Lattice",
   "language": "python",
   "name": "reu_lattice"
  },
  "language_info": {
   "codemirror_mode": {
    "name": "ipython",
    "version": 3
   },
   "file_extension": ".py",
   "mimetype": "text/x-python",
   "name": "python",
   "nbconvert_exporter": "python",
   "pygments_lexer": "ipython3",
   "version": "3.12.4"
  }
 },
 "nbformat": 4,
 "nbformat_minor": 4
}
