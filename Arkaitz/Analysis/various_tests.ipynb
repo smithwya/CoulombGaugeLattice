{
 "cells": [
  {
   "cell_type": "code",
   "execution_count": 1,
   "metadata": {},
   "outputs": [
    {
     "name": "stdout",
     "output_type": "stream",
     "text": [
      "iminuit version: 2.28.0\n"
     ]
    }
   ],
   "source": [
    "#------------------------------------------------------------------------------------------------------------------------------------------\n",
    "# basic setup of the notebook\n",
    "#------------------------------------------------------------------------------------------------------------------------------------------\n",
    "import numpy as np\n",
    "import numba as nb\n",
    "from numba import njit, prange\n",
    "from numba.experimental import jitclass\n",
    "import pickle\n",
    "\n",
    "from mpmath import *\n",
    "mp.dps = 200;mp.pretty = True\n",
    "import tomllib\n",
    "from pip._vendor import tomli\n",
    "import sys, os\n",
    "from joblib import Parallel, delayed\n",
    "import multiprocess as mp\n",
    "from concurrent.futures import ProcessPoolExecutor\n",
    "import scipy as sp\n",
    "from scipy import *\n",
    "import faulthandler\n",
    "faulthandler.enable()\n",
    "sys.path.append('./code')\n",
    "from fit_drivers import *\n",
    "from minimizer import *\n",
    "from fit_functions import *\n",
    "from output_functions import *\n",
    "from general_stats import *\n",
    "from jpac_colors import *\n",
    "import fit_drivers, minimizer, fit_functions, output_functions, general_stats  \n",
    "\n",
    "import math as mp\n",
    "import timeit\n",
    "import time\n",
    "\n",
    "# everything in iminuit is done through the Minuit object, so we import it\n",
    "from iminuit import Minuit\n",
    "from iminuit import minimize\n",
    "import time\n",
    "from iminuit.util import describe\n",
    "from typing import Annotated\n",
    "\n",
    "# we also need a cost function to fit and import the LeastSquares function\n",
    "from iminuit.cost import LeastSquares\n",
    "\n",
    "# display iminuit version\n",
    "import iminuit\n",
    "print(\"iminuit version:\", iminuit.__version__)\n",
    "\n",
    "from matplotlib import pyplot as plt\n",
    "\n",
    "from IPython.core.interactiveshell import InteractiveShell\n",
    "InteractiveShell.ast_node_interactivity = \"all\""
   ]
  },
  {
   "cell_type": "code",
   "execution_count": 2,
   "metadata": {},
   "outputs": [],
   "source": [
    "#------------------------------------------------------------------------------------------------------------------------------------------\n",
    "# Importing fixed params for analysis\n",
    "#------------------------------------------------------------------------------------------------------------------------------------------\n",
    "\n",
    "with open('ini_files/S_analysis_L16_pole.toml', \"rb\") as f:\n",
    "    params = tomli.load(f)\n",
    "\n",
    "with open('ini_files/basic_setup_pole.toml', \"rb\") as f2:\n",
    "    params2 = tomli.load(f2)\n",
    "\n",
    "for i in params:\n",
    "     params['{}'.format(i)].update(params2['{}'.format(i)])\n",
    "\n",
    "\n",
    "who            = params['creator']['who']\n",
    "  \n",
    "  \n",
    "path           = params['paths_to_files']['base_path']\n",
    "mainpath       = '{}{}'.format(path,params['paths_to_files']['mainpath'])\n",
    "resultspath    = '{}{}'.format(path,params['paths_to_files']['resultspath'])\n",
    "resultsdir     = '{}{}'.format(path,params['paths_to_files']['resultsdir'])\n",
    "plotsdir       = '{}{}'.format(path,params['paths_to_files']['plotsdir'])\n",
    "Gcplotsdir     = '{}{}'.format(path,params['paths_to_files']['Gcplotsdir'])\n",
    "sizelabel      = params['paths_to_files']['sizelabel']      \n",
    "  \n",
    "  \n",
    "corrtype       = params['correlators']['corrtype']  \n",
    "xi             = params['correlators']['xi']\n",
    "beta           = params['correlators']['beta']\n",
    "betanorm       = params['correlators']['betanorm']\n",
    "Lextent        = params['correlators']['Lextent']\n",
    "Textent        = params['correlators']['Textent']\n",
    "size           = params['correlators']['size']\n",
    "Ncfgs          = params['correlators']['Ncfgs']\n",
    "\n",
    "als            = params['correlators']['als']\n",
    "  \n",
    "dini_Gc        = params['minimization_parameters']['dini_Gc']\n",
    "dstop_Gc       = params['minimization_parameters']['dstop_Gc']\n",
    "dmindata_Gc    = params['minimization_parameters']['dmindata_Gc']\n",
    "dini_Vr        = params['minimization_parameters']['dini_Vr']\n",
    "dstop_Vr       = params['minimization_parameters']['dstop_Vr']\n",
    "dmindata_Vr    = params['minimization_parameters']['dmindata_Vr']\n",
    "dfin_Gc        = params['minimization_parameters']['dfin_Gc']\n",
    "dfin_Vr        = params['minimization_parameters']['dfin_Vr']\n",
    "reuse          = params['minimization_parameters']['reuse']\n",
    "inv_first      = params['minimization_parameters']['inv_first']\n",
    "mcalls         = params['minimization_parameters']['mcalls']\n",
    "mtol           = params['minimization_parameters']['mtol']\n",
    "inipars_Gc     = params['minimization_parameters']['inipars_GC']\n",
    "variants_Gc    = params['minimization_parameters']['variants_GC']\n",
    "jackkl         = params['minimization_parameters']['jackkl']\n",
    "xiini          = params['minimization_parameters']['xiini']\n",
    "xifin          = params['minimization_parameters']['xifin']   \n",
    "fileini        = params['minimization_parameters']['fileini']                         \n",
    "filefin        = params['minimization_parameters']['filefin']\n",
    "datatype_Gc    = params['minimization_parameters']['datatype_Gc']\n",
    "model_Gc       = params['minimization_parameters']['model_Gc']\n",
    "model_Vr       = params['minimization_parameters']['model_Vr']\n",
    "datatype_Vr    = params['minimization_parameters']['datatype_Vr']\n",
    "inipars_Vr     = params['minimization_parameters']['inipars_Vr']\n",
    "variants_Vr    = params['minimization_parameters']['variants_Vr']\n",
    "multiprocess   = params['minimization_parameters']['multiprocess']\n",
    "cov_freeze     = params['minimization_parameters']['cov_freeze']\n",
    "improve        = params['minimization_parameters']['improve']\n",
    "multistart     = params['minimization_parameters']['multistart']\n",
    "  \n",
    "\n",
    "clean          = params['extra']['clean']\n",
    "cutoff_ma      = params['extra']['cutoff_ma']\n",
    "norm           = params['extra']['norm']\n",
    "no_corrs       = params['extra']['no_corrs']\n",
    "no_valid_check = params['extra']['no_valid_check']\n",
    "\n",
    "\n",
    "gev_m1_tofm=5.068\n",
    "als=np.array(als)/gev_m1_tofm\n",
    "als_orig=np.array(als)*gev_m1_tofm"
   ]
  },
  {
   "cell_type": "code",
   "execution_count": 3,
   "metadata": {},
   "outputs": [
    {
     "name": "stdout",
     "output_type": "stream",
     "text": [
      "2000\n",
      "2000\n",
      "2000\n",
      "2000\n",
      "2000\n",
      "2000\n",
      "2000\n",
      "2000\n",
      "1985\n",
      "1992\n",
      "1927\n",
      "2000\n",
      "2000\n",
      "1995\n",
      "1994\n",
      "2000\n",
      "2000\n",
      "2000\n",
      "1985\n",
      "2000\n",
      "2000\n",
      "2000\n",
      "2000\n",
      "2000\n",
      "2000\n",
      "2000\n",
      "2000\n",
      "2000\n",
      "1917\n",
      "2000\n",
      "2000\n",
      "2000\n",
      "2000\n",
      "2000\n",
      "1946\n",
      "2000\n",
      "2000\n",
      "2000\n",
      "2000\n",
      "2000\n",
      "1917 2000\n",
      "[225, 230, 235, 240, 245, 250, 255, 260]\n"
     ]
    }
   ],
   "source": [
    "#------------------------------------------------------------------------------------------------------------------------------------------\n",
    "#This is the only part that varies between Sebastian's and Wyatt's Lattices, the paths/readings\n",
    "#------------------------------------------------------------------------------------------------------------------------------------------\n",
    "\n",
    "# Create results folders if they do not exist\n",
    "if os.path.exists(resultsdir)==False:\n",
    "    os.mkdir(resultsdir)\n",
    "if os.path.exists(plotsdir)==False:\n",
    "    os.mkdir(plotsdir)\n",
    "if os.path.exists(Gcplotsdir)==False:\n",
    "    os.mkdir(Gcplotsdir)    \n",
    "\n",
    "\n",
    "# Clean results folder?\n",
    "if clean == 1:\n",
    "    os.system('rm -rf {}/*'.format(plotsdir))\n",
    "    os.system('rm -rf {}/*'.format(resultsdir))  \n",
    "    os.system('rm -rf {}/*'.format(Gcplotsdir)) \n",
    "\n",
    "\n",
    "for k in range(len(xi)):\n",
    "    if os.path.exists('{}{}'.format(resultspath,xi[k]))==False:\n",
    "        os.mkdir('{}{}'.format(resultspath,xi[k]))\n",
    "    if os.path.exists('{}/xi={}'.format(Gcplotsdir,xi[k]))==False:\n",
    "        os.mkdir('{}/xi={}'.format(Gcplotsdir,xi[k]))\n",
    "\n",
    "        \n",
    "#------------------------------------------------------------------------------------------------------------------------------------------\n",
    "# Read raw data and prepare accordingly\n",
    "#------------------------------------------------------------------------------------------------------------------------------------------\n",
    "         \n",
    "\n",
    "# Data used in the analysis\n",
    "datam=[]\n",
    "for k in range(len(xi)):\n",
    "    dataint=[]\n",
    "    for j in range(len(beta)):\n",
    "        dataint.append(np.genfromtxt('{}{}/L{}_b{}_xi{}_{}.dat'.format(mainpath,xi[k],int(sizelabel),beta[j],xi[k],corrtype)))\n",
    "    datam.append(dataint)\n",
    "    \n",
    "# Collect completed configurations from raw data    \n",
    "data=[]\n",
    "for k in range(len(xi)):\n",
    "    dataint=[]\n",
    "    for j in range(len(datam[k])):\n",
    "        if (len(np.array(collect_configs(datam[k][j],Lextent,Textent).trans_S()))==0):\n",
    "            dataint.append(np.array(collect_configs(datam[k][j],Lextent,Textent).trans_W()))\n",
    "        else:\n",
    "            dataint.append(np.array(collect_configs(datam[k][j],Lextent,Textent).trans_S()))\n",
    "    data.append(dataint)\n",
    "\n",
    "      \n",
    "\n",
    "nconfigs=[]\n",
    "for k in range(len(xi)):\n",
    "    nint=[]\n",
    "    for j in range(len(beta)):\n",
    "        nint.append(int(len(data[k][j])/size[k]))\n",
    "        print(int(len(data[k][j])/size[k]))\n",
    "        nconfigs.append(int(len(data[k][j])/size[k]))  \n",
    "\n",
    "print(min(nconfigs),max(nconfigs))  \n",
    "print(beta)"
   ]
  },
  {
   "cell_type": "code",
   "execution_count": 4,
   "metadata": {},
   "outputs": [
    {
     "data": {
      "text/plain": [
       "<matplotlib.collections.PathCollection at 0x1278b86b0>"
      ]
     },
     "execution_count": 4,
     "metadata": {},
     "output_type": "execute_result"
    },
    {
     "data": {
      "text/plain": [
       "<matplotlib.collections.PathCollection at 0x127d85730>"
      ]
     },
     "execution_count": 4,
     "metadata": {},
     "output_type": "execute_result"
    },
    {
     "data": {
      "text/plain": [
       "(0.0, 7.5)"
      ]
     },
     "execution_count": 4,
     "metadata": {},
     "output_type": "execute_result"
    },
    {
     "data": {
      "text/plain": [
       "<matplotlib.collections.PathCollection at 0x127d13380>"
      ]
     },
     "execution_count": 4,
     "metadata": {},
     "output_type": "execute_result"
    },
    {
     "data": {
      "text/plain": [
       "<matplotlib.collections.PathCollection at 0x124d5fcb0>"
      ]
     },
     "execution_count": 4,
     "metadata": {},
     "output_type": "execute_result"
    },
    {
     "data": {
      "text/plain": [
       "(0.0, 7.5)"
      ]
     },
     "execution_count": 4,
     "metadata": {},
     "output_type": "execute_result"
    },
    {
     "data": {
      "text/plain": [
       "<matplotlib.collections.PathCollection at 0x127d16450>"
      ]
     },
     "execution_count": 4,
     "metadata": {},
     "output_type": "execute_result"
    },
    {
     "data": {
      "text/plain": [
       "<matplotlib.collections.PathCollection at 0x127d13710>"
      ]
     },
     "execution_count": 4,
     "metadata": {},
     "output_type": "execute_result"
    },
    {
     "data": {
      "text/plain": [
       "(0.0, 7.5)"
      ]
     },
     "execution_count": 4,
     "metadata": {},
     "output_type": "execute_result"
    },
    {
     "data": {
      "text/plain": [
       "<matplotlib.collections.PathCollection at 0x1267a72f0>"
      ]
     },
     "execution_count": 4,
     "metadata": {},
     "output_type": "execute_result"
    },
    {
     "data": {
      "text/plain": [
       "<matplotlib.collections.PathCollection at 0x127d17710>"
      ]
     },
     "execution_count": 4,
     "metadata": {},
     "output_type": "execute_result"
    },
    {
     "data": {
      "text/plain": [
       "(0.0, 7.5)"
      ]
     },
     "execution_count": 4,
     "metadata": {},
     "output_type": "execute_result"
    },
    {
     "data": {
      "text/plain": [
       "<matplotlib.collections.PathCollection at 0x127d3f5f0>"
      ]
     },
     "execution_count": 4,
     "metadata": {},
     "output_type": "execute_result"
    },
    {
     "data": {
      "text/plain": [
       "<matplotlib.collections.PathCollection at 0x127d3cc20>"
      ]
     },
     "execution_count": 4,
     "metadata": {},
     "output_type": "execute_result"
    },
    {
     "data": {
      "text/plain": [
       "(0.0, 7.5)"
      ]
     },
     "execution_count": 4,
     "metadata": {},
     "output_type": "execute_result"
    },
    {
     "data": {
      "text/plain": [
       "<matplotlib.collections.PathCollection at 0x127d3cad0>"
      ]
     },
     "execution_count": 4,
     "metadata": {},
     "output_type": "execute_result"
    },
    {
     "data": {
      "text/plain": [
       "<matplotlib.collections.PathCollection at 0x127d11af0>"
      ]
     },
     "execution_count": 4,
     "metadata": {},
     "output_type": "execute_result"
    },
    {
     "data": {
      "text/plain": [
       "(0.0, 7.5)"
      ]
     },
     "execution_count": 4,
     "metadata": {},
     "output_type": "execute_result"
    },
    {
     "data": {
      "text/plain": [
       "<matplotlib.collections.PathCollection at 0x127d3a360>"
      ]
     },
     "execution_count": 4,
     "metadata": {},
     "output_type": "execute_result"
    },
    {
     "data": {
      "text/plain": [
       "<matplotlib.collections.PathCollection at 0x127d3aa50>"
      ]
     },
     "execution_count": 4,
     "metadata": {},
     "output_type": "execute_result"
    },
    {
     "data": {
      "text/plain": [
       "(0.0, 7.5)"
      ]
     },
     "execution_count": 4,
     "metadata": {},
     "output_type": "execute_result"
    },
    {
     "data": {
      "text/plain": [
       "<matplotlib.collections.PathCollection at 0x127d3b0b0>"
      ]
     },
     "execution_count": 4,
     "metadata": {},
     "output_type": "execute_result"
    },
    {
     "data": {
      "text/plain": [
       "<matplotlib.collections.PathCollection at 0x127d3b020>"
      ]
     },
     "execution_count": 4,
     "metadata": {},
     "output_type": "execute_result"
    },
    {
     "data": {
      "text/plain": [
       "(0.0, 7.5)"
      ]
     },
     "execution_count": 4,
     "metadata": {},
     "output_type": "execute_result"
    },
    {
     "data": {
      "text/plain": [
       "<matplotlib.collections.PathCollection at 0x127d3bf80>"
      ]
     },
     "execution_count": 4,
     "metadata": {},
     "output_type": "execute_result"
    },
    {
     "data": {
      "text/plain": [
       "<matplotlib.collections.PathCollection at 0x127d38050>"
      ]
     },
     "execution_count": 4,
     "metadata": {},
     "output_type": "execute_result"
    },
    {
     "data": {
      "text/plain": [
       "(0.0, 7.5)"
      ]
     },
     "execution_count": 4,
     "metadata": {},
     "output_type": "execute_result"
    },
    {
     "data": {
      "text/plain": [
       "<matplotlib.collections.PathCollection at 0x127d85370>"
      ]
     },
     "execution_count": 4,
     "metadata": {},
     "output_type": "execute_result"
    },
    {
     "data": {
      "text/plain": [
       "<matplotlib.collections.PathCollection at 0x127d3bc50>"
      ]
     },
     "execution_count": 4,
     "metadata": {},
     "output_type": "execute_result"
    },
    {
     "data": {
      "text/plain": [
       "(0.0, 7.5)"
      ]
     },
     "execution_count": 4,
     "metadata": {},
     "output_type": "execute_result"
    },
    {
     "data": {
      "image/png": "[encoded data removed]",
      "text/plain": [
       "<Figure size 640x480 with 1 Axes>"
      ]
     },
     "metadata": {},
     "output_type": "display_data"
    }
   ],
   "source": [
    "x=0\n",
    "k=3\n",
    "r=0\n",
    "pos=0\n",
    "\n",
    "jackkl=100000\n",
    "jump_configs=1\n",
    "\n",
    "mcalls=10000\n",
    "mtol=0.00001\n",
    "\n",
    "totaltraj=int(len(data[x][k])/size[k])\n",
    "Nt=Textent\n",
    "\n",
    "Gc=np.zeros((int(totaltraj/jump_configs),Nt))\n",
    "Gc2=np.zeros((int(totaltraj/jump_configs),Nt))\n",
    "for i in range(int(totaltraj/jump_configs)):\n",
    "    index=jump_configs*i\n",
    "    Gc[[i]]=data[x][k][range(index*Nt,(index+1)*Nt),[r]]\n",
    "    Gc2[[i]]=data[x][k+1][range(index*Nt,(index+1)*Nt),[r]]\n",
    "\n",
    "for time in range(len(Gc[0])):\n",
    "    shift=0.1\n",
    "    data_t = np.ones(len(Gc[:,time]))*time+1\n",
    "    plt.scatter(data_t,Gc[:,time],color=jpac_blue)\n",
    "    plt.scatter(data_t+shift,Gc2[:,time],color=jpac_red)\n",
    "    plt.xlim(0,7.5)"
   ]
  },
  {
   "cell_type": "code",
   "execution_count": 5,
   "metadata": {},
   "outputs": [
    {
     "data": {
      "text/plain": [
       "array([1.25139636, 0.87052982, 0.61546284, 0.43870142, 0.31429297,\n",
       "       0.22588335, 0.16277069, 0.1175101 , 0.08493955, 0.06146263])"
      ]
     },
     "execution_count": 5,
     "metadata": {},
     "output_type": "execute_result"
    },
    {
     "data": {
      "text/plain": [
       "array([ 2765.21938808,  5368.8128157 ,  9113.25823357, 14175.09791814,\n",
       "       20796.23214703, 28816.88786356, 37053.66959364, 37907.16717419,\n",
       "       46475.0256049 , 52896.5891635 ])"
      ]
     },
     "execution_count": 5,
     "metadata": {},
     "output_type": "execute_result"
    },
    {
     "data": {
      "text/html": [
       "<table>\n",
       "    <tr>\n",
       "        <th colspan=\"2\" style=\"text-align:center\" title=\"Minimizer\"> Migrad </th>\n",
       "    </tr>\n",
       "    <tr>\n",
       "        <td style=\"text-align:left\" title=\"Minimum value of function\"> FCN = 0.678 (χ²/ndof = 0.3) </td>\n",
       "        <td style=\"text-align:center\" title=\"Total number of function and (optional) gradient evaluations\"> Nfcn = 4028 </td>\n",
       "    </tr>\n",
       "    <tr>\n",
       "        <td style=\"text-align:left\" title=\"Estimated distance to minimum and goal\"> EDM = 2.84e-09 (Goal: 2e-08) </td>\n",
       "        <td style=\"text-align:center\" title=\"Total run time of algorithms\">  </td>\n",
       "    </tr>\n",
       "    <tr>\n",
       "        <td style=\"text-align:center;background-color:#92CCA6;color:black\"> Valid Minimum </td>\n",
       "        <td style=\"text-align:center;background-color:#92CCA6;color:black\"> Below EDM threshold (goal x 10) </td>\n",
       "    </tr>\n",
       "    <tr>\n",
       "        <td style=\"text-align:center;background-color:#92CCA6;color:black\"> No parameters at limit </td>\n",
       "        <td style=\"text-align:center;background-color:#92CCA6;color:black\"> Below call limit </td>\n",
       "    </tr>\n",
       "    <tr>\n",
       "        <td style=\"text-align:center;background-color:#92CCA6;color:black\"> Hesse ok </td>\n",
       "        <td style=\"text-align:center;background-color:#92CCA6;color:black\"> Covariance accurate </td>\n",
       "    </tr>\n",
       "</table><table>\n",
       "    <tr>\n",
       "        <td></td>\n",
       "        <th title=\"Variable name\"> Name </th>\n",
       "        <th title=\"Value of parameter\"> Value </th>\n",
       "        <th title=\"Hesse error\"> Hesse Error </th>\n",
       "        <th title=\"Minos lower error\"> Minos Error- </th>\n",
       "        <th title=\"Minos upper error\"> Minos Error+ </th>\n",
       "        <th title=\"Lower limit of the parameter\"> Limit- </th>\n",
       "        <th title=\"Upper limit of the parameter\"> Limit+ </th>\n",
       "        <th title=\"Is the parameter fixed in the fit\"> Fixed </th>\n",
       "    </tr>\n",
       "    <tr>\n",
       "        <th> 0 </th>\n",
       "        <td> x0 </td>\n",
       "        <td> 0.000 </td>\n",
       "        <td> 0.002 </td>\n",
       "        <td>  </td>\n",
       "        <td>  </td>\n",
       "        <td>  </td>\n",
       "        <td>  </td>\n",
       "        <td>  </td>\n",
       "    </tr>\n",
       "    <tr>\n",
       "        <th> 1 </th>\n",
       "        <td> x1 </td>\n",
       "        <td> 1.50 </td>\n",
       "        <td> 0.05 </td>\n",
       "        <td>  </td>\n",
       "        <td>  </td>\n",
       "        <td>  </td>\n",
       "        <td>  </td>\n",
       "        <td>  </td>\n",
       "    </tr>\n",
       "    <tr>\n",
       "        <th> 2 </th>\n",
       "        <td> x2 </td>\n",
       "        <td> 0.3204 </td>\n",
       "        <td> 0.0023 </td>\n",
       "        <td>  </td>\n",
       "        <td>  </td>\n",
       "        <td>  </td>\n",
       "        <td>  </td>\n",
       "        <td>  </td>\n",
       "    </tr>\n",
       "    <tr>\n",
       "        <th> 3 </th>\n",
       "        <td> x3 </td>\n",
       "        <td> 0.255 </td>\n",
       "        <td> 0.016 </td>\n",
       "        <td>  </td>\n",
       "        <td>  </td>\n",
       "        <td>  </td>\n",
       "        <td>  </td>\n",
       "        <td>  </td>\n",
       "    </tr>\n",
       "    <tr>\n",
       "        <th> 4 </th>\n",
       "        <td> x4 </td>\n",
       "        <td> -0.29 </td>\n",
       "        <td> 0.09 </td>\n",
       "        <td>  </td>\n",
       "        <td>  </td>\n",
       "        <td>  </td>\n",
       "        <td>  </td>\n",
       "        <td>  </td>\n",
       "    </tr>\n",
       "    <tr>\n",
       "        <th> 5 </th>\n",
       "        <td> x5 </td>\n",
       "        <td> 0.114 </td>\n",
       "        <td> 0.029 </td>\n",
       "        <td>  </td>\n",
       "        <td>  </td>\n",
       "        <td>  </td>\n",
       "        <td>  </td>\n",
       "        <td>  </td>\n",
       "    </tr>\n",
       "    <tr>\n",
       "        <th> 6 </th>\n",
       "        <td> x6 </td>\n",
       "        <td> 0.93 </td>\n",
       "        <td> 0.32 </td>\n",
       "        <td>  </td>\n",
       "        <td>  </td>\n",
       "        <td>  </td>\n",
       "        <td>  </td>\n",
       "        <td>  </td>\n",
       "    </tr>\n",
       "</table><table>\n",
       "    <tr>\n",
       "        <td></td>\n",
       "        <th> x0 </th>\n",
       "        <th> x1 </th>\n",
       "        <th> x2 </th>\n",
       "        <th> x3 </th>\n",
       "        <th> x4 </th>\n",
       "        <th> x5 </th>\n",
       "        <th> x6 </th>\n",
       "    </tr>\n",
       "    <tr>\n",
       "        <th> x0 </th>\n",
       "        <td> 3.88e-06 </td>\n",
       "        <td style=\"background-color:rgb(246,246,250);color:black\"> -3e-6 <strong>(-0.032)</strong> </td>\n",
       "        <td style=\"background-color:rgb(247,247,250);color:black\"> -0e-6 <strong>(-0.026)</strong> </td>\n",
       "        <td style=\"background-color:rgb(232,232,250);color:black\"> -4e-6 <strong>(-0.137)</strong> </td>\n",
       "        <td style=\"background-color:rgb(250,245,245);color:black\"> 6e-6 <strong>(0.034)</strong> </td>\n",
       "        <td style=\"background-color:rgb(220,220,250);color:black\"> -13e-6 <strong>(-0.230)</strong> </td>\n",
       "        <td style=\"background-color:rgb(238,238,250);color:black\"> -57e-6 <strong>(-0.089)</strong> </td>\n",
       "    </tr>\n",
       "    <tr>\n",
       "        <th> x1 </th>\n",
       "        <td style=\"background-color:rgb(246,246,250);color:black\"> -3e-6 <strong>(-0.032)</strong> </td>\n",
       "        <td> 0.00221 </td>\n",
       "        <td style=\"background-color:rgb(250,101,101);color:black\"> 108e-6 <strong>(0.993)</strong> </td>\n",
       "        <td style=\"background-color:rgb(187,187,250);color:black\"> -0.37e-3 <strong>(-0.481)</strong> </td>\n",
       "        <td style=\"background-color:rgb(122,122,250);color:black\"> -0.0042 <strong>(-0.985)</strong> </td>\n",
       "        <td style=\"background-color:rgb(130,130,250);color:black\"> -1.3e-3 <strong>(-0.924)</strong> </td>\n",
       "        <td style=\"background-color:rgb(250,128,128);color:black\"> 0.0124 <strong>(0.816)</strong> </td>\n",
       "    </tr>\n",
       "    <tr>\n",
       "        <th> x2 </th>\n",
       "        <td style=\"background-color:rgb(247,247,250);color:black\"> -0e-6 <strong>(-0.026)</strong> </td>\n",
       "        <td style=\"background-color:rgb(250,101,101);color:black\"> 108e-6 <strong>(0.993)</strong> </td>\n",
       "        <td> 5.36e-06 </td>\n",
       "        <td style=\"background-color:rgb(182,182,250);color:black\"> -20e-6 <strong>(-0.524)</strong> </td>\n",
       "        <td style=\"background-color:rgb(124,124,250);color:black\"> -203e-6 <strong>(-0.971)</strong> </td>\n",
       "        <td style=\"background-color:rgb(132,132,250);color:black\"> -61e-6 <strong>(-0.907)</strong> </td>\n",
       "        <td style=\"background-color:rgb(250,132,132);color:black\"> 590e-6 <strong>(0.788)</strong> </td>\n",
       "    </tr>\n",
       "    <tr>\n",
       "        <th> x3 </th>\n",
       "        <td style=\"background-color:rgb(232,232,250);color:black\"> -4e-6 <strong>(-0.137)</strong> </td>\n",
       "        <td style=\"background-color:rgb(187,187,250);color:black\"> -0.37e-3 <strong>(-0.481)</strong> </td>\n",
       "        <td style=\"background-color:rgb(182,182,250);color:black\"> -20e-6 <strong>(-0.524)</strong> </td>\n",
       "        <td> 0.000267 </td>\n",
       "        <td style=\"background-color:rgb(250,200,200);color:black\"> 0.50e-3 <strong>(0.336)</strong> </td>\n",
       "        <td style=\"background-color:rgb(250,202,202);color:black\"> 0.15e-3 <strong>(0.321)</strong> </td>\n",
       "        <td style=\"background-color:rgb(250,238,238);color:black\"> 0.43e-3 <strong>(0.082)</strong> </td>\n",
       "    </tr>\n",
       "    <tr>\n",
       "        <th> x4 </th>\n",
       "        <td style=\"background-color:rgb(250,245,245);color:black\"> 6e-6 <strong>(0.034)</strong> </td>\n",
       "        <td style=\"background-color:rgb(122,122,250);color:black\"> -0.0042 <strong>(-0.985)</strong> </td>\n",
       "        <td style=\"background-color:rgb(124,124,250);color:black\"> -203e-6 <strong>(-0.971)</strong> </td>\n",
       "        <td style=\"background-color:rgb(250,200,200);color:black\"> 0.50e-3 <strong>(0.336)</strong> </td>\n",
       "        <td> 0.00817 </td>\n",
       "        <td style=\"background-color:rgb(250,108,108);color:black\"> 2.5e-3 <strong>(0.945)</strong> </td>\n",
       "        <td style=\"background-color:rgb(135,135,250);color:black\"> -0.026 <strong>(-0.886)</strong> </td>\n",
       "    </tr>\n",
       "    <tr>\n",
       "        <th> x5 </th>\n",
       "        <td style=\"background-color:rgb(220,220,250);color:black\"> -13e-6 <strong>(-0.230)</strong> </td>\n",
       "        <td style=\"background-color:rgb(130,130,250);color:black\"> -1.3e-3 <strong>(-0.924)</strong> </td>\n",
       "        <td style=\"background-color:rgb(132,132,250);color:black\"> -61e-6 <strong>(-0.907)</strong> </td>\n",
       "        <td style=\"background-color:rgb(250,202,202);color:black\"> 0.15e-3 <strong>(0.321)</strong> </td>\n",
       "        <td style=\"background-color:rgb(250,108,108);color:black\"> 2.5e-3 <strong>(0.945)</strong> </td>\n",
       "        <td> 0.00085 </td>\n",
       "        <td style=\"background-color:rgb(146,146,250);color:black\"> -7.6e-3 <strong>(-0.802)</strong> </td>\n",
       "    </tr>\n",
       "    <tr>\n",
       "        <th> x6 </th>\n",
       "        <td style=\"background-color:rgb(238,238,250);color:black\"> -57e-6 <strong>(-0.089)</strong> </td>\n",
       "        <td style=\"background-color:rgb(250,128,128);color:black\"> 0.0124 <strong>(0.816)</strong> </td>\n",
       "        <td style=\"background-color:rgb(250,132,132);color:black\"> 590e-6 <strong>(0.788)</strong> </td>\n",
       "        <td style=\"background-color:rgb(250,238,238);color:black\"> 0.43e-3 <strong>(0.082)</strong> </td>\n",
       "        <td style=\"background-color:rgb(135,135,250);color:black\"> -0.026 <strong>(-0.886)</strong> </td>\n",
       "        <td style=\"background-color:rgb(146,146,250);color:black\"> -7.6e-3 <strong>(-0.802)</strong> </td>\n",
       "        <td> 0.105 </td>\n",
       "    </tr>\n",
       "</table>"
      ],
      "text/plain": [
       "┌─────────────────────────────────────────────────────────────────────────┐\n",
       "│                                Migrad                                   │\n",
       "├──────────────────────────────────┬──────────────────────────────────────┤\n",
       "│ FCN = 0.678 (χ²/ndof = 0.3)      │             Nfcn = 4028              │\n",
       "│ EDM = 2.84e-09 (Goal: 2e-08)     │                                      │\n",
       "├──────────────────────────────────┼──────────────────────────────────────┤\n",
       "│          Valid Minimum           │   Below EDM threshold (goal x 10)    │\n",
       "├──────────────────────────────────┼──────────────────────────────────────┤\n",
       "│      No parameters at limit      │           Below call limit           │\n",
       "├──────────────────────────────────┼──────────────────────────────────────┤\n",
       "│             Hesse ok             │         Covariance accurate          │\n",
       "└──────────────────────────────────┴──────────────────────────────────────┘\n",
       "┌───┬──────┬───────────┬───────────┬────────────┬────────────┬─────────┬─────────┬───────┐\n",
       "│   │ Name │   Value   │ Hesse Err │ Minos Err- │ Minos Err+ │ Limit-  │ Limit+  │ Fixed │\n",
       "├───┼──────┼───────────┼───────────┼────────────┼────────────┼─────────┼─────────┼───────┤\n",
       "│ 0 │ x0   │   0.000   │   0.002   │            │            │         │         │       │\n",
       "│ 1 │ x1   │   1.50    │   0.05    │            │            │         │         │       │\n",
       "│ 2 │ x2   │  0.3204   │  0.0023   │            │            │         │         │       │\n",
       "│ 3 │ x3   │   0.255   │   0.016   │            │            │         │         │       │\n",
       "│ 4 │ x4   │   -0.29   │   0.09    │            │            │         │         │       │\n",
       "│ 5 │ x5   │   0.114   │   0.029   │            │            │         │         │       │\n",
       "│ 6 │ x6   │   0.93    │   0.32    │            │            │         │         │       │\n",
       "└───┴──────┴───────────┴───────────┴────────────┴────────────┴─────────┴─────────┴───────┘\n",
       "┌────┬────────────────────────────────────────────────────────────────┐\n",
       "│    │       x0       x1       x2       x3       x4       x5       x6 │\n",
       "├────┼────────────────────────────────────────────────────────────────┤\n",
       "│ x0 │ 3.88e-06    -3e-6    -0e-6    -4e-6     6e-6   -13e-6   -57e-6 │\n",
       "│ x1 │    -3e-6  0.00221   108e-6 -0.37e-3  -0.0042  -1.3e-3   0.0124 │\n",
       "│ x2 │    -0e-6   108e-6 5.36e-06   -20e-6  -203e-6   -61e-6   590e-6 │\n",
       "│ x3 │    -4e-6 -0.37e-3   -20e-6 0.000267  0.50e-3  0.15e-3  0.43e-3 │\n",
       "│ x4 │     6e-6  -0.0042  -203e-6  0.50e-3  0.00817   2.5e-3   -0.026 │\n",
       "│ x5 │   -13e-6  -1.3e-3   -61e-6  0.15e-3   2.5e-3  0.00085  -7.6e-3 │\n",
       "│ x6 │   -57e-6   0.0124   590e-6  0.43e-3   -0.026  -7.6e-3    0.105 │\n",
       "└────┴────────────────────────────────────────────────────────────────┘"
      ]
     },
     "execution_count": 5,
     "metadata": {},
     "output_type": "execute_result"
    },
    {
     "data": {
      "text/plain": [
       "array([ 2.56303878e-11,  1.49954153e+00,  3.20375473e-01,  2.54581540e-01,\n",
       "       -2.89858544e-01,  1.14348073e-01,  9.25085900e-01])"
      ]
     },
     "execution_count": 5,
     "metadata": {},
     "output_type": "execute_result"
    },
    {
     "data": {
      "text/plain": [
       "<ErrorbarContainer object of 3 artists>"
      ]
     },
     "execution_count": 5,
     "metadata": {},
     "output_type": "execute_result"
    },
    {
     "data": {
      "text/plain": [
       "[<matplotlib.lines.Line2D at 0x1347e5010>]"
      ]
     },
     "execution_count": 5,
     "metadata": {},
     "output_type": "execute_result"
    },
    {
     "data": {
      "text/plain": [
       "Text(0.88, 0.8, '$\\\\chi^2/ndof=0.3$')"
      ]
     },
     "execution_count": 5,
     "metadata": {},
     "output_type": "execute_result"
    },
    {
     "data": {
      "text/plain": [
       "Text(0.88, 0.7, '$E_0=0.320\\\\pm 0.002$')"
      ]
     },
     "execution_count": 5,
     "metadata": {},
     "output_type": "execute_result"
    },
    {
     "data": {
      "text/plain": [
       "Text(0.88, 0.65, '$dlog(0)=0.434\\\\pm 0.022$')"
      ]
     },
     "execution_count": 5,
     "metadata": {},
     "output_type": "execute_result"
    },
    {
     "data": {
      "text/plain": [
       "Text(0.5, 0, '$T$ ')"
      ]
     },
     "execution_count": 5,
     "metadata": {},
     "output_type": "execute_result"
    },
    {
     "data": {
      "text/plain": [
       "Text(0, 0.5, '$G(R,T)$')"
      ]
     },
     "execution_count": 5,
     "metadata": {},
     "output_type": "execute_result"
    },
    {
     "data": {
      "image/png": "[encoded data removed]",
      "text/plain": [
       "<Figure size 640x480 with 1 Axes>"
      ]
     },
     "metadata": {},
     "output_type": "display_data"
    }
   ],
   "source": [
    "x=1\n",
    "k=6\n",
    "r=3\n",
    "pos=0\n",
    "\n",
    "jackkl=100000\n",
    "jump_configs=1\n",
    "\n",
    "mcalls=10000\n",
    "mtol=0.00001\n",
    "\n",
    "totaltraj=int(len(data[x][k])/size[k])\n",
    "Nt=Textent\n",
    "\n",
    "Gc=np.zeros((int(totaltraj/jump_configs),Nt))\n",
    "for i in range(int(totaltraj/jump_configs)):\n",
    "    index=jump_configs*i\n",
    "    Gc[[i]]=data[x][k][range(index*Nt,(index+1)*Nt),[r]]\n",
    "    \n",
    "#logG=np.log(ratio(trim_negative(Gc).trimmed()).val())\n",
    "\n",
    "\n",
    "# Get average over all data, we will then replicate for every Jackknife sample to get errors\n",
    "\n",
    "gdata=jackknife(Gc,jackkl).sample()\n",
    "lt=len(Gc[0])\n",
    "dfin=min(lt,100)\n",
    "data_t   = np.linspace(1, lt, lt)\n",
    "data_2t  = np.linspace(1, 2*lt-1, 2*lt-1)\n",
    "if pos==0:\n",
    "    data_y   = ensemble_stat(gdata).mean()\n",
    "else:\n",
    "    data_y   = gdata[pos]\n",
    "data_cov = ensemble_stat(jackknife(gdata,jackkl).up()).rcov()\n",
    "data_err = np.sqrt(np.diagonal(ensemble_stat(jackknife(gdata,jackkl).up()).rcov()))\n",
    "\n",
    "data_y\n",
    "np.sort(np.sqrt(np.diag(improved_inverse_covariance(data_cov))))\n",
    "\n",
    "data_covf = np.identity(lt)\n",
    "for i in range(len(np.sqrt(np.diag(data_cov)))):\n",
    "    for j in range(len(np.sqrt(np.diag(data_cov)))):\n",
    "        data_covf[i][j]*=np.sqrt(np.diag(data_cov))[i]*np.sqrt(np.diag(data_cov))[j]\n",
    "\n",
    "tini=1\n",
    "tfin=9\n",
    "\n",
    "funfit='nb_exp_np_pole'\n",
    "inipars=[0.0,1.,1.,0.1,1.0,0.1,1.0]\n",
    "#funfit='nb_exp_np'\n",
    "#inipars=[-0.46355412, -2.793052 ]\n",
    " \n",
    "\n",
    "m=RepeatSingleFit(data_t, data_y, data_cov, tini, tfin, inipars, funfit , mcalls, mtol,0,1,0,0,10,10)\n",
    "\n",
    "fit=m.minimize()\n",
    "fit\n",
    "np.array(fit.values)\n",
    "\n",
    "if (len(inipars)%2==0):\n",
    "    mass  = np.abs(np.array(fit.values)[1])\n",
    "    emass = np.array(fit.errors)[1]\n",
    "else:\n",
    "    mass  = np.abs(np.array(fit.values)[2])\n",
    "    emass = np.array(fit.errors)[2]   \n",
    "\n",
    "\n",
    "dlog=loglimG(0,*np.array(fit.values)[1:])\n",
    "edlog=prop_err(0,'loglimG',np.array(fit.values)[1:],np.array(fit.errors)[1:],np.array(fit.covariance.correlation())[1:,1:])[0]\n",
    "\n",
    "data_t_plot=np.linspace(data_t[0],data_t[-1],1000)\n",
    "\n",
    "plt.errorbar(data_t, data_y, data_err, fmt=\"ok\", label=\"data\")\n",
    "plt.plot(data_t_plot, eval(funfit)(data_t_plot, *fit.values), label=\"fit\")\n",
    "\n",
    "#plt.yscale('log')\n",
    "\n",
    "plt.figtext(0.88, 0.8, \n",
    "                '$\\\\chi^2/ndof={:.1f}$'.format(fit.fval/fit.ndof), \n",
    "                horizontalalignment =\"right\",  \n",
    "                verticalalignment =\"center\",  \n",
    "                wrap = True, fontsize = 12,  \n",
    "                color =\"black\")\n",
    "plt.figtext(0.88, 0.7, \n",
    "                '$E_0={:.3f}\\\\pm {:.3f}$'.format(mass,emass), \n",
    "                horizontalalignment =\"right\",  \n",
    "                verticalalignment =\"center\",  \n",
    "                wrap = True, fontsize = 12,  \n",
    "                color =\"black\")\n",
    "plt.figtext(0.88, 0.65, \n",
    "                '$dlog(0)={:.3f}\\\\pm {:.3f}$'.format(dlog,edlog), \n",
    "                horizontalalignment =\"right\",  \n",
    "                verticalalignment =\"center\",  \n",
    "                wrap = True, fontsize = 12,  \n",
    "                color =\"black\")\n",
    "plt.xlabel(\"$T$ \",fontsize=12)\n",
    "plt.ylabel(\"$G(R,T)$\",fontsize=12, rotation=90, loc='center')\n",
    "plt.show()"
   ]
  },
  {
   "cell_type": "code",
   "execution_count": 6,
   "metadata": {},
   "outputs": [
    {
     "data": {
      "text/plain": [
       "array([1.21117458, 1.28138604, 1.17533155, ..., 1.25877697, 1.24069075,\n",
       "       1.28731942])"
      ]
     },
     "execution_count": 6,
     "metadata": {},
     "output_type": "execute_result"
    },
    {
     "data": {
      "text/plain": [
       "np.float64(1.2513963643009975)"
      ]
     },
     "execution_count": 6,
     "metadata": {},
     "output_type": "execute_result"
    },
    {
     "data": {
      "text/plain": [
       "np.float64(1.418929864005)"
      ]
     },
     "execution_count": 6,
     "metadata": {},
     "output_type": "execute_result"
    }
   ],
   "source": [
    "Gc[:,0]\n",
    "np.mean(Gc[:,0])\n",
    "np.max(Gc[:,0])"
   ]
  },
  {
   "cell_type": "code",
   "execution_count": 7,
   "metadata": {},
   "outputs": [
    {
     "data": {
      "text/plain": [
       "array([1.25141655, 1.25138132, 1.25143453, ..., 1.25139266, 1.25140174,\n",
       "       1.25137834])"
      ]
     },
     "execution_count": 7,
     "metadata": {},
     "output_type": "execute_result"
    },
    {
     "data": {
      "text/plain": [
       "np.float64(1.2514917829298533)"
      ]
     },
     "execution_count": 7,
     "metadata": {},
     "output_type": "execute_result"
    }
   ],
   "source": [
    "gdata=jackknife(Gc,jackkl).sample()[:,0]\n",
    "gdata\n",
    "np.max(gdata)"
   ]
  },
  {
   "cell_type": "code",
   "execution_count": 8,
   "metadata": {},
   "outputs": [
    {
     "data": {
      "text/plain": [
       "array([1.21117458, 1.28138604, 1.17533155, ..., 1.25877697, 1.24069075,\n",
       "       1.28731942])"
      ]
     },
     "execution_count": 8,
     "metadata": {},
     "output_type": "execute_result"
    },
    {
     "data": {
      "text/plain": [
       "np.float64(1.418929864005098)"
      ]
     },
     "execution_count": 8,
     "metadata": {},
     "output_type": "execute_result"
    }
   ],
   "source": [
    "jackknife(gdata,jackkl).up()\n",
    "np.max(jackknife(gdata,jackkl).up())"
   ]
  },
  {
   "cell_type": "code",
   "execution_count": 9,
   "metadata": {},
   "outputs": [],
   "source": [
    "with open(\"../S_correlators_L32/Gc_plots/xi=1/3_nb_exp_np_pole_exp_AIC_list_ti1_0_tfin16_tmin12_beta=225_R=1_nocorrs=0_g\", \"rb\") as fp:   # Unpickling\n",
    "   b = pickle.load(fp)"
   ]
  },
  {
   "cell_type": "code",
   "execution_count": 10,
   "metadata": {},
   "outputs": [
    {
     "data": {
      "text/plain": [
       "array([0.00010075])"
      ]
     },
     "execution_count": 10,
     "metadata": {},
     "output_type": "execute_result"
    },
    {
     "data": {
      "text/plain": [
       "array([0.00010075])"
      ]
     },
     "execution_count": 10,
     "metadata": {},
     "output_type": "execute_result"
    },
    {
     "data": {
      "text/plain": [
       "array([0.00010071])"
      ]
     },
     "execution_count": 10,
     "metadata": {},
     "output_type": "execute_result"
    },
    {
     "data": {
      "text/plain": [
       "array([0.00010071])"
      ]
     },
     "execution_count": 10,
     "metadata": {},
     "output_type": "execute_result"
    },
    {
     "data": {
      "text/plain": [
       "np.float64(0.5142635155172564)"
      ]
     },
     "execution_count": 10,
     "metadata": {},
     "output_type": "execute_result"
    },
    {
     "data": {
      "text/plain": [
       "np.float64(0.5142635155172567)"
      ]
     },
     "execution_count": 10,
     "metadata": {},
     "output_type": "execute_result"
    },
    {
     "data": {
      "text/plain": [
       "1000"
      ]
     },
     "execution_count": 10,
     "metadata": {},
     "output_type": "execute_result"
    },
    {
     "data": {
      "text/plain": [
       "array([0.00010122])"
      ]
     },
     "execution_count": 10,
     "metadata": {},
     "output_type": "execute_result"
    },
    {
     "data": {
      "text/plain": [
       "array([0.00010075])"
      ]
     },
     "execution_count": 10,
     "metadata": {},
     "output_type": "execute_result"
    },
    {
     "data": {
      "text/plain": [
       "array([0.0001007])"
      ]
     },
     "execution_count": 10,
     "metadata": {},
     "output_type": "execute_result"
    },
    {
     "data": {
      "text/plain": [
       "array([0.0001007])"
      ]
     },
     "execution_count": 10,
     "metadata": {},
     "output_type": "execute_result"
    }
   ],
   "source": [
    "gdata1=b.ordered()[0][4][:,1]\n",
    "gdata2=b.ordered()[6][4][:,1]\n",
    "\n",
    "Gdata1=jackknife(gdata1,jackkl).pup()\n",
    "Gdata2=jackknife(gdata2,jackkl).pup()\n",
    "weights=[0.9,0.1]\n",
    "\n",
    "(jackknife(gdata1**2).fmean()-jackknife(gdata1).fmean()**2)*(len(gdata1)-1)\n",
    "jackknife(Gdata1**2).fmean()-jackknife(Gdata1).fmean()**2\n",
    "\n",
    "\n",
    "(jackknife(gdata2**2).fmean()-jackknife(gdata2).fmean()**2)*(len(gdata2)-1)\n",
    "jackknife(Gdata2**2).fmean()-jackknife(Gdata2).fmean()**2\n",
    "\n",
    "\n",
    "gdata=gdata1*weights[0]+gdata2*weights[1]\n",
    "gdatasq=gdata1**2*weights[0]+gdata2**2*weights[1]\n",
    "Gdata=Gdata1*weights[0]+Gdata2*weights[1]\n",
    "Gdatasq=Gdata1**2*weights[0]+Gdata2**2*weights[1]\n",
    "\n",
    "gdata.mean()\n",
    "Gdata.mean()\n",
    "\n",
    "len(gdata)\n",
    "(jackknife(gdatasq).fmean()-jackknife(gdata).fmean()**2)*(len(gdata)-1)\n",
    "jackknife(Gdatasq).fmean()-jackknife(Gdata).fmean()**2\n",
    "(jackknife(gdata**2).fmean()-jackknife(gdata).fmean()**2)*(len(gdata)-1)\n",
    "jackknife(Gdata**2).fmean()-jackknife(Gdata).fmean()**2"
   ]
  },
  {
   "cell_type": "code",
   "execution_count": 11,
   "metadata": {},
   "outputs": [
    {
     "data": {
      "text/plain": [
       "array([0.26457516])"
      ]
     },
     "execution_count": 11,
     "metadata": {},
     "output_type": "execute_result"
    },
    {
     "data": {
      "text/plain": [
       "array([0.26457516])"
      ]
     },
     "execution_count": 11,
     "metadata": {},
     "output_type": "execute_result"
    }
   ],
   "source": [
    "jackknife(gdata1).upcov()+jackknife(gdata1).fmean()**2\n",
    "jackknife(Gdata1**2).fmean()"
   ]
  },
  {
   "cell_type": "code",
   "execution_count": 71,
   "metadata": {},
   "outputs": [
    {
     "data": {
      "text/plain": [
       "array([[1.33397993e-06, 1.12768105e-07],\n",
       "       [1.12768105e-07, 2.31189511e-08]])"
      ]
     },
     "execution_count": 71,
     "metadata": {},
     "output_type": "execute_result"
    },
    {
     "data": {
      "text/plain": [
       "array([[1.        , 0.64213682],\n",
       "       [0.64213682, 1.        ]])"
      ]
     },
     "execution_count": 71,
     "metadata": {},
     "output_type": "execute_result"
    },
    {
     "data": {
      "text/plain": [
       "array([[ 9.27380228e-08, -2.61242528e-11],\n",
       "       [-2.61242528e-11,  1.05894645e-08]])"
      ]
     },
     "execution_count": 71,
     "metadata": {},
     "output_type": "execute_result"
    },
    {
     "data": {
      "text/plain": [
       "array([[ 1.28327604e-07, -9.22688373e-10],\n",
       "       [-9.22688373e-10,  9.59603365e-09]])"
      ]
     },
     "execution_count": 71,
     "metadata": {},
     "output_type": "execute_result"
    }
   ],
   "source": [
    "Gc=np.zeros((int(totaltraj/jump_configs),Nt))\n",
    "for i in range(int(totaltraj/jump_configs)):\n",
    "    index=jump_configs*i\n",
    "    Gc[[i]]=data[x][k][range(index*Nt,(index+1)*Nt),[r]]\n",
    "    \n",
    "#logG=np.log(ratio(trim_negative(Gc).trimmed()).val())\n",
    "\n",
    "\n",
    "# Get average over all data, we will then replicate for every Jackknife sample to get errors\n",
    "\n",
    "gdata1=jackknife(jackknife(Gc,jackkl).sample()[:,0]).pup()\n",
    "gdata2=jackknife(jackknife(Gc,jackkl).sample()[:,9]).pup()\n",
    "\n",
    "np.cov(gdata1,gdata2)\n",
    "np.corrcoef(gdata1,gdata2)\n",
    "\n",
    "\n",
    "np.cov(add_gaussian_noise(gdata1,1e-7),add_gaussian_noise(gdata2,1e-8))-np.cov(gdata1,gdata2)\n",
    "np.cov(add_gaussian_noise2(gdata1,1e-7),add_gaussian_noise2(gdata2,1e-8))-np.cov(gdata1,gdata2)"
   ]
  },
  {
   "cell_type": "code",
   "execution_count": 78,
   "metadata": {},
   "outputs": [
    {
     "data": {
      "text/plain": [
       "array([0.00010083])"
      ]
     },
     "execution_count": 78,
     "metadata": {},
     "output_type": "execute_result"
    },
    {
     "data": {
      "text/plain": [
       "array([0.10071575])"
      ]
     },
     "execution_count": 78,
     "metadata": {},
     "output_type": "execute_result"
    }
   ],
   "source": [
    "val=Gdata1.mean()*weights[0]+Gdata2.mean()*weights[1]\n",
    "eval=(jackknife(Gdata1**2).fmean()*weights[0]+jackknife(Gdata2**2).fmean()*weights[1])\n",
    "\n",
    "val2=gdata1.mean()*weights[0]+gdata2.mean()*weights[1]\n",
    "eval2=((jackknife(gdata1).upcov()+jackknife(gdata1).fmean()**2)*weights[0]+(jackknife(gdata2).upcov()+jackknife(gdata2).fmean()**2)*weights[1])\n",
    "\n",
    "\n",
    "eval-val**2\n",
    "eval2-val2**2"
   ]
  },
  {
   "cell_type": "code",
   "execution_count": 156,
   "metadata": {},
   "outputs": [
    {
     "data": {
      "text/plain": [
       "array([1.37933672e-05, 4.35990770e-08, 3.11586735e-09, 1.01556374e-09,\n",
       "       4.73928161e-10, 3.33576786e-10, 2.49249539e-10, 1.83717921e-10,\n",
       "       8.16209918e-22, 6.04466121e-22])"
      ]
     },
     "execution_count": 156,
     "metadata": {},
     "output_type": "execute_result"
    },
    {
     "name": "stdout",
     "output_type": "stream",
     "text": [
      "Negative eig found== -8.183877357811934e-22\n"
     ]
    },
    {
     "data": {
      "text/plain": [
       "array([1.37933672e-05, 4.35990770e-08, 3.11586735e-09, 1.01556374e-09,\n",
       "       4.73928161e-10, 3.33576854e-10, 2.49249489e-10, 1.83717921e-10,\n",
       "       8.15941334e-22, 1.29402036e-22])"
      ]
     },
     "execution_count": 156,
     "metadata": {},
     "output_type": "execute_result"
    }
   ],
   "source": [
    "def get_near_psd(A):   # As explained in N.J. Higham, \"Computing a nearest symmetric positive semidefinite matrix\" (1988): https://doi.org/10.1016/0024-3795(88)90223-6\n",
    "    if (len(np.shape(A))<2):\n",
    "        result=A\n",
    "    else:\n",
    "        C=(A + np.transpose(A))/2\n",
    "        eigval, eigvec = np.linalg.eig(C)\n",
    "        if (np.min(eigval)<0):\n",
    "            print('Negative eig found==',np.min(eigval))\n",
    "        eigval[eigval < 0] = 0\n",
    "        result=np.transpose(eigvec).dot(np.diag(eigval)).dot(eigvec)\n",
    "        #result=(result+np.transpose(result))/2\n",
    "    return result\n",
    "\n",
    "try_matrix=data_cov_R\n",
    "\n",
    "np.linalg.svd(try_matrix)[1]\n",
    "np.linalg.svd(get_near_psd(try_matrix))[1]"
   ]
  },
  {
   "cell_type": "code",
   "execution_count": 354,
   "metadata": {},
   "outputs": [
    {
     "data": {
      "text/plain": [
       "np.float64(4.440892098500626e-16)"
      ]
     },
     "execution_count": 354,
     "metadata": {},
     "output_type": "execute_result"
    },
    {
     "data": {
      "text/plain": [
       "np.float64(5.24173948860076e-16)"
      ]
     },
     "execution_count": 354,
     "metadata": {},
     "output_type": "execute_result"
    },
    {
     "data": {
      "text/plain": [
       "array([1.24867594e+02, 6.54523399e-14])"
      ]
     },
     "execution_count": 354,
     "metadata": {},
     "output_type": "execute_result"
    },
    {
     "data": {
      "text/plain": [
       "True"
      ]
     },
     "execution_count": 354,
     "metadata": {},
     "output_type": "execute_result"
    },
    {
     "data": {
      "text/plain": [
       "True"
      ]
     },
     "execution_count": 354,
     "metadata": {},
     "output_type": "execute_result"
    },
    {
     "data": {
      "text/plain": [
       "True"
      ]
     },
     "execution_count": 354,
     "metadata": {},
     "output_type": "execute_result"
    },
    {
     "data": {
      "text/plain": [
       "True"
      ]
     },
     "execution_count": 354,
     "metadata": {},
     "output_type": "execute_result"
    },
    {
     "data": {
      "text/plain": [
       "array([ 8.00848298e-03, -1.58443683e+01])"
      ]
     },
     "execution_count": 354,
     "metadata": {},
     "output_type": "execute_result"
    },
    {
     "data": {
      "text/plain": [
       "array([-1.58443683e+01,  1.52782926e+13])"
      ]
     },
     "execution_count": 354,
     "metadata": {},
     "output_type": "execute_result"
    },
    {
     "data": {
      "text/plain": [
       "array([ 8.00848298e-03, -1.58443683e+01])"
      ]
     },
     "execution_count": 354,
     "metadata": {},
     "output_type": "execute_result"
    },
    {
     "data": {
      "text/plain": [
       "array([ 8.00848298e-03, -1.58443683e+01])"
      ]
     },
     "execution_count": 354,
     "metadata": {},
     "output_type": "execute_result"
    },
    {
     "data": {
      "text/plain": [
       "True"
      ]
     },
     "execution_count": 354,
     "metadata": {},
     "output_type": "execute_result"
    },
    {
     "data": {
      "text/plain": [
       "np.float64(0.0)"
      ]
     },
     "execution_count": 354,
     "metadata": {},
     "output_type": "execute_result"
    }
   ],
   "source": [
    "def improved_inverse_covariance2(A):    # It computes the Moore-Penrose pseudo-inverse. It produces a SVD decomp and inverse, which resets small singular values via a condition related to machine precision. If no small singular values are found, it provides with the actual SVD method inversion\n",
    "    rtol=len(A)*np.finfo(np.float64).eps\n",
    "    svd=sp.linalg.svd(A)\n",
    "    eig_sign=np.round(np.real(sp.linalg.eig(A)[0])/np.abs(np.real(sp.linalg.eig(A)[0])))\n",
    "    singular_value=svd[1][-1]/svd[1][0]\n",
    "    #print(singular_value,rtol)\n",
    "    if (singular_value>rtol):\n",
    "        UT=np.transpose(svd[0])\n",
    "        inv_list=1/svd[1]*eig_sign\n",
    "        inv_list[inv_list < 0]=0\n",
    "        S_inv=np.diag(inv_list)\n",
    "        V=np.transpose(svd[2])\n",
    "        inv_A=np.dot(np.dot(V,S_inv),UT)\n",
    "    else:\n",
    "        inv_A=sp.linalg.pinvh(A)\n",
    "    return inv_A\n",
    "\n",
    "\n",
    "def improved_inverse_covariance_near_psd(A):\n",
    "    lA=len(A)\n",
    "    I=np.diag(np.ones(lA))\n",
    "    if (np.min(sp.linalg.eig(A)[0])>0):\n",
    "        result=sp.linalg.svd(A, lapack_driver='gesvd')\n",
    "        UT=np.transpose(result[0])\n",
    "        S_inv=np.diag(1./result[1])\n",
    "        V=np.transpose(result[2])\n",
    "        UT=np.transpose(V).copy()\n",
    "        inv_A=np.dot(np.dot(V,S_inv),UT)\n",
    "    else:\n",
    "        inv_A=sp.linalg.pinv(A)\n",
    "    return inv_A\n",
    "\n",
    "\n",
    "def improved_inverse_covariance(A):    # It computes the Moore-Penrose pseudo-inverse. It produces a SVD decomp and inverse, which resets small singular values via a condition related to machine precision. If no small singular values are found, it provides with the actual SVD method inversion\n",
    "    inv_A=sp.linalg.pinvh(A)\n",
    "    return inv_A\n",
    "\n",
    "try_matrix=[[1.24867594065e2,0.000000000129494060556078701111],[0.000000000129494060556078701111,6.545234e-14]]\n",
    "#try_matrix=data_cov_R\n",
    "2*np.finfo(np.float64).eps\n",
    "np.linalg.svd(try_matrix)[1][-1]/np.linalg.svd(try_matrix)[1][0]\n",
    "\n",
    "np.linalg.eig(try_matrix)[0]\n",
    "\n",
    "np.allclose(improved_inverse_covariance(try_matrix),np.transpose(improved_inverse_covariance(try_matrix)))\n",
    "np.allclose(improved_inverse_covariance2(try_matrix),np.transpose(improved_inverse_covariance2(try_matrix)))\n",
    "np.allclose(improved_inverse_covariance_no_near_psd(try_matrix),np.transpose(improved_inverse_covariance_no_near_psd(try_matrix)))\n",
    "np.allclose(np.linalg.inv(try_matrix),np.transpose(np.linalg.inv(try_matrix)))\n",
    "\n",
    "improved_inverse_covariance(try_matrix)[0]\n",
    "improved_inverse_covariance(try_matrix)[1]\n",
    "improved_inverse_covariance2(try_matrix)[0]\n",
    "improved_inverse_covariance_no_near_psd(try_matrix)[0]\n",
    "\n",
    "np.allclose(improved_inverse_covariance(try_matrix),improved_inverse_covariance2(try_matrix))\n",
    "np.max(np.abs(improved_inverse_covariance2(try_matrix)-improved_inverse_covariance_no_near_psd(try_matrix)))"
   ]
  },
  {
   "cell_type": "code",
   "execution_count": 211,
   "metadata": {},
   "outputs": [
    {
     "data": {
      "text/plain": [
       "np.float64(2.2005662759242832e-100)"
      ]
     },
     "execution_count": 211,
     "metadata": {},
     "output_type": "execute_result"
    },
    {
     "data": {
      "text/plain": [
       "np.float64(-5.704278066648301e-72)"
      ]
     },
     "execution_count": 211,
     "metadata": {},
     "output_type": "execute_result"
    },
    {
     "data": {
      "text/plain": [
       "np.float64(2.6848588206907085e-61)"
      ]
     },
     "execution_count": 211,
     "metadata": {},
     "output_type": "execute_result"
    },
    {
     "data": {
      "text/plain": [
       "np.float64(-5.854123423105823e-90)"
      ]
     },
     "execution_count": 211,
     "metadata": {},
     "output_type": "execute_result"
    },
    {
     "name": "stdout",
     "output_type": "stream",
     "text": [
      "1.0909481305157181e-17 2.220446049250313e-15\n"
     ]
    },
    {
     "data": {
      "text/plain": [
       "np.float64(-4.057230209971613e-92)"
      ]
     },
     "execution_count": 211,
     "metadata": {},
     "output_type": "execute_result"
    },
    {
     "name": "stdout",
     "output_type": "stream",
     "text": [
      "1.0909481305157181e-17 2.220446049250313e-15\n"
     ]
    },
    {
     "data": {
      "text/plain": [
       "np.float64(5.664896358398598e-92)"
      ]
     },
     "execution_count": 211,
     "metadata": {},
     "output_type": "execute_result"
    },
    {
     "data": {
      "text/plain": [
       "np.float64(-1.2635288365754236e-94)"
      ]
     },
     "execution_count": 211,
     "metadata": {},
     "output_type": "execute_result"
    },
    {
     "data": {
      "text/plain": [
       "np.float64(-4.470566973604055e-93)"
      ]
     },
     "execution_count": 211,
     "metadata": {},
     "output_type": "execute_result"
    },
    {
     "data": {
      "text/plain": [
       "np.float64(5.839573907996314e-122)"
      ]
     },
     "execution_count": 211,
     "metadata": {},
     "output_type": "execute_result"
    },
    {
     "data": {
      "text/plain": [
       "np.float64(6.720390456912959e-122)"
      ]
     },
     "execution_count": 211,
     "metadata": {},
     "output_type": "execute_result"
    }
   ],
   "source": [
    "x=0\n",
    "k=1\n",
    "T=1\n",
    "lt=len(Gc[0])\n",
    "totaltraj=int(len(data[x][k])/size[k])\n",
    "G_in_R=np.zeros((int(totaltraj/jump_configs),Nt))\n",
    "for i in range(int(totaltraj/jump_configs)):\n",
    "    for r in range(lt):\n",
    "        index=jump_configs*i\n",
    "        G_in_R[i][r]=data[x][k][range(index*Nt,(index+1)*Nt),[r]][T]\n",
    "\n",
    "data_cov_R=ensemble_stat(G_in_R).rcov()\n",
    "\n",
    "np.linalg.det(np.dot(sp.linalg.inv(try_matrix),try_matrix)-np.diag(np.ones(lt)))\n",
    "np.linalg.det(np.dot(try_matrix,sp.linalg.inv(try_matrix))-np.diag(np.ones(lt)))\n",
    "np.linalg.det(np.dot(np.linalg.inv(try_matrix),try_matrix)-np.diag(np.ones(lt)))\n",
    "np.linalg.det(np.dot(try_matrix,np.linalg.inv(try_matrix))-np.diag(np.ones(lt)))\n",
    "np.linalg.det(np.dot(improved_inverse_covariance2(try_matrix),try_matrix)-np.diag(np.ones(lt)))\n",
    "np.linalg.det(np.dot(try_matrix,improved_inverse_covariance2(try_matrix))-np.diag(np.ones(lt)))\n",
    "np.linalg.det(np.dot(improved_inverse_covariance_no_near_psd(try_matrix),try_matrix)-np.diag(np.ones(lt)))\n",
    "np.linalg.det(np.dot(try_matrix,improved_inverse_covariance_no_near_psd(try_matrix))-np.diag(np.ones(lt)))\n",
    "np.linalg.det(np.dot(improved_inverse_covariance(try_matrix),try_matrix)-np.diag(np.ones(lt)))\n",
    "np.linalg.det(np.dot(try_matrix,improved_inverse_covariance(try_matrix))-np.diag(np.ones(lt)))\n"
   ]
  },
  {
   "cell_type": "code",
   "execution_count": null,
   "metadata": {},
   "outputs": [],
   "source": [
    "matrix_check=[[1.e6,0],[0,-1.e-2]]\n",
    "matrix_check=get_near_psd(matrix_check)\n",
    "\n",
    "sp.linalg.eig(matrix_check)[0]\n",
    "#inv1=sp.linalg.inv(matrix_check)\n",
    "result=sp.linalg.svd(matrix_check)\n",
    "UT=np.transpose(result[0])\n",
    "S_inv=np.diag(1./result[1])\n",
    "V=np.transpose(result[2])\n",
    "result[1]\n",
    "inv2=np.dot(np.dot(V,S_inv),UT)\n",
    "sp.linalg.pinv(matrix_check, return_rank=True)[1]\n",
    "inv3=sp.linalg.pinv(matrix_check, return_rank=True)[0]\n",
    "\n",
    "inv1\n",
    "inv2\n",
    "inv3\n",
    "\n",
    "sp.linalg.det(np.dot(matrix_check,inv1)-np.diag(np.ones(2)))\n",
    "sp.linalg.det(np.dot(inv1,matrix_check)-np.diag(np.ones(2)))\n",
    "sp.linalg.det(np.dot(matrix_check,inv2)-np.diag(np.ones(2)))\n",
    "sp.linalg.det(np.dot(inv2,matrix_check)-np.diag(np.ones(2)))\n",
    "sp.linalg.det(np.dot(matrix_check,inv3)-np.diag(np.ones(2)))\n",
    "sp.linalg.det(np.dot(inv3,matrix_check)-np.diag(np.ones(2)))"
   ]
  },
  {
   "cell_type": "code",
   "execution_count": null,
   "metadata": {},
   "outputs": [],
   "source": [
    "x=0\n",
    "k=7\n",
    "r=8\n",
    "pos=0\n",
    "\n",
    "tini=1\n",
    "tfin=12\n",
    "\n",
    "jackkl=1000\n",
    "jump_configs=1\n",
    "\n",
    "mcalls=10000\n",
    "mtol=0.00001\n",
    "\n",
    "totaltraj=int(len(data[x][k])/size[k])\n",
    "Nt=Textent\n",
    "\n",
    "Gc=np.zeros((int(totaltraj/jump_configs),Nt))\n",
    "for i in range(int(totaltraj/jump_configs)):\n",
    "    index=jump_configs*i\n",
    "    Gc[[i]]=data[x][k][range(index*Nt,(index+1)*Nt),[r]]\n",
    "    \n",
    "#logG=np.log(ratio(trim_negative(Gc).trimmed()).val())\n",
    "\n",
    "\n",
    "# Get average over all data, we will then replicate for every Jackknife sample to get errors\n",
    "\n",
    "gdata=jackknife(Gc,jackkl).sample()\n",
    "lt=len(Gc[0])\n",
    "dfin=min(lt,100)\n",
    "data_t   = np.linspace(1, lt, lt)\n",
    "data_2t  = np.linspace(1, 2*lt-1, 2*lt-1)\n",
    "if pos==0:\n",
    "    data_y   = ensemble_stat(gdata).mean()\n",
    "else:\n",
    "    data_y   = gdata[pos]\n",
    "data_cov = ensemble_stat(jackknife(gdata,jackkl).up()).rcov()\n",
    "data_err = np.sqrt(np.diagonal(ensemble_stat(jackknife(gdata,jackkl).up()).rcov()))\n",
    "\n",
    "\n",
    "data_covf = np.identity(lt)\n",
    "for i in range(len(np.sqrt(np.diag(data_cov)))):\n",
    "    for j in range(len(np.sqrt(np.diag(data_cov)))):\n",
    "        data_covf[i][j]*=np.sqrt(np.diag(data_cov))[i]*np.sqrt(np.diag(data_cov))[j]\n",
    "\n",
    "\n",
    "funfit='nb_exp_np_pole'\n",
    "inipars=[0.,2.,1.,0.1,1.0,0.1,1.0]\n",
    "#funfit='nb_exp_np'\n",
    "#inipars=[-0.46355412, -2.793052 ]\n",
    " \n",
    "\n",
    "m=RepeatSingleFit(data_t, data_y, data_cov, tini, tfin, inipars, funfit , mcalls, mtol,0,1,0,0,10,1000)\n",
    "\n",
    "m.minimize()\n",
    "\n",
    "fit=m.minimize()\n",
    "\n",
    "E_val=np.array(fit.values)[2]\n",
    "E_err=np.array(fit.errors)[2]\n",
    "\n",
    "dlog=loglimG(0,*np.array(fit.values)[1:])\n",
    "edlog=prop_err(0,'loglimG',np.array(fit.values)[1:],np.array(fit.errors)[1:],np.array(fit.covariance.correlation())[1:,1:])[0]\n",
    "chi2= m.minimize().fval"
   ]
  },
  {
   "cell_type": "code",
   "execution_count": null,
   "metadata": {},
   "outputs": [],
   "source": [
    "ini_jackk_pars=np.array(fit.values)\n",
    "\n",
    "dlog_jackk = []\n",
    "E_jackk    = []\n",
    "chi2_jackk = []\n",
    "for jackk in range(min(totaltraj,jackkl)):\n",
    "    pos=jackk\n",
    "    data_y=gdata[pos]\n",
    "    m=RepeatSingleFit(data_t, data_y, data_cov, tini, tfin, ini_jackk_pars, funfit , mcalls, mtol,0,1,0,0,10,0)\n",
    "    if (m.minimize().valid==False):\n",
    "        print('Trying fix',jackk)\n",
    "        ntries=50\n",
    "        for k in range(ntries):\n",
    "            s = np.random.normal(0, 0.01, len(ini_jackk_pars))\n",
    "            inipars_list=(1+s)*ini_jackk_pars\n",
    "            m2=RepeatSingleFit(data_t, data_y, data_cov, tini, tfin, inipars_list, funfit , mcalls, mtol,0,1,0,0,10,0)\n",
    "            if (m2.minimize().valid):\n",
    "                m=m2\n",
    "                break\n",
    "\n",
    "    if (m.minimize().valid==False):\n",
    "        print('Not valid',jackk)\n",
    "\n",
    "    fit=m.minimize()\n",
    "    dlog_jackk.append(loglimG(0,*np.array(fit.values)[1:]))\n",
    "    E_jackk.append(np.array(fit.values)[2])\n",
    "    chi2_jackk.append(fit.fval)\n",
    "\n",
    "\n",
    "print(dlog,edlog)\n",
    "print(ensemble_stat(dlog_jackk).mean(),np.sqrt(ensemble_stat(jackknife(dlog_jackk).up()).rcov()))\n",
    "print(E_val,E_err)\n",
    "print(ensemble_stat(E_jackk).mean(),np.sqrt(ensemble_stat(jackknife(E_jackk).up()).rcov()))\n",
    "chi2_f_jackk=np.mean(chi2_jackk)-((tfin-tini+1)-len(inipars))/(len(chi2_jackk)-1)\n",
    "print(chi2,chi2_f_jackk,np.abs(chi2_f_jackk-chi2)/chi2)"
   ]
  },
  {
   "cell_type": "code",
   "execution_count": null,
   "metadata": {},
   "outputs": [],
   "source": [
    "multiprocess=10\n",
    "filefin=0\n",
    "multistart=100\n",
    "\n",
    "mcalls=10000\n",
    "mtol=0.00001\n",
    "\n",
    "#------------------------------------------------------------------------------------------------------------------------------------------\n",
    "# Select data files to be fitted\n",
    "#------------------------------------------------------------------------------------------------------------------------------------------\n",
    "\n",
    "datarun=[]\n",
    "dataint  = data[xiini:xifin+1]\n",
    "for i in range(len(dataint)):\n",
    "    datarun.append(dataint[i][fileini:filefin+1])\n",
    "\n",
    "sizerun  = size[fileini:filefin+1]\n",
    "betarun  = beta[fileini:filefin+1]\n",
    "\n",
    "\n",
    "#------------------------------------------------------------------------------------------------------------------------------------------\n",
    "#Prepare options for fitting\n",
    "#------------------------------------------------------------------------------------------------------------------------------------------\n",
    "if (dini_Gc==0):\n",
    "    diini  = 0\n",
    "    distop = 0\n",
    "else:\n",
    "    diini   = dini_Gc\n",
    "    distop = dini_Gc+dstop_Gc\n",
    "    \n",
    "x=0\n",
    "k=0\n",
    "r=5\n",
    "\n",
    "totaltraj=int(len(data[x][k])/size[k])\n",
    "Nt=Textent\n",
    "\n",
    "Gc=np.zeros((totaltraj,Nt))\n",
    "for i in range(totaltraj):\n",
    "    Gc[[i]]=data[x][k][range(i*Nt,(i+1)*Nt),[r]]\n",
    "    \n",
    "logG=np.log(ratio(trim_negative(Gc).trimmed()).val())\n",
    "\n",
    "\n",
    "# Get average over all data, we will then replicate for every Jackknife sample to get errors\n",
    "jackkl=10000\n",
    "\n",
    "#datatype_Gc='exp'\n",
    "\n",
    "\n",
    "if (datatype_Gc==\"dlog\"):\n",
    "    gdata=np.log(ratio(trim_negative(jackknife(Gc,jackkl).sample()).trimmed()).val())\n",
    "elif (datatype_Gc==\"log\" or datatype_Gc==\"log_pole\"):\n",
    "    gdata=np.log(trim_negative(jackknife(Gc,jackkl).sample()).trimmed())\n",
    "    #gdata=np.log(trim_negative(Gc).trimmed())\n",
    "elif (datatype_Gc==\"exp\" or datatype_Gc==\"exp_WL\" or datatype_Gc==\"exp_line\"):\n",
    "    gdata=jackknife(Gc,jackkl).sample()\n",
    "\n",
    "gdata=jackknife(gdata,jackkl).up()\n",
    "\n",
    "\n",
    "lt=len(gdata[0])\n",
    "dfin=min(lt,100)\n",
    "data_t   = np.linspace(1, lt, lt)\n",
    "data_y   = jackknife(gdata,jackkl).sample()\n",
    "data_cov = jackknife(gdata,jackkl).scov()\n",
    "\n",
    "\n",
    "model_Gc='nb_exp_np_pole'\n",
    "inipars_Gc  = [[0.0,2.0,1.0],[0.0,2.0,1.0,0.1,1.0],[0.0,2.0,1.0,0.1,1.0,0.1,1.0]]                                                                                        # Input pars to fit with\n",
    "variants_Gc = ['single','double','triple']  \n",
    "#dmindata_Gc=5\n",
    "\n",
    "m=Modelsmin(data_t, data_y, data_cov, dini_Gc, dstop_Gc, dmindata_Gc, dfin_Gc, inipars_Gc, model_Gc, variants_Gc, datatype_Gc, mcalls, mtol, reuse, inv_first, multiprocess,cov_freeze,improve,multistart,no_corrs,no_valid_check)\n",
    "mf=m.jackk_minimize()\n",
    "AIC_list=Jackknife_AIClist(mf)"
   ]
  },
  {
   "cell_type": "code",
   "execution_count": null,
   "metadata": {},
   "outputs": [],
   "source": [
    "AIC_list.ordered()"
   ]
  },
  {
   "cell_type": "code",
   "execution_count": null,
   "metadata": {},
   "outputs": [],
   "source": [
    "AIC_list.avgval0(0.)"
   ]
  },
  {
   "cell_type": "code",
   "execution_count": null,
   "metadata": {},
   "outputs": [],
   "source": [
    "k=1\n",
    "\n",
    "betarun  = beta[0:11]\n",
    "xirun    = xi\n",
    "diini    = 1\n",
    "variants_Gc=[1,2]\n",
    "\n",
    "Vdat=[]\n",
    "for i in range(len(betarun)):\n",
    "    print('{}{}/{}_{}_{}_VR_rescaled_ti{}_{}_tfin{}_tmin{}_cut{}_beta={}_nocorrs={}_{}.dat'.format(resultspath,xi[0],len(variants_Gc),model_Gc,datatype_Gc,diini,dstop_Gc,dfin_Gc,dmindata_Gc,cutoff_ma,betarun[i],no_corrs,corrtype))\n",
    "    Vdat_int=np.loadtxt('{}{}/{}_{}_{}_VR_rescaled_ti{}_{}_tfin{}_tmin{}_cut{}_beta={}_nocorrs={}_{}.dat'.format(resultspath,xi[0],len(variants_Gc),model_Gc,datatype_Gc,diini,dstop_Gc,dfin_Gc,dmindata_Gc,cutoff_ma,betarun[i],no_corrs,corrtype))\n",
    "    Vdat.append(Vdat_int)\n",
    "\n",
    "lt       = len(Vdat[0][0])\n",
    "data_t   = np.linspace(1, lt, lt)\n",
    "data_tf  = np.linspace(1, lt, 100*lt)\n",
    "data_y   = ensemble_stat(Vdat[k]).mean()\n",
    "data_cov = ensemble_stat(Vdat[k]).rcov()     # Do not use these non-diagonal elements, they come from a rescaled sample, they are not correct\n",
    "data_err = np.sqrt(np.diagonal(ensemble_stat(Vdat[k]).rcov()))\n",
    "\n",
    "data_y\n",
    "data_err\n",
    "\n",
    "pos=0\n",
    "\n",
    "jackkl=100000\n",
    "jump_configs=1\n",
    "\n",
    "mcalls=10000\n",
    "mtol=0.00001\n",
    "\n",
    "\n",
    "rini=1\n",
    "rfin=12\n",
    "\n",
    "funfit='nb_VR_line'\n",
    "inipars=[0.0,2.,1.]\n",
    " \n",
    "\n",
    "m=RepeatSingleFit(data_t, data_y, data_cov, rini, rfin, inipars, funfit , mcalls, mtol,0,1,0,0,10,10)\n",
    "\n",
    "fit=m.minimize()\n",
    "fit\n",
    "np.array(fit.values)\n",
    "\n",
    "\n",
    "sigma  = np.abs(np.array(fit.values)[2])/als[0][k]**2/0.44**2/gev_m1_tofm**2\n",
    "esigma = np.array(fit.errors)[2]/als[0][k]**2/0.44**2/gev_m1_tofm**2\n",
    "\n",
    "\n",
    "data_t_plot=np.linspace(data_t[0],data_t[-1],1000)\n",
    "\n",
    "plt.errorbar(data_t, data_y, data_err, fmt=\"ok\", label=\"data\")\n",
    "plt.plot(data_t_plot, eval(funfit)(data_t_plot, *fit.values), label=\"fit\")\n",
    "\n",
    "#plt.yscale('log')\n",
    "\n",
    "plt.figtext(0.35, 0.8, \n",
    "                '$\\\\chi^2/ndof={:.1f}$'.format(fit.fval/fit.ndof), \n",
    "                horizontalalignment =\"right\",  \n",
    "                verticalalignment =\"center\",  \n",
    "                wrap = True, fontsize = 12,  \n",
    "                color =\"black\")\n",
    "plt.figtext(0.35, 0.7, \n",
    "                '$\\\\sigma={:.2f}\\\\pm {:.2f}$'.format(sigma,esigma), \n",
    "                horizontalalignment =\"right\",  \n",
    "                verticalalignment =\"center\",  \n",
    "                wrap = True, fontsize = 12,  \n",
    "                color =\"black\")\n",
    "plt.xlabel(\"$R$ \",fontsize=12)\n",
    "plt.ylabel(\"$V(R)$\",fontsize=12, rotation=90, loc='center')\n",
    "plt.ylim(0,5)\n",
    "plt.show()"
   ]
  },
  {
   "cell_type": "code",
   "execution_count": null,
   "metadata": {},
   "outputs": [],
   "source": [
    "with open(\"../S_correlators_L32/Gc_plots/xi=4/2_nb_exp_np_pole_exp_AIC_list_ti1_0_tfin16_tmin12_beta=225_R=1_nocorrs=0_g\", \"rb\") as fp:   # Unpickling\n",
    "   b = pickle.load(fp)"
   ]
  },
  {
   "cell_type": "code",
   "execution_count": null,
   "metadata": {},
   "outputs": [],
   "source": [
    "# Testing autocorrelations, based on page 94 from Gattringer and Lang's and page 184 of Degrand and Detar\n",
    "\n",
    "def auto_func(t,a,b):\n",
    "    return a*np.exp(-t/b)\n",
    "\n",
    "def autocorr(list,dt):\n",
    "    mean=np.mean(list)\n",
    "    mean1=0\n",
    "    mean2=0\n",
    "    Ncfgs=len(list)\n",
    "    corr1=0\n",
    "    corr2=0\n",
    "    for i in range(Ncfgs-dt):\n",
    "        corr1+=(list[i]*list[i+dt])/(Ncfgs-dt)\n",
    "        corr2+=(list[i]-mean)*(list[i+dt]-mean)/(Ncfgs-dt)\n",
    "        mean1+=list[i]/(Ncfgs-dt)\n",
    "        mean2+=list[i+dt]/(Ncfgs-dt)\n",
    "    \n",
    "    corr1-=mean1*mean2\n",
    "    return corr2\n",
    "\n",
    "xi_range=1\n",
    "r_range=10\n",
    "r_ini=1\n",
    "tval=10\n",
    "t_ini=1\n",
    "ergodic_T=100\n",
    "\n",
    "for beta_label in range(len(beta)):\n",
    "\n",
    "    fig = plt.figure(figsize=(16,9))\n",
    "    plt.legend(fontsize=12,frameon=False,loc=0)\n",
    "\n",
    "    for x in range(xi_range):\n",
    "        corr_ergodic_final=[]\n",
    "\n",
    "        jump_configs=1\n",
    "        #print(len(data[x][beta_label]))\n",
    "        totaltraj=int(len(data[x][beta_label])/size[beta_label])\n",
    "        Nt=Textent\n",
    "        Gc=np.zeros((int(totaltraj/jump_configs),Nt))\n",
    "\n",
    "        for r in range(r_ini,r_ini+r_range):\n",
    "            for i in range(int(totaltraj/jump_configs)):\n",
    "                index=jump_configs*i\n",
    "                Gc[[i]]=data[x][beta_label][range(index*Nt,(index+1)*Nt),[r]]\n",
    "\n",
    "            data_ergodic   = np.linspace(0, ergodic_T, ergodic_T+1)\n",
    "            corr_ergodic=[]\n",
    "            for i in data_ergodic:\n",
    "                inter=0\n",
    "                for k in range(t_ini,t_ini+tval):\n",
    "                     inter+=autocorr(Gc[:,k],int(i))/autocorr(Gc[:,k],0)/tval\n",
    "\n",
    "                corr_ergodic.append(inter)\n",
    "\n",
    "            corr_ergodic_final.append(corr_ergodic)\n",
    "\n",
    "        final_autocor=np.mean(corr_ergodic_final,axis=0)\n",
    "        fit_autocor=sp.optimize.curve_fit(auto_func,data_ergodic,final_autocor)\n",
    "        time_autoco=fit_autocor[0][1]\n",
    "\n",
    "        plt.plot(data_ergodic, final_autocor, label='$\\\\xi={},\\\\tau={:10.2f}$'.format(x+1,time_autoco),color=jpac_color_around[x])\n",
    "        plt.legend(fontsize=12,frameon=False,loc=1)\n",
    "        #plt.plot(data_ergodic, auto_func(data_ergodic,fit_autocor[0][0],fit_autocor[0][1]), label=\"fit\",color=\"blue\")\n",
    "\n",
    "    plt.figtext(0.4, 0.8, \n",
    "                '$L={},\\, \\\\beta={}$'.format(sizelabel,beta[beta_label]/betanorm), \n",
    "                horizontalalignment =\"center\",  \n",
    "                verticalalignment =\"center\",  \n",
    "                wrap = True, fontsize = 20,  \n",
    "                color =\"black\")\n",
    "    plt.show()"
   ]
  },
  {
   "cell_type": "code",
   "execution_count": null,
   "metadata": {},
   "outputs": [],
   "source": [
    "xi_range=2\n",
    "r_range=1\n",
    "r_ini=15\n",
    "tval=1\n",
    "t_ini=1\n",
    "ergodic_T=100\n",
    "\n",
    "for beta_label in range(1,2+0*len(beta)):\n",
    "\n",
    "    fig = plt.figure(figsize=(16,9))\n",
    "    plt.legend(fontsize=12,frameon=False,loc=0)\n",
    "\n",
    "    for x in range(xi_range):\n",
    "        jump_configs=1\n",
    "        #print(len(data[x][beta_label]))\n",
    "        totaltraj=int(len(data[x][beta_label])/size[beta_label])\n",
    "        Nt=Textent\n",
    "        Gc=np.zeros((totaltraj,Nt))\n",
    "        Gc_avg=np.zeros(totaltraj)\n",
    "\n",
    "        for i in range(totaltraj):\n",
    "            for r in range(r_ini,r_ini+r_range):\n",
    "                index=jump_configs*i\n",
    "                Gc[[i]]+=data[x][beta_label][range(index*Nt,(index+1)*Nt),[r]]/r_range\n",
    "\n",
    "            for k in range(t_ini,t_ini+tval):\n",
    "                Gc_avg[[i]]+=Gc[i,k]/tval\n",
    "                \n",
    "\n",
    "        data_ergodic   = np.linspace(0, ergodic_T, ergodic_T+1)\n",
    "        corr_ergodic=[]\n",
    "        corr_ergodic_final=[]\n",
    "        for i in data_ergodic:\n",
    "            inter=autocorr(Gc_avg,int(i))/autocorr(Gc_avg,0)\n",
    "            corr_ergodic.append(inter)\n",
    "        corr_ergodic_final.append(corr_ergodic)\n",
    "\n",
    "        final_autocor=np.mean(corr_ergodic_final,axis=0)\n",
    "        fit_autocor=sp.optimize.curve_fit(auto_func,data_ergodic,final_autocor)\n",
    "        time_autoco=fit_autocor[0][1]\n",
    "\n",
    "        plt.plot(data_ergodic, final_autocor, label='$\\\\xi={},\\\\tau={:10.2f},Ncfgs={}$'.format(x+1,time_autoco,totaltraj),color=jpac_color_around[x])\n",
    "        plt.legend(fontsize=12,frameon=False,loc=1)\n",
    "        #plt.plot(data_ergodic, auto_func(data_ergodic,fit_autocor[0][0],fit_autocor[0][1]), label=\"fit\",color=\"blue\")\n",
    "\n",
    "    plt.figtext(0.4, 0.8, \n",
    "                '$L={},\\, \\\\beta={}$'.format(sizelabel,beta[beta_label]/betanorm), \n",
    "                horizontalalignment =\"center\",  \n",
    "                verticalalignment =\"center\",  \n",
    "                wrap = True, fontsize = 20,  \n",
    "                color =\"black\")\n",
    "    plt.show()"
   ]
  },
  {
   "cell_type": "code",
   "execution_count": null,
   "metadata": {},
   "outputs": [],
   "source": [
    "len_s=20\n",
    "repeat=100\n",
    "data_to_repeat=np.genfromtxt('../tests/Arkaitz-2.75.dat')\n",
    "data_test=np.zeros(repeat*len_s)\n",
    "\n",
    "for k in range(repeat):\n",
    "    for i in range(len_s):\n",
    "        data_test[[i+k*len_s]]=data_to_repeat[i+k][1]\n",
    "\n",
    "data_test   "
   ]
  },
  {
   "cell_type": "code",
   "execution_count": null,
   "metadata": {},
   "outputs": [],
   "source": [
    "#data_test=np.genfromtxt('../tests/Arkaitz-2.75.dat')[:20\n",
    "\n",
    "fig = plt.figure(figsize=(16,9))\n",
    "plt.legend(fontsize=12,frameon=False,loc=0)\n",
    "\n",
    "ergodic_T=80\n",
    "data_ergodic   = np.linspace(0, ergodic_T, ergodic_T+1)\n",
    "corr_ergodic=[]\n",
    "corr_ergodic_final=[]\n",
    "for i in data_ergodic:\n",
    "    inter=autocorr(data_test[:],int(i))/autocorr(data_test[:],0)\n",
    "    corr_ergodic.append(inter)\n",
    "\n",
    "corr_ergodic_final.append(corr_ergodic)\n",
    "\n",
    "final_autocor=corr_ergodic_final[0]\n",
    "fit_autocor=sp.optimize.curve_fit(auto_func,data_ergodic,final_autocor)\n",
    "time_autoco=fit_autocor[0][1]\n",
    "plt.scatter(data_ergodic, final_autocor, label='$\\\\beta=2.75,\\\\tau={:10.2f}$'.format(time_autoco),color=jpac_color_around[x])\n",
    "plt.legend(fontsize=12,frameon=False,loc=1)\n",
    "\n",
    "plt.show()"
   ]
  },
  {
   "cell_type": "code",
   "execution_count": null,
   "metadata": {},
   "outputs": [],
   "source": [
    "# Checking if Jackknife is correct, we will test central values and errors\n",
    "\n",
    "x=0\n",
    "k=0\n",
    "r=0\n",
    "\n",
    "totaltraj=int(len(data[x][k])/size[k])\n",
    "Nt=Textent\n",
    "\n",
    "Gc=np.zeros((totaltraj,Nt))\n",
    "for i in range(totaltraj):\n",
    "    Gc[[i]]=data[x][k][range(i*Nt,(i+1)*Nt),[r]]\n",
    "    \n",
    "data_y   = ensemble_stat(Gc).mean()\n",
    "\n",
    "data_y\n",
    "\n",
    "np.mean(jackknife(Gc).sample(),axis=0) \n",
    "jackknife(jackknife(Gc).sample()).up() \n",
    "\n",
    "# These two are identical to one another\n",
    "ensemble_stat(Gc).rcov()[0]\n",
    "jackknife(Gc).fcov()[0]\n",
    "jackknife(jackknife(Gc).sample()).upcov()[0]"
   ]
  },
  {
   "cell_type": "code",
   "execution_count": null,
   "metadata": {},
   "outputs": [],
   "source": [
    "# Testing minimizer's precision/accuracy\n",
    "factor=10\n",
    "ntrials=100\n",
    "mcalls=5000\n",
    "mtol=0.0001\n",
    "hack=0\n",
    "\n",
    "\n",
    "data_incov=improved_inverse_covariance(data_cov)\n",
    "def least_squares_scipy(par):  # we must accept a variable number of model parameters\n",
    "    ym = exp_np(data_t, *par)\n",
    "    return np.dot(np.dot((data_y - ym), data_incov),(data_y - ym))\n",
    "\n",
    "count1=0\n",
    "count2=0\n",
    "count3=0\n",
    "count4=0\n",
    "count5=0\n",
    "\n",
    "m1list=[]\n",
    "m1chilist=[]\n",
    "m2list=[]\n",
    "m2chilist=[]\n",
    "m3list=[]\n",
    "m3chilist=[]\n",
    "m4list=[]\n",
    "m4chilist=[]\n",
    "m5list=[]\n",
    "m5chilist=[]\n",
    "m6list=[]\n",
    "\n",
    "\n",
    "for i in range(ntrials):\n",
    "    inipars=np.array([0.0756601070458546,1.8388443700832076,0.2397704868012228,0.081132649591307,0.3404256622175537])\n",
    "    einipars=factor*inipars\n",
    "    s = np.random.normal(0, 1, len(inipars))\n",
    "    inipars=inipars+s*einipars\n",
    "    least_squares_np = EvenBetterLeastSquares(eval('nb_exp_np_pole'), data_t, data_y, data_incov)\n",
    "    m=Minuit(least_squares_np,*inipars)   # pass starting values as a sequence\n",
    "    m.strategy=1\n",
    "    m.tol=mtol\n",
    "    result1=m.migrad(mcalls)\n",
    "    m2=Minuit(least_squares_np,*inipars)   # pass starting values as a sequence\n",
    "    m2.strategy=2\n",
    "    m2.tol=mtol\n",
    "    result2=m2.scipy('COBYLA',mcalls).simplex(mcalls).scipy('CG',mcalls).migrad(mcalls).migrad(mcalls).migrad(mcalls)\n",
    "    m3=Minuit(least_squares_np,*inipars)   # pass starting values as a sequence\n",
    "    m3.strategy=2\n",
    "    m3.tol=mtol\n",
    "    result3=m3.scipy('CG',mcalls).scipy('L-BFGS-B',mcalls).migrad(mcalls).migrad(mcalls)\n",
    "    m4=Minuit(least_squares_np,*inipars)   # pass starting values as a sequence\n",
    "    m4.strategy=2\n",
    "    m4.tol=mtol\n",
    "    result4=m4.simplex(mcalls).simplex(mcalls).scipy('CG',mcalls).scipy('L-BFGS-B',mcalls).migrad(mcalls).migrad(mcalls).migrad(mcalls)\n",
    "\n",
    "\n",
    "    np.set_printoptions(precision=16)\n",
    "    \n",
    "\n",
    "    if result1.valid:\n",
    "        count1+=1\n",
    "    if result1.valid or hack==1:\n",
    "        m1list.append(np.abs(np.array(result1.values)))\n",
    "        m1chilist.append(result1.fval/result1.ndof)\n",
    "\n",
    "    if result2.valid:\n",
    "        count2+=1\n",
    "    if result2.valid or hack==1:\n",
    "        m2list.append(np.abs(np.array(result2.values)))\n",
    "        m2chilist.append(result2.fval/result2.ndof)\n",
    "\n",
    "    if result3.valid:\n",
    "        count3+=1\n",
    "    if result3.valid or hack==1:\n",
    "        m3list.append(np.abs(np.array(result3.values)))\n",
    "        m3chilist.append(result3.fval/result3.ndof)\n",
    "\n",
    "    if result4.valid:\n",
    "        count4+=1\n",
    "    if result4.valid or hack==1:\n",
    "        m4list.append(np.abs(np.array(result4.values)))\n",
    "        m4chilist.append(result4.fval/result4.ndof)\n",
    "\n",
    "\n",
    "    bounds=[]\n",
    "    for i in inipars:   \n",
    "        bounds.append((0,factor*abs(i)))\n",
    "\n",
    "    #res1=sp.optimize.basinhopping(least_squares_scipy,inipars,niter=10)\n",
    "    #m5list.append(np.abs(res1.x))\n",
    "    #m5chilist.append(res1.fun/result4.ndof)\n",
    "    #inipars5=np.array(res1.x)\n",
    "    m5=Minuit(least_squares_np,*inipars)\n",
    "    m5.tol=mtol\n",
    "    m5.strategy=2\n",
    "    res1=m5.scipy('Nelder-Mead',mcalls).scipy('CG',mcalls).scipy('Nelder-Mead',mcalls).scipy('L-BFGS-B',mcalls).migrad(mcalls).migrad(mcalls).migrad(mcalls)\n",
    "\n",
    "    if res1.valid:\n",
    "        count5+=1\n",
    "    if res1.valid or hack==1:\n",
    "        m5list.append(np.abs(np.array(res1.values)))\n",
    "        m5chilist.append(res1.fval/res1.ndof)\n",
    "\n",
    "\n",
    "m1list=np.array(m1list)\n",
    "m1chilist=np.array(m1chilist)\n",
    "m2list=np.array(m2list)\n",
    "m2chilist=np.array(m2chilist)\n",
    "m3list=np.array(m3list)\n",
    "m3chilist=np.array(m3chilist)\n",
    "m4list=np.array(m4list)\n",
    "m4chilist=np.array(m4chilist)\n",
    "m5list=np.array(m5list)\n",
    "m5chilist=np.array(m5chilist)\n",
    "\n",
    "\n",
    "#np.mean(m1list,axis=0)\n",
    "#np.mean(m2list,axis=0)\n",
    "#np.mean(m3list,axis=0)\n",
    "#np.mean(m4list,axis=0)\n",
    "#np.mean(m5list,axis=0)\n",
    "\n",
    "count1\n",
    "count2\n",
    "count3\n",
    "count4\n",
    "count5\n",
    "\n",
    "np.mean(m1chilist,axis=0)\n",
    "np.mean(m2chilist,axis=0)\n",
    "np.mean(m3chilist,axis=0)\n",
    "np.mean(m4chilist,axis=0)\n",
    "np.mean(m5chilist,axis=0)\n",
    "\n",
    "np.sqrt(np.var(m1list,axis=0))\n",
    "np.sqrt(np.var(m2list,axis=0))\n",
    "np.sqrt(np.var(m3list,axis=0))\n",
    "np.sqrt(np.var(m4list,axis=0))\n",
    "np.sqrt(np.var(m5list,axis=0))"
   ]
  },
  {
   "cell_type": "code",
   "execution_count": null,
   "metadata": {},
   "outputs": [],
   "source": [
    "# Multi-start procedure for \"global minimization\"\n",
    "# This works by providing the maximum amount of points you want to start sampling with. It produces a \n",
    "\n",
    "x=0\n",
    "k=10\n",
    "r=11\n",
    "\n",
    "jackkl=20000\n",
    "jump_configs=1\n",
    "\n",
    "mcalls=5000\n",
    "mtol=0.0001\n",
    "factor=1\n",
    "nsamples=1000\n",
    "strategy=2\n",
    "\n",
    "totaltraj=int(len(data[x][k])/size[k])\n",
    "Nt=Textent\n",
    "\n",
    "Gc=np.zeros((int(totaltraj/jump_configs),Nt))\n",
    "for i in range(int(totaltraj/jump_configs)):\n",
    "    index=jump_configs*i\n",
    "    Gc[[i]]=data[x][k][range(index*Nt,(index+1)*Nt),[r]]\n",
    "    \n",
    "#logG=np.log(ratio(trim_negative(Gc).trimmed()).val())\n",
    "\n",
    "\n",
    "# Get average over all data, we will then replicate for every Jackknife sample to get errors\n",
    "\n",
    "gdata=jackknife(Gc,jackkl).sample()\n",
    "gdata=jackknife(gdata,jackkl).up()\n",
    "lt=len(Gc[0])\n",
    "dfin=min(lt,100)\n",
    "data_t   = np.linspace(1, lt, lt)\n",
    "data_2t  = np.linspace(1, 2*lt-1, 2*lt-1)\n",
    "data_y   = ensemble_stat(gdata).mean()\n",
    "data_cov = ensemble_stat(gdata).rcov()\n",
    "data_err = np.sqrt(np.diagonal(ensemble_stat(gdata).rcov()))\n",
    "data_incov=improved_inverse_covariance(data_cov)\n",
    "\n",
    "data_covf = np.identity(lt)\n",
    "for i in range(len(np.sqrt(np.diag(data_cov)))):\n",
    "    for j in range(len(np.sqrt(np.diag(data_cov)))):\n",
    "        data_covf[i][j]*=np.sqrt(np.diag(data_cov))[i]*np.sqrt(np.diag(data_cov))[j]\n",
    "\n",
    "\n",
    "\n",
    "pars_best=[-0.0756601021475849,1.838844370954277,0.2397704868229662,0.0811326516777515,0.3404256638585156]\n",
    "fit_best=1.6972963589305958\n",
    "\n",
    "inipars=np.array([0.0,2.0,1.0,0.1,1.0])\n",
    "einipars=inipars.copy()\n",
    "for j in range(len(einipars)):\n",
    "    einipars[j]=max(0.01,einipars[j])\n",
    "einipars*=factor\n",
    "\n",
    "least_squares_np = EvenBetterLeastSquares(eval('nb_exp_np_pole'), data_t, data_y, data_incov)\n",
    "\n",
    "inipars_list=[]\n",
    "for i in range(nsamples):\n",
    "    s = np.random.normal(0, 1, len(inipars))\n",
    "    inipars_list.append(inipars+s*einipars)\n",
    "\n",
    "fit_results=[]\n",
    "minimized=0\n",
    "par_results=[]\n",
    "for i in range(len(inipars_list)):\n",
    "    m=Minuit(least_squares_np,*inipars_list[i])\n",
    "    m.tol=mtol\n",
    "    m.strategy=strategy\n",
    "    result_fit=m.simplex(mcalls).scipy('L-BFGS-B',mcalls).migrad(mcalls).migrad(mcalls)\n",
    "    #result_fit=m.simplex(mcalls).scipy('CG',mcalls).simplex(mcalls).scipy('L-BFGS-B',mcalls).migrad(mcalls).migrad(mcalls)\n",
    "    if (result_fit.valid):\n",
    "        minimized+=1\n",
    "        par_results.append(np.array(result_fit.values))\n",
    "\n",
    "    fit_results.append(result_fit.fval/result_fit.ndof)\n",
    "\n",
    "correct=0\n",
    "for i in range(nsamples):\n",
    "    if (np.abs(fit_results[i]-1)<100):\n",
    "        correct+=1\n",
    "\n",
    "minimized\n",
    "correct\n",
    "\n",
    "np.mean(np.sqrt(np.var(par_results,axis=0)))   # Mean of variation on parameter results over fits\n",
    "\n",
    "np.min(fit_results)"
   ]
  },
  {
   "cell_type": "code",
   "execution_count": null,
   "metadata": {},
   "outputs": [],
   "source": [
    "path='./'\n",
    "list_data_tpa=[];list_data_effm_f=[];list_data_effm_err_f=[];list_data_tp=[];list_data_effmp=[];list_data_effm_errp=[];list_data_tf=[];list_fitall=[];list_efitall=[];list_data_tpf=[];list_fit=[];list_efit=[]\n",
    "data_tpa, data_effm_f, data_effm_err_f, data_tp, data_effmp, data_effm_errp, data_tf, fitall, efitall, data_tpf, fit, efit=plotGc(data_t, data_y, data_cov, AIC_list, datatype_Gc, model_Gc, mcalls, mtol, reuse, inv_first, xi[0], path,0,0.05).prepare()  \n",
    "list_data_tpa.append(data_tpa);list_data_effm_f.append(data_effm_f);list_data_effm_err_f.append(data_effm_err_f);list_data_tp.append(data_tp);list_data_effmp.append(data_effmp);list_data_effm_errp.append(data_effm_errp);list_data_tf.append(data_tf);list_fitall.append(fitall);list_efitall.append(efitall);list_data_tpf.append(data_tpf);list_fit.append(fit);list_efit.append(efit)\n",
    "\n",
    "\n",
    "fig = plt.figure(figsize=(16,9))\n",
    "plt.fill_between(data_tf, fitall+efitall, fitall-efitall,color=jpac_blue,alpha=0.1)\n",
    "plt.fill_between(data_tpf, fit+efit, fit-efit,color=jpac_blue,alpha=0.7)\n",
    "if (len(data_tp)>=1):\n",
    "    plt.errorbar(data_tpa, data_effm_f, data_effm_err_f, fmt=\"ok\", alpha=0.3)\n",
    "    plt.errorbar(data_tp, data_effmp, data_effm_errp, fmt=\"ok\")\n",
    "plt.xlabel(\"$t/a_t$\",fontsize=24)\n",
    "plt.yticks(fontsize=18)\n",
    "plt.xticks(fontsize=18)\n",
    "plt.legend(fontsize=16,frameon=False)\n",
    "plt.show(fig)\n",
    "plt.close(fig)"
   ]
  },
  {
   "cell_type": "code",
   "execution_count": null,
   "metadata": {},
   "outputs": [],
   "source": [
    "def compact_eff_m(list_data_tpa, list_data_effm_f, list_data_effm_err_f, list_data_tp, list_data_effmp, list_data_effm_errp, list_data_tf, list_fitall, list_efitall, list_data_tpf, list_fit, list_efit, path, beta, y_lim):   \n",
    "    fig = plt.figure(figsize=(16,9))\n",
    "    for i in range(len(list_data_tpa)):\n",
    "        alphamult=1\n",
    "        data_tf=list_data_tf[i];data_tpf=list_data_tpf[i];fitall=list_fitall[i];efitall=list_efitall[i];fit=list_fit[i];efit=list_efit[i];data_tpa=list_data_tpa[i];\n",
    "        data_tp=list_data_tp[i];data_effm_f=list_data_effm_f[i];data_effmp=list_data_effmp[i];data_effm_err_f=list_data_effm_err_f[i];data_effm_errp=list_data_effm_errp[i]\n",
    "        if (fitall[-1]>y_lim):\n",
    "            alphamult=0\n",
    "        plt.fill_between(data_tf, fitall+efitall, fitall-efitall,color=jpac_color_around[i],alpha=alphamult*0.1)\n",
    "        plt.fill_between(data_tpf, fit+efit, fit-efit,color=jpac_color_around[i],alpha=alphamult*0.7)\n",
    "        if (len(data_tp)>=1):\n",
    "            plt.errorbar(data_tpa, data_effm_f, data_effm_err_f,color=jpac_color_around[i], fmt=\"ok\", alpha=alphamult*0.3)\n",
    "            plt.errorbar(data_tp, data_effmp, data_effm_errp,color=jpac_color_around[i], fmt=\"ok\",alpha=alphamult*1)\n",
    "    plt.xlabel(\"$t/a_t$\",fontsize=24)\n",
    "    plt.ylabel(\"$\\\\beta={}$\".format(beta),fontsize=24, rotation=0, loc='top')\n",
    "    plt.yticks(fontsize=18)\n",
    "    plt.ylim(None,y_lim)\n",
    "    plt.xticks(fontsize=18)\n",
    "    plt.legend(fontsize=16,frameon=False)\n",
    "    #plt.show()\n",
    "    plt.savefig('{}_compact.pdf'.format(path), format=\"pdf\", bbox_inches='tight', pad_inches=0.2)\n",
    "    plt.close(fig)  "
   ]
  },
  {
   "cell_type": "code",
   "execution_count": null,
   "metadata": {},
   "outputs": [],
   "source": [
    "compact_eff_m(list_data_tpa,list_data_effm_f,list_data_effm_err_f,list_data_tp,list_data_effmp,list_data_effm_errp,list_data_tf,list_fitall,list_efitall,list_data_tpf,list_fit,list_efit,'/',2.25,1.)  \n"
   ]
  },
  {
   "cell_type": "code",
   "execution_count": null,
   "metadata": {},
   "outputs": [],
   "source": [
    "fileini=filefin=2\n",
    "datarun=[]\n",
    "dataint  = data[xiini:xifin+1]\n",
    "xirun    = xi[xiini:xifin+1]\n",
    "for i in range(len(dataint)):\n",
    "    datarun.append(dataint[i][fileini:filefin+1])\n",
    "\n",
    "\n",
    "sizerun  = size[fileini:filefin+1]\n",
    "betarun  = beta[fileini:filefin+1]"
   ]
  },
  {
   "cell_type": "code",
   "execution_count": null,
   "metadata": {},
   "outputs": [],
   "source": [
    "multistart=10\n",
    "jackkl=100"
   ]
  },
  {
   "cell_type": "code",
   "execution_count": null,
   "metadata": {},
   "outputs": [],
   "source": [
    "Gcplotsdircompact='{}_compact'.format(Gcplotsdir)\n",
    "AIC_list_final=[]\n",
    "for k in range(len(datarun)):\n",
    "    print('Attempting fits to xi={}'.format(xirun[k]))\n",
    "    path=['{}/xi={}'.format(Gcplotsdir,xirun[k]),'{}/xi={}'.format(Gcplotsdircompact,xirun[k])]\n",
    "    result=fitter(datarun[k], sizerun, dini_Gc, dstop_Gc, dmindata_Gc, dfin_Gc, datatype_Gc, model_Gc, inipars_Gc, variants_Gc, mcalls, mtol, reuse, inv_first, multiprocess, cutoff_ma, xirun[k], betarun, path, corrtype, norm, cov_freeze, improve, multistart, no_corrs, no_valid_check)\n",
    "    Vrlistavg, Vrlistavg_rescaled, Vrlistsel, worstsel, listfinal , datayf=result.jackk_fit(jackkl)\n",
    "    \n",
    "    "
   ]
  },
  {
   "cell_type": "code",
   "execution_count": null,
   "metadata": {},
   "outputs": [],
   "source": [
    "AIC_list_final.append(listfinal)\n",
    "#Store the V(R) data Jackknife results\n",
    "Vrf=[]\n",
    "for i in range(len(datarun[k])):\n",
    "    Vrf.append(jackknife(Vrlistavg[i]).up())\n",
    "    np.savetxt('{}{}/{}_{}_{}_VR_ti{}_{}_tfin{}_tmin{}_cut{}_beta={}_nocorrs={}_{}.dat'.format(resultspath,xirun[k],len(variants_Gc),model_Gc,datatype_Gc,dini_Gc,dstop_Gc,dfin_Gc,dmindata_Gc,cutoff_ma,betarun[i],no_corrs,corrtype), jackknife(Vrlistavg[i]).up())\n",
    "    np.savetxt('{}{}/{}_{}_{}_VR_rescaled_ti{}_{}_tfin{}_tmin{}_cut{}_beta={}_nocorrs={}_{}.dat'.format(resultspath,xirun[k],len(variants_Gc),model_Gc,datatype_Gc,dini_Gc,dstop_Gc,dfin_Gc,dmindata_Gc,cutoff_ma,betarun[i],no_corrs,corrtype), jackknife(Vrlistavg_rescaled[i]).up())\n",
    "    np.savetxt('{}{}/{}_{}_{}_worstsel_ti{}_{}_tfin{}_tmin{}_cut{}_beta={}_nocorrs={}_{}.dat'.format(resultspath,xirun[k],len(variants_Gc),model_Gc,datatype_Gc,dini_Gc,dstop_Gc,dfin_Gc,dmindata_Gc,cutoff_ma,betarun[i],no_corrs,corrtype), [worstsel[i]])\n"
   ]
  },
  {
   "cell_type": "code",
   "execution_count": null,
   "metadata": {},
   "outputs": [],
   "source": [
    "data_cov[5][0]"
   ]
  },
  {
   "cell_type": "code",
   "execution_count": null,
   "metadata": {},
   "outputs": [],
   "source": [
    "data_cov_rescaled[0]"
   ]
  },
  {
   "cell_type": "code",
   "execution_count": null,
   "metadata": {},
   "outputs": [],
   "source": [
    "diagn=6\n",
    "jackknife(Vdat,jackkl).scov()[0][diagn][diagn]"
   ]
  },
  {
   "cell_type": "code",
   "execution_count": null,
   "metadata": {},
   "outputs": [],
   "source": [
    "jackknife(jackknife(Vdat_rescaled,jackkl).sample()).upcov()[diagn][diagn]"
   ]
  },
  {
   "cell_type": "code",
   "execution_count": null,
   "metadata": {},
   "outputs": [],
   "source": [
    "multistart = 10\n",
    "improve    = 0\n",
    "\n",
    "datarun=[]\n",
    "dataint  = data[xiini:xifin+1]\n",
    "xirun    = xi[xiini:xifin+1]\n",
    "for i in range(len(dataint)):\n",
    "    datarun.append(dataint[i][fileini:filefin+1])\n",
    "\n",
    "sizerun  = size[fileini:filefin+1]\n",
    "betarun  = beta\n",
    "\n",
    "VRchisq2dof = []\n",
    "worstsel=[]\n",
    "\n",
    "variants_Gc=['single','double']\n",
    "diini=1\n",
    "distop=0\n",
    "model_Gc='nb_exp_np_pole'\n",
    "\n",
    "dini_Vr=1 \n",
    "dstop_Vr=1 \n",
    "dmindata_Vr=8\n",
    "dfin_Vr=10\n",
    "\n",
    "for k in range(1+0*len(datarun)):\n",
    "    for i in range(2,3+0*len(betarun)): \n",
    "        print (\"xi={}, beta={}\".format(xirun[k],betarun[i]))\n",
    "        worstsel.append(np.loadtxt('{}{}/{}_{}_{}_worstsel_ti{}_{}_tfin{}_tmin{}_cut{}_beta={}_nocorrs={}_{}.dat'.format(resultspath,xirun[k],len(variants_Gc),model_Gc,datatype_Gc,diini,dstop_Gc,dfin_Gc,dmindata_Gc,cutoff_ma,betarun[i],no_corrs,corrtype)))\n",
    "        Vdat=np.loadtxt('{}{}/{}_{}_{}_VR_ti{}_{}_tfin{}_tmin{}_cut{}_beta={}_nocorrs={}_{}.dat'.format(resultspath,xirun[k],len(variants_Gc),model_Gc,datatype_Gc,diini,dstop_Gc,dfin_Gc,dmindata_Gc,cutoff_ma,betarun[i],no_corrs,corrtype))\n",
    "        Vdat_rescaled=np.loadtxt('{}{}/{}_{}_{}_VR_rescaled_ti{}_{}_tfin{}_tmin{}_cut{}_beta={}_nocorrs={}_{}.dat'.format(resultspath,xirun[k],len(variants_Gc),model_Gc,datatype_Gc,diini,dstop_Gc,dfin_Gc,dmindata_Gc,cutoff_ma,betarun[i],no_corrs,corrtype))\n",
    "        jackkl=len(Vdat)\n",
    "        lt=len(Vdat[i])\n",
    "\n",
    "        data_t     = np.linspace(1, lt, lt)\n",
    "        data_y     = jackknife(Vdat,jackkl).sample()\n",
    "        data_cov   = jackknife(Vdat,jackkl).scov()\n",
    "        data_cov_rescaled = jackknife(jackknife(Vdat_rescaled,jackkl).sample()).upcov()\n",
    "\n",
    "        m=Modelsmin( data_t, data_y, data_cov, dini_Vr, dstop_Vr, dmindata_Vr, dfin_Vr, inipars_Vr, model_Vr, variants_Vr, datatype_Vr, mcalls, mtol, reuse, inv_first, multiprocess, cov_freeze, improve, multistart, no_corrs, no_valid_check, data_cov_rescaled)\n",
    "        mf=m.jackk_minimize()\n",
    "        AIC_list=Jackknife_AIClist(mf)\n",
    "        VRchisq2dof.append(ensemble_stat(AIC_list.ordered()[0,4][:,0]).mean())\n",
    "        dummy, sigma_rescaled=AIC_list.avgsample(cutoff_ma,3)"
   ]
  },
  {
   "cell_type": "code",
   "execution_count": null,
   "metadata": {},
   "outputs": [],
   "source": [
    "AIC_list.ordered()"
   ]
  },
  {
   "cell_type": "code",
   "execution_count": null,
   "metadata": {},
   "outputs": [],
   "source": [
    "np.sqrt(ensemble_stat(jackknife(AIC_list.avgsample(cutoff_ma,3)[1]).up()).rcov())"
   ]
  },
  {
   "cell_type": "code",
   "execution_count": null,
   "metadata": {},
   "outputs": [],
   "source": [
    "jackknife(sigma_rescaled).up()"
   ]
  },
  {
   "cell_type": "code",
   "execution_count": null,
   "metadata": {},
   "outputs": [],
   "source": [
    "#Mambo jambo test, lets just take the log ratio from the data and use it as the correct V(R) predictor\n",
    "\n",
    "datarun=[]\n",
    "dataint  = data[xiini:xifin+1]\n",
    "for i in range(len(dataint)):\n",
    "    datarun.append(dataint[i][fileini:filefin+1])\n",
    "\n",
    "sizerun  = size[fileini:filefin+1]\n",
    "betarun  = beta[fileini:filefin+1]\n",
    "\n",
    "if (dini_Gc==0):\n",
    "    diini  = 0\n",
    "    distop = 0\n",
    "else:\n",
    "    diini   = dini_Gc\n",
    "    distop = dini_Gc+dstop_Gc\n",
    "\n",
    "for k in range(len(datarun)):\n",
    "    for j in range(len(datarun[k])):\n",
    "        totaltraj=int(len(data[k][j])/size[j])\n",
    "        Nt=len(data[k][j][0])-1\n",
    "\n",
    "        Gc=np.zeros((totaltraj,Nt))\n",
    "        Vrlistavg=[]\n",
    "        for r in range(Nt):\n",
    "            for i in range(totaltraj):\n",
    "                Gc[[i]]=data[k][j][range(i*Nt,(i+1)*Nt),[r+1]]\n",
    "\n",
    "            data_y   = jackknife(Gc).sample()\n",
    "            Vrlistavg.append(jackknife(np.log(2/data_y[:,0])).up())\n",
    "\n",
    "        np.savetxt('{}{}/VR_ti{}_tistop{}_tmin{}_beta={}.dat'.format(resultspath,xi[k],diini,distop,dmindata_Gc,betarun[j]), np.transpose(Vrlistavg))\n",
    "        np.savetxt('{}{}/worstsel_ti{}_tistop{}_tmin{}_beta={}.dat'.format(resultspath,xi[k],diini,distop,dmindata_Gc,betarun[j]), [0])\n",
    "           "
   ]
  },
  {
   "cell_type": "code",
   "execution_count": null,
   "metadata": {},
   "outputs": [],
   "source": [
    "VRchisq2dof = []\n",
    "worstsel=[]\n",
    "\n",
    "for k in range(len(datarun)):\n",
    "    for i in range(len(datarun[0])): \n",
    "        worstsel.append(np.loadtxt('{}{}/worstsel_ti{}_tistop{}_tmin{}_beta={}.dat'.format(resultspath,xi[k],diini,distop,dmindata_Gc,betarun[i])))\n",
    "        Vdat=np.loadtxt('{}{}/VR_ti{}_tistop{}_tmin{}_beta={}.dat'.format(resultspath,xi[k],diini,distop,dmindata_Gc,betarun[i]))\n",
    "        jackkl=len(Vdat)\n",
    "        lt=len(Vdat[i])\n",
    "\n",
    "        data_t     = np.linspace(1, lt, lt)\n",
    "        data_y     = jackknife(Vdat,jackkl).sample()\n",
    "        data_cov   = jackknife(Vdat,jackkl).scov()\n",
    "\n",
    "        m=Modelsmin( data_t, data_y, data_cov, dini_Vr, dstop_Vr, dmindata_Vr, dfin, inipars_Vr, model_Vr, variants_Vr, datatype_Vr, mcalls, mtol, reuse, inv_first)\n",
    "        mf=m.jackk_minimize()\n",
    "        AIC_list=Jackknife_AIClist(mf)\n",
    "        VRchisq2dof.append(ensemble_stat(AIC_list.ordered()[0,4][:,0]).mean())\n",
    "        np.savetxt('{}{}/fits_VR_beta={}.dat'.format(resultspath,xi[k],betarun[i]),np.append(AIC_list.ordered()[0,1:3],[AIC_list.selval()[0:2],AIC_list.avgval()[0:2]]))\n",
    "        np.savetxt('{}{}/sigma_beta={}.dat'.format(resultspath,xi[k],betarun[i]),[AIC_list.avgval()[0][2],AIC_list.avgval()[1][2]])\n",
    "        dataV=np.array([AIC_list.selval()[2],AIC_list.avgval()[2]])\n",
    "        with open('{}{}/corrs_VR_beta={}.dat'.format(resultspath,xi[k],betarun[i]), 'w') as outfile:\n",
    "            outfile.write('# Model selection/average corrs:\\n')\n",
    "            for data_slice in dataV:\n",
    "                np.savetxt(outfile, data_slice)\n",
    "\n",
    "\n",
    "with open('{}/labels.dat'.format(resultsdir), 'w') as outfile:\n",
    "    for k in range(len(datarun)):\n",
    "        for i in range(len(datarun[0])):\n",
    "            outfile.write(\"$\\\\beta$={} $\\\\chi^2/$dof={:.1f}, {:.1f}\\n\".format(betarun[i],worstsel[i],VRchisq2dof[i]))"
   ]
  },
  {
   "cell_type": "code",
   "execution_count": null,
   "metadata": {},
   "outputs": [],
   "source": [
    "lt=len(logG[0])\n",
    "dfin=lt\n",
    "data_t   = np.linspace(1, lt, lt)\n",
    "data_y   = ensemble_stat(Gc).mean()\n",
    "data_cov = ensemble_stat(Gc).rcov()\n",
    "\n",
    "\n",
    "datatype=\"exp_WL\"\n",
    "model='exp_np'\n",
    "# Trim to use models that have less params than data points used in the fit\n",
    "inipars_GC=[[0.4,1.]]#,[1.0,0.3,1.0,0.2]]\n",
    "variants_GC=['single']#,'double']\n",
    "\n",
    "m=Modelsmin(data_t, data_y, data_cov, dini, dstop, dmindata, dfin, inipars_GC, model, variants_GC, datatype, mcalls, mtol, 1, 1)\n",
    "mf=m.minimize()\n",
    "AIC_list=AIClist(mf[1])"
   ]
  },
  {
   "cell_type": "code",
   "execution_count": null,
   "metadata": {},
   "outputs": [],
   "source": [
    "lt=len(Gc[0])\n",
    "data_t   = np.linspace(1, lt, lt)\n",
    "data_y   = ensemble_stat(Gc).mean()\n",
    "data_cov = ensemble_stat(Gc).rcov()\n",
    "data_err = np.sqrt(np.diagonal(ensemble_stat(Gc).rcov()))\n",
    "\n",
    "mcalls=5000\n",
    "mtol=0.001\n",
    "\n",
    "m=RepeatSingleFit(data_t, data_y, data_cov, 4, 16, [-1.93328781, -0.35270411,  0.1       ,  0.1       ], 'nb_exp_np', mcalls, mtol,1)\n",
    "\n",
    "m.minimize()\n",
    "ma=MA_fit(m.minimize())\n",
    "\n",
    "np.log(2/data_y[0])\n",
    "\n",
    "loglimG_geom(0,*ma.pars())\n",
    "prop_err(0.,'loglimG_geom',ma.pars(),ma.errs(),ma.corrs())[0]\n",
    "\n",
    "plt.errorbar(data_t, data_y, data_err, fmt=\"ok\", label=\"data\")\n",
    "plt.plot(data_t, exp_np_geom(data_t, *m.minimize().values), label=\"fit\")"
   ]
  },
  {
   "cell_type": "code",
   "execution_count": null,
   "metadata": {},
   "outputs": [],
   "source": [
    "lt=len(Gc[0])\n",
    "data_t   = np.linspace(1, lt, lt)\n",
    "data_y   = ensemble_stat(Gc).mean()\n",
    "data_cov = ensemble_stat(Gc).rcov()\n",
    "data_err = np.sqrt(np.diagonal(ensemble_stat(Gc).rcov()))\n",
    "\n",
    "mcalls=5000\n",
    "mtol=0.001\n",
    "\n",
    "m=RepeatSingleFit(data_t, data_y, data_cov, 1, 12, [1.,0.5,0.3,.2], 'exp_np', mcalls, mtol,1)\n",
    "\n",
    "m.minimize()\n",
    "ma=MA_fit(m.minimize())\n",
    "\n",
    "np.log(2/data_y[0])\n",
    "\n",
    "loglimG(0,*ma.pars())\n",
    "prop_err(0.,'loglimG',ma.pars(),ma.errs(),ma.corrs())[0]\n",
    "\n",
    "plt.errorbar(data_t, data_y, data_err, fmt=\"ok\", label=\"data\")\n",
    "plt.plot(data_t, exp_np(data_t, *m.minimize().values), label=\"fit\")"
   ]
  },
  {
   "cell_type": "code",
   "execution_count": null,
   "metadata": {},
   "outputs": [],
   "source": [
    "lt=len(Gc[0])\n",
    "data_t   = np.linspace(1, lt, lt)\n",
    "data_y   = ensemble_stat(Gc).mean()\n",
    "data_cov = ensemble_stat(Gc).rcov()\n",
    "data_err = np.sqrt(np.diagonal(ensemble_stat(Gc).rcov()))\n",
    "\n",
    "mcalls=5000\n",
    "mtol=0.001\n",
    "\n",
    "m=RepeatSingleFit(data_t, data_y, data_cov, 1, 12, [2.,0.5,0.2,.2,0.5,0.1], 'exp_np', mcalls, mtol,1)\n",
    "\n",
    "m.minimize()\n",
    "ma=MA_fit(m.minimize())\n",
    "\n",
    "np.log(2/data_y[0])\n",
    "\n",
    "loglimG(0,*ma.pars())\n",
    "prop_err(0.,'loglimG',ma.pars(),ma.errs(),ma.corrs())[0]\n",
    "\n",
    "plt.errorbar(data_t, data_y, data_err, fmt=\"ok\", label=\"data\")\n",
    "plt.plot(data_t, exp_np(data_t, *m.minimize().values), label=\"fit\")"
   ]
  },
  {
   "cell_type": "code",
   "execution_count": null,
   "metadata": {},
   "outputs": [],
   "source": [
    "lt=len(Gc[0])\n",
    "data_t   = np.linspace(1, lt, lt)\n",
    "data_y   = ensemble_stat(Gc).mean()\n",
    "data_cov = ensemble_stat(Gc).rcov()\n",
    "data_err = np.sqrt(np.diagonal(ensemble_stat(Gc).rcov()))\n",
    "\n",
    "mcalls=5000\n",
    "mtol=0.001\n",
    "\n",
    "m=RepeatSingleFit(data_t, data_y, data_cov, 1, 12, [0.125,0.04,.51,0.04,2.56], 'exp_np_norm', mcalls, mtol,1)\n",
    "\n",
    "m.minimize()\n",
    "ma=MA_fit(m.minimize())\n",
    "\n",
    "np.log(2/data_y[0])\n",
    "\n",
    "loglimG_norm(0,*ma.pars())\n",
    "prop_err(0.,'loglimG_norm',ma.pars(),ma.errs(),ma.corrs())[0]\n",
    "\n",
    "plt.errorbar(data_t, data_y, data_err, fmt=\"ok\", label=\"data\")\n",
    "plt.plot(data_t, exp_np_norm(data_t, *m.minimize().values), label=\"fit\")"
   ]
  },
  {
   "cell_type": "code",
   "execution_count": null,
   "metadata": {},
   "outputs": [],
   "source": [
    "lt=len(Gc[0])\n",
    "data_t   = np.linspace(1, lt, lt)\n",
    "data_y   = ensemble_stat(Gc).mean()\n",
    "data_cov = ensemble_stat(Gc).rcov()\n",
    "data_err = np.sqrt(np.diagonal(ensemble_stat(Gc).rcov()))\n",
    "\n",
    "mcalls=5000\n",
    "mtol=0.001\n",
    "\n",
    "m=RepeatSingleFit(data_t, data_y, data_cov, 1, 12, [0.1,0.1,1.,.1,2.], 'exp_np_norm_geom', mcalls, mtol,1)\n",
    "\n",
    "m.minimize()\n",
    "ma=MA_fit(m.minimize())\n",
    "\n",
    "np.log(2/data_y[0])\n",
    "\n",
    "loglimG_norm_geom(0,*ma.pars())\n",
    "prop_err(0.,'loglimG_geom',ma.pars(),ma.errs(),ma.corrs())[0]\n",
    "\n",
    "plt.errorbar(data_t, data_y, data_err, fmt=\"ok\", label=\"data\")\n",
    "plt.plot(data_t, exp_np_norm_geom(data_t, *m.minimize().values), label=\"fit\")"
   ]
  },
  {
   "cell_type": "code",
   "execution_count": null,
   "metadata": {},
   "outputs": [],
   "source": [
    "logG=np.log(jackknife(Gc).sample())\n",
    "dlogG=np.log(ratio(trim_negative(Gc).trimmed()).val())\n",
    "\n",
    "lt=len(dlogG[0])\n",
    "data_t   = np.linspace(1, lt, lt)\n",
    "data_y   = ensemble_stat(dlogG).mean()\n",
    "data_cov = ensemble_stat(dlogG).rcov()\n",
    "data_err = np.sqrt(np.diagonal(ensemble_stat(dlogG).rcov()))\n",
    "\n",
    "m=RepeatSingleFit(data_t, data_y, data_cov, 1, 12, [1.,1.,1.,1.,1.], 'line_np', mcalls, mtol, 1)\n",
    "\n",
    "m.minimize()\n",
    "ma=MA_fit(m.minimize())\n",
    "data_y[0]\n",
    "line_np(0,*ma.pars())\n",
    "prop_err(0.,'line_np',ma.pars(),ma.errs(),ma.corrs())[0]\n",
    "\n",
    "plt.errorbar(data_t, data_y, data_err, fmt=\"ok\", label=\"data\")\n",
    "plt.plot(data_t, line_np(data_t, *m.minimize().values), label=\"fit\")"
   ]
  },
  {
   "cell_type": "code",
   "execution_count": null,
   "metadata": {},
   "outputs": [],
   "source": [
    "logG=np.log(trim_negative(Gc).trimmed())\n",
    "\n",
    "lt=len(logG[0])\n",
    "data_t   = np.linspace(1, lt, lt)\n",
    "data_y   = ensemble_stat(logG).mean()\n",
    "data_cov = ensemble_stat(logG).rcov()\n",
    "data_err = np.sqrt(np.diagonal(ensemble_stat(logG).rcov()))\n",
    "\n",
    "m=RepeatSingleFit(data_t, data_y, data_cov, 1, 10, [0.,0.1,0.1,0.1,0.1], 'line_np', mcalls, mtol, 1)\n",
    "\n",
    "m.minimize()\n",
    "ma=MA_fit(m.minimize())\n",
    "np.log(2)-data_y[0]\n",
    "limG(0,*ma.pars())\n",
    "#prop_err(0.,'limG_norm',ma.pars(),ma.errs(),ma.corrs())[0]\n",
    "\n",
    "plt.errorbar(data_t, data_y, data_err, fmt=\"ok\", label=\"data\")\n",
    "plt.plot(data_t, line_np(data_t, *m.minimize().values), label=\"fit\")"
   ]
  },
  {
   "cell_type": "code",
   "execution_count": null,
   "metadata": {},
   "outputs": [],
   "source": [
    "logG=np.log(trim_negative(Gc).trimmed())\n",
    "\n",
    "lt=len(logG[0])\n",
    "data_t   = np.linspace(1, lt, lt)\n",
    "data_y   = ensemble_stat(logG).mean()\n",
    "data_cov = ensemble_stat(logG).rcov()\n",
    "data_err = np.sqrt(np.diagonal(ensemble_stat(logG).rcov()))\n",
    "\n",
    "m=RepeatSingleFit(data_t, data_y, data_cov, 1, 10, [0.1,0.1,0.1,0.1,0.1], 'line_np_norm', mcalls, mtol, 1)\n",
    "\n",
    "m.minimize()\n",
    "ma=MA_fit(m.minimize())\n",
    "np.log(2)-data_y[0]\n",
    "limG_norm(0,*ma.pars())\n",
    "#prop_err(0.,'limG_norm',ma.pars(),ma.errs(),ma.corrs())[0]\n",
    "\n",
    "plt.errorbar(data_t, data_y, data_err, fmt=\"ok\", label=\"data\")\n",
    "plt.plot(data_t, line_np_norm(data_t, *m.minimize().values), label=\"fit\")"
   ]
  },
  {
   "cell_type": "code",
   "execution_count": null,
   "metadata": {},
   "outputs": [],
   "source": [
    "logG=np.log(Gc)\n",
    "\n",
    "lt=len(logG[0])\n",
    "data_t   = np.linspace(1, lt, lt)\n",
    "data_y   = ensemble_stat(logG).mean()\n",
    "data_cov = ensemble_stat(logG).rcov()\n",
    "data_err = np.sqrt(np.diagonal(ensemble_stat(logG).rcov()))\n",
    "\n",
    "m=RepeatSingleFit(data_t, data_y, data_cov, 1, 12, [1.,1.,1.,-1.], 'line_np_pole', mcalls, mtol, 1)\n",
    "\n",
    "m.minimize()\n",
    "ma=MA_fit(m.minimize())\n",
    "limGp(0,*ma.pars())\n",
    "prop_err(0.,'limGp',ma.pars(),ma.errs(),ma.corrs())[0]\n",
    "\n",
    "plt.errorbar(data_t, data_y, data_err, fmt=\"ok\", label=\"data\")\n",
    "plt.plot(data_t, line_np_pole(data_t, *m.minimize().values), label=\"fit\")"
   ]
  },
  {
   "cell_type": "code",
   "execution_count": null,
   "metadata": {},
   "outputs": [],
   "source": [
    "datarun=[]\n",
    "dataint  = data[xiini:xifin+1]\n",
    "for i in range(len(dataint)):\n",
    "    datarun.append(dataint[i][fileini:filefin+1])\n",
    "\n",
    "sizerun  = size[fileini:filefin+1]\n",
    "betarun  = beta[fileini:filefin+1]\n",
    "\n",
    "datatype=\"exp_WL\"\n",
    "dfin=100\n",
    "model='exp_np'\n",
    "reuse=1\n",
    "inipars_GC=[[1.0,0.3]]#,[1.0,0.3,1.0,0.2]]\n",
    "variants_GC=['single']#,'double']\n",
    "jackkl=200\n",
    "\n",
    "result=fitter(datarun[0], size, dini, dstop, dmindata, dfin, datatype_Gc, model_Gc, inipars_Gc, variants_Gc, mcalls, mtol, 1, 1)\n",
    "Vrlistavg, Vrlistsel, worstsel, listfinal =result.jackk_fit(jackkl)"
   ]
  },
  {
   "cell_type": "code",
   "execution_count": null,
   "metadata": {},
   "outputs": [],
   "source": [
    "# Jackknife exercise test\n",
    "xi=0\n",
    "k=0\n",
    "r=0\n",
    "\n",
    "totaltraj=int(len(data[xi][k])/size[k])\n",
    "Nt=len(data[xi][k][0])-1\n",
    "\n",
    "Gc=np.zeros((totaltraj,Nt))\n",
    "for i in range(totaltraj):\n",
    "    Gc[[i]]=data[xi][k][range(i*Nt,(i+1)*Nt),[r+1]]\n",
    "\n",
    "\n",
    "jackkl=500\n",
    "lt=len(logG[0])\n",
    "dfin=lt\n",
    "data_t   = np.linspace(1, lt, lt)\n",
    "data_y   = jackknife(Gc,jackkl).sample()\n",
    "data_cov = jackknife(Gc,jackkl).scov()\n",
    "\n",
    "\n",
    "datatype=\"exp_WL\"\n",
    "model='exp_np'\n",
    "# Trim to use models that have less params than data points used in the fit\n",
    "inipars_GC=[[1.0,0.4]]#,[1.0,0.3,1.0,0.2]]\n",
    "variants_GC=['single']#,'double']\n",
    "\n",
    "m=Modelsmin(data_t, data_y, data_cov, dini, dstop, dmindata, dfin, inipars_GC, model, variants_GC, datatype, mcalls, mtol, 1, 1)\n",
    "mf=m.jackk_minimize()\n",
    "AIC_list=Jackknife_AIClist(mf)"
   ]
  },
  {
   "cell_type": "code",
   "execution_count": null,
   "metadata": {},
   "outputs": [],
   "source": [
    "data_R     = []\n",
    "data_V     = []\n",
    "data_V_err = []\n",
    "a=[\"black\",\"crimson\",\"royalblue\",\"seagreen\"]\n",
    "labels=[\"b=2.375\",\"b=2.5\",\"b=2.59\",\"b=2.66\"]\n",
    "plotsR=plt.figure()\n",
    "for k in range(len(valfk)):\n",
    "    Nt=len(valfk[k])\n",
    "    data_R=np.linspace(1, Nt, Nt)\n",
    "    data_V=valfk[k]\n",
    "    data_V_err=evalfk[k]\n",
    "    plt.errorbar(data_R, data_V, data_V_err, fmt=\"ok\", label=labels[k], color=a[k], marker=\"s\")\n",
    "\n",
    "plotsR.show(1)\n",
    "#data_R=[element for sublist in data_R for element in sublist]\n",
    "#data_V=[element for sublist in data_V for element in sublist]\n",
    "#data_V_err=[element for sublist in data_V_err for element in sublist]"
   ]
  },
  {
   "cell_type": "code",
   "execution_count": null,
   "metadata": {},
   "outputs": [],
   "source": [
    "totaltraj=int(len(data[2])/size[2])\n",
    "Nt=len(data[2][0])-1\n",
    "\n",
    "Gc=np.zeros((totaltraj,Nt))\n",
    "for i in range(totaltraj):\n",
    "    Gc[[i]]=data[2][range(i*Nt,(i+1)*Nt),[1]]\n",
    "    \n",
    "logG=np.log(trim_negative(Gc).trimmed())    \n",
    "\n",
    "lt=len(logG[0])\n",
    "dfin=lt\n",
    "data_t   = np.linspace(1, lt, lt)\n",
    "data_y   = ensemble_stat(logG).mean()\n",
    "data_cov = ensemble_stat(logG).cov()\n",
    "data_err = np.sqrt(np.diagonal(ensemble_stat(logG).cov()))\n",
    "\n",
    "plt.errorbar(data_t, data_y, data_err, fmt=\"ok\", label=\"data\")\n",
    "plt.show()"
   ]
  },
  {
   "cell_type": "code",
   "execution_count": null,
   "metadata": {},
   "outputs": [],
   "source": [
    "datatype=\"log\"\n",
    "dfin=20\n",
    "model=line_np\n",
    "reuse=1\n",
    "\n",
    "result=fitter(data, size, dini, dstop, dfin, datatype, model, inipars2, variants2, mcalls, mtol, reuse)\n",
    "\n",
    "valtrials, valfk2, evalfk2=result.fit()\n"
   ]
  },
  {
   "cell_type": "code",
   "execution_count": null,
   "metadata": {},
   "outputs": [],
   "source": [
    "data_R2     = []\n",
    "data_V2     = []\n",
    "data_V2_err = []\n",
    "a=[\"black\",\"crimson\",\"royalblue\",\"seagreen\"]\n",
    "\n",
    "plotsR=plt.figure(plotsR)\n",
    "for k in range(len(valfk2)):\n",
    "    Nt=len(valfk2[k])\n",
    "    data_R2=np.linspace(1, Nt, Nt)-0.3\n",
    "    data_V2=valfk2[k]\n",
    "    data_V2_err=evalfk2[k]\n",
    "#    for i in range(Nt):\n",
    "#        print(data_R2[i]+0.3,\" \",data_V2[i],\" \",data_V2_err[i])\n",
    "    plt.errorbar(data_R2, data_V2, data_V2_err, fmt=\"ok\", color=a[k])\n",
    "\n",
    "#data_R2=[element for sublist in data_R2 for element in sublist]\n",
    "#data_V2=[element for sublist in data_V2 for element in sublist]\n",
    "#data_V2_err=[element for sublist in data_V2_err for element in sublist]"
   ]
  },
  {
   "cell_type": "code",
   "execution_count": null,
   "metadata": {},
   "outputs": [],
   "source": [
    "plt.legend(frameon=False)\n",
    "plt.show()\n",
    "plt.clf()"
   ]
  },
  {
   "cell_type": "code",
   "execution_count": null,
   "metadata": {},
   "outputs": [],
   "source": [
    "m=Modelsmin( data_t, data_y, data_cov, dini, dstop, dfin, iniparsexp, model, variantsexp, datatype, mcalls, mtol, 1)\n",
    "mf=m.minimize()\n",
    "AIC_list=AIClist(mf[1])\n",
    "\n",
    "print(mf[0],np.array(AIC_list.avgval0()))"
   ]
  },
  {
   "cell_type": "code",
   "execution_count": null,
   "metadata": {},
   "outputs": [],
   "source": [
    "data_R3     = []\n",
    "data_V3     = []\n",
    "data_V3_err = []\n",
    "a=[\"black\",\"crimson\",\"royalblue\",\"seagreen\"]\n",
    "\n",
    "plotsR=plt.figure(plotsR)\n",
    "for k in range(len(valfk3)):\n",
    "    Nt=len(valfk3[k])\n",
    "    data_R3=np.linspace(1, Nt, Nt)+0.3\n",
    "    data_V3=valfk3[k]\n",
    "    data_V3_err=evalfk3[k]\n",
    "#    for i in range(Nt):\n",
    "#        print(data_R2[i]+0.3,\" \",data_V2[i],\" \",data_V2_err[i])\n",
    "    plt.errorbar(data_R3, data_V3, data_V3_err, fmt=\"ok\", color=a[k], marker=\"^\")\n",
    "\n",
    "#data_R2=[element for sublist in data_R2 for element in sublist]\n",
    "#data_V2=[element for sublist in data_V2 for element in sublist]\n",
    "#data_V2_err=[element for sublist in data_V2_err for element in sublist]"
   ]
  },
  {
   "cell_type": "code",
   "execution_count": null,
   "metadata": {},
   "outputs": [],
   "source": [
    "plt.legend(frameon=False)\n",
    "plt.show()\n",
    "plt.clf()"
   ]
  },
  {
   "cell_type": "code",
   "execution_count": null,
   "metadata": {},
   "outputs": [],
   "source": [
    "datatype=\"exp\"\n",
    "dfin=20\n",
    "model=exp_np\n",
    "reuse=0\n",
    "iniparsexptest=iniparsexp[0:2]\n",
    "variantsexptest=variantsexp[0:2]\n",
    "\n",
    "result=fitter(data, size, dini, dstop, dfin, datatype, model, iniparsexptest, variantsexptest, mcalls, mtol, reuse)\n",
    "\n",
    "valtrials, valfk4, evalfk4=result.fit()\n",
    "\n",
    "valtrials"
   ]
  },
  {
   "cell_type": "code",
   "execution_count": null,
   "metadata": {},
   "outputs": [],
   "source": [
    "data_R4     = []\n",
    "data_V4     = []\n",
    "data_V4_err = []\n",
    "a=[\"black\",\"crimson\",\"royalblue\",\"seagreen\"]\n",
    "\n",
    "plotsR=plt.figure(plotsR)\n",
    "for k in range(len(valfk4)):\n",
    "    Nt=len(valfk4[k])\n",
    "    data_R4=np.linspace(1, Nt, Nt)+0.3\n",
    "    data_V4=valfk4[k]\n",
    "    data_V4_err=evalfk4[k]\n",
    "#    for i in range(Nt):\n",
    "#        print(data_R2[i]+0.3,\" \",data_V2[i],\" \",data_V2_err[i])\n",
    "    plt.errorbar(data_R4, data_V4, data_V4_err, fmt=\"ok\", color=a[k], marker=\"v\")\n",
    "\n",
    "#data_R2=[element for sublist in data_R2 for element in sublist]\n",
    "#data_V2=[element for sublist in data_V2 for element in sublist]\n",
    "#data_V2_err=[element for sublist in data_V2_err for element in sublist]"
   ]
  },
  {
   "cell_type": "code",
   "execution_count": null,
   "metadata": {},
   "outputs": [],
   "source": [
    "plt.legend(frameon=False)\n",
    "plt.show()\n",
    "plt.clf()"
   ]
  },
  {
   "cell_type": "code",
   "execution_count": null,
   "metadata": {},
   "outputs": [],
   "source": [
    "# Repeat the exercise for exponential fits\n",
    "k=3\n",
    "r=1\n",
    "totaltraj=int(len(data[k])/size[k])\n",
    "Nt=len(data[k][0])-1\n",
    "\n",
    "Gc=np.zeros((totaltraj,Nt))\n",
    "for i in range(totaltraj):\n",
    "    Gc[[i]]=data[k][range(i*Nt,(i+1)*Nt),[r]]\n",
    "    \n",
    "lt=len(Gc[0])\n",
    "dini=0\n",
    "dfin=lt\n",
    "data_t   = np.linspace(1, lt, lt)[dini:dfin]\n",
    "data_y   = ensemble_stat(Gc).mean()[dini:dfin]\n",
    "data_cov = ensemble_stat(Gc).cov()[dini:dfin,dini:dfin]\n",
    "data_err = np.sqrt(np.diagonal(ensemble_stat(Gc).cov()))[dini:dfin]\n",
    "\n",
    "model=exp_np\n",
    "datatype=\"exp\"\n",
    "\n",
    "m=Minuit_fit( data_t, data_y, data_cov, mcalls, mtol, iniparsexp[2], model,1)\n",
    "\n",
    "ma=MA_fit(m.minimize())\n",
    "print(m.minimize())\n",
    "\n",
    "#plotsE=plt.figure(2)\n",
    "#plt.errorbar(data_t, data_y, data_err, fmt=\"ok\", label=\"data\")\n",
    "#plt.plot(data_t, exp_np(data_t, *m.minimize().values), label=\"fit\")\n",
    "#plt.show(2)"
   ]
  },
  {
   "cell_type": "code",
   "execution_count": null,
   "metadata": {},
   "outputs": [],
   "source": [
    "# Lets repeat a single fit to test it\n",
    "k=0\n",
    "r=1\n",
    "totaltraj=int(len(data[k])/size[k])\n",
    "\n",
    "Nt=len(data[k][0])-1\n",
    "\n",
    "Gc=np.zeros((totaltraj,Nt))\n",
    "for i in range(totaltraj):\n",
    "    Gc[[i]]=data[k][range(i*Nt,(i+1)*Nt),[r]]\n",
    "\n",
    "gdata    = np.log(trim_negative(jackknife(Gc,jackkl).sample()).trimmed())\n",
    "           \n",
    "gdata=jackknife(gdata,jackkl).up()\n",
    "\n",
    "lt=len(gdata[0])\n",
    "dfin=lt\n",
    "data_t   = np.linspace(1, lt, lt)\n",
    "data_y   = ensemble_stat(gdata).mean()\n",
    "data_cov = ensemble_stat(gdata).rcov()\n",
    "data_err = np.sqrt(np.diagonal(ensemble_stat(gdata).rcov()))\n",
    "\n",
    "m=RepeatSingleFit(data_t, data_y, data_cov, 2, 8, [0.5,1.,0.,0.], line_np, mcalls, mtol)\n",
    "\n",
    "m.minimize()\n",
    "m.minimize().fval/m.minimize().ndof\n",
    "\n",
    "plt.errorbar(data_t, data_y, data_err, fmt=\"ok\", label=\"data\")\n",
    "plt.plot(data_t, line_np(data_t, *m.minimize().values), label=\"fit\")"
   ]
  },
  {
   "cell_type": "code",
   "execution_count": null,
   "metadata": {},
   "outputs": [],
   "source": [
    "def spacings_iso(beta):\n",
    "    beta=np.asarray(beta).reshape(1, -1)[0,:]\n",
    "    Pi=np.pi\n",
    "    sigma=0.44**2\n",
    "    beta0=22/3; beta1=68/3; b0=0.33982850818945587; b1=-0.047729010997329825; b2=1.66; b3=4.38\n",
    "    scale=4*Pi**2/beta0\n",
    "\n",
    "    alist=np.zeros(len(beta))\n",
    "    for i in range(len(beta)):\n",
    "        f2=2*beta1/beta0**2*np.log(scale*beta[i])-scale*beta[i]+scale*b2/beta[i]+b3\n",
    "        alist[i]=np.sqrt(np.exp(f2)/sigma)\n",
    "\n",
    "    return alist\n",
    "\n",
    "def spacings_xi(xi,beta):\n",
    "    beta=np.asarray(beta).reshape(1, -1)[0,:]\n",
    "    xi=np.asarray(xi).reshape(1, -1)[0,:]\n",
    "    Pi=np.pi\n",
    "    sigma=0.44**2\n",
    "    beta0=22/3; beta1=68/3; b0=0.33982850818945587; b1=-0.047729010997329825; b2=1.613897922881925; b3=7.057569782719919\n",
    "    scale=4*Pi**2/beta0\n",
    "\n",
    "    alist=np.zeros([len(xi),len(beta)])\n",
    "    for j in range(len(xi)):\n",
    "        f1=b0+b1/xi[j]\n",
    "        for i in range(len(beta)):\n",
    "            f2=2*beta1/beta0**2*np.log(scale*beta[i])-scale*beta[i]+scale*b2/beta[i]+b3\n",
    "            alist[j][i]=np.sqrt(f1*np.exp(f2)/sigma)\n",
    "\n",
    "    return alist\n",
    "\n",
    "betas=[2.25,2.3,2.35,2.4,2.45,2.5,2.55,2.6,2.65,2.7,2.75]\n",
    "xi=[2,3,4,5,6,7,8]\n",
    "\n",
    "spacings_iso(betas)\n",
    "spacings_xi(xi,betas)"
   ]
  }
 ],
 "metadata": {
  "kernelspec": {
   "display_name": "Python 3",
   "language": "python",
   "name": "python3"
  },
  "language_info": {
   "codemirror_mode": {
    "name": "ipython",
    "version": 3
   },
   "file_extension": ".py",
   "mimetype": "text/x-python",
   "name": "python",
   "nbconvert_exporter": "python",
   "pygments_lexer": "ipython3",
   "version": "3.12.5"
  }
 },
 "nbformat": 4,
 "nbformat_minor": 4
}
